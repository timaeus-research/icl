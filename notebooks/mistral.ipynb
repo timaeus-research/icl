{
 "cells": [
  {
   "cell_type": "markdown",
   "metadata": {},
   "source": [
    "# Mistral"
   ]
  },
  {
   "cell_type": "code",
   "execution_count": 6,
   "metadata": {},
   "outputs": [],
   "source": [
    "import transformer_lens\n",
    "from pathlib import Path\n",
    "import pickle\n",
    "from torch import nn\n",
    "import json\n",
    "from pprint import pp\n",
    "from transformers import AutoConfig, AutoModelForCausalLM\n",
    "\n",
    "from transformer_lens.loading_from_pretrained import STANFORD_CRFM_CHECKPOINTS \n",
    "from dotenv import load_dotenv\n",
    "import torch\n",
    "\n",
    "load_dotenv();"
   ]
  },
  {
   "cell_type": "code",
   "execution_count": 19,
   "metadata": {},
   "outputs": [],
   "source": [
    "import os\n",
    "from typing import Literal, Union\n",
    "\n",
    "gpt2_mediums = [\n",
    "    \"stanford-crfm/arwen-gpt2-medium-x21\",\n",
    "    \"stanford-crfm/beren-gpt2-medium-x49\",\n",
    "    \"stanford-crfm/celebrimbor-gpt2-medium-x81\",\n",
    "    \"stanford-crfm/durin-gpt2-medium-x343\",\n",
    "    \"stanford-crfm/eowyn-gpt2-medium-x777\",\n",
    "]\n",
    "\n",
    "gpt2_smalls = [\n",
    "    \"stanford-crfm/alias-gpt2-small-x21\",\n",
    "    \"stanford-crfm/battlestar-gpt2-small-x49\",\n",
    "    \"stanford-crfm/caprica-gpt2-small-x81\",\n",
    "    \"stanford-crfm/darkmatter-gpt2-small-x343\",\n",
    "    \"stanford-crfm/expanse-gpt2-small-x777\",\n",
    "]\n",
    "\n",
    "GPT2SmallRunName = Literal[\"alias\", \"battlestar\", \"caprica\", \"darkmatter\", \"expanse\"]\n",
    "GPT2MediumRunName = Literal[\"arwen\", \"beren\", \"celebrimbor\", \"durin\", \"eowyn\"]\n",
    "GPT2RunName = Union[GPT2SmallRunName, GPT2MediumRunName]\n",
    "GPT2Size = Literal[\"small\", \"medium\"]\n",
    "\n",
    "GPT2_NAME: GPT2RunName = 'alias'\n",
    "GPT2_SIZE: GPT2Size = 'small'\n",
    "\n",
    "def get_full_name(name):\n",
    "    size = {'arwen': 'medium', 'beren': 'medium', 'celebrimbor': 'medium', 'durin': 'medium', 'eowyn': 'medium', 'alias': 'small', 'battlestar': 'small', 'caprica': 'small', 'darkmatter': 'small', 'expanse': 'small'}[name]\n",
    "    ext = {'arwen': 21, 'beren': 49, 'celebrimbor': 81, 'durin': 343, 'eowyn': 777, 'alias': 21, 'battlestar': 49, 'caprica': 81, 'darkmatter': 343, 'expanse': 777}[name]\n",
    "    return f\"stanford-crfm/{name}-gpt2-{size}-x{ext}\""
   ]
  },
  {
   "cell_type": "code",
   "execution_count": 25,
   "metadata": {},
   "outputs": [
    {
     "name": "stderr",
     "output_type": "stream",
     "text": [
      "Retrieving alias checkpoints:   0%|          | 0/608 [00:00<?, ?it/s]"
     ]
    },
    {
     "name": "stdout",
     "output_type": "stream",
     "text": [
      "Checkpoint stanford-crfm/alias-gpt2-small-x21/10 not found on AWS. Retrieving from HuggingFace.\n",
      "Saving HF model to disk...\n",
      "Uploading HF model to AWS...\n",
      "Uploading ../checkpoints/stanford-crfm/alias-gpt2-small-x21/10/config.json...\n",
      "Uploading ../checkpoints/stanford-crfm/alias-gpt2-small-x21/10/generation_config.json...\n",
      "Uploading ../checkpoints/stanford-crfm/alias-gpt2-small-x21/10/pytorch_model.bin...\n"
     ]
    }
   ],
   "source": [
    "import tqdm\n",
    "\n",
    "def retrieve_checkpoint(name, step=400_000):\n",
    "    \"\"\"Retrieve checkpoint from AWS. If not found, retrieve from HuggingFace.\"\"\"\n",
    "    import boto3\n",
    "    import botocore\n",
    "\n",
    "    full_name = get_full_name(name)\n",
    "    prefix = f\"{full_name}/{step}\"\n",
    "\n",
    "    s3 = boto3.resource(\"s3\")\n",
    "    bucket = s3.Bucket(os.environ['AWS_LANGUAGE_BUCKET_NAME'])\n",
    "    checkpoints_path = Path(f\"../checkpoints/{prefix}\")\n",
    "\n",
    "    if not checkpoints_path.exists():\n",
    "        checkpoints_path.mkdir(parents=True)\n",
    "    try: \n",
    "        bucket.download_file(f\"checkpoints/{prefix}/pytorch_model.bin\", str(checkpoints_path / \"pytorch_model.bin\"))\n",
    "        print(\"Done.\")\n",
    "    except botocore.exceptions.ClientError as e:\n",
    "        if e.response['Error']['Code'] == \"404\":\n",
    "            print(f\"Checkpoint {prefix} not found on AWS. Retrieving from HuggingFace.\")\n",
    "            model = AutoModelForCausalLM.from_pretrained(full_name, revision=f'checkpoint-{step}', torch_dtype=torch.float32)\n",
    "            print(\"Saving HF model to disk...\")\n",
    "            model.save_pretrained(checkpoints_path)\n",
    "\n",
    "            del model\n",
    "\n",
    "            print(\"Uploading HF model to AWS...\")\n",
    "            for file in checkpoints_path.glob(\"*\"):\n",
    "                if file.is_file():\n",
    "                    print(f\"Uploading {file}...\")\n",
    "                    bucket.upload_file(file, f\"checkpoints/{prefix}/{file.name}\")\n",
    "\n",
    "            print(\"Done.\")\n",
    "        else:\n",
    "            raise\n",
    "\n",
    "\n",
    "def load_checkpoint(name, step=400_000):\n",
    "    \"\"\"Load checkpoint from local storage. If not found, retrieve from AWS or HF.\"\"\"\n",
    "    full_name = get_full_name(name)\n",
    "    checkpoint_path = Path(f\"../checkpoints/{full_name}/{step}\")\n",
    "\n",
    "    if not checkpoint_path.exists():\n",
    "        print(\"Retrieving checkpoint from AWS. This may take a while.\")\n",
    "        retrieve_checkpoint(name, step)\n",
    "\n",
    "    config = AutoConfig.from_pretrained(full_name, torch_dtype=torch.float32)\n",
    "\n",
    "    print(f\"Loading checkpoint from disk {checkpoint_path}...\")\n",
    "    hf_model = AutoModelForCausalLM.from_pretrained(\n",
    "        checkpoint_path,\n",
    "        revision=f'checkpoint-{step}',\n",
    "        config=config,\n",
    "        torch_dtype=torch.float32,\n",
    "        # **kwargs,\n",
    "    )\n",
    "\n",
    "    model = transformer_lens.HookedTransformer.from_pretrained(full_name, hf_model=hf_model)\n",
    "\n",
    "    return model, hf_model\n",
    "\n",
    "\n",
    "def retrieve_checkpoints(name, steps=None):\n",
    "    \"\"\"Retrieve multiple checkpoints from AWS/HuggingFace.\n",
    "    Defaults to loading all checkpoints for a given training run.\"\"\"\n",
    "    full_name = get_full_name(name)\n",
    "    steps = steps or STANFORD_CRFM_CHECKPOINTS[1:]  # Step 0 is not available. TODO: Figure out how to initialize this. \n",
    "    \n",
    "    for step in tqdm.tqdm(steps, desc=f\"Retrieving {name} checkpoints\"):\n",
    "        if os.path.exists(f\"../checkpoints/{full_name}/{step}/pytorch_model.bin\"):\n",
    "            continue\n",
    "\n",
    "        retrieve_checkpoint(name, step)\n",
    "\n",
    "retrieve_checkpoints('alias')"
   ]
  },
  {
   "cell_type": "code",
   "execution_count": null,
   "metadata": {},
   "outputs": [],
   "source": []
  }
 ],
 "metadata": {
  "kernelspec": {
   "display_name": ".venv",
   "language": "python",
   "name": "python3"
  },
  "language_info": {
   "codemirror_mode": {
    "name": "ipython",
    "version": 3
   },
   "file_extension": ".py",
   "mimetype": "text/x-python",
   "name": "python",
   "nbconvert_exporter": "python",
   "pygments_lexer": "ipython3",
   "version": "3.9.15"
  }
 },
 "nbformat": 4,
 "nbformat_minor": 2
}
