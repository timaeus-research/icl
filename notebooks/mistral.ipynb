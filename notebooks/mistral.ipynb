{
 "cells": [
  {
   "cell_type": "markdown",
   "metadata": {},
   "source": [
    "# Mistral"
   ]
  },
  {
   "cell_type": "code",
   "execution_count": 6,
   "metadata": {},
   "outputs": [],
   "source": [
    "import transformer_lens\n",
    "from pathlib import Path\n",
    "import pickle\n",
    "from torch import nn\n",
    "import json\n",
    "from pprint import pp\n",
    "from transformers import AutoModel, AutoConfig, AutoModelForCausalLM\n",
    "\n",
    "from transformer_lens.loading_from_pretrained import STANFORD_CRFM_CHECKPOINTS \n",
    "from dotenv import load_dotenv\n",
    "import torch\n",
    "\n",
    "load_dotenv();"
   ]
  },
  {
   "cell_type": "code",
   "execution_count": 14,
   "metadata": {},
   "outputs": [],
   "source": [
    "import os\n",
    "from typing import Literal, Union\n",
    "\n",
    "gpt2_mediums = [\n",
    "    \"stanford-crfm/arwen-gpt2-medium-x21\",\n",
    "    \"stanford-crfm/beren-gpt2-medium-x49\",\n",
    "    \"stanford-crfm/celebrimbor-gpt2-medium-x81\",\n",
    "    \"stanford-crfm/durin-gpt2-medium-x343\",\n",
    "    \"stanford-crfm/eowyn-gpt2-medium-x777\",\n",
    "]\n",
    "\n",
    "gpt2_smalls = [\n",
    "    \"stanford-crfm/alias-gpt2-small-x21\",\n",
    "    \"stanford-crfm/battlestar-gpt2-small-x49\",\n",
    "    \"stanford-crfm/caprica-gpt2-small-x81\",\n",
    "    \"stanford-crfm/darkmatter-gpt2-small-x343\",\n",
    "    \"stanford-crfm/expanse-gpt2-small-x777\",\n",
    "]\n",
    "\n",
    "GPT2SmallRunName = Literal[\"alias\", \"battlestar\", \"caprica\", \"darkmatter\", \"expanse\"]\n",
    "GPT2MediumRunName = Literal[\"arwen\", \"beren\", \"celebrimbor\", \"durin\", \"eowyn\"]\n",
    "GPT2RunName = Union[GPT2SmallRunName, GPT2MediumRunName]\n",
    "GPT2Size = Literal[\"small\", \"medium\"]\n",
    "\n",
    "\n",
    "GPT2_NAME: GPT2RunName = 'alias'\n",
    "GPT2_SIZE: GPT2Size = 'small'\n",
    "GPT2_RUN_EXT = {'arwen': 21, 'beren': 49, 'celebrimbor': 81, 'durin': 343, 'eowyn': 777, 'alias': 21, 'battlestar': 49, 'caprica': 81, 'darkmatter': 343, 'expanse': 777}[GPT2_NAME]\n",
    "GPT2_FULL_NAME = f\"stanford-crfm/{GPT2_NAME}-gpt2-{GPT2_SIZE}-x{GPT2_RUN_EXT}\"\n"
   ]
  },
  {
   "cell_type": "code",
   "execution_count": 18,
   "metadata": {},
   "outputs": [
    {
     "name": "stderr",
     "output_type": "stream",
     "text": []
    },
    {
     "name": "stdout",
     "output_type": "stream",
     "text": [
      "Checkpoint gpt-2-small-alias/20 not found on AWS. Retrieving from HuggingFace.\n"
     ]
    },
    {
     "data": {
      "application/vnd.jupyter.widget-view+json": {
       "model_id": "5d20f31f7cf7487a859a92a6fb1bc683",
       "version_major": 2,
       "version_minor": 0
      },
      "text/plain": [
       "Downloading pytorch_model.bin:   0%|          | 0.00/261M [00:00<?, ?B/s]"
      ]
     },
     "metadata": {},
     "output_type": "display_data"
    },
    {
     "name": "stderr",
     "output_type": "stream",
     "text": [
      "Some weights of the model checkpoint at stanford-crfm/alias-gpt2-small-x21 were not used when initializing GPT2Model: ['lm_head.weight']\n",
      "- This IS expected if you are initializing GPT2Model from the checkpoint of a model trained on another task or with another architecture (e.g. initializing a BertForSequenceClassification model from a BertForPreTraining model).\n",
      "- This IS NOT expected if you are initializing GPT2Model from the checkpoint of a model that you expect to be exactly identical (initializing a BertForSequenceClassification model from a BertForSequenceClassification model).\n"
     ]
    },
    {
     "name": "stdout",
     "output_type": "stream",
     "text": [
      "Saving HF model to disk...\n",
      "Uploading HF model to AWS...\n",
      "Uploading ../checkpoints/gpt-2-small-alias/20/config.json...\n",
      "Uploading ../checkpoints/gpt-2-small-alias/20/pytorch_model.bin...\n"
     ]
    },
    {
     "name": "stderr",
     "output_type": "stream",
     "text": []
    },
    {
     "name": "stdout",
     "output_type": "stream",
     "text": [
      "Done.\n",
      "Checkpoint gpt-2-small-alias/30 not found on AWS. Retrieving from HuggingFace.\n"
     ]
    },
    {
     "data": {
      "application/vnd.jupyter.widget-view+json": {
       "model_id": "379a62a7f3114a27a5b7beab8ceb2922",
       "version_major": 2,
       "version_minor": 0
      },
      "text/plain": [
       "Downloading pytorch_model.bin:   0%|          | 0.00/261M [00:00<?, ?B/s]"
      ]
     },
     "metadata": {},
     "output_type": "display_data"
    },
    {
     "name": "stderr",
     "output_type": "stream",
     "text": [
      "Some weights of the model checkpoint at stanford-crfm/alias-gpt2-small-x21 were not used when initializing GPT2Model: ['lm_head.weight']\n",
      "- This IS expected if you are initializing GPT2Model from the checkpoint of a model trained on another task or with another architecture (e.g. initializing a BertForSequenceClassification model from a BertForPreTraining model).\n",
      "- This IS NOT expected if you are initializing GPT2Model from the checkpoint of a model that you expect to be exactly identical (initializing a BertForSequenceClassification model from a BertForSequenceClassification model).\n"
     ]
    },
    {
     "name": "stdout",
     "output_type": "stream",
     "text": [
      "Saving HF model to disk...\n",
      "Uploading HF model to AWS...\n",
      "Uploading ../checkpoints/gpt-2-small-alias/30/config.json...\n",
      "Uploading ../checkpoints/gpt-2-small-alias/30/pytorch_model.bin...\n"
     ]
    },
    {
     "name": "stderr",
     "output_type": "stream",
     "text": []
    },
    {
     "name": "stdout",
     "output_type": "stream",
     "text": [
      "Done.\n",
      "Checkpoint gpt-2-small-alias/40 not found on AWS. Retrieving from HuggingFace.\n"
     ]
    },
    {
     "data": {
      "application/vnd.jupyter.widget-view+json": {
       "model_id": "f9de124ac6b4425e985ecd49fe829240",
       "version_major": 2,
       "version_minor": 0
      },
      "text/plain": [
       "Downloading pytorch_model.bin:   0%|          | 0.00/261M [00:00<?, ?B/s]"
      ]
     },
     "metadata": {},
     "output_type": "display_data"
    },
    {
     "name": "stderr",
     "output_type": "stream",
     "text": [
      "Some weights of the model checkpoint at stanford-crfm/alias-gpt2-small-x21 were not used when initializing GPT2Model: ['lm_head.weight']\n",
      "- This IS expected if you are initializing GPT2Model from the checkpoint of a model trained on another task or with another architecture (e.g. initializing a BertForSequenceClassification model from a BertForPreTraining model).\n",
      "- This IS NOT expected if you are initializing GPT2Model from the checkpoint of a model that you expect to be exactly identical (initializing a BertForSequenceClassification model from a BertForSequenceClassification model).\n"
     ]
    },
    {
     "name": "stdout",
     "output_type": "stream",
     "text": [
      "Saving HF model to disk...\n",
      "Uploading HF model to AWS...\n",
      "Uploading ../checkpoints/gpt-2-small-alias/40/config.json...\n",
      "Uploading ../checkpoints/gpt-2-small-alias/40/pytorch_model.bin...\n"
     ]
    }
   ],
   "source": [
    "import tqdm\n",
    "\n",
    "\n",
    "def retrieve_checkpoint(name, ext, size=\"medium\", step=400_000):\n",
    "    \"\"\"Retrieve checkpoint from AWS. If not found, retrieve from HuggingFace.\"\"\"\n",
    "    import boto3\n",
    "    import botocore\n",
    "\n",
    "    prefix = f\"gpt-2-{size}-{name}/{step}\"\n",
    "\n",
    "    s3 = boto3.resource(\"s3\")\n",
    "    bucket = s3.Bucket(os.environ['AWS_LANGUAGE_BUCKET_NAME'])\n",
    "    checkpoints_path = Path(f\"../checkpoints/{prefix}\")\n",
    "\n",
    "    full_name = f\"stanford-crfm/{name}-gpt2-{size}-x{ext}\"\n",
    "\n",
    "    if not checkpoints_path.exists():\n",
    "        checkpoints_path.mkdir(parents=True)\n",
    "    try: \n",
    "        bucket.download_file(f\"checkpoints/{prefix}/pytorch_model.bin\", str(checkpoints_path / \"pytorch_model.bin\"))\n",
    "        print(\"Done.\")\n",
    "    except botocore.exceptions.ClientError as e:\n",
    "        if e.response['Error']['Code'] == \"404\":\n",
    "            print(f\"Checkpoint {prefix} not found on AWS. Retrieving from HuggingFace.\")\n",
    "            model = AutoModel.from_pretrained(full_name, revision=f'checkpoint-{step}', torch_dtype=torch.float32)\n",
    "            print(\"Saving HF model to disk...\")\n",
    "            model.save_pretrained(checkpoints_path)\n",
    "\n",
    "            del model\n",
    "\n",
    "            print(\"Uploading HF model to AWS...\")\n",
    "            for file in checkpoints_path.glob(\"*\"):\n",
    "                if file.is_file():\n",
    "                    print(f\"Uploading {file}...\")\n",
    "                    bucket.upload_file(file, f\"checkpoints/{prefix}/{file.name}\")\n",
    "\n",
    "            print(\"Done.\")\n",
    "        else:\n",
    "            raise\n",
    "\n",
    "\n",
    "def load_checkpoint(name, ext, size=\"medium\", step=400_000):\n",
    "    \"\"\"Load checkpoint from local storage. If not found, retrieve from AWS or HF.\"\"\"\n",
    "    checkpoint_path = Path(f\"../checkpoints/gpt-2-{size}-{name}/{step}\")\n",
    "\n",
    "    if not checkpoint_path.exists():\n",
    "        print(\"Retrieving checkpoint from AWS. This may take a while.\")\n",
    "        retrieve_checkpoint(name, ext, size, step)\n",
    "\n",
    "    config = AutoConfig.from_pretrained(GPT2_NAME, torch_dtype=torch.float32)\n",
    "\n",
    "    print(f\"Loading checkpoint from disk {checkpoint_path}...\")\n",
    "    hf_model = AutoModelForCausalLM.from_pretrained(\n",
    "        checkpoint_path, # GPT2_NAME,\n",
    "        # revision=f\"checkpoint-{CHECKPOINT_STEP}\",\n",
    "        config=config,\n",
    "        torch_dtype=torch.float32,\n",
    "        # **kwargs,\n",
    "    )\n",
    "\n",
    "    model = transformer_lens.HookedTransformer.from_pretrained(GPT2_NAME, hf_model=hf_model)\n",
    "\n",
    "    return model, hf_model\n",
    "\n",
    "\n",
    "def retrieve_checkpoints(name, ext, size=\"medium\", steps=None):\n",
    "    \"\"\"Retrieve multiple checkpoints from AWS/HuggingFace.\n",
    "    Defaults to loading all checkpoints for a given training run.\"\"\"\n",
    "    steps = steps or STANFORD_CRFM_CHECKPOINTS[1:]  # Step 0 is not available. TODO: Figure out how to initialize this. \n",
    "    \n",
    "    for step in tqdm.tqdm(steps, desc=f\"Retrieving {name} checkpoints\"):\n",
    "        if os.path.exists(f\"../checkpoints/gpt-2-{size}-{name}/{step}/pytorch_model.bin\"):\n",
    "            continue\n",
    "        retrieve_checkpoint(name, ext, size, step)\n",
    "\n",
    "retrieve_checkpoints('alias', '21', 'small')"
   ]
  },
  {
   "cell_type": "code",
   "execution_count": null,
   "metadata": {},
   "outputs": [],
   "source": []
  }
 ],
 "metadata": {
  "kernelspec": {
   "display_name": ".venv",
   "language": "python",
   "name": "python3"
  },
  "language_info": {
   "codemirror_mode": {
    "name": "ipython",
    "version": 3
   },
   "file_extension": ".py",
   "mimetype": "text/x-python",
   "name": "python",
   "nbconvert_exporter": "python",
   "pygments_lexer": "ipython3",
   "version": "3.9.15"
  }
 },
 "nbformat": 4,
 "nbformat_minor": 2
}
