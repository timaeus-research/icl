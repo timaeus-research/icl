{
 "cells": [
  {
   "cell_type": "markdown",
   "metadata": {},
   "source": [
    "# Mistral"
   ]
  },
  {
   "cell_type": "code",
   "execution_count": 6,
   "metadata": {},
   "outputs": [],
   "source": [
    "import transformer_lens\n",
    "from pathlib import Path\n",
    "import pickle\n",
    "from torch import nn\n",
    "import json\n",
    "from pprint import pp\n",
    "from transformers import AutoConfig, AutoModelForCausalLM\n",
    "\n",
    "from transformer_lens.loading_from_pretrained import STANFORD_CRFM_CHECKPOINTS \n",
    "from dotenv import load_dotenv\n",
    "import torch\n",
    "\n",
    "load_dotenv();"
   ]
  },
  {
   "cell_type": "code",
   "execution_count": 19,
   "metadata": {},
   "outputs": [],
   "source": [
    "import os\n",
    "from typing import Literal, Union\n",
    "\n",
    "gpt2_mediums = [\n",
    "    \"stanford-crfm/arwen-gpt2-medium-x21\",\n",
    "    \"stanford-crfm/beren-gpt2-medium-x49\",\n",
    "    \"stanford-crfm/celebrimbor-gpt2-medium-x81\",\n",
    "    \"stanford-crfm/durin-gpt2-medium-x343\",\n",
    "    \"stanford-crfm/eowyn-gpt2-medium-x777\",\n",
    "]\n",
    "\n",
    "gpt2_smalls = [\n",
    "    \"stanford-crfm/alias-gpt2-small-x21\",\n",
    "    \"stanford-crfm/battlestar-gpt2-small-x49\",\n",
    "    \"stanford-crfm/caprica-gpt2-small-x81\",\n",
    "    \"stanford-crfm/darkmatter-gpt2-small-x343\",\n",
    "    \"stanford-crfm/expanse-gpt2-small-x777\",\n",
    "]\n",
    "\n",
    "GPT2SmallRunName = Literal[\"alias\", \"battlestar\", \"caprica\", \"darkmatter\", \"expanse\"]\n",
    "GPT2MediumRunName = Literal[\"arwen\", \"beren\", \"celebrimbor\", \"durin\", \"eowyn\"]\n",
    "GPT2RunName = Union[GPT2SmallRunName, GPT2MediumRunName]\n",
    "GPT2Size = Literal[\"small\", \"medium\"]\n",
    "\n",
    "GPT2_NAME: GPT2RunName = 'alias'\n",
    "GPT2_SIZE: GPT2Size = 'small'\n",
    "\n",
    "def get_full_name(name):\n",
    "    size = {'arwen': 'medium', 'beren': 'medium', 'celebrimbor': 'medium', 'durin': 'medium', 'eowyn': 'medium', 'alias': 'small', 'battlestar': 'small', 'caprica': 'small', 'darkmatter': 'small', 'expanse': 'small'}[name]\n",
    "    ext = {'arwen': 21, 'beren': 49, 'celebrimbor': 81, 'durin': 343, 'eowyn': 777, 'alias': 21, 'battlestar': 49, 'caprica': 81, 'darkmatter': 343, 'expanse': 777}[name]\n",
    "    return f\"stanford-crfm/{name}-gpt2-{size}-x{ext}\""
   ]
  },
  {
   "cell_type": "code",
   "execution_count": 25,
   "metadata": {},
   "outputs": [
    {
     "name": "stderr",
     "output_type": "stream",
     "text": [
      "Retrieving alias checkpoints:   0%|          | 0/608 [00:00<?, ?it/s]"
     ]
    },
    {
     "name": "stdout",
     "output_type": "stream",
     "text": [
      "Checkpoint stanford-crfm/alias-gpt2-small-x21/10 not found on AWS. Retrieving from HuggingFace.\n",
      "Saving HF model to disk...\n",
      "Uploading HF model to AWS...\n",
      "Uploading ../checkpoints/stanford-crfm/alias-gpt2-small-x21/10/config.json...\n",
      "Uploading ../checkpoints/stanford-crfm/alias-gpt2-small-x21/10/generation_config.json...\n",
      "Uploading ../checkpoints/stanford-crfm/alias-gpt2-small-x21/10/pytorch_model.bin...\n"
     ]
    },
    {
     "name": "stderr",
     "output_type": "stream",
     "text": [
      "Retrieving alias checkpoints:   0%|          | 1/608 [00:21<3:40:35, 21.80s/it]"
     ]
    },
    {
     "name": "stdout",
     "output_type": "stream",
     "text": [
      "Done.\n",
      "Checkpoint stanford-crfm/alias-gpt2-small-x21/20 not found on AWS. Retrieving from HuggingFace.\n",
      "Saving HF model to disk...\n",
      "Uploading HF model to AWS...\n",
      "Uploading ../checkpoints/stanford-crfm/alias-gpt2-small-x21/20/config.json...\n",
      "Uploading ../checkpoints/stanford-crfm/alias-gpt2-small-x21/20/generation_config.json...\n",
      "Uploading ../checkpoints/stanford-crfm/alias-gpt2-small-x21/20/pytorch_model.bin...\n"
     ]
    },
    {
     "name": "stderr",
     "output_type": "stream",
     "text": [
      "Retrieving alias checkpoints:   0%|          | 2/608 [00:40<3:20:37, 19.86s/it]"
     ]
    },
    {
     "name": "stdout",
     "output_type": "stream",
     "text": [
      "Done.\n",
      "Checkpoint stanford-crfm/alias-gpt2-small-x21/30 not found on AWS. Retrieving from HuggingFace.\n",
      "Saving HF model to disk...\n",
      "Uploading HF model to AWS...\n",
      "Uploading ../checkpoints/stanford-crfm/alias-gpt2-small-x21/30/config.json...\n",
      "Uploading ../checkpoints/stanford-crfm/alias-gpt2-small-x21/30/generation_config.json...\n",
      "Uploading ../checkpoints/stanford-crfm/alias-gpt2-small-x21/30/pytorch_model.bin...\n"
     ]
    },
    {
     "name": "stderr",
     "output_type": "stream",
     "text": [
      "Retrieving alias checkpoints:   0%|          | 3/608 [00:54<2:53:26, 17.20s/it]"
     ]
    },
    {
     "name": "stdout",
     "output_type": "stream",
     "text": [
      "Done.\n",
      "Checkpoint stanford-crfm/alias-gpt2-small-x21/40 not found on AWS. Retrieving from HuggingFace.\n",
      "Saving HF model to disk...\n",
      "Uploading HF model to AWS...\n",
      "Uploading ../checkpoints/stanford-crfm/alias-gpt2-small-x21/40/config.json...\n",
      "Uploading ../checkpoints/stanford-crfm/alias-gpt2-small-x21/40/generation_config.json...\n",
      "Uploading ../checkpoints/stanford-crfm/alias-gpt2-small-x21/40/pytorch_model.bin...\n"
     ]
    },
    {
     "name": "stderr",
     "output_type": "stream",
     "text": [
      "Retrieving alias checkpoints:   1%|          | 4/608 [01:14<3:03:18, 18.21s/it]"
     ]
    },
    {
     "name": "stdout",
     "output_type": "stream",
     "text": [
      "Done.\n",
      "Checkpoint stanford-crfm/alias-gpt2-small-x21/50 not found on AWS. Retrieving from HuggingFace.\n",
      "Saving HF model to disk...\n",
      "Uploading HF model to AWS...\n",
      "Uploading ../checkpoints/stanford-crfm/alias-gpt2-small-x21/50/config.json...\n",
      "Uploading ../checkpoints/stanford-crfm/alias-gpt2-small-x21/50/generation_config.json...\n",
      "Uploading ../checkpoints/stanford-crfm/alias-gpt2-small-x21/50/pytorch_model.bin...\n"
     ]
    },
    {
     "name": "stderr",
     "output_type": "stream",
     "text": [
      "Retrieving alias checkpoints:   1%|          | 5/608 [01:27<2:46:34, 16.57s/it]"
     ]
    },
    {
     "name": "stdout",
     "output_type": "stream",
     "text": [
      "Done.\n",
      "Checkpoint stanford-crfm/alias-gpt2-small-x21/60 not found on AWS. Retrieving from HuggingFace.\n",
      "Saving HF model to disk...\n",
      "Uploading HF model to AWS...\n",
      "Uploading ../checkpoints/stanford-crfm/alias-gpt2-small-x21/60/config.json...\n",
      "Uploading ../checkpoints/stanford-crfm/alias-gpt2-small-x21/60/generation_config.json...\n",
      "Uploading ../checkpoints/stanford-crfm/alias-gpt2-small-x21/60/pytorch_model.bin...\n"
     ]
    },
    {
     "name": "stderr",
     "output_type": "stream",
     "text": [
      "Retrieving alias checkpoints:   1%|          | 6/608 [01:45<2:51:17, 17.07s/it]"
     ]
    },
    {
     "name": "stdout",
     "output_type": "stream",
     "text": [
      "Done.\n",
      "Checkpoint stanford-crfm/alias-gpt2-small-x21/70 not found on AWS. Retrieving from HuggingFace.\n",
      "Saving HF model to disk...\n",
      "Uploading HF model to AWS...\n",
      "Uploading ../checkpoints/stanford-crfm/alias-gpt2-small-x21/70/config.json...\n",
      "Uploading ../checkpoints/stanford-crfm/alias-gpt2-small-x21/70/generation_config.json...\n",
      "Uploading ../checkpoints/stanford-crfm/alias-gpt2-small-x21/70/pytorch_model.bin...\n"
     ]
    },
    {
     "name": "stderr",
     "output_type": "stream",
     "text": [
      "Retrieving alias checkpoints:   1%|          | 7/608 [01:58<2:35:32, 15.53s/it]"
     ]
    },
    {
     "name": "stdout",
     "output_type": "stream",
     "text": [
      "Done.\n",
      "Checkpoint stanford-crfm/alias-gpt2-small-x21/80 not found on AWS. Retrieving from HuggingFace.\n",
      "Saving HF model to disk...\n",
      "Uploading HF model to AWS...\n",
      "Uploading ../checkpoints/stanford-crfm/alias-gpt2-small-x21/80/config.json...\n",
      "Uploading ../checkpoints/stanford-crfm/alias-gpt2-small-x21/80/generation_config.json...\n",
      "Uploading ../checkpoints/stanford-crfm/alias-gpt2-small-x21/80/pytorch_model.bin...\n"
     ]
    },
    {
     "name": "stderr",
     "output_type": "stream",
     "text": [
      "Retrieving alias checkpoints:   1%|▏         | 8/608 [02:16<2:44:49, 16.48s/it]"
     ]
    },
    {
     "name": "stdout",
     "output_type": "stream",
     "text": [
      "Done.\n",
      "Checkpoint stanford-crfm/alias-gpt2-small-x21/90 not found on AWS. Retrieving from HuggingFace.\n",
      "Saving HF model to disk...\n",
      "Uploading HF model to AWS...\n",
      "Uploading ../checkpoints/stanford-crfm/alias-gpt2-small-x21/90/config.json...\n",
      "Uploading ../checkpoints/stanford-crfm/alias-gpt2-small-x21/90/generation_config.json...\n",
      "Uploading ../checkpoints/stanford-crfm/alias-gpt2-small-x21/90/pytorch_model.bin...\n"
     ]
    },
    {
     "name": "stderr",
     "output_type": "stream",
     "text": [
      "Retrieving alias checkpoints:   1%|▏         | 9/608 [02:37<2:57:27, 17.77s/it]"
     ]
    },
    {
     "name": "stdout",
     "output_type": "stream",
     "text": [
      "Done.\n",
      "Checkpoint stanford-crfm/alias-gpt2-small-x21/100 not found on AWS. Retrieving from HuggingFace.\n"
     ]
    },
    {
     "data": {
      "application/vnd.jupyter.widget-view+json": {
       "model_id": "ccb543dc4a294d24b2e8c9a46a35b297",
       "version_major": 2,
       "version_minor": 0
      },
      "text/plain": [
       "Downloading pytorch_model.bin:   0%|          | 0.00/261M [00:00<?, ?B/s]"
      ]
     },
     "metadata": {},
     "output_type": "display_data"
    },
    {
     "name": "stdout",
     "output_type": "stream",
     "text": [
      "Saving HF model to disk...\n",
      "Uploading HF model to AWS...\n",
      "Uploading ../checkpoints/stanford-crfm/alias-gpt2-small-x21/100/config.json...\n",
      "Uploading ../checkpoints/stanford-crfm/alias-gpt2-small-x21/100/generation_config.json...\n",
      "Uploading ../checkpoints/stanford-crfm/alias-gpt2-small-x21/100/pytorch_model.bin...\n"
     ]
    },
    {
     "name": "stderr",
     "output_type": "stream",
     "text": [
      "Retrieving alias checkpoints:   2%|▏         | 10/608 [03:04<3:25:29, 20.62s/it]"
     ]
    },
    {
     "name": "stdout",
     "output_type": "stream",
     "text": [
      "Done.\n",
      "Checkpoint stanford-crfm/alias-gpt2-small-x21/150 not found on AWS. Retrieving from HuggingFace.\n"
     ]
    },
    {
     "data": {
      "application/vnd.jupyter.widget-view+json": {
       "model_id": "a09ed3ba5cde4802b30b33c58720967e",
       "version_major": 2,
       "version_minor": 0
      },
      "text/plain": [
       "Downloading pytorch_model.bin:   0%|          | 0.00/261M [00:00<?, ?B/s]"
      ]
     },
     "metadata": {},
     "output_type": "display_data"
    },
    {
     "name": "stdout",
     "output_type": "stream",
     "text": [
      "Saving HF model to disk...\n",
      "Uploading HF model to AWS...\n",
      "Uploading ../checkpoints/stanford-crfm/alias-gpt2-small-x21/150/config.json...\n",
      "Uploading ../checkpoints/stanford-crfm/alias-gpt2-small-x21/150/generation_config.json...\n",
      "Uploading ../checkpoints/stanford-crfm/alias-gpt2-small-x21/150/pytorch_model.bin...\n"
     ]
    },
    {
     "name": "stderr",
     "output_type": "stream",
     "text": [
      "Retrieving alias checkpoints:   2%|▏         | 11/608 [03:23<3:19:44, 20.07s/it]"
     ]
    },
    {
     "name": "stdout",
     "output_type": "stream",
     "text": [
      "Done.\n",
      "Checkpoint stanford-crfm/alias-gpt2-small-x21/200 not found on AWS. Retrieving from HuggingFace.\n"
     ]
    },
    {
     "data": {
      "application/vnd.jupyter.widget-view+json": {
       "model_id": "1a36a38e85364bd5ae18acdfbb66f433",
       "version_major": 2,
       "version_minor": 0
      },
      "text/plain": [
       "Downloading pytorch_model.bin:   0%|          | 0.00/261M [00:00<?, ?B/s]"
      ]
     },
     "metadata": {},
     "output_type": "display_data"
    },
    {
     "name": "stdout",
     "output_type": "stream",
     "text": [
      "Saving HF model to disk...\n",
      "Uploading HF model to AWS...\n",
      "Uploading ../checkpoints/stanford-crfm/alias-gpt2-small-x21/200/config.json...\n",
      "Uploading ../checkpoints/stanford-crfm/alias-gpt2-small-x21/200/generation_config.json...\n",
      "Uploading ../checkpoints/stanford-crfm/alias-gpt2-small-x21/200/pytorch_model.bin...\n"
     ]
    },
    {
     "name": "stderr",
     "output_type": "stream",
     "text": [
      "Retrieving alias checkpoints:   2%|▏         | 12/608 [03:52<3:46:33, 22.81s/it]"
     ]
    },
    {
     "name": "stdout",
     "output_type": "stream",
     "text": [
      "Done.\n",
      "Checkpoint stanford-crfm/alias-gpt2-small-x21/250 not found on AWS. Retrieving from HuggingFace.\n"
     ]
    },
    {
     "data": {
      "application/vnd.jupyter.widget-view+json": {
       "model_id": "298505f2c69e4c5386bc3ee818767b39",
       "version_major": 2,
       "version_minor": 0
      },
      "text/plain": [
       "Downloading pytorch_model.bin:   0%|          | 0.00/261M [00:00<?, ?B/s]"
      ]
     },
     "metadata": {},
     "output_type": "display_data"
    },
    {
     "name": "stdout",
     "output_type": "stream",
     "text": [
      "Saving HF model to disk...\n",
      "Uploading HF model to AWS...\n",
      "Uploading ../checkpoints/stanford-crfm/alias-gpt2-small-x21/250/config.json...\n",
      "Uploading ../checkpoints/stanford-crfm/alias-gpt2-small-x21/250/generation_config.json...\n",
      "Uploading ../checkpoints/stanford-crfm/alias-gpt2-small-x21/250/pytorch_model.bin...\n"
     ]
    },
    {
     "name": "stderr",
     "output_type": "stream",
     "text": [
      "Retrieving alias checkpoints:   2%|▏         | 13/608 [04:21<4:06:52, 24.89s/it]"
     ]
    },
    {
     "name": "stdout",
     "output_type": "stream",
     "text": [
      "Done.\n",
      "Checkpoint stanford-crfm/alias-gpt2-small-x21/300 not found on AWS. Retrieving from HuggingFace.\n"
     ]
    },
    {
     "data": {
      "application/vnd.jupyter.widget-view+json": {
       "model_id": "befe88f59a47438aba1bc4c17d29e857",
       "version_major": 2,
       "version_minor": 0
      },
      "text/plain": [
       "Downloading pytorch_model.bin:   0%|          | 0.00/261M [00:00<?, ?B/s]"
      ]
     },
     "metadata": {},
     "output_type": "display_data"
    },
    {
     "name": "stdout",
     "output_type": "stream",
     "text": [
      "Saving HF model to disk...\n",
      "Uploading HF model to AWS...\n",
      "Uploading ../checkpoints/stanford-crfm/alias-gpt2-small-x21/300/config.json...\n",
      "Uploading ../checkpoints/stanford-crfm/alias-gpt2-small-x21/300/generation_config.json...\n",
      "Uploading ../checkpoints/stanford-crfm/alias-gpt2-small-x21/300/pytorch_model.bin...\n"
     ]
    },
    {
     "name": "stderr",
     "output_type": "stream",
     "text": [
      "Retrieving alias checkpoints:   2%|▏         | 14/608 [04:47<4:07:46, 25.03s/it]"
     ]
    },
    {
     "name": "stdout",
     "output_type": "stream",
     "text": [
      "Done.\n",
      "Checkpoint stanford-crfm/alias-gpt2-small-x21/350 not found on AWS. Retrieving from HuggingFace.\n"
     ]
    },
    {
     "data": {
      "application/vnd.jupyter.widget-view+json": {
       "model_id": "05f6239e86564d3591cd2756a60dfdc8",
       "version_major": 2,
       "version_minor": 0
      },
      "text/plain": [
       "Downloading pytorch_model.bin:   0%|          | 0.00/261M [00:00<?, ?B/s]"
      ]
     },
     "metadata": {},
     "output_type": "display_data"
    },
    {
     "name": "stdout",
     "output_type": "stream",
     "text": [
      "Saving HF model to disk...\n",
      "Uploading HF model to AWS...\n",
      "Uploading ../checkpoints/stanford-crfm/alias-gpt2-small-x21/350/config.json...\n",
      "Uploading ../checkpoints/stanford-crfm/alias-gpt2-small-x21/350/generation_config.json...\n",
      "Uploading ../checkpoints/stanford-crfm/alias-gpt2-small-x21/350/pytorch_model.bin...\n"
     ]
    },
    {
     "name": "stderr",
     "output_type": "stream",
     "text": [
      "Retrieving alias checkpoints:   2%|▏         | 15/608 [05:15<4:17:13, 26.03s/it]"
     ]
    },
    {
     "name": "stdout",
     "output_type": "stream",
     "text": [
      "Done.\n",
      "Checkpoint stanford-crfm/alias-gpt2-small-x21/400 not found on AWS. Retrieving from HuggingFace.\n"
     ]
    },
    {
     "data": {
      "application/vnd.jupyter.widget-view+json": {
       "model_id": "92491698f2c545539b7c33d3fc4783d0",
       "version_major": 2,
       "version_minor": 0
      },
      "text/plain": [
       "Downloading pytorch_model.bin:   0%|          | 0.00/261M [00:00<?, ?B/s]"
      ]
     },
     "metadata": {},
     "output_type": "display_data"
    },
    {
     "name": "stdout",
     "output_type": "stream",
     "text": [
      "Saving HF model to disk...\n",
      "Uploading HF model to AWS...\n",
      "Uploading ../checkpoints/stanford-crfm/alias-gpt2-small-x21/400/config.json...\n",
      "Uploading ../checkpoints/stanford-crfm/alias-gpt2-small-x21/400/generation_config.json...\n",
      "Uploading ../checkpoints/stanford-crfm/alias-gpt2-small-x21/400/pytorch_model.bin...\n"
     ]
    },
    {
     "name": "stderr",
     "output_type": "stream",
     "text": [
      "Retrieving alias checkpoints:   3%|▎         | 16/608 [05:43<4:21:41, 26.52s/it]"
     ]
    },
    {
     "name": "stdout",
     "output_type": "stream",
     "text": [
      "Done.\n",
      "Checkpoint stanford-crfm/alias-gpt2-small-x21/450 not found on AWS. Retrieving from HuggingFace.\n"
     ]
    },
    {
     "data": {
      "application/vnd.jupyter.widget-view+json": {
       "model_id": "9f180cfde6aa460e8b7d40bcd94bf374",
       "version_major": 2,
       "version_minor": 0
      },
      "text/plain": [
       "Downloading pytorch_model.bin:   0%|          | 0.00/261M [00:00<?, ?B/s]"
      ]
     },
     "metadata": {},
     "output_type": "display_data"
    },
    {
     "name": "stdout",
     "output_type": "stream",
     "text": [
      "Saving HF model to disk...\n",
      "Uploading HF model to AWS...\n",
      "Uploading ../checkpoints/stanford-crfm/alias-gpt2-small-x21/450/config.json...\n",
      "Uploading ../checkpoints/stanford-crfm/alias-gpt2-small-x21/450/generation_config.json...\n",
      "Uploading ../checkpoints/stanford-crfm/alias-gpt2-small-x21/450/pytorch_model.bin...\n"
     ]
    },
    {
     "name": "stderr",
     "output_type": "stream",
     "text": [
      "Retrieving alias checkpoints:   3%|▎         | 17/608 [06:02<4:01:06, 24.48s/it]"
     ]
    },
    {
     "name": "stdout",
     "output_type": "stream",
     "text": [
      "Done.\n",
      "Checkpoint stanford-crfm/alias-gpt2-small-x21/500 not found on AWS. Retrieving from HuggingFace.\n"
     ]
    },
    {
     "data": {
      "application/vnd.jupyter.widget-view+json": {
       "model_id": "c8ef547546b14ed692839b53de5c7ea4",
       "version_major": 2,
       "version_minor": 0
      },
      "text/plain": [
       "Downloading pytorch_model.bin:   0%|          | 0.00/261M [00:00<?, ?B/s]"
      ]
     },
     "metadata": {},
     "output_type": "display_data"
    },
    {
     "name": "stdout",
     "output_type": "stream",
     "text": [
      "Saving HF model to disk...\n",
      "Uploading HF model to AWS...\n",
      "Uploading ../checkpoints/stanford-crfm/alias-gpt2-small-x21/500/config.json...\n",
      "Uploading ../checkpoints/stanford-crfm/alias-gpt2-small-x21/500/generation_config.json...\n",
      "Uploading ../checkpoints/stanford-crfm/alias-gpt2-small-x21/500/pytorch_model.bin...\n"
     ]
    },
    {
     "name": "stderr",
     "output_type": "stream",
     "text": [
      "Retrieving alias checkpoints:   3%|▎         | 18/608 [06:29<4:05:59, 25.02s/it]"
     ]
    },
    {
     "name": "stdout",
     "output_type": "stream",
     "text": [
      "Done.\n",
      "Checkpoint stanford-crfm/alias-gpt2-small-x21/550 not found on AWS. Retrieving from HuggingFace.\n"
     ]
    },
    {
     "data": {
      "application/vnd.jupyter.widget-view+json": {
       "model_id": "5d1da4c2815c4a97839cf63e7d62833e",
       "version_major": 2,
       "version_minor": 0
      },
      "text/plain": [
       "Downloading pytorch_model.bin:   0%|          | 0.00/261M [00:00<?, ?B/s]"
      ]
     },
     "metadata": {},
     "output_type": "display_data"
    },
    {
     "name": "stdout",
     "output_type": "stream",
     "text": [
      "Saving HF model to disk...\n",
      "Uploading HF model to AWS...\n",
      "Uploading ../checkpoints/stanford-crfm/alias-gpt2-small-x21/550/config.json...\n",
      "Uploading ../checkpoints/stanford-crfm/alias-gpt2-small-x21/550/generation_config.json...\n",
      "Uploading ../checkpoints/stanford-crfm/alias-gpt2-small-x21/550/pytorch_model.bin...\n"
     ]
    },
    {
     "name": "stderr",
     "output_type": "stream",
     "text": [
      "Retrieving alias checkpoints:   3%|▎         | 19/608 [06:55<4:10:25, 25.51s/it]"
     ]
    },
    {
     "name": "stdout",
     "output_type": "stream",
     "text": [
      "Done.\n",
      "Checkpoint stanford-crfm/alias-gpt2-small-x21/600 not found on AWS. Retrieving from HuggingFace.\n"
     ]
    },
    {
     "data": {
      "application/vnd.jupyter.widget-view+json": {
       "model_id": "c680faf617dc4f03b1d520b909b1495c",
       "version_major": 2,
       "version_minor": 0
      },
      "text/plain": [
       "Downloading pytorch_model.bin:   0%|          | 0.00/261M [00:00<?, ?B/s]"
      ]
     },
     "metadata": {},
     "output_type": "display_data"
    },
    {
     "name": "stdout",
     "output_type": "stream",
     "text": [
      "Saving HF model to disk...\n",
      "Uploading HF model to AWS...\n",
      "Uploading ../checkpoints/stanford-crfm/alias-gpt2-small-x21/600/config.json...\n",
      "Uploading ../checkpoints/stanford-crfm/alias-gpt2-small-x21/600/generation_config.json...\n",
      "Uploading ../checkpoints/stanford-crfm/alias-gpt2-small-x21/600/pytorch_model.bin...\n"
     ]
    },
    {
     "name": "stderr",
     "output_type": "stream",
     "text": [
      "Retrieving alias checkpoints:   3%|▎         | 20/608 [07:22<4:11:48, 25.70s/it]"
     ]
    },
    {
     "name": "stdout",
     "output_type": "stream",
     "text": [
      "Done.\n",
      "Checkpoint stanford-crfm/alias-gpt2-small-x21/650 not found on AWS. Retrieving from HuggingFace.\n"
     ]
    },
    {
     "data": {
      "application/vnd.jupyter.widget-view+json": {
       "model_id": "f92ac13282c84f5798f775332191e2a6",
       "version_major": 2,
       "version_minor": 0
      },
      "text/plain": [
       "Downloading pytorch_model.bin:   0%|          | 0.00/261M [00:00<?, ?B/s]"
      ]
     },
     "metadata": {},
     "output_type": "display_data"
    },
    {
     "name": "stdout",
     "output_type": "stream",
     "text": [
      "Saving HF model to disk...\n",
      "Uploading HF model to AWS...\n",
      "Uploading ../checkpoints/stanford-crfm/alias-gpt2-small-x21/650/config.json...\n",
      "Uploading ../checkpoints/stanford-crfm/alias-gpt2-small-x21/650/generation_config.json...\n",
      "Uploading ../checkpoints/stanford-crfm/alias-gpt2-small-x21/650/pytorch_model.bin...\n"
     ]
    },
    {
     "name": "stderr",
     "output_type": "stream",
     "text": [
      "Retrieving alias checkpoints:   3%|▎         | 21/608 [07:48<4:12:55, 25.85s/it]"
     ]
    },
    {
     "name": "stdout",
     "output_type": "stream",
     "text": [
      "Done.\n",
      "Checkpoint stanford-crfm/alias-gpt2-small-x21/700 not found on AWS. Retrieving from HuggingFace.\n"
     ]
    },
    {
     "data": {
      "application/vnd.jupyter.widget-view+json": {
       "model_id": "25e2fb689fcf48c39b463b5b2da3e805",
       "version_major": 2,
       "version_minor": 0
      },
      "text/plain": [
       "Downloading pytorch_model.bin:   0%|          | 0.00/261M [00:00<?, ?B/s]"
      ]
     },
     "metadata": {},
     "output_type": "display_data"
    },
    {
     "name": "stdout",
     "output_type": "stream",
     "text": [
      "Saving HF model to disk...\n",
      "Uploading HF model to AWS...\n",
      "Uploading ../checkpoints/stanford-crfm/alias-gpt2-small-x21/700/config.json...\n",
      "Uploading ../checkpoints/stanford-crfm/alias-gpt2-small-x21/700/generation_config.json...\n",
      "Uploading ../checkpoints/stanford-crfm/alias-gpt2-small-x21/700/pytorch_model.bin...\n"
     ]
    },
    {
     "name": "stderr",
     "output_type": "stream",
     "text": [
      "Retrieving alias checkpoints:   4%|▎         | 22/608 [08:13<4:09:51, 25.58s/it]"
     ]
    },
    {
     "name": "stdout",
     "output_type": "stream",
     "text": [
      "Done.\n",
      "Checkpoint stanford-crfm/alias-gpt2-small-x21/750 not found on AWS. Retrieving from HuggingFace.\n"
     ]
    },
    {
     "data": {
      "application/vnd.jupyter.widget-view+json": {
       "model_id": "25b2bf87968c4a07bf71e36568e178c4",
       "version_major": 2,
       "version_minor": 0
      },
      "text/plain": [
       "Downloading pytorch_model.bin:   0%|          | 0.00/261M [00:00<?, ?B/s]"
      ]
     },
     "metadata": {},
     "output_type": "display_data"
    },
    {
     "name": "stdout",
     "output_type": "stream",
     "text": [
      "Saving HF model to disk...\n",
      "Uploading HF model to AWS...\n",
      "Uploading ../checkpoints/stanford-crfm/alias-gpt2-small-x21/750/config.json...\n",
      "Uploading ../checkpoints/stanford-crfm/alias-gpt2-small-x21/750/generation_config.json...\n",
      "Uploading ../checkpoints/stanford-crfm/alias-gpt2-small-x21/750/pytorch_model.bin...\n"
     ]
    },
    {
     "name": "stderr",
     "output_type": "stream",
     "text": [
      "Retrieving alias checkpoints:   4%|▍         | 23/608 [08:40<4:13:56, 26.04s/it]"
     ]
    },
    {
     "name": "stdout",
     "output_type": "stream",
     "text": [
      "Done.\n",
      "Checkpoint stanford-crfm/alias-gpt2-small-x21/800 not found on AWS. Retrieving from HuggingFace.\n"
     ]
    },
    {
     "data": {
      "application/vnd.jupyter.widget-view+json": {
       "model_id": "30783561a2a04793992508cec7a38f35",
       "version_major": 2,
       "version_minor": 0
      },
      "text/plain": [
       "Downloading pytorch_model.bin:   0%|          | 0.00/261M [00:00<?, ?B/s]"
      ]
     },
     "metadata": {},
     "output_type": "display_data"
    },
    {
     "name": "stdout",
     "output_type": "stream",
     "text": [
      "Saving HF model to disk...\n",
      "Uploading HF model to AWS...\n",
      "Uploading ../checkpoints/stanford-crfm/alias-gpt2-small-x21/800/config.json...\n",
      "Uploading ../checkpoints/stanford-crfm/alias-gpt2-small-x21/800/generation_config.json...\n",
      "Uploading ../checkpoints/stanford-crfm/alias-gpt2-small-x21/800/pytorch_model.bin...\n"
     ]
    },
    {
     "name": "stderr",
     "output_type": "stream",
     "text": [
      "Retrieving alias checkpoints:   4%|▍         | 24/608 [09:07<4:15:52, 26.29s/it]"
     ]
    },
    {
     "name": "stdout",
     "output_type": "stream",
     "text": [
      "Done.\n",
      "Checkpoint stanford-crfm/alias-gpt2-small-x21/850 not found on AWS. Retrieving from HuggingFace.\n"
     ]
    },
    {
     "data": {
      "application/vnd.jupyter.widget-view+json": {
       "model_id": "2cc3760e68874be7bda67794822a079d",
       "version_major": 2,
       "version_minor": 0
      },
      "text/plain": [
       "Downloading pytorch_model.bin:   0%|          | 0.00/261M [00:00<?, ?B/s]"
      ]
     },
     "metadata": {},
     "output_type": "display_data"
    },
    {
     "name": "stdout",
     "output_type": "stream",
     "text": [
      "Saving HF model to disk...\n",
      "Uploading HF model to AWS...\n",
      "Uploading ../checkpoints/stanford-crfm/alias-gpt2-small-x21/850/config.json...\n",
      "Uploading ../checkpoints/stanford-crfm/alias-gpt2-small-x21/850/generation_config.json...\n",
      "Uploading ../checkpoints/stanford-crfm/alias-gpt2-small-x21/850/pytorch_model.bin...\n"
     ]
    },
    {
     "name": "stderr",
     "output_type": "stream",
     "text": [
      "Retrieving alias checkpoints:   4%|▍         | 25/608 [09:35<4:20:22, 26.80s/it]"
     ]
    },
    {
     "name": "stdout",
     "output_type": "stream",
     "text": [
      "Done.\n",
      "Checkpoint stanford-crfm/alias-gpt2-small-x21/900 not found on AWS. Retrieving from HuggingFace.\n"
     ]
    },
    {
     "data": {
      "application/vnd.jupyter.widget-view+json": {
       "model_id": "4b3a763a11684b528ea15acd352d79fb",
       "version_major": 2,
       "version_minor": 0
      },
      "text/plain": [
       "Downloading pytorch_model.bin:   0%|          | 0.00/261M [00:00<?, ?B/s]"
      ]
     },
     "metadata": {},
     "output_type": "display_data"
    },
    {
     "name": "stdout",
     "output_type": "stream",
     "text": [
      "Saving HF model to disk...\n",
      "Uploading HF model to AWS...\n",
      "Uploading ../checkpoints/stanford-crfm/alias-gpt2-small-x21/900/config.json...\n",
      "Uploading ../checkpoints/stanford-crfm/alias-gpt2-small-x21/900/generation_config.json...\n",
      "Uploading ../checkpoints/stanford-crfm/alias-gpt2-small-x21/900/pytorch_model.bin...\n"
     ]
    },
    {
     "name": "stderr",
     "output_type": "stream",
     "text": [
      "Retrieving alias checkpoints:   4%|▍         | 26/608 [10:01<4:18:22, 26.64s/it]"
     ]
    },
    {
     "name": "stdout",
     "output_type": "stream",
     "text": [
      "Done.\n",
      "Checkpoint stanford-crfm/alias-gpt2-small-x21/950 not found on AWS. Retrieving from HuggingFace.\n"
     ]
    },
    {
     "data": {
      "application/vnd.jupyter.widget-view+json": {
       "model_id": "1f0d4dfa2cd8499a9938e189712b84c5",
       "version_major": 2,
       "version_minor": 0
      },
      "text/plain": [
       "Downloading pytorch_model.bin:   0%|          | 0.00/261M [00:00<?, ?B/s]"
      ]
     },
     "metadata": {},
     "output_type": "display_data"
    },
    {
     "name": "stdout",
     "output_type": "stream",
     "text": [
      "Saving HF model to disk...\n",
      "Uploading HF model to AWS...\n",
      "Uploading ../checkpoints/stanford-crfm/alias-gpt2-small-x21/950/config.json...\n",
      "Uploading ../checkpoints/stanford-crfm/alias-gpt2-small-x21/950/generation_config.json...\n",
      "Uploading ../checkpoints/stanford-crfm/alias-gpt2-small-x21/950/pytorch_model.bin...\n"
     ]
    },
    {
     "name": "stderr",
     "output_type": "stream",
     "text": [
      "Retrieving alias checkpoints:   4%|▍         | 27/608 [10:29<4:20:43, 26.92s/it]"
     ]
    },
    {
     "name": "stdout",
     "output_type": "stream",
     "text": [
      "Done.\n",
      "Checkpoint stanford-crfm/alias-gpt2-small-x21/1000 not found on AWS. Retrieving from HuggingFace.\n"
     ]
    },
    {
     "data": {
      "application/vnd.jupyter.widget-view+json": {
       "model_id": "fac341c9f0174ca9958d5f824d5c3ad9",
       "version_major": 2,
       "version_minor": 0
      },
      "text/plain": [
       "Downloading pytorch_model.bin:   0%|          | 0.00/261M [00:00<?, ?B/s]"
      ]
     },
     "metadata": {},
     "output_type": "display_data"
    },
    {
     "name": "stdout",
     "output_type": "stream",
     "text": [
      "Saving HF model to disk...\n",
      "Uploading HF model to AWS...\n",
      "Uploading ../checkpoints/stanford-crfm/alias-gpt2-small-x21/1000/config.json...\n",
      "Uploading ../checkpoints/stanford-crfm/alias-gpt2-small-x21/1000/generation_config.json...\n",
      "Uploading ../checkpoints/stanford-crfm/alias-gpt2-small-x21/1000/pytorch_model.bin...\n"
     ]
    },
    {
     "name": "stderr",
     "output_type": "stream",
     "text": [
      "Retrieving alias checkpoints:   5%|▍         | 28/608 [10:46<3:54:00, 24.21s/it]"
     ]
    },
    {
     "name": "stdout",
     "output_type": "stream",
     "text": [
      "Done.\n",
      "Checkpoint stanford-crfm/alias-gpt2-small-x21/1050 not found on AWS. Retrieving from HuggingFace.\n"
     ]
    },
    {
     "data": {
      "application/vnd.jupyter.widget-view+json": {
       "model_id": "cc06fa84a8b7421c92cfe8f040ae6358",
       "version_major": 2,
       "version_minor": 0
      },
      "text/plain": [
       "Downloading pytorch_model.bin:   0%|          | 0.00/261M [00:00<?, ?B/s]"
      ]
     },
     "metadata": {},
     "output_type": "display_data"
    },
    {
     "name": "stdout",
     "output_type": "stream",
     "text": [
      "Saving HF model to disk...\n",
      "Uploading HF model to AWS...\n",
      "Uploading ../checkpoints/stanford-crfm/alias-gpt2-small-x21/1050/config.json...\n",
      "Uploading ../checkpoints/stanford-crfm/alias-gpt2-small-x21/1050/generation_config.json...\n",
      "Uploading ../checkpoints/stanford-crfm/alias-gpt2-small-x21/1050/pytorch_model.bin...\n"
     ]
    },
    {
     "name": "stderr",
     "output_type": "stream",
     "text": [
      "Retrieving alias checkpoints:   5%|▍         | 29/608 [11:07<3:43:29, 23.16s/it]"
     ]
    },
    {
     "name": "stdout",
     "output_type": "stream",
     "text": [
      "Done.\n",
      "Checkpoint stanford-crfm/alias-gpt2-small-x21/1100 not found on AWS. Retrieving from HuggingFace.\n"
     ]
    },
    {
     "data": {
      "application/vnd.jupyter.widget-view+json": {
       "model_id": "5b1f37cef912400d8ad1e687e7f8b829",
       "version_major": 2,
       "version_minor": 0
      },
      "text/plain": [
       "Downloading pytorch_model.bin:   0%|          | 0.00/261M [00:00<?, ?B/s]"
      ]
     },
     "metadata": {},
     "output_type": "display_data"
    },
    {
     "name": "stdout",
     "output_type": "stream",
     "text": [
      "Saving HF model to disk...\n",
      "Uploading HF model to AWS...\n",
      "Uploading ../checkpoints/stanford-crfm/alias-gpt2-small-x21/1100/config.json...\n",
      "Uploading ../checkpoints/stanford-crfm/alias-gpt2-small-x21/1100/generation_config.json...\n",
      "Uploading ../checkpoints/stanford-crfm/alias-gpt2-small-x21/1100/pytorch_model.bin...\n"
     ]
    },
    {
     "name": "stderr",
     "output_type": "stream",
     "text": [
      "Retrieving alias checkpoints:   5%|▍         | 30/608 [11:34<3:53:58, 24.29s/it]"
     ]
    },
    {
     "name": "stdout",
     "output_type": "stream",
     "text": [
      "Done.\n",
      "Checkpoint stanford-crfm/alias-gpt2-small-x21/1150 not found on AWS. Retrieving from HuggingFace.\n"
     ]
    },
    {
     "data": {
      "application/vnd.jupyter.widget-view+json": {
       "model_id": "fe859ec0e4c44ee797f9f9e564ceb0fd",
       "version_major": 2,
       "version_minor": 0
      },
      "text/plain": [
       "Downloading pytorch_model.bin:   0%|          | 0.00/261M [00:00<?, ?B/s]"
      ]
     },
     "metadata": {},
     "output_type": "display_data"
    },
    {
     "name": "stdout",
     "output_type": "stream",
     "text": [
      "Saving HF model to disk...\n",
      "Uploading HF model to AWS...\n",
      "Uploading ../checkpoints/stanford-crfm/alias-gpt2-small-x21/1150/config.json...\n",
      "Uploading ../checkpoints/stanford-crfm/alias-gpt2-small-x21/1150/generation_config.json...\n",
      "Uploading ../checkpoints/stanford-crfm/alias-gpt2-small-x21/1150/pytorch_model.bin...\n"
     ]
    },
    {
     "name": "stderr",
     "output_type": "stream",
     "text": [
      "Retrieving alias checkpoints:   5%|▌         | 31/608 [12:02<4:04:31, 25.43s/it]"
     ]
    },
    {
     "name": "stdout",
     "output_type": "stream",
     "text": [
      "Done.\n",
      "Checkpoint stanford-crfm/alias-gpt2-small-x21/1200 not found on AWS. Retrieving from HuggingFace.\n"
     ]
    },
    {
     "data": {
      "application/vnd.jupyter.widget-view+json": {
       "model_id": "70cb5db3a4f842f39c4520d7efd99e86",
       "version_major": 2,
       "version_minor": 0
      },
      "text/plain": [
       "Downloading pytorch_model.bin:   0%|          | 0.00/261M [00:00<?, ?B/s]"
      ]
     },
     "metadata": {},
     "output_type": "display_data"
    },
    {
     "name": "stdout",
     "output_type": "stream",
     "text": [
      "Saving HF model to disk...\n",
      "Uploading HF model to AWS...\n",
      "Uploading ../checkpoints/stanford-crfm/alias-gpt2-small-x21/1200/config.json...\n",
      "Uploading ../checkpoints/stanford-crfm/alias-gpt2-small-x21/1200/generation_config.json...\n",
      "Uploading ../checkpoints/stanford-crfm/alias-gpt2-small-x21/1200/pytorch_model.bin...\n"
     ]
    },
    {
     "name": "stderr",
     "output_type": "stream",
     "text": [
      "Retrieving alias checkpoints:   5%|▌         | 32/608 [12:24<3:53:01, 24.27s/it]"
     ]
    },
    {
     "name": "stdout",
     "output_type": "stream",
     "text": [
      "Done.\n",
      "Checkpoint stanford-crfm/alias-gpt2-small-x21/1250 not found on AWS. Retrieving from HuggingFace.\n"
     ]
    },
    {
     "data": {
      "application/vnd.jupyter.widget-view+json": {
       "model_id": "b880ade39e4540a0803b1aae07947763",
       "version_major": 2,
       "version_minor": 0
      },
      "text/plain": [
       "Downloading pytorch_model.bin:   0%|          | 0.00/261M [00:00<?, ?B/s]"
      ]
     },
     "metadata": {},
     "output_type": "display_data"
    },
    {
     "name": "stdout",
     "output_type": "stream",
     "text": [
      "Saving HF model to disk...\n",
      "Uploading HF model to AWS...\n",
      "Uploading ../checkpoints/stanford-crfm/alias-gpt2-small-x21/1250/config.json...\n",
      "Uploading ../checkpoints/stanford-crfm/alias-gpt2-small-x21/1250/generation_config.json...\n",
      "Uploading ../checkpoints/stanford-crfm/alias-gpt2-small-x21/1250/pytorch_model.bin...\n"
     ]
    },
    {
     "name": "stderr",
     "output_type": "stream",
     "text": [
      "Retrieving alias checkpoints:   5%|▌         | 33/608 [12:52<4:05:21, 25.60s/it]"
     ]
    },
    {
     "name": "stdout",
     "output_type": "stream",
     "text": [
      "Done.\n",
      "Checkpoint stanford-crfm/alias-gpt2-small-x21/1300 not found on AWS. Retrieving from HuggingFace.\n"
     ]
    },
    {
     "data": {
      "application/vnd.jupyter.widget-view+json": {
       "model_id": "bd2b01fa040e453ab4b8aa36e7a12d52",
       "version_major": 2,
       "version_minor": 0
      },
      "text/plain": [
       "Downloading pytorch_model.bin:   0%|          | 0.00/261M [00:00<?, ?B/s]"
      ]
     },
     "metadata": {},
     "output_type": "display_data"
    },
    {
     "name": "stdout",
     "output_type": "stream",
     "text": [
      "Saving HF model to disk...\n",
      "Uploading HF model to AWS...\n",
      "Uploading ../checkpoints/stanford-crfm/alias-gpt2-small-x21/1300/config.json...\n",
      "Uploading ../checkpoints/stanford-crfm/alias-gpt2-small-x21/1300/generation_config.json...\n",
      "Uploading ../checkpoints/stanford-crfm/alias-gpt2-small-x21/1300/pytorch_model.bin...\n"
     ]
    },
    {
     "name": "stderr",
     "output_type": "stream",
     "text": [
      "Retrieving alias checkpoints:   6%|▌         | 34/608 [13:20<4:11:30, 26.29s/it]"
     ]
    },
    {
     "name": "stdout",
     "output_type": "stream",
     "text": [
      "Done.\n",
      "Checkpoint stanford-crfm/alias-gpt2-small-x21/1350 not found on AWS. Retrieving from HuggingFace.\n"
     ]
    },
    {
     "data": {
      "application/vnd.jupyter.widget-view+json": {
       "model_id": "b79dadd594e8499487b6913011942c49",
       "version_major": 2,
       "version_minor": 0
      },
      "text/plain": [
       "Downloading pytorch_model.bin:   0%|          | 0.00/261M [00:00<?, ?B/s]"
      ]
     },
     "metadata": {},
     "output_type": "display_data"
    },
    {
     "name": "stdout",
     "output_type": "stream",
     "text": [
      "Saving HF model to disk...\n",
      "Uploading HF model to AWS...\n",
      "Uploading ../checkpoints/stanford-crfm/alias-gpt2-small-x21/1350/config.json...\n",
      "Uploading ../checkpoints/stanford-crfm/alias-gpt2-small-x21/1350/generation_config.json...\n",
      "Uploading ../checkpoints/stanford-crfm/alias-gpt2-small-x21/1350/pytorch_model.bin...\n"
     ]
    },
    {
     "name": "stderr",
     "output_type": "stream",
     "text": [
      "Retrieving alias checkpoints:   6%|▌         | 35/608 [13:42<3:59:02, 25.03s/it]"
     ]
    },
    {
     "name": "stdout",
     "output_type": "stream",
     "text": [
      "Done.\n",
      "Checkpoint stanford-crfm/alias-gpt2-small-x21/1400 not found on AWS. Retrieving from HuggingFace.\n"
     ]
    },
    {
     "data": {
      "application/vnd.jupyter.widget-view+json": {
       "model_id": "5832b0036cce4e2ab22da7b6be22f355",
       "version_major": 2,
       "version_minor": 0
      },
      "text/plain": [
       "Downloading pytorch_model.bin:   0%|          | 0.00/261M [00:00<?, ?B/s]"
      ]
     },
     "metadata": {},
     "output_type": "display_data"
    },
    {
     "name": "stdout",
     "output_type": "stream",
     "text": [
      "Saving HF model to disk...\n",
      "Uploading HF model to AWS...\n",
      "Uploading ../checkpoints/stanford-crfm/alias-gpt2-small-x21/1400/config.json...\n",
      "Uploading ../checkpoints/stanford-crfm/alias-gpt2-small-x21/1400/generation_config.json...\n",
      "Uploading ../checkpoints/stanford-crfm/alias-gpt2-small-x21/1400/pytorch_model.bin...\n"
     ]
    },
    {
     "name": "stderr",
     "output_type": "stream",
     "text": [
      "Retrieving alias checkpoints:   6%|▌         | 36/608 [14:08<4:00:59, 25.28s/it]"
     ]
    },
    {
     "name": "stdout",
     "output_type": "stream",
     "text": [
      "Done.\n",
      "Checkpoint stanford-crfm/alias-gpt2-small-x21/1450 not found on AWS. Retrieving from HuggingFace.\n"
     ]
    },
    {
     "data": {
      "application/vnd.jupyter.widget-view+json": {
       "model_id": "943389eee12b4b80b0ec1e8d84047fda",
       "version_major": 2,
       "version_minor": 0
      },
      "text/plain": [
       "Downloading pytorch_model.bin:   0%|          | 0.00/261M [00:00<?, ?B/s]"
      ]
     },
     "metadata": {},
     "output_type": "display_data"
    },
    {
     "name": "stdout",
     "output_type": "stream",
     "text": [
      "Saving HF model to disk...\n",
      "Uploading HF model to AWS...\n",
      "Uploading ../checkpoints/stanford-crfm/alias-gpt2-small-x21/1450/config.json...\n",
      "Uploading ../checkpoints/stanford-crfm/alias-gpt2-small-x21/1450/generation_config.json...\n",
      "Uploading ../checkpoints/stanford-crfm/alias-gpt2-small-x21/1450/pytorch_model.bin...\n"
     ]
    },
    {
     "name": "stderr",
     "output_type": "stream",
     "text": [
      "Retrieving alias checkpoints:   6%|▌         | 37/608 [14:33<3:58:24, 25.05s/it]"
     ]
    },
    {
     "name": "stdout",
     "output_type": "stream",
     "text": [
      "Done.\n",
      "Checkpoint stanford-crfm/alias-gpt2-small-x21/1500 not found on AWS. Retrieving from HuggingFace.\n"
     ]
    },
    {
     "data": {
      "application/vnd.jupyter.widget-view+json": {
       "model_id": "7b0552b618bf4a59ade336c969c1d387",
       "version_major": 2,
       "version_minor": 0
      },
      "text/plain": [
       "Downloading pytorch_model.bin:   0%|          | 0.00/261M [00:00<?, ?B/s]"
      ]
     },
     "metadata": {},
     "output_type": "display_data"
    },
    {
     "name": "stdout",
     "output_type": "stream",
     "text": [
      "Saving HF model to disk...\n",
      "Uploading HF model to AWS...\n",
      "Uploading ../checkpoints/stanford-crfm/alias-gpt2-small-x21/1500/config.json...\n",
      "Uploading ../checkpoints/stanford-crfm/alias-gpt2-small-x21/1500/generation_config.json...\n",
      "Uploading ../checkpoints/stanford-crfm/alias-gpt2-small-x21/1500/pytorch_model.bin...\n"
     ]
    },
    {
     "name": "stderr",
     "output_type": "stream",
     "text": [
      "Retrieving alias checkpoints:   6%|▋         | 38/608 [14:56<3:52:04, 24.43s/it]"
     ]
    },
    {
     "name": "stdout",
     "output_type": "stream",
     "text": [
      "Done.\n",
      "Checkpoint stanford-crfm/alias-gpt2-small-x21/1550 not found on AWS. Retrieving from HuggingFace.\n"
     ]
    },
    {
     "data": {
      "application/vnd.jupyter.widget-view+json": {
       "model_id": "3cc663192d4b4151a26e6d76a160b542",
       "version_major": 2,
       "version_minor": 0
      },
      "text/plain": [
       "Downloading pytorch_model.bin:   0%|          | 0.00/261M [00:00<?, ?B/s]"
      ]
     },
     "metadata": {},
     "output_type": "display_data"
    },
    {
     "name": "stdout",
     "output_type": "stream",
     "text": [
      "Saving HF model to disk...\n",
      "Uploading HF model to AWS...\n",
      "Uploading ../checkpoints/stanford-crfm/alias-gpt2-small-x21/1550/config.json...\n",
      "Uploading ../checkpoints/stanford-crfm/alias-gpt2-small-x21/1550/generation_config.json...\n",
      "Uploading ../checkpoints/stanford-crfm/alias-gpt2-small-x21/1550/pytorch_model.bin...\n"
     ]
    },
    {
     "name": "stderr",
     "output_type": "stream",
     "text": [
      "Retrieving alias checkpoints:   6%|▋         | 39/608 [15:14<3:35:27, 22.72s/it]"
     ]
    },
    {
     "name": "stdout",
     "output_type": "stream",
     "text": [
      "Done.\n",
      "Checkpoint stanford-crfm/alias-gpt2-small-x21/1600 not found on AWS. Retrieving from HuggingFace.\n"
     ]
    },
    {
     "data": {
      "application/vnd.jupyter.widget-view+json": {
       "model_id": "8d178c47adc34e819d307ef93642aaf8",
       "version_major": 2,
       "version_minor": 0
      },
      "text/plain": [
       "Downloading pytorch_model.bin:   0%|          | 0.00/261M [00:00<?, ?B/s]"
      ]
     },
     "metadata": {},
     "output_type": "display_data"
    },
    {
     "name": "stdout",
     "output_type": "stream",
     "text": [
      "Saving HF model to disk...\n",
      "Uploading HF model to AWS...\n",
      "Uploading ../checkpoints/stanford-crfm/alias-gpt2-small-x21/1600/config.json...\n",
      "Uploading ../checkpoints/stanford-crfm/alias-gpt2-small-x21/1600/generation_config.json...\n",
      "Uploading ../checkpoints/stanford-crfm/alias-gpt2-small-x21/1600/pytorch_model.bin...\n"
     ]
    },
    {
     "name": "stderr",
     "output_type": "stream",
     "text": [
      "Retrieving alias checkpoints:   7%|▋         | 40/608 [15:36<3:32:50, 22.48s/it]"
     ]
    },
    {
     "name": "stdout",
     "output_type": "stream",
     "text": [
      "Done.\n",
      "Checkpoint stanford-crfm/alias-gpt2-small-x21/1650 not found on AWS. Retrieving from HuggingFace.\n"
     ]
    },
    {
     "data": {
      "application/vnd.jupyter.widget-view+json": {
       "model_id": "61fed61ec6b54b7c87c49b04f182d382",
       "version_major": 2,
       "version_minor": 0
      },
      "text/plain": [
       "Downloading pytorch_model.bin:   0%|          | 0.00/261M [00:00<?, ?B/s]"
      ]
     },
     "metadata": {},
     "output_type": "display_data"
    },
    {
     "name": "stdout",
     "output_type": "stream",
     "text": [
      "Saving HF model to disk...\n",
      "Uploading HF model to AWS...\n",
      "Uploading ../checkpoints/stanford-crfm/alias-gpt2-small-x21/1650/config.json...\n",
      "Uploading ../checkpoints/stanford-crfm/alias-gpt2-small-x21/1650/generation_config.json...\n",
      "Uploading ../checkpoints/stanford-crfm/alias-gpt2-small-x21/1650/pytorch_model.bin...\n"
     ]
    },
    {
     "name": "stderr",
     "output_type": "stream",
     "text": [
      "Retrieving alias checkpoints:   7%|▋         | 41/608 [16:08<3:58:19, 25.22s/it]"
     ]
    },
    {
     "name": "stdout",
     "output_type": "stream",
     "text": [
      "Done.\n",
      "Checkpoint stanford-crfm/alias-gpt2-small-x21/1700 not found on AWS. Retrieving from HuggingFace.\n"
     ]
    },
    {
     "data": {
      "application/vnd.jupyter.widget-view+json": {
       "model_id": "2d6ba42fb3d045dfa45211d7a8e5afec",
       "version_major": 2,
       "version_minor": 0
      },
      "text/plain": [
       "Downloading pytorch_model.bin:   0%|          | 0.00/261M [00:00<?, ?B/s]"
      ]
     },
     "metadata": {},
     "output_type": "display_data"
    },
    {
     "name": "stdout",
     "output_type": "stream",
     "text": [
      "Saving HF model to disk...\n",
      "Uploading HF model to AWS...\n",
      "Uploading ../checkpoints/stanford-crfm/alias-gpt2-small-x21/1700/config.json...\n",
      "Uploading ../checkpoints/stanford-crfm/alias-gpt2-small-x21/1700/generation_config.json...\n",
      "Uploading ../checkpoints/stanford-crfm/alias-gpt2-small-x21/1700/pytorch_model.bin...\n"
     ]
    },
    {
     "name": "stderr",
     "output_type": "stream",
     "text": [
      "Retrieving alias checkpoints:   7%|▋         | 42/608 [16:38<4:11:39, 26.68s/it]"
     ]
    },
    {
     "name": "stdout",
     "output_type": "stream",
     "text": [
      "Done.\n",
      "Checkpoint stanford-crfm/alias-gpt2-small-x21/1750 not found on AWS. Retrieving from HuggingFace.\n"
     ]
    },
    {
     "data": {
      "application/vnd.jupyter.widget-view+json": {
       "model_id": "f5e0543ee98543cf81c704b57bc1fa77",
       "version_major": 2,
       "version_minor": 0
      },
      "text/plain": [
       "Downloading pytorch_model.bin:   0%|          | 0.00/261M [00:00<?, ?B/s]"
      ]
     },
     "metadata": {},
     "output_type": "display_data"
    },
    {
     "name": "stdout",
     "output_type": "stream",
     "text": [
      "Saving HF model to disk...\n",
      "Uploading HF model to AWS...\n",
      "Uploading ../checkpoints/stanford-crfm/alias-gpt2-small-x21/1750/config.json...\n",
      "Uploading ../checkpoints/stanford-crfm/alias-gpt2-small-x21/1750/generation_config.json...\n",
      "Uploading ../checkpoints/stanford-crfm/alias-gpt2-small-x21/1750/pytorch_model.bin...\n"
     ]
    },
    {
     "name": "stderr",
     "output_type": "stream",
     "text": [
      "Retrieving alias checkpoints:   7%|▋         | 43/608 [17:03<4:04:54, 26.01s/it]"
     ]
    },
    {
     "name": "stdout",
     "output_type": "stream",
     "text": [
      "Done.\n",
      "Checkpoint stanford-crfm/alias-gpt2-small-x21/1800 not found on AWS. Retrieving from HuggingFace.\n"
     ]
    },
    {
     "data": {
      "application/vnd.jupyter.widget-view+json": {
       "model_id": "9e3fdc2c3c574b08a450f2c395cb91aa",
       "version_major": 2,
       "version_minor": 0
      },
      "text/plain": [
       "Downloading pytorch_model.bin:   0%|          | 0.00/261M [00:00<?, ?B/s]"
      ]
     },
     "metadata": {},
     "output_type": "display_data"
    },
    {
     "name": "stdout",
     "output_type": "stream",
     "text": [
      "Saving HF model to disk...\n",
      "Uploading HF model to AWS...\n",
      "Uploading ../checkpoints/stanford-crfm/alias-gpt2-small-x21/1800/config.json...\n",
      "Uploading ../checkpoints/stanford-crfm/alias-gpt2-small-x21/1800/generation_config.json...\n",
      "Uploading ../checkpoints/stanford-crfm/alias-gpt2-small-x21/1800/pytorch_model.bin...\n"
     ]
    },
    {
     "name": "stderr",
     "output_type": "stream",
     "text": [
      "Retrieving alias checkpoints:   7%|▋         | 44/608 [17:30<4:08:09, 26.40s/it]"
     ]
    },
    {
     "name": "stdout",
     "output_type": "stream",
     "text": [
      "Done.\n",
      "Checkpoint stanford-crfm/alias-gpt2-small-x21/1850 not found on AWS. Retrieving from HuggingFace.\n"
     ]
    },
    {
     "data": {
      "application/vnd.jupyter.widget-view+json": {
       "model_id": "ce4a72ef5baf498a834eeab8b4a826ca",
       "version_major": 2,
       "version_minor": 0
      },
      "text/plain": [
       "Downloading pytorch_model.bin:   0%|          | 0.00/261M [00:00<?, ?B/s]"
      ]
     },
     "metadata": {},
     "output_type": "display_data"
    },
    {
     "name": "stdout",
     "output_type": "stream",
     "text": [
      "Saving HF model to disk...\n",
      "Uploading HF model to AWS...\n",
      "Uploading ../checkpoints/stanford-crfm/alias-gpt2-small-x21/1850/config.json...\n",
      "Uploading ../checkpoints/stanford-crfm/alias-gpt2-small-x21/1850/generation_config.json...\n",
      "Uploading ../checkpoints/stanford-crfm/alias-gpt2-small-x21/1850/pytorch_model.bin...\n"
     ]
    },
    {
     "name": "stderr",
     "output_type": "stream",
     "text": [
      "Retrieving alias checkpoints:   7%|▋         | 45/608 [17:48<3:45:31, 24.04s/it]"
     ]
    },
    {
     "name": "stdout",
     "output_type": "stream",
     "text": [
      "Done.\n",
      "Checkpoint stanford-crfm/alias-gpt2-small-x21/1900 not found on AWS. Retrieving from HuggingFace.\n"
     ]
    },
    {
     "data": {
      "application/vnd.jupyter.widget-view+json": {
       "model_id": "223e813cb29f46989f20df09f0902233",
       "version_major": 2,
       "version_minor": 0
      },
      "text/plain": [
       "Downloading pytorch_model.bin:   0%|          | 0.00/261M [00:00<?, ?B/s]"
      ]
     },
     "metadata": {},
     "output_type": "display_data"
    },
    {
     "name": "stdout",
     "output_type": "stream",
     "text": [
      "Saving HF model to disk...\n",
      "Uploading HF model to AWS...\n",
      "Uploading ../checkpoints/stanford-crfm/alias-gpt2-small-x21/1900/config.json...\n",
      "Uploading ../checkpoints/stanford-crfm/alias-gpt2-small-x21/1900/generation_config.json...\n",
      "Uploading ../checkpoints/stanford-crfm/alias-gpt2-small-x21/1900/pytorch_model.bin...\n"
     ]
    },
    {
     "name": "stderr",
     "output_type": "stream",
     "text": [
      "Retrieving alias checkpoints:   8%|▊         | 46/608 [18:13<3:46:54, 24.23s/it]"
     ]
    },
    {
     "name": "stdout",
     "output_type": "stream",
     "text": [
      "Done.\n",
      "Checkpoint stanford-crfm/alias-gpt2-small-x21/1950 not found on AWS. Retrieving from HuggingFace.\n"
     ]
    },
    {
     "data": {
      "application/vnd.jupyter.widget-view+json": {
       "model_id": "61f8b4c9ecd047f39023717b39ea3af2",
       "version_major": 2,
       "version_minor": 0
      },
      "text/plain": [
       "Downloading pytorch_model.bin:   0%|          | 0.00/261M [00:00<?, ?B/s]"
      ]
     },
     "metadata": {},
     "output_type": "display_data"
    },
    {
     "name": "stdout",
     "output_type": "stream",
     "text": [
      "Saving HF model to disk...\n",
      "Uploading HF model to AWS...\n",
      "Uploading ../checkpoints/stanford-crfm/alias-gpt2-small-x21/1950/config.json...\n",
      "Uploading ../checkpoints/stanford-crfm/alias-gpt2-small-x21/1950/generation_config.json...\n",
      "Uploading ../checkpoints/stanford-crfm/alias-gpt2-small-x21/1950/pytorch_model.bin...\n"
     ]
    },
    {
     "name": "stderr",
     "output_type": "stream",
     "text": [
      "Retrieving alias checkpoints:   8%|▊         | 47/608 [18:31<3:29:15, 22.38s/it]"
     ]
    },
    {
     "name": "stdout",
     "output_type": "stream",
     "text": [
      "Done.\n",
      "Checkpoint stanford-crfm/alias-gpt2-small-x21/2000 not found on AWS. Retrieving from HuggingFace.\n"
     ]
    },
    {
     "data": {
      "application/vnd.jupyter.widget-view+json": {
       "model_id": "131708c3a1134394811765c319396df9",
       "version_major": 2,
       "version_minor": 0
      },
      "text/plain": [
       "Downloading pytorch_model.bin:   0%|          | 0.00/261M [00:00<?, ?B/s]"
      ]
     },
     "metadata": {},
     "output_type": "display_data"
    },
    {
     "name": "stdout",
     "output_type": "stream",
     "text": [
      "Saving HF model to disk...\n",
      "Uploading HF model to AWS...\n",
      "Uploading ../checkpoints/stanford-crfm/alias-gpt2-small-x21/2000/config.json...\n",
      "Uploading ../checkpoints/stanford-crfm/alias-gpt2-small-x21/2000/generation_config.json...\n",
      "Uploading ../checkpoints/stanford-crfm/alias-gpt2-small-x21/2000/pytorch_model.bin...\n"
     ]
    },
    {
     "name": "stderr",
     "output_type": "stream",
     "text": [
      "Retrieving alias checkpoints:   8%|▊         | 48/608 [18:58<3:42:48, 23.87s/it]"
     ]
    },
    {
     "name": "stdout",
     "output_type": "stream",
     "text": [
      "Done.\n",
      "Checkpoint stanford-crfm/alias-gpt2-small-x21/2100 not found on AWS. Retrieving from HuggingFace.\n"
     ]
    },
    {
     "data": {
      "application/vnd.jupyter.widget-view+json": {
       "model_id": "cc594abf773245649432255607a1e6b1",
       "version_major": 2,
       "version_minor": 0
      },
      "text/plain": [
       "Downloading pytorch_model.bin:   0%|          | 0.00/261M [00:00<?, ?B/s]"
      ]
     },
     "metadata": {},
     "output_type": "display_data"
    },
    {
     "name": "stdout",
     "output_type": "stream",
     "text": [
      "Saving HF model to disk...\n",
      "Uploading HF model to AWS...\n",
      "Uploading ../checkpoints/stanford-crfm/alias-gpt2-small-x21/2100/config.json...\n",
      "Uploading ../checkpoints/stanford-crfm/alias-gpt2-small-x21/2100/generation_config.json...\n",
      "Uploading ../checkpoints/stanford-crfm/alias-gpt2-small-x21/2100/pytorch_model.bin...\n"
     ]
    },
    {
     "name": "stderr",
     "output_type": "stream",
     "text": [
      "Retrieving alias checkpoints:   8%|▊         | 49/608 [19:24<3:46:03, 24.26s/it]"
     ]
    },
    {
     "name": "stdout",
     "output_type": "stream",
     "text": [
      "Done.\n",
      "Checkpoint stanford-crfm/alias-gpt2-small-x21/2200 not found on AWS. Retrieving from HuggingFace.\n"
     ]
    },
    {
     "data": {
      "application/vnd.jupyter.widget-view+json": {
       "model_id": "afd90a582db547b5acdd1ef053b687b4",
       "version_major": 2,
       "version_minor": 0
      },
      "text/plain": [
       "Downloading pytorch_model.bin:   0%|          | 0.00/261M [00:00<?, ?B/s]"
      ]
     },
     "metadata": {},
     "output_type": "display_data"
    },
    {
     "name": "stdout",
     "output_type": "stream",
     "text": [
      "Saving HF model to disk...\n",
      "Uploading HF model to AWS...\n",
      "Uploading ../checkpoints/stanford-crfm/alias-gpt2-small-x21/2200/config.json...\n",
      "Uploading ../checkpoints/stanford-crfm/alias-gpt2-small-x21/2200/generation_config.json...\n",
      "Uploading ../checkpoints/stanford-crfm/alias-gpt2-small-x21/2200/pytorch_model.bin...\n"
     ]
    },
    {
     "name": "stderr",
     "output_type": "stream",
     "text": [
      "Retrieving alias checkpoints:   8%|▊         | 50/608 [19:49<3:50:02, 24.74s/it]"
     ]
    },
    {
     "name": "stdout",
     "output_type": "stream",
     "text": [
      "Done.\n",
      "Checkpoint stanford-crfm/alias-gpt2-small-x21/2300 not found on AWS. Retrieving from HuggingFace.\n"
     ]
    },
    {
     "data": {
      "application/vnd.jupyter.widget-view+json": {
       "model_id": "3e59c060f58242feb2c036c5554ff2ac",
       "version_major": 2,
       "version_minor": 0
      },
      "text/plain": [
       "Downloading pytorch_model.bin:   0%|          | 0.00/261M [00:00<?, ?B/s]"
      ]
     },
     "metadata": {},
     "output_type": "display_data"
    },
    {
     "name": "stdout",
     "output_type": "stream",
     "text": [
      "Saving HF model to disk...\n",
      "Uploading HF model to AWS...\n",
      "Uploading ../checkpoints/stanford-crfm/alias-gpt2-small-x21/2300/config.json...\n",
      "Uploading ../checkpoints/stanford-crfm/alias-gpt2-small-x21/2300/generation_config.json...\n",
      "Uploading ../checkpoints/stanford-crfm/alias-gpt2-small-x21/2300/pytorch_model.bin...\n"
     ]
    },
    {
     "name": "stderr",
     "output_type": "stream",
     "text": [
      "Retrieving alias checkpoints:   8%|▊         | 51/608 [20:11<3:41:03, 23.81s/it]"
     ]
    },
    {
     "name": "stdout",
     "output_type": "stream",
     "text": [
      "Done.\n",
      "Checkpoint stanford-crfm/alias-gpt2-small-x21/2400 not found on AWS. Retrieving from HuggingFace.\n"
     ]
    },
    {
     "data": {
      "application/vnd.jupyter.widget-view+json": {
       "model_id": "d877b8c053494525943735f97cb75b20",
       "version_major": 2,
       "version_minor": 0
      },
      "text/plain": [
       "Downloading pytorch_model.bin:   0%|          | 0.00/261M [00:00<?, ?B/s]"
      ]
     },
     "metadata": {},
     "output_type": "display_data"
    },
    {
     "name": "stdout",
     "output_type": "stream",
     "text": [
      "Saving HF model to disk...\n",
      "Uploading HF model to AWS...\n",
      "Uploading ../checkpoints/stanford-crfm/alias-gpt2-small-x21/2400/config.json...\n",
      "Uploading ../checkpoints/stanford-crfm/alias-gpt2-small-x21/2400/generation_config.json...\n",
      "Uploading ../checkpoints/stanford-crfm/alias-gpt2-small-x21/2400/pytorch_model.bin...\n"
     ]
    },
    {
     "name": "stderr",
     "output_type": "stream",
     "text": [
      "Retrieving alias checkpoints:   9%|▊         | 52/608 [20:38<3:49:06, 24.72s/it]"
     ]
    },
    {
     "name": "stdout",
     "output_type": "stream",
     "text": [
      "Done.\n",
      "Checkpoint stanford-crfm/alias-gpt2-small-x21/2500 not found on AWS. Retrieving from HuggingFace.\n"
     ]
    },
    {
     "data": {
      "application/vnd.jupyter.widget-view+json": {
       "model_id": "0d7a9d4c4c774c0c803e6d7671d20fa1",
       "version_major": 2,
       "version_minor": 0
      },
      "text/plain": [
       "Downloading pytorch_model.bin:   0%|          | 0.00/261M [00:00<?, ?B/s]"
      ]
     },
     "metadata": {},
     "output_type": "display_data"
    },
    {
     "name": "stdout",
     "output_type": "stream",
     "text": [
      "Saving HF model to disk...\n",
      "Uploading HF model to AWS...\n",
      "Uploading ../checkpoints/stanford-crfm/alias-gpt2-small-x21/2500/config.json...\n",
      "Uploading ../checkpoints/stanford-crfm/alias-gpt2-small-x21/2500/generation_config.json...\n",
      "Uploading ../checkpoints/stanford-crfm/alias-gpt2-small-x21/2500/pytorch_model.bin...\n"
     ]
    },
    {
     "name": "stderr",
     "output_type": "stream",
     "text": [
      "Retrieving alias checkpoints:   9%|▊         | 53/608 [21:04<3:51:53, 25.07s/it]"
     ]
    },
    {
     "name": "stdout",
     "output_type": "stream",
     "text": [
      "Done.\n",
      "Checkpoint stanford-crfm/alias-gpt2-small-x21/2600 not found on AWS. Retrieving from HuggingFace.\n"
     ]
    },
    {
     "data": {
      "application/vnd.jupyter.widget-view+json": {
       "model_id": "8186296cc1114dec90386506daf1e79b",
       "version_major": 2,
       "version_minor": 0
      },
      "text/plain": [
       "Downloading pytorch_model.bin:   0%|          | 0.00/261M [00:00<?, ?B/s]"
      ]
     },
     "metadata": {},
     "output_type": "display_data"
    },
    {
     "name": "stdout",
     "output_type": "stream",
     "text": [
      "Saving HF model to disk...\n",
      "Uploading HF model to AWS...\n",
      "Uploading ../checkpoints/stanford-crfm/alias-gpt2-small-x21/2600/config.json...\n",
      "Uploading ../checkpoints/stanford-crfm/alias-gpt2-small-x21/2600/generation_config.json...\n",
      "Uploading ../checkpoints/stanford-crfm/alias-gpt2-small-x21/2600/pytorch_model.bin...\n"
     ]
    },
    {
     "name": "stderr",
     "output_type": "stream",
     "text": [
      "Retrieving alias checkpoints:   9%|▉         | 54/608 [21:30<3:55:06, 25.46s/it]"
     ]
    },
    {
     "name": "stdout",
     "output_type": "stream",
     "text": [
      "Done.\n",
      "Checkpoint stanford-crfm/alias-gpt2-small-x21/2700 not found on AWS. Retrieving from HuggingFace.\n"
     ]
    },
    {
     "data": {
      "application/vnd.jupyter.widget-view+json": {
       "model_id": "3eb3da21d9984abaa42a82d9f55f67df",
       "version_major": 2,
       "version_minor": 0
      },
      "text/plain": [
       "Downloading pytorch_model.bin:   0%|          | 0.00/261M [00:00<?, ?B/s]"
      ]
     },
     "metadata": {},
     "output_type": "display_data"
    },
    {
     "name": "stdout",
     "output_type": "stream",
     "text": [
      "Saving HF model to disk...\n",
      "Uploading HF model to AWS...\n",
      "Uploading ../checkpoints/stanford-crfm/alias-gpt2-small-x21/2700/config.json...\n",
      "Uploading ../checkpoints/stanford-crfm/alias-gpt2-small-x21/2700/generation_config.json...\n",
      "Uploading ../checkpoints/stanford-crfm/alias-gpt2-small-x21/2700/pytorch_model.bin...\n"
     ]
    },
    {
     "name": "stderr",
     "output_type": "stream",
     "text": [
      "Retrieving alias checkpoints:   9%|▉         | 55/608 [21:58<3:59:54, 26.03s/it]"
     ]
    },
    {
     "name": "stdout",
     "output_type": "stream",
     "text": [
      "Done.\n",
      "Checkpoint stanford-crfm/alias-gpt2-small-x21/2800 not found on AWS. Retrieving from HuggingFace.\n"
     ]
    },
    {
     "data": {
      "application/vnd.jupyter.widget-view+json": {
       "model_id": "b25ebde5cc7c455a95488e14b7b2bde4",
       "version_major": 2,
       "version_minor": 0
      },
      "text/plain": [
       "Downloading pytorch_model.bin:   0%|          | 0.00/261M [00:00<?, ?B/s]"
      ]
     },
     "metadata": {},
     "output_type": "display_data"
    },
    {
     "name": "stdout",
     "output_type": "stream",
     "text": [
      "Saving HF model to disk...\n",
      "Uploading HF model to AWS...\n",
      "Uploading ../checkpoints/stanford-crfm/alias-gpt2-small-x21/2800/config.json...\n",
      "Uploading ../checkpoints/stanford-crfm/alias-gpt2-small-x21/2800/generation_config.json...\n",
      "Uploading ../checkpoints/stanford-crfm/alias-gpt2-small-x21/2800/pytorch_model.bin...\n"
     ]
    },
    {
     "name": "stderr",
     "output_type": "stream",
     "text": [
      "Retrieving alias checkpoints:   9%|▉         | 56/608 [22:25<4:03:47, 26.50s/it]"
     ]
    },
    {
     "name": "stdout",
     "output_type": "stream",
     "text": [
      "Done.\n",
      "Checkpoint stanford-crfm/alias-gpt2-small-x21/2900 not found on AWS. Retrieving from HuggingFace.\n"
     ]
    },
    {
     "data": {
      "application/vnd.jupyter.widget-view+json": {
       "model_id": "a079eaea63b4495481d8a832df0cb68b",
       "version_major": 2,
       "version_minor": 0
      },
      "text/plain": [
       "Downloading pytorch_model.bin:   0%|          | 0.00/261M [00:00<?, ?B/s]"
      ]
     },
     "metadata": {},
     "output_type": "display_data"
    },
    {
     "name": "stdout",
     "output_type": "stream",
     "text": [
      "Saving HF model to disk...\n",
      "Uploading HF model to AWS...\n",
      "Uploading ../checkpoints/stanford-crfm/alias-gpt2-small-x21/2900/config.json...\n",
      "Uploading ../checkpoints/stanford-crfm/alias-gpt2-small-x21/2900/generation_config.json...\n",
      "Uploading ../checkpoints/stanford-crfm/alias-gpt2-small-x21/2900/pytorch_model.bin...\n"
     ]
    },
    {
     "name": "stderr",
     "output_type": "stream",
     "text": [
      "Retrieving alias checkpoints:   9%|▉         | 57/608 [22:53<4:05:53, 26.78s/it]"
     ]
    },
    {
     "name": "stdout",
     "output_type": "stream",
     "text": [
      "Done.\n",
      "Checkpoint stanford-crfm/alias-gpt2-small-x21/3000 not found on AWS. Retrieving from HuggingFace.\n"
     ]
    },
    {
     "data": {
      "application/vnd.jupyter.widget-view+json": {
       "model_id": "2e7c4f9850eb4aae9f2171cc6affc350",
       "version_major": 2,
       "version_minor": 0
      },
      "text/plain": [
       "Downloading pytorch_model.bin:   0%|          | 0.00/261M [00:00<?, ?B/s]"
      ]
     },
     "metadata": {},
     "output_type": "display_data"
    },
    {
     "name": "stdout",
     "output_type": "stream",
     "text": [
      "Saving HF model to disk...\n",
      "Uploading HF model to AWS...\n",
      "Uploading ../checkpoints/stanford-crfm/alias-gpt2-small-x21/3000/config.json...\n",
      "Uploading ../checkpoints/stanford-crfm/alias-gpt2-small-x21/3000/generation_config.json...\n",
      "Uploading ../checkpoints/stanford-crfm/alias-gpt2-small-x21/3000/pytorch_model.bin...\n"
     ]
    },
    {
     "name": "stderr",
     "output_type": "stream",
     "text": [
      "Retrieving alias checkpoints:  10%|▉         | 58/608 [23:24<4:19:04, 28.26s/it]"
     ]
    },
    {
     "name": "stdout",
     "output_type": "stream",
     "text": [
      "Done.\n",
      "Checkpoint stanford-crfm/alias-gpt2-small-x21/3100 not found on AWS. Retrieving from HuggingFace.\n"
     ]
    },
    {
     "data": {
      "application/vnd.jupyter.widget-view+json": {
       "model_id": "fa9d95fa872e4ed380aac9b0d97d8422",
       "version_major": 2,
       "version_minor": 0
      },
      "text/plain": [
       "Downloading pytorch_model.bin:   0%|          | 0.00/261M [00:00<?, ?B/s]"
      ]
     },
     "metadata": {},
     "output_type": "display_data"
    },
    {
     "name": "stdout",
     "output_type": "stream",
     "text": [
      "Saving HF model to disk...\n",
      "Uploading HF model to AWS...\n",
      "Uploading ../checkpoints/stanford-crfm/alias-gpt2-small-x21/3100/config.json...\n",
      "Uploading ../checkpoints/stanford-crfm/alias-gpt2-small-x21/3100/generation_config.json...\n",
      "Uploading ../checkpoints/stanford-crfm/alias-gpt2-small-x21/3100/pytorch_model.bin...\n"
     ]
    },
    {
     "name": "stderr",
     "output_type": "stream",
     "text": [
      "Retrieving alias checkpoints:  10%|▉         | 59/608 [23:50<4:10:15, 27.35s/it]"
     ]
    },
    {
     "name": "stdout",
     "output_type": "stream",
     "text": [
      "Done.\n",
      "Checkpoint stanford-crfm/alias-gpt2-small-x21/3200 not found on AWS. Retrieving from HuggingFace.\n"
     ]
    },
    {
     "data": {
      "application/vnd.jupyter.widget-view+json": {
       "model_id": "9e56d8a7fc4240e480e98bf5d95153b1",
       "version_major": 2,
       "version_minor": 0
      },
      "text/plain": [
       "Downloading pytorch_model.bin:   0%|          | 0.00/261M [00:00<?, ?B/s]"
      ]
     },
     "metadata": {},
     "output_type": "display_data"
    },
    {
     "name": "stdout",
     "output_type": "stream",
     "text": [
      "Saving HF model to disk...\n",
      "Uploading HF model to AWS...\n",
      "Uploading ../checkpoints/stanford-crfm/alias-gpt2-small-x21/3200/config.json...\n",
      "Uploading ../checkpoints/stanford-crfm/alias-gpt2-small-x21/3200/generation_config.json...\n",
      "Uploading ../checkpoints/stanford-crfm/alias-gpt2-small-x21/3200/pytorch_model.bin...\n"
     ]
    },
    {
     "name": "stderr",
     "output_type": "stream",
     "text": [
      "Retrieving alias checkpoints:  10%|▉         | 60/608 [24:05<3:36:55, 23.75s/it]"
     ]
    },
    {
     "name": "stdout",
     "output_type": "stream",
     "text": [
      "Done.\n",
      "Checkpoint stanford-crfm/alias-gpt2-small-x21/3300 not found on AWS. Retrieving from HuggingFace.\n"
     ]
    },
    {
     "data": {
      "application/vnd.jupyter.widget-view+json": {
       "model_id": "193a500ef53e46559a2b2554a8adb30f",
       "version_major": 2,
       "version_minor": 0
      },
      "text/plain": [
       "Downloading pytorch_model.bin:   0%|          | 0.00/261M [00:00<?, ?B/s]"
      ]
     },
     "metadata": {},
     "output_type": "display_data"
    },
    {
     "name": "stdout",
     "output_type": "stream",
     "text": [
      "Saving HF model to disk...\n",
      "Uploading HF model to AWS...\n",
      "Uploading ../checkpoints/stanford-crfm/alias-gpt2-small-x21/3300/config.json...\n",
      "Uploading ../checkpoints/stanford-crfm/alias-gpt2-small-x21/3300/generation_config.json...\n",
      "Uploading ../checkpoints/stanford-crfm/alias-gpt2-small-x21/3300/pytorch_model.bin...\n"
     ]
    },
    {
     "name": "stderr",
     "output_type": "stream",
     "text": [
      "Retrieving alias checkpoints:  10%|█         | 61/608 [24:25<3:25:26, 22.53s/it]"
     ]
    },
    {
     "name": "stdout",
     "output_type": "stream",
     "text": [
      "Done.\n",
      "Checkpoint stanford-crfm/alias-gpt2-small-x21/3400 not found on AWS. Retrieving from HuggingFace.\n"
     ]
    },
    {
     "data": {
      "application/vnd.jupyter.widget-view+json": {
       "model_id": "059475efc27d4bcfba5738cfa283f1d3",
       "version_major": 2,
       "version_minor": 0
      },
      "text/plain": [
       "Downloading pytorch_model.bin:   0%|          | 0.00/261M [00:00<?, ?B/s]"
      ]
     },
     "metadata": {},
     "output_type": "display_data"
    },
    {
     "name": "stdout",
     "output_type": "stream",
     "text": [
      "Saving HF model to disk...\n",
      "Uploading HF model to AWS...\n",
      "Uploading ../checkpoints/stanford-crfm/alias-gpt2-small-x21/3400/config.json...\n",
      "Uploading ../checkpoints/stanford-crfm/alias-gpt2-small-x21/3400/generation_config.json...\n",
      "Uploading ../checkpoints/stanford-crfm/alias-gpt2-small-x21/3400/pytorch_model.bin...\n"
     ]
    },
    {
     "name": "stderr",
     "output_type": "stream",
     "text": [
      "Retrieving alias checkpoints:  10%|█         | 62/608 [24:51<3:36:17, 23.77s/it]"
     ]
    },
    {
     "name": "stdout",
     "output_type": "stream",
     "text": [
      "Done.\n",
      "Checkpoint stanford-crfm/alias-gpt2-small-x21/3500 not found on AWS. Retrieving from HuggingFace.\n"
     ]
    },
    {
     "data": {
      "application/vnd.jupyter.widget-view+json": {
       "model_id": "6c79024266b94ac3944cb410ef6bfbfa",
       "version_major": 2,
       "version_minor": 0
      },
      "text/plain": [
       "Downloading pytorch_model.bin:   0%|          | 0.00/261M [00:00<?, ?B/s]"
      ]
     },
     "metadata": {},
     "output_type": "display_data"
    },
    {
     "name": "stdout",
     "output_type": "stream",
     "text": [
      "Saving HF model to disk...\n",
      "Uploading HF model to AWS...\n",
      "Uploading ../checkpoints/stanford-crfm/alias-gpt2-small-x21/3500/config.json...\n",
      "Uploading ../checkpoints/stanford-crfm/alias-gpt2-small-x21/3500/generation_config.json...\n",
      "Uploading ../checkpoints/stanford-crfm/alias-gpt2-small-x21/3500/pytorch_model.bin...\n"
     ]
    },
    {
     "name": "stderr",
     "output_type": "stream",
     "text": [
      "Retrieving alias checkpoints:  10%|█         | 63/608 [25:19<3:47:59, 25.10s/it]"
     ]
    },
    {
     "name": "stdout",
     "output_type": "stream",
     "text": [
      "Done.\n",
      "Checkpoint stanford-crfm/alias-gpt2-small-x21/3600 not found on AWS. Retrieving from HuggingFace.\n"
     ]
    },
    {
     "data": {
      "application/vnd.jupyter.widget-view+json": {
       "model_id": "0f3c00c350e34465ad452083e5812816",
       "version_major": 2,
       "version_minor": 0
      },
      "text/plain": [
       "Downloading pytorch_model.bin:   0%|          | 0.00/261M [00:00<?, ?B/s]"
      ]
     },
     "metadata": {},
     "output_type": "display_data"
    },
    {
     "name": "stdout",
     "output_type": "stream",
     "text": [
      "Saving HF model to disk...\n",
      "Uploading HF model to AWS...\n",
      "Uploading ../checkpoints/stanford-crfm/alias-gpt2-small-x21/3600/config.json...\n",
      "Uploading ../checkpoints/stanford-crfm/alias-gpt2-small-x21/3600/generation_config.json...\n",
      "Uploading ../checkpoints/stanford-crfm/alias-gpt2-small-x21/3600/pytorch_model.bin...\n"
     ]
    },
    {
     "name": "stderr",
     "output_type": "stream",
     "text": [
      "Retrieving alias checkpoints:  11%|█         | 64/608 [25:46<3:50:21, 25.41s/it]"
     ]
    },
    {
     "name": "stdout",
     "output_type": "stream",
     "text": [
      "Done.\n",
      "Checkpoint stanford-crfm/alias-gpt2-small-x21/3700 not found on AWS. Retrieving from HuggingFace.\n"
     ]
    },
    {
     "data": {
      "application/vnd.jupyter.widget-view+json": {
       "model_id": "311692b2ff514abca2dfbde816c49fe9",
       "version_major": 2,
       "version_minor": 0
      },
      "text/plain": [
       "Downloading pytorch_model.bin:   0%|          | 0.00/261M [00:00<?, ?B/s]"
      ]
     },
     "metadata": {},
     "output_type": "display_data"
    },
    {
     "name": "stdout",
     "output_type": "stream",
     "text": [
      "Saving HF model to disk...\n",
      "Uploading HF model to AWS...\n",
      "Uploading ../checkpoints/stanford-crfm/alias-gpt2-small-x21/3700/config.json...\n",
      "Uploading ../checkpoints/stanford-crfm/alias-gpt2-small-x21/3700/generation_config.json...\n",
      "Uploading ../checkpoints/stanford-crfm/alias-gpt2-small-x21/3700/pytorch_model.bin...\n"
     ]
    },
    {
     "name": "stderr",
     "output_type": "stream",
     "text": [
      "Retrieving alias checkpoints:  11%|█         | 65/608 [26:12<3:53:18, 25.78s/it]"
     ]
    },
    {
     "name": "stdout",
     "output_type": "stream",
     "text": [
      "Done.\n",
      "Checkpoint stanford-crfm/alias-gpt2-small-x21/3800 not found on AWS. Retrieving from HuggingFace.\n"
     ]
    },
    {
     "data": {
      "application/vnd.jupyter.widget-view+json": {
       "model_id": "04dec0f0d4dd478cbd6409aaab4db16d",
       "version_major": 2,
       "version_minor": 0
      },
      "text/plain": [
       "Downloading pytorch_model.bin:   0%|          | 0.00/261M [00:00<?, ?B/s]"
      ]
     },
     "metadata": {},
     "output_type": "display_data"
    },
    {
     "name": "stdout",
     "output_type": "stream",
     "text": [
      "Saving HF model to disk...\n",
      "Uploading HF model to AWS...\n",
      "Uploading ../checkpoints/stanford-crfm/alias-gpt2-small-x21/3800/config.json...\n",
      "Uploading ../checkpoints/stanford-crfm/alias-gpt2-small-x21/3800/generation_config.json...\n",
      "Uploading ../checkpoints/stanford-crfm/alias-gpt2-small-x21/3800/pytorch_model.bin...\n"
     ]
    },
    {
     "name": "stderr",
     "output_type": "stream",
     "text": [
      "Retrieving alias checkpoints:  11%|█         | 66/608 [26:42<4:02:52, 26.89s/it]"
     ]
    },
    {
     "name": "stdout",
     "output_type": "stream",
     "text": [
      "Done.\n",
      "Checkpoint stanford-crfm/alias-gpt2-small-x21/3900 not found on AWS. Retrieving from HuggingFace.\n"
     ]
    },
    {
     "data": {
      "application/vnd.jupyter.widget-view+json": {
       "model_id": "669e5610c58b40c38105124ea4d36c08",
       "version_major": 2,
       "version_minor": 0
      },
      "text/plain": [
       "Downloading pytorch_model.bin:   0%|          | 0.00/261M [00:00<?, ?B/s]"
      ]
     },
     "metadata": {},
     "output_type": "display_data"
    },
    {
     "name": "stdout",
     "output_type": "stream",
     "text": [
      "Saving HF model to disk...\n",
      "Uploading HF model to AWS...\n",
      "Uploading ../checkpoints/stanford-crfm/alias-gpt2-small-x21/3900/config.json...\n",
      "Uploading ../checkpoints/stanford-crfm/alias-gpt2-small-x21/3900/generation_config.json...\n",
      "Uploading ../checkpoints/stanford-crfm/alias-gpt2-small-x21/3900/pytorch_model.bin...\n"
     ]
    },
    {
     "name": "stderr",
     "output_type": "stream",
     "text": [
      "Retrieving alias checkpoints:  11%|█         | 67/608 [27:08<4:01:38, 26.80s/it]"
     ]
    },
    {
     "name": "stdout",
     "output_type": "stream",
     "text": [
      "Done.\n",
      "Checkpoint stanford-crfm/alias-gpt2-small-x21/4000 not found on AWS. Retrieving from HuggingFace.\n"
     ]
    },
    {
     "data": {
      "application/vnd.jupyter.widget-view+json": {
       "model_id": "5c948a7d3a964cb48509108db0d773a5",
       "version_major": 2,
       "version_minor": 0
      },
      "text/plain": [
       "Downloading pytorch_model.bin:   0%|          | 0.00/261M [00:00<?, ?B/s]"
      ]
     },
     "metadata": {},
     "output_type": "display_data"
    },
    {
     "name": "stdout",
     "output_type": "stream",
     "text": [
      "Saving HF model to disk...\n",
      "Uploading HF model to AWS...\n",
      "Uploading ../checkpoints/stanford-crfm/alias-gpt2-small-x21/4000/config.json...\n",
      "Uploading ../checkpoints/stanford-crfm/alias-gpt2-small-x21/4000/generation_config.json...\n",
      "Uploading ../checkpoints/stanford-crfm/alias-gpt2-small-x21/4000/pytorch_model.bin...\n"
     ]
    },
    {
     "name": "stderr",
     "output_type": "stream",
     "text": [
      "Retrieving alias checkpoints:  11%|█         | 68/608 [27:36<4:04:40, 27.19s/it]"
     ]
    },
    {
     "name": "stdout",
     "output_type": "stream",
     "text": [
      "Done.\n",
      "Checkpoint stanford-crfm/alias-gpt2-small-x21/4100 not found on AWS. Retrieving from HuggingFace.\n"
     ]
    },
    {
     "data": {
      "application/vnd.jupyter.widget-view+json": {
       "model_id": "cf1ff770732b47bbb3ab5600f4084a5d",
       "version_major": 2,
       "version_minor": 0
      },
      "text/plain": [
       "Downloading pytorch_model.bin:   0%|          | 0.00/261M [00:00<?, ?B/s]"
      ]
     },
     "metadata": {},
     "output_type": "display_data"
    },
    {
     "name": "stdout",
     "output_type": "stream",
     "text": [
      "Saving HF model to disk...\n",
      "Uploading HF model to AWS...\n",
      "Uploading ../checkpoints/stanford-crfm/alias-gpt2-small-x21/4100/config.json...\n",
      "Uploading ../checkpoints/stanford-crfm/alias-gpt2-small-x21/4100/generation_config.json...\n",
      "Uploading ../checkpoints/stanford-crfm/alias-gpt2-small-x21/4100/pytorch_model.bin...\n"
     ]
    },
    {
     "name": "stderr",
     "output_type": "stream",
     "text": [
      "Retrieving alias checkpoints:  11%|█▏        | 69/608 [28:02<3:58:48, 26.58s/it]"
     ]
    },
    {
     "name": "stdout",
     "output_type": "stream",
     "text": [
      "Done.\n",
      "Checkpoint stanford-crfm/alias-gpt2-small-x21/4200 not found on AWS. Retrieving from HuggingFace.\n"
     ]
    },
    {
     "data": {
      "application/vnd.jupyter.widget-view+json": {
       "model_id": "0253d7e06e0f4b2382061145139d6d56",
       "version_major": 2,
       "version_minor": 0
      },
      "text/plain": [
       "Downloading pytorch_model.bin:   0%|          | 0.00/261M [00:00<?, ?B/s]"
      ]
     },
     "metadata": {},
     "output_type": "display_data"
    },
    {
     "name": "stdout",
     "output_type": "stream",
     "text": [
      "Saving HF model to disk...\n",
      "Uploading HF model to AWS...\n",
      "Uploading ../checkpoints/stanford-crfm/alias-gpt2-small-x21/4200/config.json...\n",
      "Uploading ../checkpoints/stanford-crfm/alias-gpt2-small-x21/4200/generation_config.json...\n",
      "Uploading ../checkpoints/stanford-crfm/alias-gpt2-small-x21/4200/pytorch_model.bin...\n"
     ]
    },
    {
     "name": "stderr",
     "output_type": "stream",
     "text": [
      "Retrieving alias checkpoints:  12%|█▏        | 70/608 [28:28<3:56:50, 26.41s/it]"
     ]
    },
    {
     "name": "stdout",
     "output_type": "stream",
     "text": [
      "Done.\n",
      "Checkpoint stanford-crfm/alias-gpt2-small-x21/4300 not found on AWS. Retrieving from HuggingFace.\n"
     ]
    },
    {
     "data": {
      "application/vnd.jupyter.widget-view+json": {
       "model_id": "56a64edfbd864e21b6a6fa9aab06d9e9",
       "version_major": 2,
       "version_minor": 0
      },
      "text/plain": [
       "Downloading pytorch_model.bin:   0%|          | 0.00/261M [00:00<?, ?B/s]"
      ]
     },
     "metadata": {},
     "output_type": "display_data"
    },
    {
     "name": "stdout",
     "output_type": "stream",
     "text": [
      "Saving HF model to disk...\n",
      "Uploading HF model to AWS...\n",
      "Uploading ../checkpoints/stanford-crfm/alias-gpt2-small-x21/4300/config.json...\n",
      "Uploading ../checkpoints/stanford-crfm/alias-gpt2-small-x21/4300/generation_config.json...\n",
      "Uploading ../checkpoints/stanford-crfm/alias-gpt2-small-x21/4300/pytorch_model.bin...\n"
     ]
    },
    {
     "name": "stderr",
     "output_type": "stream",
     "text": [
      "Retrieving alias checkpoints:  12%|█▏        | 71/608 [28:53<3:52:37, 25.99s/it]"
     ]
    },
    {
     "name": "stdout",
     "output_type": "stream",
     "text": [
      "Done.\n",
      "Checkpoint stanford-crfm/alias-gpt2-small-x21/4400 not found on AWS. Retrieving from HuggingFace.\n"
     ]
    },
    {
     "data": {
      "application/vnd.jupyter.widget-view+json": {
       "model_id": "a1141a353a424e279ad65c3079c0de56",
       "version_major": 2,
       "version_minor": 0
      },
      "text/plain": [
       "Downloading pytorch_model.bin:   0%|          | 0.00/261M [00:00<?, ?B/s]"
      ]
     },
     "metadata": {},
     "output_type": "display_data"
    },
    {
     "name": "stdout",
     "output_type": "stream",
     "text": [
      "Saving HF model to disk...\n",
      "Uploading HF model to AWS...\n",
      "Uploading ../checkpoints/stanford-crfm/alias-gpt2-small-x21/4400/config.json...\n",
      "Uploading ../checkpoints/stanford-crfm/alias-gpt2-small-x21/4400/generation_config.json...\n",
      "Uploading ../checkpoints/stanford-crfm/alias-gpt2-small-x21/4400/pytorch_model.bin...\n"
     ]
    },
    {
     "name": "stderr",
     "output_type": "stream",
     "text": [
      "Retrieving alias checkpoints:  12%|█▏        | 72/608 [29:15<3:41:21, 24.78s/it]"
     ]
    },
    {
     "name": "stdout",
     "output_type": "stream",
     "text": [
      "Done.\n",
      "Checkpoint stanford-crfm/alias-gpt2-small-x21/4500 not found on AWS. Retrieving from HuggingFace.\n"
     ]
    },
    {
     "data": {
      "application/vnd.jupyter.widget-view+json": {
       "model_id": "1b43b5bc1d284e8ca12153acd7dcec4d",
       "version_major": 2,
       "version_minor": 0
      },
      "text/plain": [
       "Downloading pytorch_model.bin:   0%|          | 0.00/261M [00:00<?, ?B/s]"
      ]
     },
     "metadata": {},
     "output_type": "display_data"
    },
    {
     "name": "stdout",
     "output_type": "stream",
     "text": [
      "Saving HF model to disk...\n",
      "Uploading HF model to AWS...\n",
      "Uploading ../checkpoints/stanford-crfm/alias-gpt2-small-x21/4500/config.json...\n",
      "Uploading ../checkpoints/stanford-crfm/alias-gpt2-small-x21/4500/generation_config.json...\n",
      "Uploading ../checkpoints/stanford-crfm/alias-gpt2-small-x21/4500/pytorch_model.bin...\n"
     ]
    },
    {
     "name": "stderr",
     "output_type": "stream",
     "text": [
      "Retrieving alias checkpoints:  12%|█▏        | 73/608 [29:42<3:47:40, 25.53s/it]"
     ]
    },
    {
     "name": "stdout",
     "output_type": "stream",
     "text": [
      "Done.\n",
      "Checkpoint stanford-crfm/alias-gpt2-small-x21/4600 not found on AWS. Retrieving from HuggingFace.\n"
     ]
    },
    {
     "data": {
      "application/vnd.jupyter.widget-view+json": {
       "model_id": "0393add0d6b24d79b7415f430301ea66",
       "version_major": 2,
       "version_minor": 0
      },
      "text/plain": [
       "Downloading pytorch_model.bin:   0%|          | 0.00/261M [00:00<?, ?B/s]"
      ]
     },
     "metadata": {},
     "output_type": "display_data"
    },
    {
     "name": "stdout",
     "output_type": "stream",
     "text": [
      "Saving HF model to disk...\n",
      "Uploading HF model to AWS...\n",
      "Uploading ../checkpoints/stanford-crfm/alias-gpt2-small-x21/4600/config.json...\n",
      "Uploading ../checkpoints/stanford-crfm/alias-gpt2-small-x21/4600/generation_config.json...\n",
      "Uploading ../checkpoints/stanford-crfm/alias-gpt2-small-x21/4600/pytorch_model.bin...\n"
     ]
    },
    {
     "name": "stderr",
     "output_type": "stream",
     "text": [
      "Retrieving alias checkpoints:  12%|█▏        | 74/608 [30:00<3:28:52, 23.47s/it]"
     ]
    },
    {
     "name": "stdout",
     "output_type": "stream",
     "text": [
      "Done.\n",
      "Checkpoint stanford-crfm/alias-gpt2-small-x21/4700 not found on AWS. Retrieving from HuggingFace.\n"
     ]
    },
    {
     "data": {
      "application/vnd.jupyter.widget-view+json": {
       "model_id": "fb1e24ef7b294fd79da0ea4201da5057",
       "version_major": 2,
       "version_minor": 0
      },
      "text/plain": [
       "Downloading pytorch_model.bin:   0%|          | 0.00/261M [00:00<?, ?B/s]"
      ]
     },
     "metadata": {},
     "output_type": "display_data"
    },
    {
     "name": "stdout",
     "output_type": "stream",
     "text": [
      "Saving HF model to disk...\n",
      "Uploading HF model to AWS...\n",
      "Uploading ../checkpoints/stanford-crfm/alias-gpt2-small-x21/4700/config.json...\n",
      "Uploading ../checkpoints/stanford-crfm/alias-gpt2-small-x21/4700/generation_config.json...\n",
      "Uploading ../checkpoints/stanford-crfm/alias-gpt2-small-x21/4700/pytorch_model.bin...\n"
     ]
    },
    {
     "name": "stderr",
     "output_type": "stream",
     "text": [
      "Retrieving alias checkpoints:  12%|█▏        | 75/608 [30:31<3:48:36, 25.73s/it]"
     ]
    },
    {
     "name": "stdout",
     "output_type": "stream",
     "text": [
      "Done.\n",
      "Checkpoint stanford-crfm/alias-gpt2-small-x21/4800 not found on AWS. Retrieving from HuggingFace.\n"
     ]
    },
    {
     "data": {
      "application/vnd.jupyter.widget-view+json": {
       "model_id": "af4752c1f746400c98bf4cc29d4d3d4c",
       "version_major": 2,
       "version_minor": 0
      },
      "text/plain": [
       "Downloading pytorch_model.bin:   0%|          | 0.00/261M [00:00<?, ?B/s]"
      ]
     },
     "metadata": {},
     "output_type": "display_data"
    }
   ],
   "source": [
    "import tqdm\n",
    "\n",
    "def retrieve_checkpoint(name, step=400_000):\n",
    "    \"\"\"Retrieve checkpoint from AWS. If not found, retrieve from HuggingFace.\"\"\"\n",
    "    import boto3\n",
    "    import botocore\n",
    "\n",
    "    full_name = get_full_name(name)\n",
    "    prefix = f\"{full_name}/{step}\"\n",
    "\n",
    "    s3 = boto3.resource(\"s3\")\n",
    "    bucket = s3.Bucket(os.environ['AWS_LANGUAGE_BUCKET_NAME'])\n",
    "    checkpoints_path = Path(f\"../checkpoints/{prefix}\")\n",
    "\n",
    "    if not checkpoints_path.exists():\n",
    "        checkpoints_path.mkdir(parents=True)\n",
    "    try: \n",
    "        bucket.download_file(f\"checkpoints/{prefix}/pytorch_model.bin\", str(checkpoints_path / \"pytorch_model.bin\"))\n",
    "        print(\"Done.\")\n",
    "    except botocore.exceptions.ClientError as e:\n",
    "        if e.response['Error']['Code'] == \"404\":\n",
    "            print(f\"Checkpoint {prefix} not found on AWS. Retrieving from HuggingFace.\")\n",
    "            model = AutoModelForCausalLM.from_pretrained(full_name, revision=f'checkpoint-{step}', torch_dtype=torch.float32)\n",
    "            print(\"Saving HF model to disk...\")\n",
    "            model.save_pretrained(checkpoints_path)\n",
    "\n",
    "            del model\n",
    "\n",
    "            print(\"Uploading HF model to AWS...\")\n",
    "            for file in checkpoints_path.glob(\"*\"):\n",
    "                if file.is_file():\n",
    "                    print(f\"Uploading {file}...\")\n",
    "                    bucket.upload_file(file, f\"checkpoints/{prefix}/{file.name}\")\n",
    "\n",
    "            print(\"Done.\")\n",
    "        else:\n",
    "            raise\n",
    "\n",
    "\n",
    "def load_checkpoint(name, step=400_000):\n",
    "    \"\"\"Load checkpoint from local storage. If not found, retrieve from AWS or HF.\"\"\"\n",
    "    full_name = get_full_name(name)\n",
    "    checkpoint_path = Path(f\"../checkpoints/{full_name}/{step}\")\n",
    "\n",
    "    if not checkpoint_path.exists():\n",
    "        print(\"Retrieving checkpoint from AWS. This may take a while.\")\n",
    "        retrieve_checkpoint(name, step)\n",
    "\n",
    "    config = AutoConfig.from_pretrained(full_name, torch_dtype=torch.float32)\n",
    "\n",
    "    print(f\"Loading checkpoint from disk {checkpoint_path}...\")\n",
    "    hf_model = AutoModelForCausalLM.from_pretrained(\n",
    "        checkpoint_path,\n",
    "        revision=f'checkpoint-{step}',\n",
    "        config=config,\n",
    "        torch_dtype=torch.float32,\n",
    "        # **kwargs,\n",
    "    )\n",
    "\n",
    "    model = transformer_lens.HookedTransformer.from_pretrained(full_name, hf_model=hf_model)\n",
    "\n",
    "    return model, hf_model\n",
    "\n",
    "\n",
    "def retrieve_checkpoints(name, steps=None):\n",
    "    \"\"\"Retrieve multiple checkpoints from AWS/HuggingFace.\n",
    "    Defaults to loading all checkpoints for a given training run.\"\"\"\n",
    "    full_name = get_full_name(name)\n",
    "    steps = steps or STANFORD_CRFM_CHECKPOINTS[1:]  # Step 0 is not available. TODO: Figure out how to initialize this. \n",
    "    \n",
    "    for step in tqdm.tqdm(steps, desc=f\"Retrieving {name} checkpoints\"):\n",
    "        if os.path.exists(f\"../checkpoints/{full_name}/{step}/pytorch_model.bin\"):\n",
    "            continue\n",
    "\n",
    "        retrieve_checkpoint(name, step)\n",
    "\n",
    "\n",
    "retrieve_checkpoints('alias')"
   ]
  },
  {
   "cell_type": "code",
   "execution_count": null,
   "metadata": {},
   "outputs": [],
   "source": [
    "from datasets import load_dataset\n",
    "\n",
    "dataset = load_dataset(\"tasksource/mmlu\")"
   ]
  }
 ],
 "metadata": {
  "kernelspec": {
   "display_name": ".venv",
   "language": "python",
   "name": "python3"
  },
  "language_info": {
   "codemirror_mode": {
    "name": "ipython",
    "version": 3
   },
   "file_extension": ".py",
   "mimetype": "text/x-python",
   "name": "python",
   "nbconvert_exporter": "python",
   "pygments_lexer": "ipython3",
   "version": "3.9.15"
  }
 },
 "nbformat": 4,
 "nbformat_minor": 2
}
