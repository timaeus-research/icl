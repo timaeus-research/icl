{
 "cells": [
  {
   "cell_type": "markdown",
   "metadata": {},
   "source": [
    "# Mistral"
   ]
  },
  {
   "cell_type": "code",
   "execution_count": 6,
   "metadata": {},
   "outputs": [],
   "source": [
    "import transformer_lens\n",
    "from pathlib import Path\n",
    "import pickle\n",
    "from torch import nn\n",
    "import json\n",
    "from pprint import pp\n",
    "from transformers import AutoConfig, AutoModelForCausalLM\n",
    "\n",
    "from transformer_lens.loading_from_pretrained import STANFORD_CRFM_CHECKPOINTS \n",
    "from dotenv import load_dotenv\n",
    "import torch\n",
    "\n",
    "load_dotenv();"
   ]
  },
  {
   "cell_type": "code",
   "execution_count": 19,
   "metadata": {},
   "outputs": [],
   "source": [
    "import os\n",
    "from typing import Literal, Union\n",
    "\n",
    "gpt2_mediums = [\n",
    "    \"stanford-crfm/arwen-gpt2-medium-x21\",\n",
    "    \"stanford-crfm/beren-gpt2-medium-x49\",\n",
    "    \"stanford-crfm/celebrimbor-gpt2-medium-x81\",\n",
    "    \"stanford-crfm/durin-gpt2-medium-x343\",\n",
    "    \"stanford-crfm/eowyn-gpt2-medium-x777\",\n",
    "]\n",
    "\n",
    "gpt2_smalls = [\n",
    "    \"stanford-crfm/alias-gpt2-small-x21\",\n",
    "    \"stanford-crfm/battlestar-gpt2-small-x49\",\n",
    "    \"stanford-crfm/caprica-gpt2-small-x81\",\n",
    "    \"stanford-crfm/darkmatter-gpt2-small-x343\",\n",
    "    \"stanford-crfm/expanse-gpt2-small-x777\",\n",
    "]\n",
    "\n",
    "GPT2SmallRunName = Literal[\"alias\", \"battlestar\", \"caprica\", \"darkmatter\", \"expanse\"]\n",
    "GPT2MediumRunName = Literal[\"arwen\", \"beren\", \"celebrimbor\", \"durin\", \"eowyn\"]\n",
    "GPT2RunName = Union[GPT2SmallRunName, GPT2MediumRunName]\n",
    "GPT2Size = Literal[\"small\", \"medium\"]\n",
    "\n",
    "GPT2_NAME: GPT2RunName = 'alias'\n",
    "GPT2_SIZE: GPT2Size = 'small'\n",
    "\n",
    "def get_full_name(name):\n",
    "    size = {'arwen': 'medium', 'beren': 'medium', 'celebrimbor': 'medium', 'durin': 'medium', 'eowyn': 'medium', 'alias': 'small', 'battlestar': 'small', 'caprica': 'small', 'darkmatter': 'small', 'expanse': 'small'}[name]\n",
    "    ext = {'arwen': 21, 'beren': 49, 'celebrimbor': 81, 'durin': 343, 'eowyn': 777, 'alias': 21, 'battlestar': 49, 'caprica': 81, 'darkmatter': 343, 'expanse': 777}[name]\n",
    "    return f\"stanford-crfm/{name}-gpt2-{size}-x{ext}\""
   ]
  },
  {
   "cell_type": "code",
   "execution_count": 26,
   "metadata": {},
   "outputs": [
    {
     "name": "stderr",
     "output_type": "stream",
     "text": [
      "Retrieving alias checkpoints:   0%|          | 0/61 [00:00<?, ?it/s]"
     ]
    },
    {
     "name": "stdout",
     "output_type": "stream",
     "text": [
      "Checkpoint stanford-crfm/alias-gpt2-small-x21/6300 not found on AWS. Retrieving from HuggingFace.\n"
     ]
    },
    {
     "data": {
      "application/vnd.jupyter.widget-view+json": {
       "model_id": "f1cb0c3fa9fc47d99306000834c8a149",
       "version_major": 2,
       "version_minor": 0
      },
      "text/plain": [
       "Downloading pytorch_model.bin:   0%|          | 0.00/261M [00:00<?, ?B/s]"
      ]
     },
     "metadata": {},
     "output_type": "display_data"
    },
    {
     "name": "stdout",
     "output_type": "stream",
     "text": [
      "Saving HF model to disk...\n",
      "Uploading HF model to AWS...\n",
      "Uploading ../checkpoints/stanford-crfm/alias-gpt2-small-x21/6300/config.json...\n",
      "Uploading ../checkpoints/stanford-crfm/alias-gpt2-small-x21/6300/generation_config.json...\n",
      "Uploading ../checkpoints/stanford-crfm/alias-gpt2-small-x21/6300/pytorch_model.bin...\n"
     ]
    },
    {
     "name": "stderr",
     "output_type": "stream",
     "text": [
      "Retrieving alias checkpoints:  16%|█▋        | 10/61 [00:27<02:21,  2.78s/it]"
     ]
    },
    {
     "name": "stdout",
     "output_type": "stream",
     "text": [
      "Done.\n",
      "Checkpoint stanford-crfm/alias-gpt2-small-x21/7300 not found on AWS. Retrieving from HuggingFace.\n"
     ]
    },
    {
     "data": {
      "application/vnd.jupyter.widget-view+json": {
       "model_id": "e551b84d2b1c41fd81a3dab2f31b389b",
       "version_major": 2,
       "version_minor": 0
      },
      "text/plain": [
       "Downloading pytorch_model.bin:   0%|          | 0.00/261M [00:00<?, ?B/s]"
      ]
     },
     "metadata": {},
     "output_type": "display_data"
    },
    {
     "name": "stdout",
     "output_type": "stream",
     "text": [
      "Saving HF model to disk...\n",
      "Uploading HF model to AWS...\n",
      "Uploading ../checkpoints/stanford-crfm/alias-gpt2-small-x21/7300/config.json...\n",
      "Uploading ../checkpoints/stanford-crfm/alias-gpt2-small-x21/7300/generation_config.json...\n",
      "Uploading ../checkpoints/stanford-crfm/alias-gpt2-small-x21/7300/pytorch_model.bin...\n"
     ]
    },
    {
     "name": "stderr",
     "output_type": "stream",
     "text": [
      "Retrieving alias checkpoints:  18%|█▊        | 11/61 [00:52<04:36,  5.53s/it]"
     ]
    },
    {
     "name": "stdout",
     "output_type": "stream",
     "text": [
      "Done.\n",
      "Checkpoint stanford-crfm/alias-gpt2-small-x21/8300 not found on AWS. Retrieving from HuggingFace.\n"
     ]
    },
    {
     "data": {
      "application/vnd.jupyter.widget-view+json": {
       "model_id": "6127241b3f1e4b47bf082d209c366975",
       "version_major": 2,
       "version_minor": 0
      },
      "text/plain": [
       "Downloading pytorch_model.bin:   0%|          | 0.00/261M [00:00<?, ?B/s]"
      ]
     },
     "metadata": {},
     "output_type": "display_data"
    },
    {
     "name": "stdout",
     "output_type": "stream",
     "text": [
      "Saving HF model to disk...\n",
      "Uploading HF model to AWS...\n",
      "Uploading ../checkpoints/stanford-crfm/alias-gpt2-small-x21/8300/config.json...\n",
      "Uploading ../checkpoints/stanford-crfm/alias-gpt2-small-x21/8300/generation_config.json...\n",
      "Uploading ../checkpoints/stanford-crfm/alias-gpt2-small-x21/8300/pytorch_model.bin...\n"
     ]
    },
    {
     "name": "stderr",
     "output_type": "stream",
     "text": [
      "Retrieving alias checkpoints:  20%|█▉        | 12/61 [01:16<06:45,  8.27s/it]"
     ]
    },
    {
     "name": "stdout",
     "output_type": "stream",
     "text": [
      "Done.\n",
      "Checkpoint stanford-crfm/alias-gpt2-small-x21/9300 not found on AWS. Retrieving from HuggingFace.\n"
     ]
    },
    {
     "data": {
      "application/vnd.jupyter.widget-view+json": {
       "model_id": "73a4620bd3bb47f8b9efa3a679dc8963",
       "version_major": 2,
       "version_minor": 0
      },
      "text/plain": [
       "Downloading pytorch_model.bin:   0%|          | 0.00/261M [00:00<?, ?B/s]"
      ]
     },
     "metadata": {},
     "output_type": "display_data"
    },
    {
     "name": "stdout",
     "output_type": "stream",
     "text": [
      "Saving HF model to disk...\n",
      "Uploading HF model to AWS...\n",
      "Uploading ../checkpoints/stanford-crfm/alias-gpt2-small-x21/9300/config.json...\n",
      "Uploading ../checkpoints/stanford-crfm/alias-gpt2-small-x21/9300/generation_config.json...\n",
      "Uploading ../checkpoints/stanford-crfm/alias-gpt2-small-x21/9300/pytorch_model.bin...\n"
     ]
    },
    {
     "name": "stderr",
     "output_type": "stream",
     "text": [
      "Retrieving alias checkpoints:  21%|██▏       | 13/61 [01:37<08:32, 10.67s/it]"
     ]
    },
    {
     "name": "stdout",
     "output_type": "stream",
     "text": [
      "Done.\n",
      "Checkpoint stanford-crfm/alias-gpt2-small-x21/10300 not found on AWS. Retrieving from HuggingFace.\n"
     ]
    },
    {
     "data": {
      "application/vnd.jupyter.widget-view+json": {
       "model_id": "cd108e7896c04adb9f68e98a7a882781",
       "version_major": 2,
       "version_minor": 0
      },
      "text/plain": [
       "Downloading pytorch_model.bin:   0%|          | 0.00/261M [00:00<?, ?B/s]"
      ]
     },
     "metadata": {},
     "output_type": "display_data"
    },
    {
     "name": "stdout",
     "output_type": "stream",
     "text": [
      "Saving HF model to disk...\n",
      "Uploading HF model to AWS...\n",
      "Uploading ../checkpoints/stanford-crfm/alias-gpt2-small-x21/10300/config.json...\n",
      "Uploading ../checkpoints/stanford-crfm/alias-gpt2-small-x21/10300/generation_config.json...\n",
      "Uploading ../checkpoints/stanford-crfm/alias-gpt2-small-x21/10300/pytorch_model.bin...\n"
     ]
    },
    {
     "name": "stderr",
     "output_type": "stream",
     "text": [
      "Retrieving alias checkpoints:  23%|██▎       | 14/61 [02:02<10:35, 13.51s/it]"
     ]
    },
    {
     "name": "stdout",
     "output_type": "stream",
     "text": [
      "Done.\n",
      "Checkpoint stanford-crfm/alias-gpt2-small-x21/11300 not found on AWS. Retrieving from HuggingFace.\n"
     ]
    },
    {
     "data": {
      "application/vnd.jupyter.widget-view+json": {
       "model_id": "0a50e5224a9443a19a20adb6384bdc7b",
       "version_major": 2,
       "version_minor": 0
      },
      "text/plain": [
       "Downloading pytorch_model.bin:   0%|          | 0.00/261M [00:00<?, ?B/s]"
      ]
     },
     "metadata": {},
     "output_type": "display_data"
    },
    {
     "name": "stdout",
     "output_type": "stream",
     "text": [
      "Saving HF model to disk...\n",
      "Uploading HF model to AWS...\n",
      "Uploading ../checkpoints/stanford-crfm/alias-gpt2-small-x21/11300/config.json...\n",
      "Uploading ../checkpoints/stanford-crfm/alias-gpt2-small-x21/11300/generation_config.json...\n",
      "Uploading ../checkpoints/stanford-crfm/alias-gpt2-small-x21/11300/pytorch_model.bin...\n"
     ]
    },
    {
     "name": "stderr",
     "output_type": "stream",
     "text": [
      "Retrieving alias checkpoints:  25%|██▍       | 15/61 [02:29<12:34, 16.41s/it]"
     ]
    },
    {
     "name": "stdout",
     "output_type": "stream",
     "text": [
      "Done.\n",
      "Checkpoint stanford-crfm/alias-gpt2-small-x21/12300 not found on AWS. Retrieving from HuggingFace.\n"
     ]
    },
    {
     "data": {
      "application/vnd.jupyter.widget-view+json": {
       "model_id": "6ce86259b81b493bab86020df866d1a9",
       "version_major": 2,
       "version_minor": 0
      },
      "text/plain": [
       "Downloading pytorch_model.bin:   0%|          | 0.00/261M [00:00<?, ?B/s]"
      ]
     },
     "metadata": {},
     "output_type": "display_data"
    },
    {
     "name": "stdout",
     "output_type": "stream",
     "text": [
      "Saving HF model to disk...\n",
      "Uploading HF model to AWS...\n",
      "Uploading ../checkpoints/stanford-crfm/alias-gpt2-small-x21/12300/config.json...\n",
      "Uploading ../checkpoints/stanford-crfm/alias-gpt2-small-x21/12300/generation_config.json...\n",
      "Uploading ../checkpoints/stanford-crfm/alias-gpt2-small-x21/12300/pytorch_model.bin...\n"
     ]
    },
    {
     "name": "stderr",
     "output_type": "stream",
     "text": [
      "Retrieving alias checkpoints:  26%|██▌       | 16/61 [02:56<14:23, 19.19s/it]"
     ]
    },
    {
     "name": "stdout",
     "output_type": "stream",
     "text": [
      "Done.\n",
      "Checkpoint stanford-crfm/alias-gpt2-small-x21/13300 not found on AWS. Retrieving from HuggingFace.\n"
     ]
    },
    {
     "data": {
      "application/vnd.jupyter.widget-view+json": {
       "model_id": "d2d35b6c9b9f4b8f9a53709dc1cd183a",
       "version_major": 2,
       "version_minor": 0
      },
      "text/plain": [
       "Downloading pytorch_model.bin:   0%|          | 0.00/261M [00:00<?, ?B/s]"
      ]
     },
     "metadata": {},
     "output_type": "display_data"
    },
    {
     "name": "stdout",
     "output_type": "stream",
     "text": [
      "Saving HF model to disk...\n",
      "Uploading HF model to AWS...\n",
      "Uploading ../checkpoints/stanford-crfm/alias-gpt2-small-x21/13300/config.json...\n",
      "Uploading ../checkpoints/stanford-crfm/alias-gpt2-small-x21/13300/generation_config.json...\n",
      "Uploading ../checkpoints/stanford-crfm/alias-gpt2-small-x21/13300/pytorch_model.bin...\n"
     ]
    },
    {
     "name": "stderr",
     "output_type": "stream",
     "text": [
      "Retrieving alias checkpoints:  28%|██▊       | 17/61 [03:24<15:39, 21.35s/it]"
     ]
    },
    {
     "name": "stdout",
     "output_type": "stream",
     "text": [
      "Done.\n",
      "Checkpoint stanford-crfm/alias-gpt2-small-x21/14300 not found on AWS. Retrieving from HuggingFace.\n"
     ]
    },
    {
     "data": {
      "application/vnd.jupyter.widget-view+json": {
       "model_id": "b4dda2354ef849d99855d14272b87a38",
       "version_major": 2,
       "version_minor": 0
      },
      "text/plain": [
       "Downloading pytorch_model.bin:   0%|          | 0.00/261M [00:00<?, ?B/s]"
      ]
     },
     "metadata": {},
     "output_type": "display_data"
    },
    {
     "name": "stdout",
     "output_type": "stream",
     "text": [
      "Saving HF model to disk...\n",
      "Uploading HF model to AWS...\n",
      "Uploading ../checkpoints/stanford-crfm/alias-gpt2-small-x21/14300/config.json...\n",
      "Uploading ../checkpoints/stanford-crfm/alias-gpt2-small-x21/14300/generation_config.json...\n",
      "Uploading ../checkpoints/stanford-crfm/alias-gpt2-small-x21/14300/pytorch_model.bin...\n"
     ]
    },
    {
     "name": "stderr",
     "output_type": "stream",
     "text": [
      "Retrieving alias checkpoints:  30%|██▉       | 18/61 [03:52<16:37, 23.20s/it]"
     ]
    },
    {
     "name": "stdout",
     "output_type": "stream",
     "text": [
      "Done.\n",
      "Checkpoint stanford-crfm/alias-gpt2-small-x21/15300 not found on AWS. Retrieving from HuggingFace.\n"
     ]
    },
    {
     "data": {
      "application/vnd.jupyter.widget-view+json": {
       "model_id": "5caca3485f554d5fba9f477a3f667086",
       "version_major": 2,
       "version_minor": 0
      },
      "text/plain": [
       "Downloading pytorch_model.bin:   0%|          | 0.00/261M [00:00<?, ?B/s]"
      ]
     },
     "metadata": {},
     "output_type": "display_data"
    },
    {
     "name": "stdout",
     "output_type": "stream",
     "text": [
      "Saving HF model to disk...\n",
      "Uploading HF model to AWS...\n",
      "Uploading ../checkpoints/stanford-crfm/alias-gpt2-small-x21/15300/config.json...\n",
      "Uploading ../checkpoints/stanford-crfm/alias-gpt2-small-x21/15300/generation_config.json...\n",
      "Uploading ../checkpoints/stanford-crfm/alias-gpt2-small-x21/15300/pytorch_model.bin...\n"
     ]
    },
    {
     "name": "stderr",
     "output_type": "stream",
     "text": [
      "Retrieving alias checkpoints:  31%|███       | 19/61 [04:12<15:39, 22.36s/it]"
     ]
    },
    {
     "name": "stdout",
     "output_type": "stream",
     "text": [
      "Done.\n",
      "Checkpoint stanford-crfm/alias-gpt2-small-x21/16300 not found on AWS. Retrieving from HuggingFace.\n"
     ]
    },
    {
     "data": {
      "application/vnd.jupyter.widget-view+json": {
       "model_id": "eccda574132747a6b82077770c077ff5",
       "version_major": 2,
       "version_minor": 0
      },
      "text/plain": [
       "Downloading pytorch_model.bin:   0%|          | 0.00/261M [00:00<?, ?B/s]"
      ]
     },
     "metadata": {},
     "output_type": "display_data"
    },
    {
     "name": "stdout",
     "output_type": "stream",
     "text": [
      "Saving HF model to disk...\n",
      "Uploading HF model to AWS...\n",
      "Uploading ../checkpoints/stanford-crfm/alias-gpt2-small-x21/16300/config.json...\n",
      "Uploading ../checkpoints/stanford-crfm/alias-gpt2-small-x21/16300/generation_config.json...\n",
      "Uploading ../checkpoints/stanford-crfm/alias-gpt2-small-x21/16300/pytorch_model.bin...\n"
     ]
    },
    {
     "name": "stderr",
     "output_type": "stream",
     "text": [
      "Retrieving alias checkpoints:  33%|███▎      | 20/61 [04:39<16:03, 23.49s/it]"
     ]
    },
    {
     "name": "stdout",
     "output_type": "stream",
     "text": [
      "Done.\n",
      "Checkpoint stanford-crfm/alias-gpt2-small-x21/17300 not found on AWS. Retrieving from HuggingFace.\n"
     ]
    },
    {
     "data": {
      "application/vnd.jupyter.widget-view+json": {
       "model_id": "053b0b30f61b4046b15fa33d150334fb",
       "version_major": 2,
       "version_minor": 0
      },
      "text/plain": [
       "Downloading pytorch_model.bin:   0%|          | 0.00/261M [00:00<?, ?B/s]"
      ]
     },
     "metadata": {},
     "output_type": "display_data"
    },
    {
     "name": "stdout",
     "output_type": "stream",
     "text": [
      "Saving HF model to disk...\n",
      "Uploading HF model to AWS...\n",
      "Uploading ../checkpoints/stanford-crfm/alias-gpt2-small-x21/17300/config.json...\n",
      "Uploading ../checkpoints/stanford-crfm/alias-gpt2-small-x21/17300/generation_config.json...\n",
      "Uploading ../checkpoints/stanford-crfm/alias-gpt2-small-x21/17300/pytorch_model.bin...\n"
     ]
    },
    {
     "name": "stderr",
     "output_type": "stream",
     "text": [
      "Retrieving alias checkpoints:  34%|███▍      | 21/61 [05:04<15:58, 23.97s/it]"
     ]
    },
    {
     "name": "stdout",
     "output_type": "stream",
     "text": [
      "Done.\n",
      "Checkpoint stanford-crfm/alias-gpt2-small-x21/18300 not found on AWS. Retrieving from HuggingFace.\n"
     ]
    },
    {
     "data": {
      "application/vnd.jupyter.widget-view+json": {
       "model_id": "68679c3d5fc243d990115ae8c2d77c2d",
       "version_major": 2,
       "version_minor": 0
      },
      "text/plain": [
       "Downloading pytorch_model.bin:   0%|          | 0.00/261M [00:00<?, ?B/s]"
      ]
     },
     "metadata": {},
     "output_type": "display_data"
    },
    {
     "name": "stdout",
     "output_type": "stream",
     "text": [
      "Saving HF model to disk...\n",
      "Uploading HF model to AWS...\n",
      "Uploading ../checkpoints/stanford-crfm/alias-gpt2-small-x21/18300/config.json...\n",
      "Uploading ../checkpoints/stanford-crfm/alias-gpt2-small-x21/18300/generation_config.json...\n",
      "Uploading ../checkpoints/stanford-crfm/alias-gpt2-small-x21/18300/pytorch_model.bin...\n"
     ]
    },
    {
     "name": "stderr",
     "output_type": "stream",
     "text": [
      "Retrieving alias checkpoints:  36%|███▌      | 22/61 [05:21<14:14, 21.92s/it]"
     ]
    },
    {
     "name": "stdout",
     "output_type": "stream",
     "text": [
      "Done.\n",
      "Checkpoint stanford-crfm/alias-gpt2-small-x21/19300 not found on AWS. Retrieving from HuggingFace.\n"
     ]
    },
    {
     "data": {
      "application/vnd.jupyter.widget-view+json": {
       "model_id": "f4ade06c3a8a48408eba2316201a23a8",
       "version_major": 2,
       "version_minor": 0
      },
      "text/plain": [
       "Downloading pytorch_model.bin:   0%|          | 0.00/261M [00:00<?, ?B/s]"
      ]
     },
     "metadata": {},
     "output_type": "display_data"
    },
    {
     "name": "stdout",
     "output_type": "stream",
     "text": [
      "Saving HF model to disk...\n",
      "Uploading HF model to AWS...\n",
      "Uploading ../checkpoints/stanford-crfm/alias-gpt2-small-x21/19300/config.json...\n",
      "Uploading ../checkpoints/stanford-crfm/alias-gpt2-small-x21/19300/generation_config.json...\n",
      "Uploading ../checkpoints/stanford-crfm/alias-gpt2-small-x21/19300/pytorch_model.bin...\n"
     ]
    },
    {
     "name": "stderr",
     "output_type": "stream",
     "text": [
      "Retrieving alias checkpoints:  38%|███▊      | 23/61 [05:49<15:03, 23.77s/it]"
     ]
    },
    {
     "name": "stdout",
     "output_type": "stream",
     "text": [
      "Done.\n",
      "Checkpoint stanford-crfm/alias-gpt2-small-x21/23000 not found on AWS. Retrieving from HuggingFace.\n"
     ]
    },
    {
     "data": {
      "application/vnd.jupyter.widget-view+json": {
       "model_id": "5dff4441562c4dc6bc36a76cae7a7d73",
       "version_major": 2,
       "version_minor": 0
      },
      "text/plain": [
       "Downloading pytorch_model.bin:   0%|          | 0.00/261M [00:00<?, ?B/s]"
      ]
     },
     "metadata": {},
     "output_type": "display_data"
    },
    {
     "name": "stdout",
     "output_type": "stream",
     "text": [
      "Saving HF model to disk...\n",
      "Uploading HF model to AWS...\n",
      "Uploading ../checkpoints/stanford-crfm/alias-gpt2-small-x21/23000/config.json...\n",
      "Uploading ../checkpoints/stanford-crfm/alias-gpt2-small-x21/23000/generation_config.json...\n",
      "Uploading ../checkpoints/stanford-crfm/alias-gpt2-small-x21/23000/pytorch_model.bin...\n"
     ]
    },
    {
     "name": "stderr",
     "output_type": "stream",
     "text": [
      "Retrieving alias checkpoints:  39%|███▉      | 24/61 [06:16<15:15, 24.75s/it]"
     ]
    },
    {
     "name": "stdout",
     "output_type": "stream",
     "text": [
      "Done.\n",
      "Checkpoint stanford-crfm/alias-gpt2-small-x21/33000 not found on AWS. Retrieving from HuggingFace.\n"
     ]
    },
    {
     "data": {
      "application/vnd.jupyter.widget-view+json": {
       "model_id": "c92964ce0695438689246afac09bb0a4",
       "version_major": 2,
       "version_minor": 0
      },
      "text/plain": [
       "Downloading pytorch_model.bin:   0%|          | 0.00/261M [00:00<?, ?B/s]"
      ]
     },
     "metadata": {},
     "output_type": "display_data"
    },
    {
     "name": "stdout",
     "output_type": "stream",
     "text": [
      "Saving HF model to disk...\n",
      "Uploading HF model to AWS...\n",
      "Uploading ../checkpoints/stanford-crfm/alias-gpt2-small-x21/33000/config.json...\n",
      "Uploading ../checkpoints/stanford-crfm/alias-gpt2-small-x21/33000/generation_config.json...\n",
      "Uploading ../checkpoints/stanford-crfm/alias-gpt2-small-x21/33000/pytorch_model.bin...\n"
     ]
    },
    {
     "name": "stderr",
     "output_type": "stream",
     "text": [
      "Retrieving alias checkpoints:  41%|████      | 25/61 [06:39<14:33, 24.26s/it]"
     ]
    },
    {
     "name": "stdout",
     "output_type": "stream",
     "text": [
      "Done.\n",
      "Checkpoint stanford-crfm/alias-gpt2-small-x21/43000 not found on AWS. Retrieving from HuggingFace.\n"
     ]
    },
    {
     "data": {
      "application/vnd.jupyter.widget-view+json": {
       "model_id": "5a6a1f77eeec4f6cb9e424e57a64d342",
       "version_major": 2,
       "version_minor": 0
      },
      "text/plain": [
       "Downloading pytorch_model.bin:   0%|          | 0.00/261M [00:00<?, ?B/s]"
      ]
     },
     "metadata": {},
     "output_type": "display_data"
    },
    {
     "name": "stdout",
     "output_type": "stream",
     "text": [
      "Saving HF model to disk...\n",
      "Uploading HF model to AWS...\n",
      "Uploading ../checkpoints/stanford-crfm/alias-gpt2-small-x21/43000/config.json...\n",
      "Uploading ../checkpoints/stanford-crfm/alias-gpt2-small-x21/43000/generation_config.json...\n",
      "Uploading ../checkpoints/stanford-crfm/alias-gpt2-small-x21/43000/pytorch_model.bin...\n"
     ]
    },
    {
     "name": "stderr",
     "output_type": "stream",
     "text": [
      "Retrieving alias checkpoints:  43%|████▎     | 26/61 [07:09<15:10, 26.00s/it]"
     ]
    },
    {
     "name": "stdout",
     "output_type": "stream",
     "text": [
      "Done.\n",
      "Checkpoint stanford-crfm/alias-gpt2-small-x21/53000 not found on AWS. Retrieving from HuggingFace.\n"
     ]
    },
    {
     "data": {
      "application/vnd.jupyter.widget-view+json": {
       "model_id": "5fbd5b60aee54b7d8a266fd9d780fa34",
       "version_major": 2,
       "version_minor": 0
      },
      "text/plain": [
       "Downloading pytorch_model.bin:   0%|          | 0.00/261M [00:00<?, ?B/s]"
      ]
     },
     "metadata": {},
     "output_type": "display_data"
    },
    {
     "name": "stdout",
     "output_type": "stream",
     "text": [
      "Saving HF model to disk...\n",
      "Uploading HF model to AWS...\n",
      "Uploading ../checkpoints/stanford-crfm/alias-gpt2-small-x21/53000/config.json...\n",
      "Uploading ../checkpoints/stanford-crfm/alias-gpt2-small-x21/53000/generation_config.json...\n",
      "Uploading ../checkpoints/stanford-crfm/alias-gpt2-small-x21/53000/pytorch_model.bin...\n"
     ]
    },
    {
     "name": "stderr",
     "output_type": "stream",
     "text": [
      "Retrieving alias checkpoints:  44%|████▍     | 27/61 [07:27<13:17, 23.46s/it]"
     ]
    },
    {
     "name": "stdout",
     "output_type": "stream",
     "text": [
      "Done.\n",
      "Checkpoint stanford-crfm/alias-gpt2-small-x21/63000 not found on AWS. Retrieving from HuggingFace.\n"
     ]
    },
    {
     "data": {
      "application/vnd.jupyter.widget-view+json": {
       "model_id": "30c14595e8794d839b6d0c5b2f48d556",
       "version_major": 2,
       "version_minor": 0
      },
      "text/plain": [
       "Downloading pytorch_model.bin:   0%|          | 0.00/261M [00:00<?, ?B/s]"
      ]
     },
     "metadata": {},
     "output_type": "display_data"
    },
    {
     "name": "stdout",
     "output_type": "stream",
     "text": [
      "Saving HF model to disk...\n",
      "Uploading HF model to AWS...\n",
      "Uploading ../checkpoints/stanford-crfm/alias-gpt2-small-x21/63000/config.json...\n",
      "Uploading ../checkpoints/stanford-crfm/alias-gpt2-small-x21/63000/generation_config.json...\n",
      "Uploading ../checkpoints/stanford-crfm/alias-gpt2-small-x21/63000/pytorch_model.bin...\n"
     ]
    },
    {
     "name": "stderr",
     "output_type": "stream",
     "text": [
      "Retrieving alias checkpoints:  46%|████▌     | 28/61 [07:54<13:28, 24.50s/it]"
     ]
    },
    {
     "name": "stdout",
     "output_type": "stream",
     "text": [
      "Done.\n",
      "Checkpoint stanford-crfm/alias-gpt2-small-x21/73000 not found on AWS. Retrieving from HuggingFace.\n"
     ]
    },
    {
     "data": {
      "application/vnd.jupyter.widget-view+json": {
       "model_id": "2c025a8a88ce4677ba34aef408bc5a8a",
       "version_major": 2,
       "version_minor": 0
      },
      "text/plain": [
       "Downloading pytorch_model.bin:   0%|          | 0.00/261M [00:00<?, ?B/s]"
      ]
     },
     "metadata": {},
     "output_type": "display_data"
    },
    {
     "name": "stdout",
     "output_type": "stream",
     "text": [
      "Saving HF model to disk...\n",
      "Uploading HF model to AWS...\n",
      "Uploading ../checkpoints/stanford-crfm/alias-gpt2-small-x21/73000/config.json...\n",
      "Uploading ../checkpoints/stanford-crfm/alias-gpt2-small-x21/73000/generation_config.json...\n",
      "Uploading ../checkpoints/stanford-crfm/alias-gpt2-small-x21/73000/pytorch_model.bin...\n"
     ]
    },
    {
     "name": "stderr",
     "output_type": "stream",
     "text": [
      "Retrieving alias checkpoints:  48%|████▊     | 29/61 [08:20<13:19, 24.99s/it]"
     ]
    },
    {
     "name": "stdout",
     "output_type": "stream",
     "text": [
      "Done.\n",
      "Checkpoint stanford-crfm/alias-gpt2-small-x21/83000 not found on AWS. Retrieving from HuggingFace.\n"
     ]
    },
    {
     "data": {
      "application/vnd.jupyter.widget-view+json": {
       "model_id": "93d7a03c822240d582392fa28529646a",
       "version_major": 2,
       "version_minor": 0
      },
      "text/plain": [
       "Downloading pytorch_model.bin:   0%|          | 0.00/261M [00:00<?, ?B/s]"
      ]
     },
     "metadata": {},
     "output_type": "display_data"
    },
    {
     "name": "stdout",
     "output_type": "stream",
     "text": [
      "Saving HF model to disk...\n",
      "Uploading HF model to AWS...\n",
      "Uploading ../checkpoints/stanford-crfm/alias-gpt2-small-x21/83000/config.json...\n",
      "Uploading ../checkpoints/stanford-crfm/alias-gpt2-small-x21/83000/generation_config.json...\n",
      "Uploading ../checkpoints/stanford-crfm/alias-gpt2-small-x21/83000/pytorch_model.bin...\n"
     ]
    },
    {
     "name": "stderr",
     "output_type": "stream",
     "text": [
      "Retrieving alias checkpoints:  49%|████▉     | 30/61 [08:40<12:13, 23.66s/it]"
     ]
    },
    {
     "name": "stdout",
     "output_type": "stream",
     "text": [
      "Done.\n",
      "Checkpoint stanford-crfm/alias-gpt2-small-x21/93000 not found on AWS. Retrieving from HuggingFace.\n"
     ]
    },
    {
     "data": {
      "application/vnd.jupyter.widget-view+json": {
       "model_id": "716426d10c214a35a4416d83c77cd1b5",
       "version_major": 2,
       "version_minor": 0
      },
      "text/plain": [
       "Downloading pytorch_model.bin:   0%|          | 0.00/261M [00:00<?, ?B/s]"
      ]
     },
     "metadata": {},
     "output_type": "display_data"
    },
    {
     "name": "stdout",
     "output_type": "stream",
     "text": [
      "Saving HF model to disk...\n",
      "Uploading HF model to AWS...\n",
      "Uploading ../checkpoints/stanford-crfm/alias-gpt2-small-x21/93000/config.json...\n",
      "Uploading ../checkpoints/stanford-crfm/alias-gpt2-small-x21/93000/generation_config.json...\n",
      "Uploading ../checkpoints/stanford-crfm/alias-gpt2-small-x21/93000/pytorch_model.bin...\n"
     ]
    },
    {
     "name": "stderr",
     "output_type": "stream",
     "text": [
      "Retrieving alias checkpoints:  51%|█████     | 31/61 [09:10<12:40, 25.34s/it]"
     ]
    },
    {
     "name": "stdout",
     "output_type": "stream",
     "text": [
      "Done.\n",
      "Checkpoint stanford-crfm/alias-gpt2-small-x21/103000 not found on AWS. Retrieving from HuggingFace.\n"
     ]
    },
    {
     "data": {
      "application/vnd.jupyter.widget-view+json": {
       "model_id": "903a1a3c9f4c4bd68aaa27e3008e78f2",
       "version_major": 2,
       "version_minor": 0
      },
      "text/plain": [
       "Downloading pytorch_model.bin:   0%|          | 0.00/261M [00:00<?, ?B/s]"
      ]
     },
     "metadata": {},
     "output_type": "display_data"
    },
    {
     "name": "stdout",
     "output_type": "stream",
     "text": [
      "Saving HF model to disk...\n",
      "Uploading HF model to AWS...\n",
      "Uploading ../checkpoints/stanford-crfm/alias-gpt2-small-x21/103000/config.json...\n",
      "Uploading ../checkpoints/stanford-crfm/alias-gpt2-small-x21/103000/generation_config.json...\n",
      "Uploading ../checkpoints/stanford-crfm/alias-gpt2-small-x21/103000/pytorch_model.bin...\n"
     ]
    },
    {
     "name": "stderr",
     "output_type": "stream",
     "text": [
      "Retrieving alias checkpoints:  52%|█████▏    | 32/61 [09:27<11:07, 23.01s/it]"
     ]
    },
    {
     "name": "stdout",
     "output_type": "stream",
     "text": [
      "Done.\n",
      "Checkpoint stanford-crfm/alias-gpt2-small-x21/113000 not found on AWS. Retrieving from HuggingFace.\n"
     ]
    },
    {
     "data": {
      "application/vnd.jupyter.widget-view+json": {
       "model_id": "e1b32ee2a7874280acba7d00e58287e1",
       "version_major": 2,
       "version_minor": 0
      },
      "text/plain": [
       "Downloading pytorch_model.bin:   0%|          | 0.00/261M [00:00<?, ?B/s]"
      ]
     },
     "metadata": {},
     "output_type": "display_data"
    },
    {
     "name": "stdout",
     "output_type": "stream",
     "text": [
      "Saving HF model to disk...\n",
      "Uploading HF model to AWS...\n",
      "Uploading ../checkpoints/stanford-crfm/alias-gpt2-small-x21/113000/config.json...\n",
      "Uploading ../checkpoints/stanford-crfm/alias-gpt2-small-x21/113000/generation_config.json...\n",
      "Uploading ../checkpoints/stanford-crfm/alias-gpt2-small-x21/113000/pytorch_model.bin...\n"
     ]
    },
    {
     "name": "stderr",
     "output_type": "stream",
     "text": [
      "Retrieving alias checkpoints:  54%|█████▍    | 33/61 [09:57<11:43, 25.11s/it]"
     ]
    },
    {
     "name": "stdout",
     "output_type": "stream",
     "text": [
      "Done.\n",
      "Checkpoint stanford-crfm/alias-gpt2-small-x21/123000 not found on AWS. Retrieving from HuggingFace.\n"
     ]
    },
    {
     "data": {
      "application/vnd.jupyter.widget-view+json": {
       "model_id": "5d58c8a3d4904765b8d7c4e876b1f740",
       "version_major": 2,
       "version_minor": 0
      },
      "text/plain": [
       "Downloading pytorch_model.bin:   0%|          | 0.00/261M [00:00<?, ?B/s]"
      ]
     },
     "metadata": {},
     "output_type": "display_data"
    },
    {
     "name": "stdout",
     "output_type": "stream",
     "text": [
      "Saving HF model to disk...\n",
      "Uploading HF model to AWS...\n",
      "Uploading ../checkpoints/stanford-crfm/alias-gpt2-small-x21/123000/config.json...\n",
      "Uploading ../checkpoints/stanford-crfm/alias-gpt2-small-x21/123000/generation_config.json...\n",
      "Uploading ../checkpoints/stanford-crfm/alias-gpt2-small-x21/123000/pytorch_model.bin...\n"
     ]
    },
    {
     "name": "stderr",
     "output_type": "stream",
     "text": [
      "Retrieving alias checkpoints:  56%|█████▌    | 34/61 [10:23<11:23, 25.33s/it]"
     ]
    },
    {
     "name": "stdout",
     "output_type": "stream",
     "text": [
      "Done.\n",
      "Checkpoint stanford-crfm/alias-gpt2-small-x21/133000 not found on AWS. Retrieving from HuggingFace.\n"
     ]
    },
    {
     "data": {
      "application/vnd.jupyter.widget-view+json": {
       "model_id": "c746e13681564465960ca218070f9a9a",
       "version_major": 2,
       "version_minor": 0
      },
      "text/plain": [
       "Downloading pytorch_model.bin:   0%|          | 0.00/261M [00:00<?, ?B/s]"
      ]
     },
     "metadata": {},
     "output_type": "display_data"
    },
    {
     "name": "stdout",
     "output_type": "stream",
     "text": [
      "Saving HF model to disk...\n",
      "Uploading HF model to AWS...\n",
      "Uploading ../checkpoints/stanford-crfm/alias-gpt2-small-x21/133000/config.json...\n",
      "Uploading ../checkpoints/stanford-crfm/alias-gpt2-small-x21/133000/generation_config.json...\n",
      "Uploading ../checkpoints/stanford-crfm/alias-gpt2-small-x21/133000/pytorch_model.bin...\n"
     ]
    },
    {
     "name": "stderr",
     "output_type": "stream",
     "text": [
      "Retrieving alias checkpoints:  57%|█████▋    | 35/61 [10:48<10:58, 25.33s/it]"
     ]
    },
    {
     "name": "stdout",
     "output_type": "stream",
     "text": [
      "Done.\n",
      "Checkpoint stanford-crfm/alias-gpt2-small-x21/143000 not found on AWS. Retrieving from HuggingFace.\n"
     ]
    },
    {
     "data": {
      "application/vnd.jupyter.widget-view+json": {
       "model_id": "a59c6d8db9f444ac973fef9707e67151",
       "version_major": 2,
       "version_minor": 0
      },
      "text/plain": [
       "Downloading pytorch_model.bin:   0%|          | 0.00/261M [00:00<?, ?B/s]"
      ]
     },
     "metadata": {},
     "output_type": "display_data"
    },
    {
     "name": "stdout",
     "output_type": "stream",
     "text": [
      "Saving HF model to disk...\n",
      "Uploading HF model to AWS...\n",
      "Uploading ../checkpoints/stanford-crfm/alias-gpt2-small-x21/143000/config.json...\n",
      "Uploading ../checkpoints/stanford-crfm/alias-gpt2-small-x21/143000/generation_config.json...\n",
      "Uploading ../checkpoints/stanford-crfm/alias-gpt2-small-x21/143000/pytorch_model.bin...\n"
     ]
    },
    {
     "name": "stderr",
     "output_type": "stream",
     "text": [
      "Retrieving alias checkpoints:  59%|█████▉    | 36/61 [11:15<10:40, 25.62s/it]"
     ]
    },
    {
     "name": "stdout",
     "output_type": "stream",
     "text": [
      "Done.\n",
      "Checkpoint stanford-crfm/alias-gpt2-small-x21/153000 not found on AWS. Retrieving from HuggingFace.\n"
     ]
    },
    {
     "data": {
      "application/vnd.jupyter.widget-view+json": {
       "model_id": "3aeb3cfefd9f4096b112c7d606c0ac5c",
       "version_major": 2,
       "version_minor": 0
      },
      "text/plain": [
       "Downloading pytorch_model.bin:   0%|          | 0.00/261M [00:00<?, ?B/s]"
      ]
     },
     "metadata": {},
     "output_type": "display_data"
    },
    {
     "name": "stdout",
     "output_type": "stream",
     "text": [
      "Saving HF model to disk...\n",
      "Uploading HF model to AWS...\n",
      "Uploading ../checkpoints/stanford-crfm/alias-gpt2-small-x21/153000/config.json...\n",
      "Uploading ../checkpoints/stanford-crfm/alias-gpt2-small-x21/153000/generation_config.json...\n",
      "Uploading ../checkpoints/stanford-crfm/alias-gpt2-small-x21/153000/pytorch_model.bin...\n"
     ]
    },
    {
     "name": "stderr",
     "output_type": "stream",
     "text": [
      "Retrieving alias checkpoints:  61%|██████    | 37/61 [11:40<10:14, 25.60s/it]"
     ]
    },
    {
     "name": "stdout",
     "output_type": "stream",
     "text": [
      "Done.\n",
      "Checkpoint stanford-crfm/alias-gpt2-small-x21/163000 not found on AWS. Retrieving from HuggingFace.\n"
     ]
    },
    {
     "data": {
      "application/vnd.jupyter.widget-view+json": {
       "model_id": "65aab0bb47dc4447a767374d60d2be82",
       "version_major": 2,
       "version_minor": 0
      },
      "text/plain": [
       "Downloading pytorch_model.bin:   0%|          | 0.00/261M [00:00<?, ?B/s]"
      ]
     },
     "metadata": {},
     "output_type": "display_data"
    },
    {
     "name": "stdout",
     "output_type": "stream",
     "text": [
      "Saving HF model to disk...\n",
      "Uploading HF model to AWS...\n",
      "Uploading ../checkpoints/stanford-crfm/alias-gpt2-small-x21/163000/config.json...\n",
      "Uploading ../checkpoints/stanford-crfm/alias-gpt2-small-x21/163000/generation_config.json...\n",
      "Uploading ../checkpoints/stanford-crfm/alias-gpt2-small-x21/163000/pytorch_model.bin...\n"
     ]
    },
    {
     "name": "stderr",
     "output_type": "stream",
     "text": [
      "Retrieving alias checkpoints:  62%|██████▏   | 38/61 [12:10<10:15, 26.76s/it]"
     ]
    },
    {
     "name": "stdout",
     "output_type": "stream",
     "text": [
      "Done.\n",
      "Checkpoint stanford-crfm/alias-gpt2-small-x21/173000 not found on AWS. Retrieving from HuggingFace.\n"
     ]
    },
    {
     "data": {
      "application/vnd.jupyter.widget-view+json": {
       "model_id": "87e1826e8b34462ab7ffb15a5c733bd9",
       "version_major": 2,
       "version_minor": 0
      },
      "text/plain": [
       "Downloading pytorch_model.bin:   0%|          | 0.00/261M [00:00<?, ?B/s]"
      ]
     },
     "metadata": {},
     "output_type": "display_data"
    },
    {
     "name": "stdout",
     "output_type": "stream",
     "text": [
      "Saving HF model to disk...\n",
      "Uploading HF model to AWS...\n",
      "Uploading ../checkpoints/stanford-crfm/alias-gpt2-small-x21/173000/config.json...\n",
      "Uploading ../checkpoints/stanford-crfm/alias-gpt2-small-x21/173000/generation_config.json...\n",
      "Uploading ../checkpoints/stanford-crfm/alias-gpt2-small-x21/173000/pytorch_model.bin...\n"
     ]
    },
    {
     "name": "stderr",
     "output_type": "stream",
     "text": [
      "Retrieving alias checkpoints:  64%|██████▍   | 39/61 [12:36<09:44, 26.58s/it]"
     ]
    },
    {
     "name": "stdout",
     "output_type": "stream",
     "text": [
      "Done.\n",
      "Checkpoint stanford-crfm/alias-gpt2-small-x21/183000 not found on AWS. Retrieving from HuggingFace.\n"
     ]
    },
    {
     "data": {
      "application/vnd.jupyter.widget-view+json": {
       "model_id": "e1b341070cd94c048b7d1e038fc056da",
       "version_major": 2,
       "version_minor": 0
      },
      "text/plain": [
       "Downloading pytorch_model.bin:   0%|          | 0.00/261M [00:00<?, ?B/s]"
      ]
     },
     "metadata": {},
     "output_type": "display_data"
    },
    {
     "name": "stdout",
     "output_type": "stream",
     "text": [
      "Saving HF model to disk...\n",
      "Uploading HF model to AWS...\n",
      "Uploading ../checkpoints/stanford-crfm/alias-gpt2-small-x21/183000/config.json...\n",
      "Uploading ../checkpoints/stanford-crfm/alias-gpt2-small-x21/183000/generation_config.json...\n",
      "Uploading ../checkpoints/stanford-crfm/alias-gpt2-small-x21/183000/pytorch_model.bin...\n"
     ]
    },
    {
     "name": "stderr",
     "output_type": "stream",
     "text": [
      "Retrieving alias checkpoints:  66%|██████▌   | 40/61 [13:02<09:14, 26.41s/it]"
     ]
    },
    {
     "name": "stdout",
     "output_type": "stream",
     "text": [
      "Done.\n",
      "Checkpoint stanford-crfm/alias-gpt2-small-x21/193000 not found on AWS. Retrieving from HuggingFace.\n"
     ]
    },
    {
     "data": {
      "application/vnd.jupyter.widget-view+json": {
       "model_id": "28d96b698bd04dccb0ac3351b20872d1",
       "version_major": 2,
       "version_minor": 0
      },
      "text/plain": [
       "Downloading pytorch_model.bin:   0%|          | 0.00/261M [00:00<?, ?B/s]"
      ]
     },
     "metadata": {},
     "output_type": "display_data"
    },
    {
     "name": "stdout",
     "output_type": "stream",
     "text": [
      "Saving HF model to disk...\n",
      "Uploading HF model to AWS...\n",
      "Uploading ../checkpoints/stanford-crfm/alias-gpt2-small-x21/193000/config.json...\n",
      "Uploading ../checkpoints/stanford-crfm/alias-gpt2-small-x21/193000/generation_config.json...\n",
      "Uploading ../checkpoints/stanford-crfm/alias-gpt2-small-x21/193000/pytorch_model.bin...\n"
     ]
    },
    {
     "name": "stderr",
     "output_type": "stream",
     "text": [
      "Retrieving alias checkpoints:  67%|██████▋   | 41/61 [13:34<09:22, 28.13s/it]"
     ]
    },
    {
     "name": "stdout",
     "output_type": "stream",
     "text": [
      "Done.\n",
      "Checkpoint stanford-crfm/alias-gpt2-small-x21/203000 not found on AWS. Retrieving from HuggingFace.\n"
     ]
    },
    {
     "data": {
      "application/vnd.jupyter.widget-view+json": {
       "model_id": "a53e34d190e848d8888fac37c49bdd5c",
       "version_major": 2,
       "version_minor": 0
      },
      "text/plain": [
       "Downloading pytorch_model.bin:   0%|          | 0.00/261M [00:00<?, ?B/s]"
      ]
     },
     "metadata": {},
     "output_type": "display_data"
    },
    {
     "name": "stdout",
     "output_type": "stream",
     "text": [
      "Saving HF model to disk...\n",
      "Uploading HF model to AWS...\n",
      "Uploading ../checkpoints/stanford-crfm/alias-gpt2-small-x21/203000/config.json...\n",
      "Uploading ../checkpoints/stanford-crfm/alias-gpt2-small-x21/203000/generation_config.json...\n",
      "Uploading ../checkpoints/stanford-crfm/alias-gpt2-small-x21/203000/pytorch_model.bin...\n"
     ]
    },
    {
     "name": "stderr",
     "output_type": "stream",
     "text": [
      "Retrieving alias checkpoints:  69%|██████▉   | 42/61 [13:55<08:11, 25.88s/it]"
     ]
    },
    {
     "name": "stdout",
     "output_type": "stream",
     "text": [
      "Done.\n",
      "Checkpoint stanford-crfm/alias-gpt2-small-x21/213000 not found on AWS. Retrieving from HuggingFace.\n"
     ]
    },
    {
     "data": {
      "application/vnd.jupyter.widget-view+json": {
       "model_id": "75a56b1b1b9f4a24a49091db49937300",
       "version_major": 2,
       "version_minor": 0
      },
      "text/plain": [
       "Downloading pytorch_model.bin:   0%|          | 0.00/261M [00:00<?, ?B/s]"
      ]
     },
     "metadata": {},
     "output_type": "display_data"
    },
    {
     "name": "stdout",
     "output_type": "stream",
     "text": [
      "Saving HF model to disk...\n",
      "Uploading HF model to AWS...\n",
      "Uploading ../checkpoints/stanford-crfm/alias-gpt2-small-x21/213000/config.json...\n",
      "Uploading ../checkpoints/stanford-crfm/alias-gpt2-small-x21/213000/generation_config.json...\n",
      "Uploading ../checkpoints/stanford-crfm/alias-gpt2-small-x21/213000/pytorch_model.bin...\n"
     ]
    },
    {
     "name": "stderr",
     "output_type": "stream",
     "text": [
      "Retrieving alias checkpoints:  70%|███████   | 43/61 [14:29<08:30, 28.36s/it]"
     ]
    },
    {
     "name": "stdout",
     "output_type": "stream",
     "text": [
      "Done.\n",
      "Checkpoint stanford-crfm/alias-gpt2-small-x21/223000 not found on AWS. Retrieving from HuggingFace.\n"
     ]
    },
    {
     "data": {
      "application/vnd.jupyter.widget-view+json": {
       "model_id": "3db06187edee488a9a4fef04e6f19bfb",
       "version_major": 2,
       "version_minor": 0
      },
      "text/plain": [
       "Downloading pytorch_model.bin:   0%|          | 0.00/261M [00:00<?, ?B/s]"
      ]
     },
     "metadata": {},
     "output_type": "display_data"
    },
    {
     "name": "stdout",
     "output_type": "stream",
     "text": [
      "Saving HF model to disk...\n",
      "Uploading HF model to AWS...\n",
      "Uploading ../checkpoints/stanford-crfm/alias-gpt2-small-x21/223000/config.json...\n",
      "Uploading ../checkpoints/stanford-crfm/alias-gpt2-small-x21/223000/generation_config.json...\n",
      "Uploading ../checkpoints/stanford-crfm/alias-gpt2-small-x21/223000/pytorch_model.bin...\n"
     ]
    },
    {
     "name": "stderr",
     "output_type": "stream",
     "text": [
      "Retrieving alias checkpoints:  72%|███████▏  | 44/61 [14:55<07:50, 27.67s/it]"
     ]
    },
    {
     "name": "stdout",
     "output_type": "stream",
     "text": [
      "Done.\n",
      "Checkpoint stanford-crfm/alias-gpt2-small-x21/233000 not found on AWS. Retrieving from HuggingFace.\n"
     ]
    },
    {
     "data": {
      "application/vnd.jupyter.widget-view+json": {
       "model_id": "3bfc63918e3741f8b063648eafb2bf86",
       "version_major": 2,
       "version_minor": 0
      },
      "text/plain": [
       "Downloading pytorch_model.bin:   0%|          | 0.00/261M [00:00<?, ?B/s]"
      ]
     },
     "metadata": {},
     "output_type": "display_data"
    },
    {
     "name": "stdout",
     "output_type": "stream",
     "text": [
      "Saving HF model to disk...\n",
      "Uploading HF model to AWS...\n",
      "Uploading ../checkpoints/stanford-crfm/alias-gpt2-small-x21/233000/config.json...\n",
      "Uploading ../checkpoints/stanford-crfm/alias-gpt2-small-x21/233000/generation_config.json...\n",
      "Uploading ../checkpoints/stanford-crfm/alias-gpt2-small-x21/233000/pytorch_model.bin...\n"
     ]
    },
    {
     "name": "stderr",
     "output_type": "stream",
     "text": [
      "Retrieving alias checkpoints:  74%|███████▍  | 45/61 [15:20<07:08, 26.79s/it]"
     ]
    },
    {
     "name": "stdout",
     "output_type": "stream",
     "text": [
      "Done.\n",
      "Checkpoint stanford-crfm/alias-gpt2-small-x21/243000 not found on AWS. Retrieving from HuggingFace.\n"
     ]
    },
    {
     "data": {
      "application/vnd.jupyter.widget-view+json": {
       "model_id": "9430c75bdbc14e528d4601ed31e723a6",
       "version_major": 2,
       "version_minor": 0
      },
      "text/plain": [
       "Downloading pytorch_model.bin:   0%|          | 0.00/261M [00:00<?, ?B/s]"
      ]
     },
     "metadata": {},
     "output_type": "display_data"
    },
    {
     "name": "stdout",
     "output_type": "stream",
     "text": [
      "Saving HF model to disk...\n",
      "Uploading HF model to AWS...\n",
      "Uploading ../checkpoints/stanford-crfm/alias-gpt2-small-x21/243000/config.json...\n",
      "Uploading ../checkpoints/stanford-crfm/alias-gpt2-small-x21/243000/generation_config.json...\n",
      "Uploading ../checkpoints/stanford-crfm/alias-gpt2-small-x21/243000/pytorch_model.bin...\n"
     ]
    },
    {
     "name": "stderr",
     "output_type": "stream",
     "text": [
      "Retrieving alias checkpoints:  75%|███████▌  | 46/61 [15:44<06:32, 26.15s/it]"
     ]
    },
    {
     "name": "stdout",
     "output_type": "stream",
     "text": [
      "Done.\n",
      "Checkpoint stanford-crfm/alias-gpt2-small-x21/253000 not found on AWS. Retrieving from HuggingFace.\n"
     ]
    },
    {
     "data": {
      "application/vnd.jupyter.widget-view+json": {
       "model_id": "3ad83947e75f467ba40b13f1140b444f",
       "version_major": 2,
       "version_minor": 0
      },
      "text/plain": [
       "Downloading pytorch_model.bin:   0%|          | 0.00/261M [00:00<?, ?B/s]"
      ]
     },
     "metadata": {},
     "output_type": "display_data"
    },
    {
     "name": "stdout",
     "output_type": "stream",
     "text": [
      "Saving HF model to disk...\n",
      "Uploading HF model to AWS...\n",
      "Uploading ../checkpoints/stanford-crfm/alias-gpt2-small-x21/253000/config.json...\n",
      "Uploading ../checkpoints/stanford-crfm/alias-gpt2-small-x21/253000/generation_config.json...\n",
      "Uploading ../checkpoints/stanford-crfm/alias-gpt2-small-x21/253000/pytorch_model.bin...\n"
     ]
    },
    {
     "name": "stderr",
     "output_type": "stream",
     "text": [
      "Retrieving alias checkpoints:  77%|███████▋  | 47/61 [16:11<06:07, 26.28s/it]"
     ]
    },
    {
     "name": "stdout",
     "output_type": "stream",
     "text": [
      "Done.\n",
      "Checkpoint stanford-crfm/alias-gpt2-small-x21/263000 not found on AWS. Retrieving from HuggingFace.\n"
     ]
    },
    {
     "data": {
      "application/vnd.jupyter.widget-view+json": {
       "model_id": "0a52d5f119ce43c999aa8ff1a7acca49",
       "version_major": 2,
       "version_minor": 0
      },
      "text/plain": [
       "Downloading pytorch_model.bin:   0%|          | 0.00/261M [00:00<?, ?B/s]"
      ]
     },
     "metadata": {},
     "output_type": "display_data"
    },
    {
     "name": "stdout",
     "output_type": "stream",
     "text": [
      "Saving HF model to disk...\n",
      "Uploading HF model to AWS...\n",
      "Uploading ../checkpoints/stanford-crfm/alias-gpt2-small-x21/263000/config.json...\n",
      "Uploading ../checkpoints/stanford-crfm/alias-gpt2-small-x21/263000/generation_config.json...\n",
      "Uploading ../checkpoints/stanford-crfm/alias-gpt2-small-x21/263000/pytorch_model.bin...\n"
     ]
    },
    {
     "name": "stderr",
     "output_type": "stream",
     "text": [
      "Retrieving alias checkpoints:  79%|███████▊  | 48/61 [16:37<05:41, 26.26s/it]"
     ]
    },
    {
     "name": "stdout",
     "output_type": "stream",
     "text": [
      "Done.\n",
      "Checkpoint stanford-crfm/alias-gpt2-small-x21/273000 not found on AWS. Retrieving from HuggingFace.\n"
     ]
    },
    {
     "data": {
      "application/vnd.jupyter.widget-view+json": {
       "model_id": "024c4b81a8434051aca1df7d5c298171",
       "version_major": 2,
       "version_minor": 0
      },
      "text/plain": [
       "Downloading pytorch_model.bin:   0%|          | 0.00/261M [00:00<?, ?B/s]"
      ]
     },
     "metadata": {},
     "output_type": "display_data"
    },
    {
     "name": "stdout",
     "output_type": "stream",
     "text": [
      "Saving HF model to disk...\n",
      "Uploading HF model to AWS...\n",
      "Uploading ../checkpoints/stanford-crfm/alias-gpt2-small-x21/273000/config.json...\n",
      "Uploading ../checkpoints/stanford-crfm/alias-gpt2-small-x21/273000/generation_config.json...\n",
      "Uploading ../checkpoints/stanford-crfm/alias-gpt2-small-x21/273000/pytorch_model.bin...\n"
     ]
    },
    {
     "name": "stderr",
     "output_type": "stream",
     "text": [
      "Retrieving alias checkpoints:  80%|████████  | 49/61 [17:03<05:12, 26.06s/it]"
     ]
    },
    {
     "name": "stdout",
     "output_type": "stream",
     "text": [
      "Done.\n",
      "Checkpoint stanford-crfm/alias-gpt2-small-x21/283000 not found on AWS. Retrieving from HuggingFace.\n"
     ]
    },
    {
     "data": {
      "application/vnd.jupyter.widget-view+json": {
       "model_id": "55e3facf0ad54a9c9278a7409b99249c",
       "version_major": 2,
       "version_minor": 0
      },
      "text/plain": [
       "Downloading pytorch_model.bin:   0%|          | 0.00/261M [00:00<?, ?B/s]"
      ]
     },
     "metadata": {},
     "output_type": "display_data"
    },
    {
     "name": "stdout",
     "output_type": "stream",
     "text": [
      "Saving HF model to disk...\n",
      "Uploading HF model to AWS...\n",
      "Uploading ../checkpoints/stanford-crfm/alias-gpt2-small-x21/283000/config.json...\n",
      "Uploading ../checkpoints/stanford-crfm/alias-gpt2-small-x21/283000/generation_config.json...\n",
      "Uploading ../checkpoints/stanford-crfm/alias-gpt2-small-x21/283000/pytorch_model.bin...\n"
     ]
    },
    {
     "name": "stderr",
     "output_type": "stream",
     "text": [
      "Retrieving alias checkpoints:  82%|████████▏ | 50/61 [17:31<04:55, 26.83s/it]"
     ]
    },
    {
     "name": "stdout",
     "output_type": "stream",
     "text": [
      "Done.\n",
      "Checkpoint stanford-crfm/alias-gpt2-small-x21/293000 not found on AWS. Retrieving from HuggingFace.\n"
     ]
    },
    {
     "data": {
      "application/vnd.jupyter.widget-view+json": {
       "model_id": "94095325a2fb42e187320773687ed6bf",
       "version_major": 2,
       "version_minor": 0
      },
      "text/plain": [
       "Downloading pytorch_model.bin:   0%|          | 0.00/261M [00:00<?, ?B/s]"
      ]
     },
     "metadata": {},
     "output_type": "display_data"
    },
    {
     "name": "stdout",
     "output_type": "stream",
     "text": [
      "Saving HF model to disk...\n",
      "Uploading HF model to AWS...\n",
      "Uploading ../checkpoints/stanford-crfm/alias-gpt2-small-x21/293000/config.json...\n",
      "Uploading ../checkpoints/stanford-crfm/alias-gpt2-small-x21/293000/generation_config.json...\n",
      "Uploading ../checkpoints/stanford-crfm/alias-gpt2-small-x21/293000/pytorch_model.bin...\n"
     ]
    },
    {
     "name": "stderr",
     "output_type": "stream",
     "text": [
      "Retrieving alias checkpoints:  84%|████████▎ | 51/61 [17:55<04:18, 25.81s/it]"
     ]
    },
    {
     "name": "stdout",
     "output_type": "stream",
     "text": [
      "Done.\n",
      "Checkpoint stanford-crfm/alias-gpt2-small-x21/303000 not found on AWS. Retrieving from HuggingFace.\n"
     ]
    },
    {
     "data": {
      "application/vnd.jupyter.widget-view+json": {
       "model_id": "b6d86702b3a940cd91de5b5e4c1fc85e",
       "version_major": 2,
       "version_minor": 0
      },
      "text/plain": [
       "Downloading pytorch_model.bin:   0%|          | 0.00/261M [00:00<?, ?B/s]"
      ]
     },
     "metadata": {},
     "output_type": "display_data"
    },
    {
     "name": "stdout",
     "output_type": "stream",
     "text": [
      "Saving HF model to disk...\n",
      "Uploading HF model to AWS...\n",
      "Uploading ../checkpoints/stanford-crfm/alias-gpt2-small-x21/303000/config.json...\n",
      "Uploading ../checkpoints/stanford-crfm/alias-gpt2-small-x21/303000/generation_config.json...\n",
      "Uploading ../checkpoints/stanford-crfm/alias-gpt2-small-x21/303000/pytorch_model.bin...\n"
     ]
    },
    {
     "name": "stderr",
     "output_type": "stream",
     "text": [
      "Retrieving alias checkpoints:  85%|████████▌ | 52/61 [18:25<04:03, 27.02s/it]"
     ]
    },
    {
     "name": "stdout",
     "output_type": "stream",
     "text": [
      "Done.\n",
      "Checkpoint stanford-crfm/alias-gpt2-small-x21/313000 not found on AWS. Retrieving from HuggingFace.\n"
     ]
    },
    {
     "data": {
      "application/vnd.jupyter.widget-view+json": {
       "model_id": "bf87d80e459f41459b00788c6c53c593",
       "version_major": 2,
       "version_minor": 0
      },
      "text/plain": [
       "Downloading pytorch_model.bin:   0%|          | 0.00/261M [00:00<?, ?B/s]"
      ]
     },
     "metadata": {},
     "output_type": "display_data"
    },
    {
     "name": "stdout",
     "output_type": "stream",
     "text": [
      "Saving HF model to disk...\n",
      "Uploading HF model to AWS...\n",
      "Uploading ../checkpoints/stanford-crfm/alias-gpt2-small-x21/313000/config.json...\n",
      "Uploading ../checkpoints/stanford-crfm/alias-gpt2-small-x21/313000/generation_config.json...\n",
      "Uploading ../checkpoints/stanford-crfm/alias-gpt2-small-x21/313000/pytorch_model.bin...\n"
     ]
    },
    {
     "name": "stderr",
     "output_type": "stream",
     "text": [
      "Retrieving alias checkpoints:  87%|████████▋ | 53/61 [18:52<03:36, 27.12s/it]"
     ]
    },
    {
     "name": "stdout",
     "output_type": "stream",
     "text": [
      "Done.\n",
      "Checkpoint stanford-crfm/alias-gpt2-small-x21/323000 not found on AWS. Retrieving from HuggingFace.\n"
     ]
    },
    {
     "data": {
      "application/vnd.jupyter.widget-view+json": {
       "model_id": "09086f852e064448836823934c4cf117",
       "version_major": 2,
       "version_minor": 0
      },
      "text/plain": [
       "Downloading pytorch_model.bin:   0%|          | 0.00/261M [00:00<?, ?B/s]"
      ]
     },
     "metadata": {},
     "output_type": "display_data"
    },
    {
     "name": "stdout",
     "output_type": "stream",
     "text": [
      "Saving HF model to disk...\n",
      "Uploading HF model to AWS...\n",
      "Uploading ../checkpoints/stanford-crfm/alias-gpt2-small-x21/323000/config.json...\n",
      "Uploading ../checkpoints/stanford-crfm/alias-gpt2-small-x21/323000/generation_config.json...\n",
      "Uploading ../checkpoints/stanford-crfm/alias-gpt2-small-x21/323000/pytorch_model.bin...\n"
     ]
    },
    {
     "name": "stderr",
     "output_type": "stream",
     "text": [
      "Retrieving alias checkpoints:  89%|████████▊ | 54/61 [19:18<03:07, 26.74s/it]"
     ]
    },
    {
     "name": "stdout",
     "output_type": "stream",
     "text": [
      "Done.\n",
      "Checkpoint stanford-crfm/alias-gpt2-small-x21/333000 not found on AWS. Retrieving from HuggingFace.\n"
     ]
    },
    {
     "data": {
      "application/vnd.jupyter.widget-view+json": {
       "model_id": "7b59b89c8724481fbbf4327708c85e47",
       "version_major": 2,
       "version_minor": 0
      },
      "text/plain": [
       "Downloading pytorch_model.bin:   0%|          | 0.00/261M [00:00<?, ?B/s]"
      ]
     },
     "metadata": {},
     "output_type": "display_data"
    },
    {
     "name": "stdout",
     "output_type": "stream",
     "text": [
      "Saving HF model to disk...\n",
      "Uploading HF model to AWS...\n",
      "Uploading ../checkpoints/stanford-crfm/alias-gpt2-small-x21/333000/config.json...\n",
      "Uploading ../checkpoints/stanford-crfm/alias-gpt2-small-x21/333000/generation_config.json...\n",
      "Uploading ../checkpoints/stanford-crfm/alias-gpt2-small-x21/333000/pytorch_model.bin...\n"
     ]
    },
    {
     "name": "stderr",
     "output_type": "stream",
     "text": [
      "Retrieving alias checkpoints:  90%|█████████ | 55/61 [19:43<02:36, 26.14s/it]"
     ]
    },
    {
     "name": "stdout",
     "output_type": "stream",
     "text": [
      "Done.\n",
      "Checkpoint stanford-crfm/alias-gpt2-small-x21/343000 not found on AWS. Retrieving from HuggingFace.\n"
     ]
    },
    {
     "data": {
      "application/vnd.jupyter.widget-view+json": {
       "model_id": "69511e5119bf44e8a82ff00ab3d6fe3d",
       "version_major": 2,
       "version_minor": 0
      },
      "text/plain": [
       "Downloading pytorch_model.bin:   0%|          | 0.00/261M [00:00<?, ?B/s]"
      ]
     },
     "metadata": {},
     "output_type": "display_data"
    },
    {
     "name": "stdout",
     "output_type": "stream",
     "text": [
      "Saving HF model to disk...\n",
      "Uploading HF model to AWS...\n",
      "Uploading ../checkpoints/stanford-crfm/alias-gpt2-small-x21/343000/config.json...\n",
      "Uploading ../checkpoints/stanford-crfm/alias-gpt2-small-x21/343000/generation_config.json...\n",
      "Uploading ../checkpoints/stanford-crfm/alias-gpt2-small-x21/343000/pytorch_model.bin...\n"
     ]
    },
    {
     "name": "stderr",
     "output_type": "stream",
     "text": [
      "Retrieving alias checkpoints:  92%|█████████▏| 56/61 [20:08<02:09, 25.81s/it]"
     ]
    },
    {
     "name": "stdout",
     "output_type": "stream",
     "text": [
      "Done.\n",
      "Checkpoint stanford-crfm/alias-gpt2-small-x21/353000 not found on AWS. Retrieving from HuggingFace.\n"
     ]
    },
    {
     "data": {
      "application/vnd.jupyter.widget-view+json": {
       "model_id": "20f809778fab4240ba9638e32f17720b",
       "version_major": 2,
       "version_minor": 0
      },
      "text/plain": [
       "Downloading pytorch_model.bin:   0%|          | 0.00/261M [00:00<?, ?B/s]"
      ]
     },
     "metadata": {},
     "output_type": "display_data"
    },
    {
     "name": "stdout",
     "output_type": "stream",
     "text": [
      "Saving HF model to disk...\n",
      "Uploading HF model to AWS...\n",
      "Uploading ../checkpoints/stanford-crfm/alias-gpt2-small-x21/353000/config.json...\n",
      "Uploading ../checkpoints/stanford-crfm/alias-gpt2-small-x21/353000/generation_config.json...\n",
      "Uploading ../checkpoints/stanford-crfm/alias-gpt2-small-x21/353000/pytorch_model.bin...\n"
     ]
    },
    {
     "name": "stderr",
     "output_type": "stream",
     "text": [
      "Retrieving alias checkpoints:  93%|█████████▎| 57/61 [20:32<01:41, 25.39s/it]"
     ]
    },
    {
     "name": "stdout",
     "output_type": "stream",
     "text": [
      "Done.\n",
      "Checkpoint stanford-crfm/alias-gpt2-small-x21/363000 not found on AWS. Retrieving from HuggingFace.\n"
     ]
    },
    {
     "data": {
      "application/vnd.jupyter.widget-view+json": {
       "model_id": "aa1f8e2ff13c40a2bc6d9d91987c32e3",
       "version_major": 2,
       "version_minor": 0
      },
      "text/plain": [
       "Downloading pytorch_model.bin:   0%|          | 0.00/261M [00:00<?, ?B/s]"
      ]
     },
     "metadata": {},
     "output_type": "display_data"
    },
    {
     "name": "stdout",
     "output_type": "stream",
     "text": [
      "Saving HF model to disk...\n",
      "Uploading HF model to AWS...\n",
      "Uploading ../checkpoints/stanford-crfm/alias-gpt2-small-x21/363000/config.json...\n",
      "Uploading ../checkpoints/stanford-crfm/alias-gpt2-small-x21/363000/generation_config.json...\n",
      "Uploading ../checkpoints/stanford-crfm/alias-gpt2-small-x21/363000/pytorch_model.bin...\n"
     ]
    },
    {
     "name": "stderr",
     "output_type": "stream",
     "text": [
      "Retrieving alias checkpoints:  95%|█████████▌| 58/61 [21:03<01:20, 26.97s/it]"
     ]
    },
    {
     "name": "stdout",
     "output_type": "stream",
     "text": [
      "Done.\n",
      "Checkpoint stanford-crfm/alias-gpt2-small-x21/373000 not found on AWS. Retrieving from HuggingFace.\n"
     ]
    },
    {
     "data": {
      "application/vnd.jupyter.widget-view+json": {
       "model_id": "aad7c194da544132bb58caed23dbed5d",
       "version_major": 2,
       "version_minor": 0
      },
      "text/plain": [
       "Downloading pytorch_model.bin:   0%|          | 0.00/261M [00:00<?, ?B/s]"
      ]
     },
     "metadata": {},
     "output_type": "display_data"
    },
    {
     "name": "stdout",
     "output_type": "stream",
     "text": [
      "Saving HF model to disk...\n",
      "Uploading HF model to AWS...\n",
      "Uploading ../checkpoints/stanford-crfm/alias-gpt2-small-x21/373000/config.json...\n",
      "Uploading ../checkpoints/stanford-crfm/alias-gpt2-small-x21/373000/generation_config.json...\n",
      "Uploading ../checkpoints/stanford-crfm/alias-gpt2-small-x21/373000/pytorch_model.bin...\n"
     ]
    },
    {
     "name": "stderr",
     "output_type": "stream",
     "text": [
      "Retrieving alias checkpoints:  97%|█████████▋| 59/61 [21:21<00:48, 24.34s/it]"
     ]
    },
    {
     "name": "stdout",
     "output_type": "stream",
     "text": [
      "Done.\n",
      "Checkpoint stanford-crfm/alias-gpt2-small-x21/383000 not found on AWS. Retrieving from HuggingFace.\n"
     ]
    },
    {
     "data": {
      "application/vnd.jupyter.widget-view+json": {
       "model_id": "7227b3c6d5814906ab853b81d47003e6",
       "version_major": 2,
       "version_minor": 0
      },
      "text/plain": [
       "Downloading pytorch_model.bin:   0%|          | 0.00/261M [00:00<?, ?B/s]"
      ]
     },
     "metadata": {},
     "output_type": "display_data"
    },
    {
     "name": "stdout",
     "output_type": "stream",
     "text": [
      "Saving HF model to disk...\n",
      "Uploading HF model to AWS...\n",
      "Uploading ../checkpoints/stanford-crfm/alias-gpt2-small-x21/383000/config.json...\n",
      "Uploading ../checkpoints/stanford-crfm/alias-gpt2-small-x21/383000/generation_config.json...\n",
      "Uploading ../checkpoints/stanford-crfm/alias-gpt2-small-x21/383000/pytorch_model.bin...\n"
     ]
    },
    {
     "name": "stderr",
     "output_type": "stream",
     "text": [
      "Retrieving alias checkpoints:  98%|█████████▊| 60/61 [21:46<00:24, 24.68s/it]"
     ]
    },
    {
     "name": "stdout",
     "output_type": "stream",
     "text": [
      "Done.\n",
      "Checkpoint stanford-crfm/alias-gpt2-small-x21/393000 not found on AWS. Retrieving from HuggingFace.\n"
     ]
    },
    {
     "data": {
      "application/vnd.jupyter.widget-view+json": {
       "model_id": "8b14f0c709904f0f8ff070be7448181b",
       "version_major": 2,
       "version_minor": 0
      },
      "text/plain": [
       "Downloading pytorch_model.bin:   0%|          | 0.00/261M [00:00<?, ?B/s]"
      ]
     },
     "metadata": {},
     "output_type": "display_data"
    },
    {
     "name": "stdout",
     "output_type": "stream",
     "text": [
      "Saving HF model to disk...\n",
      "Uploading HF model to AWS...\n",
      "Uploading ../checkpoints/stanford-crfm/alias-gpt2-small-x21/393000/config.json...\n",
      "Uploading ../checkpoints/stanford-crfm/alias-gpt2-small-x21/393000/generation_config.json...\n",
      "Uploading ../checkpoints/stanford-crfm/alias-gpt2-small-x21/393000/pytorch_model.bin...\n"
     ]
    },
    {
     "name": "stderr",
     "output_type": "stream",
     "text": [
      "Retrieving alias checkpoints: 100%|██████████| 61/61 [22:12<00:00, 21.84s/it]"
     ]
    },
    {
     "name": "stdout",
     "output_type": "stream",
     "text": [
      "Done.\n"
     ]
    },
    {
     "name": "stderr",
     "output_type": "stream",
     "text": [
      "\n"
     ]
    }
   ],
   "source": [
    "import tqdm\n",
    "\n",
    "def retrieve_checkpoint(name, step=400_000):\n",
    "    \"\"\"Retrieve checkpoint from AWS. If not found, retrieve from HuggingFace.\"\"\"\n",
    "    import boto3\n",
    "    import botocore\n",
    "\n",
    "    full_name = get_full_name(name)\n",
    "    prefix = f\"{full_name}/{step}\"\n",
    "\n",
    "    s3 = boto3.resource(\"s3\")\n",
    "    bucket = s3.Bucket(os.environ['AWS_LANGUAGE_BUCKET_NAME'])\n",
    "    checkpoints_path = Path(f\"../checkpoints/{prefix}\")\n",
    "\n",
    "    if not checkpoints_path.exists():\n",
    "        checkpoints_path.mkdir(parents=True)\n",
    "    try: \n",
    "        bucket.download_file(f\"checkpoints/{prefix}/pytorch_model.bin\", str(checkpoints_path / \"pytorch_model.bin\"))\n",
    "        print(\"Done.\")\n",
    "    except botocore.exceptions.ClientError as e:\n",
    "        if e.response['Error']['Code'] == \"404\":\n",
    "            print(f\"Checkpoint {prefix} not found on AWS. Retrieving from HuggingFace.\")\n",
    "            model = AutoModelForCausalLM.from_pretrained(full_name, revision=f'checkpoint-{step}', torch_dtype=torch.float32)\n",
    "            print(\"Saving HF model to disk...\")\n",
    "            model.save_pretrained(checkpoints_path)\n",
    "\n",
    "            del model\n",
    "\n",
    "            print(\"Uploading HF model to AWS...\")\n",
    "            for file in checkpoints_path.glob(\"*\"):\n",
    "                if file.is_file():\n",
    "                    print(f\"Uploading {file}...\")\n",
    "                    bucket.upload_file(file, f\"checkpoints/{prefix}/{file.name}\")\n",
    "\n",
    "            print(\"Done.\")\n",
    "        else:\n",
    "            raise\n",
    "\n",
    "\n",
    "def load_checkpoint(name, step=400_000):\n",
    "    \"\"\"Load checkpoint from local storage. If not found, retrieve from AWS or HF.\"\"\"\n",
    "    full_name = get_full_name(name)\n",
    "    checkpoint_path = Path(f\"../checkpoints/{full_name}/{step}\")\n",
    "\n",
    "    if not checkpoint_path.exists():\n",
    "        print(\"Retrieving checkpoint from AWS. This may take a while.\")\n",
    "        retrieve_checkpoint(name, step)\n",
    "\n",
    "    config = AutoConfig.from_pretrained(full_name, torch_dtype=torch.float32)\n",
    "\n",
    "    print(f\"Loading checkpoint from disk {checkpoint_path}...\")\n",
    "    hf_model = AutoModelForCausalLM.from_pretrained(\n",
    "        checkpoint_path,\n",
    "        revision=f'checkpoint-{step}',\n",
    "        config=config,\n",
    "        torch_dtype=torch.float32,\n",
    "        # **kwargs,\n",
    "    )\n",
    "\n",
    "    model = transformer_lens.HookedTransformer.from_pretrained(full_name, hf_model=hf_model)\n",
    "\n",
    "    return model, hf_model\n",
    "\n",
    "\n",
    "def retrieve_checkpoints(name, steps=None):\n",
    "    \"\"\"Retrieve multiple checkpoints from AWS/HuggingFace.\n",
    "    Defaults to loading all checkpoints for a given training run.\"\"\"\n",
    "    full_name = get_full_name(name)\n",
    "    steps = steps or STANFORD_CRFM_CHECKPOINTS[1:]  # Step 0 is not available. TODO: Figure out how to initialize this. \n",
    "    \n",
    "    for step in tqdm.tqdm(steps, desc=f\"Retrieving {name} checkpoints\"):\n",
    "        if os.path.exists(f\"../checkpoints/{full_name}/{step}/pytorch_model.bin\"):\n",
    "            continue\n",
    "\n",
    "        retrieve_checkpoint(name, step)\n",
    "\n",
    "\n",
    "retrieve_checkpoints('alias', STANFORD_CRFM_CHECKPOINTS[1::10])"
   ]
  },
  {
   "cell_type": "code",
   "execution_count": null,
   "metadata": {},
   "outputs": [],
   "source": [
    "from datasets import load_dataset\n",
    "\n",
    "dataset = load_dataset(\"tasksource/mmlu\")"
   ]
  }
 ],
 "metadata": {
  "kernelspec": {
   "display_name": ".venv",
   "language": "python",
   "name": "python3"
  },
  "language_info": {
   "codemirror_mode": {
    "name": "ipython",
    "version": 3
   },
   "file_extension": ".py",
   "mimetype": "text/x-python",
   "name": "python",
   "nbconvert_exporter": "python",
   "pygments_lexer": "ipython3",
   "version": "3.9.15"
  }
 },
 "nbformat": 4,
 "nbformat_minor": 2
}
