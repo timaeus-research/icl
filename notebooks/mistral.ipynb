{
 "cells": [
  {
   "cell_type": "markdown",
   "metadata": {},
   "source": [
    "# Mistral"
   ]
  },
  {
   "cell_type": "code",
   "execution_count": 6,
   "metadata": {},
   "outputs": [],
   "source": [
    "import transformer_lens\n",
    "from pathlib import Path\n",
    "import pickle\n",
    "from torch import nn\n",
    "import json\n",
    "from pprint import pp\n",
    "from transformers import AutoConfig, AutoModelForCausalLM\n",
    "\n",
    "from transformer_lens.loading_from_pretrained import STANFORD_CRFM_CHECKPOINTS \n",
    "from dotenv import load_dotenv\n",
    "import torch\n",
    "\n",
    "load_dotenv();"
   ]
  },
  {
   "cell_type": "code",
   "execution_count": 19,
   "metadata": {},
   "outputs": [],
   "source": [
    "import os\n",
    "from typing import Literal, Union\n",
    "\n",
    "gpt2_mediums = [\n",
    "    \"stanford-crfm/arwen-gpt2-medium-x21\",\n",
    "    \"stanford-crfm/beren-gpt2-medium-x49\",\n",
    "    \"stanford-crfm/celebrimbor-gpt2-medium-x81\",\n",
    "    \"stanford-crfm/durin-gpt2-medium-x343\",\n",
    "    \"stanford-crfm/eowyn-gpt2-medium-x777\",\n",
    "]\n",
    "\n",
    "gpt2_smalls = [\n",
    "    \"stanford-crfm/alias-gpt2-small-x21\",\n",
    "    \"stanford-crfm/battlestar-gpt2-small-x49\",\n",
    "    \"stanford-crfm/caprica-gpt2-small-x81\",\n",
    "    \"stanford-crfm/darkmatter-gpt2-small-x343\",\n",
    "    \"stanford-crfm/expanse-gpt2-small-x777\",\n",
    "]\n",
    "\n",
    "GPT2SmallRunName = Literal[\"alias\", \"battlestar\", \"caprica\", \"darkmatter\", \"expanse\"]\n",
    "GPT2MediumRunName = Literal[\"arwen\", \"beren\", \"celebrimbor\", \"durin\", \"eowyn\"]\n",
    "GPT2RunName = Union[GPT2SmallRunName, GPT2MediumRunName]\n",
    "GPT2Size = Literal[\"small\", \"medium\"]\n",
    "\n",
    "GPT2_NAME: GPT2RunName = 'alias'\n",
    "GPT2_SIZE: GPT2Size = 'small'\n",
    "\n",
    "def get_full_name(name):\n",
    "    size = {'arwen': 'medium', 'beren': 'medium', 'celebrimbor': 'medium', 'durin': 'medium', 'eowyn': 'medium', 'alias': 'small', 'battlestar': 'small', 'caprica': 'small', 'darkmatter': 'small', 'expanse': 'small'}[name]\n",
    "    ext = {'arwen': 21, 'beren': 49, 'celebrimbor': 81, 'durin': 343, 'eowyn': 777, 'alias': 21, 'battlestar': 49, 'caprica': 81, 'darkmatter': 343, 'expanse': 777}[name]\n",
    "    return f\"stanford-crfm/{name}-gpt2-{size}-x{ext}\""
   ]
  },
  {
   "cell_type": "code",
   "execution_count": 25,
   "metadata": {},
   "outputs": [
    {
     "name": "stderr",
     "output_type": "stream",
     "text": [
      "Retrieving alias checkpoints:   0%|          | 0/608 [00:00<?, ?it/s]"
     ]
    },
    {
     "name": "stdout",
     "output_type": "stream",
     "text": [
      "Checkpoint stanford-crfm/alias-gpt2-small-x21/10 not found on AWS. Retrieving from HuggingFace.\n",
      "Saving HF model to disk...\n",
      "Uploading HF model to AWS...\n",
      "Uploading ../checkpoints/stanford-crfm/alias-gpt2-small-x21/10/config.json...\n",
      "Uploading ../checkpoints/stanford-crfm/alias-gpt2-small-x21/10/generation_config.json...\n",
      "Uploading ../checkpoints/stanford-crfm/alias-gpt2-small-x21/10/pytorch_model.bin...\n"
     ]
    },
    {
     "name": "stderr",
     "output_type": "stream",
     "text": [
      "Retrieving alias checkpoints:   0%|          | 1/608 [00:21<3:40:35, 21.80s/it]"
     ]
    },
    {
     "name": "stdout",
     "output_type": "stream",
     "text": [
      "Done.\n",
      "Checkpoint stanford-crfm/alias-gpt2-small-x21/20 not found on AWS. Retrieving from HuggingFace.\n",
      "Saving HF model to disk...\n",
      "Uploading HF model to AWS...\n",
      "Uploading ../checkpoints/stanford-crfm/alias-gpt2-small-x21/20/config.json...\n",
      "Uploading ../checkpoints/stanford-crfm/alias-gpt2-small-x21/20/generation_config.json...\n",
      "Uploading ../checkpoints/stanford-crfm/alias-gpt2-small-x21/20/pytorch_model.bin...\n"
     ]
    },
    {
     "name": "stderr",
     "output_type": "stream",
     "text": [
      "Retrieving alias checkpoints:   0%|          | 2/608 [00:40<3:20:37, 19.86s/it]"
     ]
    },
    {
     "name": "stdout",
     "output_type": "stream",
     "text": [
      "Done.\n",
      "Checkpoint stanford-crfm/alias-gpt2-small-x21/30 not found on AWS. Retrieving from HuggingFace.\n",
      "Saving HF model to disk...\n",
      "Uploading HF model to AWS...\n",
      "Uploading ../checkpoints/stanford-crfm/alias-gpt2-small-x21/30/config.json...\n",
      "Uploading ../checkpoints/stanford-crfm/alias-gpt2-small-x21/30/generation_config.json...\n",
      "Uploading ../checkpoints/stanford-crfm/alias-gpt2-small-x21/30/pytorch_model.bin...\n"
     ]
    },
    {
     "name": "stderr",
     "output_type": "stream",
     "text": [
      "Retrieving alias checkpoints:   0%|          | 3/608 [00:54<2:53:26, 17.20s/it]"
     ]
    },
    {
     "name": "stdout",
     "output_type": "stream",
     "text": [
      "Done.\n",
      "Checkpoint stanford-crfm/alias-gpt2-small-x21/40 not found on AWS. Retrieving from HuggingFace.\n",
      "Saving HF model to disk...\n",
      "Uploading HF model to AWS...\n",
      "Uploading ../checkpoints/stanford-crfm/alias-gpt2-small-x21/40/config.json...\n",
      "Uploading ../checkpoints/stanford-crfm/alias-gpt2-small-x21/40/generation_config.json...\n",
      "Uploading ../checkpoints/stanford-crfm/alias-gpt2-small-x21/40/pytorch_model.bin...\n"
     ]
    },
    {
     "name": "stderr",
     "output_type": "stream",
     "text": [
      "Retrieving alias checkpoints:   1%|          | 4/608 [01:14<3:03:18, 18.21s/it]"
     ]
    },
    {
     "name": "stdout",
     "output_type": "stream",
     "text": [
      "Done.\n",
      "Checkpoint stanford-crfm/alias-gpt2-small-x21/50 not found on AWS. Retrieving from HuggingFace.\n",
      "Saving HF model to disk...\n",
      "Uploading HF model to AWS...\n",
      "Uploading ../checkpoints/stanford-crfm/alias-gpt2-small-x21/50/config.json...\n",
      "Uploading ../checkpoints/stanford-crfm/alias-gpt2-small-x21/50/generation_config.json...\n",
      "Uploading ../checkpoints/stanford-crfm/alias-gpt2-small-x21/50/pytorch_model.bin...\n"
     ]
    },
    {
     "name": "stderr",
     "output_type": "stream",
     "text": [
      "Retrieving alias checkpoints:   1%|          | 5/608 [01:27<2:46:34, 16.57s/it]"
     ]
    },
    {
     "name": "stdout",
     "output_type": "stream",
     "text": [
      "Done.\n",
      "Checkpoint stanford-crfm/alias-gpt2-small-x21/60 not found on AWS. Retrieving from HuggingFace.\n",
      "Saving HF model to disk...\n",
      "Uploading HF model to AWS...\n",
      "Uploading ../checkpoints/stanford-crfm/alias-gpt2-small-x21/60/config.json...\n",
      "Uploading ../checkpoints/stanford-crfm/alias-gpt2-small-x21/60/generation_config.json...\n",
      "Uploading ../checkpoints/stanford-crfm/alias-gpt2-small-x21/60/pytorch_model.bin...\n"
     ]
    },
    {
     "name": "stderr",
     "output_type": "stream",
     "text": [
      "Retrieving alias checkpoints:   1%|          | 6/608 [01:45<2:51:17, 17.07s/it]"
     ]
    },
    {
     "name": "stdout",
     "output_type": "stream",
     "text": [
      "Done.\n",
      "Checkpoint stanford-crfm/alias-gpt2-small-x21/70 not found on AWS. Retrieving from HuggingFace.\n",
      "Saving HF model to disk...\n",
      "Uploading HF model to AWS...\n",
      "Uploading ../checkpoints/stanford-crfm/alias-gpt2-small-x21/70/config.json...\n",
      "Uploading ../checkpoints/stanford-crfm/alias-gpt2-small-x21/70/generation_config.json...\n",
      "Uploading ../checkpoints/stanford-crfm/alias-gpt2-small-x21/70/pytorch_model.bin...\n"
     ]
    },
    {
     "name": "stderr",
     "output_type": "stream",
     "text": [
      "Retrieving alias checkpoints:   1%|          | 7/608 [01:58<2:35:32, 15.53s/it]"
     ]
    },
    {
     "name": "stdout",
     "output_type": "stream",
     "text": [
      "Done.\n",
      "Checkpoint stanford-crfm/alias-gpt2-small-x21/80 not found on AWS. Retrieving from HuggingFace.\n",
      "Saving HF model to disk...\n",
      "Uploading HF model to AWS...\n",
      "Uploading ../checkpoints/stanford-crfm/alias-gpt2-small-x21/80/config.json...\n",
      "Uploading ../checkpoints/stanford-crfm/alias-gpt2-small-x21/80/generation_config.json...\n",
      "Uploading ../checkpoints/stanford-crfm/alias-gpt2-small-x21/80/pytorch_model.bin...\n"
     ]
    },
    {
     "name": "stderr",
     "output_type": "stream",
     "text": [
      "Retrieving alias checkpoints:   1%|▏         | 8/608 [02:16<2:44:49, 16.48s/it]"
     ]
    },
    {
     "name": "stdout",
     "output_type": "stream",
     "text": [
      "Done.\n",
      "Checkpoint stanford-crfm/alias-gpt2-small-x21/90 not found on AWS. Retrieving from HuggingFace.\n",
      "Saving HF model to disk...\n",
      "Uploading HF model to AWS...\n",
      "Uploading ../checkpoints/stanford-crfm/alias-gpt2-small-x21/90/config.json...\n",
      "Uploading ../checkpoints/stanford-crfm/alias-gpt2-small-x21/90/generation_config.json...\n",
      "Uploading ../checkpoints/stanford-crfm/alias-gpt2-small-x21/90/pytorch_model.bin...\n"
     ]
    },
    {
     "name": "stderr",
     "output_type": "stream",
     "text": [
      "Retrieving alias checkpoints:   1%|▏         | 9/608 [02:37<2:57:27, 17.77s/it]"
     ]
    },
    {
     "name": "stdout",
     "output_type": "stream",
     "text": [
      "Done.\n",
      "Checkpoint stanford-crfm/alias-gpt2-small-x21/100 not found on AWS. Retrieving from HuggingFace.\n"
     ]
    },
    {
     "data": {
      "application/vnd.jupyter.widget-view+json": {
       "model_id": "ccb543dc4a294d24b2e8c9a46a35b297",
       "version_major": 2,
       "version_minor": 0
      },
      "text/plain": [
       "Downloading pytorch_model.bin:   0%|          | 0.00/261M [00:00<?, ?B/s]"
      ]
     },
     "metadata": {},
     "output_type": "display_data"
    },
    {
     "name": "stdout",
     "output_type": "stream",
     "text": [
      "Saving HF model to disk...\n",
      "Uploading HF model to AWS...\n",
      "Uploading ../checkpoints/stanford-crfm/alias-gpt2-small-x21/100/config.json...\n",
      "Uploading ../checkpoints/stanford-crfm/alias-gpt2-small-x21/100/generation_config.json...\n",
      "Uploading ../checkpoints/stanford-crfm/alias-gpt2-small-x21/100/pytorch_model.bin...\n"
     ]
    },
    {
     "name": "stderr",
     "output_type": "stream",
     "text": [
      "Retrieving alias checkpoints:   2%|▏         | 10/608 [03:04<3:25:29, 20.62s/it]"
     ]
    },
    {
     "name": "stdout",
     "output_type": "stream",
     "text": [
      "Done.\n",
      "Checkpoint stanford-crfm/alias-gpt2-small-x21/150 not found on AWS. Retrieving from HuggingFace.\n"
     ]
    },
    {
     "data": {
      "application/vnd.jupyter.widget-view+json": {
       "model_id": "a09ed3ba5cde4802b30b33c58720967e",
       "version_major": 2,
       "version_minor": 0
      },
      "text/plain": [
       "Downloading pytorch_model.bin:   0%|          | 0.00/261M [00:00<?, ?B/s]"
      ]
     },
     "metadata": {},
     "output_type": "display_data"
    },
    {
     "name": "stdout",
     "output_type": "stream",
     "text": [
      "Saving HF model to disk...\n",
      "Uploading HF model to AWS...\n",
      "Uploading ../checkpoints/stanford-crfm/alias-gpt2-small-x21/150/config.json...\n",
      "Uploading ../checkpoints/stanford-crfm/alias-gpt2-small-x21/150/generation_config.json...\n",
      "Uploading ../checkpoints/stanford-crfm/alias-gpt2-small-x21/150/pytorch_model.bin...\n"
     ]
    },
    {
     "name": "stderr",
     "output_type": "stream",
     "text": [
      "Retrieving alias checkpoints:   2%|▏         | 11/608 [03:23<3:19:44, 20.07s/it]"
     ]
    },
    {
     "name": "stdout",
     "output_type": "stream",
     "text": [
      "Done.\n",
      "Checkpoint stanford-crfm/alias-gpt2-small-x21/200 not found on AWS. Retrieving from HuggingFace.\n"
     ]
    },
    {
     "data": {
      "application/vnd.jupyter.widget-view+json": {
       "model_id": "1a36a38e85364bd5ae18acdfbb66f433",
       "version_major": 2,
       "version_minor": 0
      },
      "text/plain": [
       "Downloading pytorch_model.bin:   0%|          | 0.00/261M [00:00<?, ?B/s]"
      ]
     },
     "metadata": {},
     "output_type": "display_data"
    }
   ],
   "source": [
    "import tqdm\n",
    "\n",
    "def retrieve_checkpoint(name, step=400_000):\n",
    "    \"\"\"Retrieve checkpoint from AWS. If not found, retrieve from HuggingFace.\"\"\"\n",
    "    import boto3\n",
    "    import botocore\n",
    "\n",
    "    full_name = get_full_name(name)\n",
    "    prefix = f\"{full_name}/{step}\"\n",
    "\n",
    "    s3 = boto3.resource(\"s3\")\n",
    "    bucket = s3.Bucket(os.environ['AWS_LANGUAGE_BUCKET_NAME'])\n",
    "    checkpoints_path = Path(f\"../checkpoints/{prefix}\")\n",
    "\n",
    "    if not checkpoints_path.exists():\n",
    "        checkpoints_path.mkdir(parents=True)\n",
    "    try: \n",
    "        bucket.download_file(f\"checkpoints/{prefix}/pytorch_model.bin\", str(checkpoints_path / \"pytorch_model.bin\"))\n",
    "        print(\"Done.\")\n",
    "    except botocore.exceptions.ClientError as e:\n",
    "        if e.response['Error']['Code'] == \"404\":\n",
    "            print(f\"Checkpoint {prefix} not found on AWS. Retrieving from HuggingFace.\")\n",
    "            model = AutoModelForCausalLM.from_pretrained(full_name, revision=f'checkpoint-{step}', torch_dtype=torch.float32)\n",
    "            print(\"Saving HF model to disk...\")\n",
    "            model.save_pretrained(checkpoints_path)\n",
    "\n",
    "            del model\n",
    "\n",
    "            print(\"Uploading HF model to AWS...\")\n",
    "            for file in checkpoints_path.glob(\"*\"):\n",
    "                if file.is_file():\n",
    "                    print(f\"Uploading {file}...\")\n",
    "                    bucket.upload_file(file, f\"checkpoints/{prefix}/{file.name}\")\n",
    "\n",
    "            print(\"Done.\")\n",
    "        else:\n",
    "            raise\n",
    "\n",
    "\n",
    "def load_checkpoint(name, step=400_000):\n",
    "    \"\"\"Load checkpoint from local storage. If not found, retrieve from AWS or HF.\"\"\"\n",
    "    full_name = get_full_name(name)\n",
    "    checkpoint_path = Path(f\"../checkpoints/{full_name}/{step}\")\n",
    "\n",
    "    if not checkpoint_path.exists():\n",
    "        print(\"Retrieving checkpoint from AWS. This may take a while.\")\n",
    "        retrieve_checkpoint(name, step)\n",
    "\n",
    "    config = AutoConfig.from_pretrained(full_name, torch_dtype=torch.float32)\n",
    "\n",
    "    print(f\"Loading checkpoint from disk {checkpoint_path}...\")\n",
    "    hf_model = AutoModelForCausalLM.from_pretrained(\n",
    "        checkpoint_path,\n",
    "        revision=f'checkpoint-{step}',\n",
    "        config=config,\n",
    "        torch_dtype=torch.float32,\n",
    "        # **kwargs,\n",
    "    )\n",
    "\n",
    "    model = transformer_lens.HookedTransformer.from_pretrained(full_name, hf_model=hf_model)\n",
    "\n",
    "    return model, hf_model\n",
    "\n",
    "\n",
    "def retrieve_checkpoints(name, steps=None):\n",
    "    \"\"\"Retrieve multiple checkpoints from AWS/HuggingFace.\n",
    "    Defaults to loading all checkpoints for a given training run.\"\"\"\n",
    "    full_name = get_full_name(name)\n",
    "    steps = steps or STANFORD_CRFM_CHECKPOINTS[1:]  # Step 0 is not available. TODO: Figure out how to initialize this. \n",
    "    \n",
    "    for step in tqdm.tqdm(steps, desc=f\"Retrieving {name} checkpoints\"):\n",
    "        if os.path.exists(f\"../checkpoints/{full_name}/{step}/pytorch_model.bin\"):\n",
    "            continue\n",
    "\n",
    "        retrieve_checkpoint(name, step)\n",
    "\n",
    "\n",
    "retrieve_checkpoints('alias')"
   ]
  },
  {
   "cell_type": "code",
   "execution_count": null,
   "metadata": {},
   "outputs": [],
   "source": []
  }
 ],
 "metadata": {
  "kernelspec": {
   "display_name": ".venv",
   "language": "python",
   "name": "python3"
  },
  "language_info": {
   "codemirror_mode": {
    "name": "ipython",
    "version": 3
   },
   "file_extension": ".py",
   "mimetype": "text/x-python",
   "name": "python",
   "nbconvert_exporter": "python",
   "pygments_lexer": "ipython3",
   "version": "3.9.15"
  }
 },
 "nbformat": 4,
 "nbformat_minor": 2
}
