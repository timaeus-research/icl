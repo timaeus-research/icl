{
 "cells": [
  {
   "cell_type": "markdown",
   "metadata": {},
   "source": [
    "# RLCT estimation"
   ]
  },
  {
   "cell_type": "code",
   "execution_count": 1,
   "metadata": {},
   "outputs": [],
   "source": [
    "from devinterp.slt.sampler import Sampler\n",
    "from devinterp.evals import SamplerEvaluator\n",
    "from devinterp.ops.storage import CheckpointerConfig\n",
    "\n",
    "from icl.config import get_config"
   ]
  },
  {
   "cell_type": "code",
   "execution_count": 4,
   "metadata": {},
   "outputs": [
    {
     "data": {
      "text/plain": [
       "[0,\n",
       " 1,\n",
       " 2,\n",
       " 3,\n",
       " 4,\n",
       " 6,\n",
       " 8,\n",
       " 11,\n",
       " 14,\n",
       " 19,\n",
       " 24,\n",
       " 32,\n",
       " 42,\n",
       " 55,\n",
       " 72,\n",
       " 94,\n",
       " 124,\n",
       " 162,\n",
       " 211,\n",
       " 276,\n",
       " 362,\n",
       " 473,\n",
       " 618,\n",
       " 808,\n",
       " 1056,\n",
       " 1381,\n",
       " 1805,\n",
       " 2359,\n",
       " 3084,\n",
       " 4031,\n",
       " 5269,\n",
       " 6887,\n",
       " 9003,\n",
       " 10204,\n",
       " 11767,\n",
       " 15381,\n",
       " 20104,\n",
       " 20408,\n",
       " 26279,\n",
       " 30612,\n",
       " 34349,\n",
       " 40816,\n",
       " 44897,\n",
       " 51020,\n",
       " 58684,\n",
       " 61224,\n",
       " 71428,\n",
       " 76706,\n",
       " 81632,\n",
       " 91836,\n",
       " 100262,\n",
       " 102040,\n",
       " 112244,\n",
       " 122448,\n",
       " 131051,\n",
       " 132653,\n",
       " 142857,\n",
       " 153061,\n",
       " 163265,\n",
       " 171296,\n",
       " 173469,\n",
       " 183673]"
      ]
     },
     "execution_count": 4,
     "metadata": {},
     "output_type": "execute_result"
    }
   ],
   "source": [
    "# Get the checkpoints\n",
    "config = get_config(model_config={\"num_tasks\": 1})\n",
    "checkpointer = config.checkpointer_config.factory().sync()\n",
    "checkpointer.file_ids = sorted([int(x) for x in checkpointer.file_ids])\n",
    "checkpointer.file_ids"
   ]
  },
  {
   "cell_type": "code",
   "execution_count": 7,
   "metadata": {},
   "outputs": [
    {
     "data": {
      "text/plain": [
       "<All keys matched successfully>"
      ]
     },
     "execution_count": 7,
     "metadata": {},
     "output_type": "execute_result"
    }
   ],
   "source": [
    "# Load the last checkpoint\n",
    "model = config.task_config.model_factory()\n",
    "model.load_state_dict(checkpointer[-1][\"model\"])"
   ]
  },
  {
   "cell_type": "code",
   "execution_count": null,
   "metadata": {},
   "outputs": [],
   "source": [
    "# Confirm the loss"
   ]
  }
 ],
 "metadata": {
  "kernelspec": {
   "display_name": ".venv",
   "language": "python",
   "name": "python3"
  },
  "language_info": {
   "codemirror_mode": {
    "name": "ipython",
    "version": 3
   },
   "file_extension": ".py",
   "mimetype": "text/x-python",
   "name": "python",
   "nbconvert_exporter": "python",
   "pygments_lexer": "ipython3",
   "version": "3.9.16"
  },
  "orig_nbformat": 4
 },
 "nbformat": 4,
 "nbformat_minor": 2
}
