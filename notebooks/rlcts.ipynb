{
 "cells": [
  {
   "cell_type": "markdown",
   "metadata": {},
   "source": [
    "# RLCT estimation"
   ]
  },
  {
   "cell_type": "code",
   "execution_count": 1,
   "metadata": {},
   "outputs": [],
   "source": [
    "from devinterp.slt.sampler import Sampler\n",
    "from devinterp.evals import SamplerEvaluator\n",
    "from devinterp.ops.storage import CheckpointerConfig\n",
    "\n",
    "from icl.config import get_config\n",
    "from icl.evals import ICLEvaluator\n",
    "from icl.utils import set_seed"
   ]
  },
  {
   "cell_type": "code",
   "execution_count": 4,
   "metadata": {},
   "outputs": [
    {
     "name": "stdout",
     "output_type": "stream",
     "text": [
      "{'task_size': 8, 'max_examples': 16, 'num_tasks': 64, 'noise_variance': 0.25, 'embed_size': 128, 'mlp_size': 128, 'num_heads': 2, 'num_layers': 8}\n",
      "batch_size: 256\n",
      "checkpointer_config:\n",
      "  bucket_name: devinterp\n",
      "  device: cpu\n",
      "  local_root: null\n",
      "  project_dir: icl/ntasks-64-task-dbb989-opt-f7c569-sched-c4766a\n",
      "criterion: cross_entropy\n",
      "device: cuda\n",
      "eval_batch_size: 2048\n",
      "logger_config:\n",
      "  entity: null\n",
      "  metrics: null\n",
      "  out_file: null\n",
      "  project: null\n",
      "  run_id: null\n",
      "  stdout: false\n",
      "  use_df: false\n",
      "num_steps: 500000\n",
      "num_training_samples: 128000000\n",
      "optimizer_config:\n",
      "  betas: !!python/tuple\n",
      "  - 0.9\n",
      "  - 0.999\n",
      "  elasticity: null\n",
      "  lr: 0.001\n",
      "  momentum: null\n",
      "  noise_level: null\n",
      "  num_samples: null\n",
      "  optimizer_type: Adam\n",
      "  temperature: null\n",
      "  weight_decay: 0.0\n",
      "scheduler_config:\n",
      "  T_max: null\n",
      "  anneal_strategy: linear\n",
      "  cycle_momentum: false\n",
      "  div_factor: 249999.0\n",
      "  eta_min: null\n",
      "  final_div_factor: 249999.0\n",
      "  gamma: null\n",
      "  last_epoch: -1\n",
      "  lr_lambda: null\n",
      "  max_lr: 0.001\n",
      "  milestones: null\n",
      "  pct_start: 0.5\n",
      "  scheduler_type: OneCycleLR\n",
      "  step_size: null\n",
      "  total_steps: 500000\n",
      "task_config:\n",
      "  embed_size: 128\n",
      "  max_examples: 16\n",
      "  mlp_size: 128\n",
      "  noise_variance: 0.25\n",
      "  num_heads: 2\n",
      "  num_layers: 8\n",
      "  num_tasks: 64\n",
      "  task_size: 8\n",
      "\n"
     ]
    }
   ],
   "source": [
    "config = get_config(task_config={\"num_tasks\": 64})\n",
    "\n",
    "import yaml\n",
    "print(yaml.dump(config.model_dump()))"
   ]
  },
  {
   "cell_type": "code",
   "execution_count": 5,
   "metadata": {},
   "outputs": [
    {
     "name": "stderr",
     "output_type": "stream",
     "text": [
      "/home/paperspace/Projects/devinterp/devinterp/ops/storage.py:91: UserWarning: Using default key_to_id. This yields a string, which may not be what you want.\n",
      "  warnings.warn(\n"
     ]
    },
    {
     "data": {
      "text/plain": [
       "[0,\n",
       " 1,\n",
       " 2,\n",
       " 3,\n",
       " 4,\n",
       " 6,\n",
       " 8,\n",
       " 11,\n",
       " 14,\n",
       " 19,\n",
       " 24,\n",
       " 32,\n",
       " 42,\n",
       " 55,\n",
       " 72,\n",
       " 94,\n",
       " 124,\n",
       " 162,\n",
       " 211,\n",
       " 276,\n",
       " 362,\n",
       " 473,\n",
       " 618,\n",
       " 808,\n",
       " 1056,\n",
       " 1381,\n",
       " 1805,\n",
       " 2359,\n",
       " 3084,\n",
       " 4031,\n",
       " 5269,\n",
       " 6887,\n",
       " 9003,\n",
       " 10204,\n",
       " 11767,\n",
       " 15381,\n",
       " 20104,\n",
       " 20408,\n",
       " 26279,\n",
       " 30612,\n",
       " 34349,\n",
       " 40816,\n",
       " 44897,\n",
       " 51020,\n",
       " 58684,\n",
       " 61224,\n",
       " 71428,\n",
       " 76706,\n",
       " 81632,\n",
       " 91836,\n",
       " 100262,\n",
       " 102040,\n",
       " 112244,\n",
       " 122448,\n",
       " 131051,\n",
       " 132653,\n",
       " 142857,\n",
       " 153061,\n",
       " 163265,\n",
       " 171296,\n",
       " 173469,\n",
       " 183673]"
      ]
     },
     "execution_count": 5,
     "metadata": {},
     "output_type": "execute_result"
    }
   ],
   "source": [
    "# Get the checkpoints\n",
    "checkpointer = config.checkpointer_config.factory().sync()\n",
    "checkpointer.file_ids = sorted([int(x) for x in checkpointer.file_ids])\n",
    "checkpointer.file_ids"
   ]
  },
  {
   "cell_type": "code",
   "execution_count": 6,
   "metadata": {},
   "outputs": [
    {
     "data": {
      "text/plain": [
       "{'pretrain/mse': 22.708744049072266,\n",
       " 'pretrain/delta_dmmse': tensor(21.2075, device='cuda:0'),\n",
       " 'pretrain/delta_ridge': tensor(18.7974, device='cuda:0'),\n",
       " 'pretrain/token/0': 22.16046905517578,\n",
       " 'pretrain/token/1': 22.93655776977539,\n",
       " 'pretrain/token/2': 22.1809024810791,\n",
       " 'pretrain/token/3': 23.153139114379883,\n",
       " 'pretrain/token/4': 23.117576599121094,\n",
       " 'pretrain/token/5': 23.660362243652344,\n",
       " 'pretrain/token/6': 22.545001983642578,\n",
       " 'pretrain/token/7': 21.922630310058594,\n",
       " 'pretrain/token/8': 22.393159866333008,\n",
       " 'pretrain/token/9': 22.808799743652344,\n",
       " 'pretrain/token/10': 22.767139434814453,\n",
       " 'pretrain/token/11': 23.420642852783203,\n",
       " 'pretrain/token/12': 23.997772216796875,\n",
       " 'pretrain/token/13': 22.09250259399414,\n",
       " 'pretrain/token/14': 21.238628387451172,\n",
       " 'pretrain/token/15': 22.944610595703125,\n",
       " 'true/mse': 20.287052154541016,\n",
       " 'true/delta_dmmse': tensor(19.2558, device='cuda:0'),\n",
       " 'true/delta_ridge': tensor(17.3636, device='cuda:0'),\n",
       " 'true/token/0': 20.61550521850586,\n",
       " 'true/token/1': 19.57203483581543,\n",
       " 'true/token/2': 21.16144371032715,\n",
       " 'true/token/3': 20.6768856048584,\n",
       " 'true/token/4': 20.652639389038086,\n",
       " 'true/token/5': 19.187355041503906,\n",
       " 'true/token/6': 20.05785369873047,\n",
       " 'true/token/7': 20.27511978149414,\n",
       " 'true/token/8': 19.0450439453125,\n",
       " 'true/token/9': 20.715707778930664,\n",
       " 'true/token/10': 20.896060943603516,\n",
       " 'true/token/11': 19.44046401977539,\n",
       " 'true/token/12': 21.431102752685547,\n",
       " 'true/token/13': 20.166805267333984,\n",
       " 'true/token/14': 20.590330123901367,\n",
       " 'true/token/15': 20.108505249023438}"
      ]
     },
     "execution_count": 6,
     "metadata": {},
     "output_type": "execute_result"
    }
   ],
   "source": [
    "set_seed(0)\n",
    "\n",
    "# initialise model\n",
    "model = config.task_config.model_factory().to(config.device)\n",
    "\n",
    "# initialise 'pretraining' data source (for training on fixed task set)\n",
    "pretrain_dist = config.task_config.pretrain_dist_factory().to(config.device)\n",
    "\n",
    "# initialise 'true' data source (for evaluation, including unseen tasks)\n",
    "true_dist = config.task_config.true_dist_factory().to(config.device)\n",
    "\n",
    "# initialise evaluations\n",
    "evaluator = ICLEvaluator(\n",
    "    pretrain_dist=pretrain_dist,\n",
    "    true_dist=true_dist,\n",
    "    max_examples=config.task_config.max_examples,\n",
    "    eval_batch_size=config.eval_batch_size,\n",
    ")\n",
    "\n",
    "# Load model\n",
    "model.load_state_dict(checkpointer[-1][\"model\"])\n",
    "\n",
    "evaluator(model)"
   ]
  },
  {
   "cell_type": "code",
   "execution_count": 4,
   "metadata": {},
   "outputs": [],
   "source": [
    "set_seed(0)\n",
    "\n",
    "# initialise model\n",
    "model_1 = config.task_config.model_factory().to(config.device)\n",
    "\n",
    "# initialise 'pretraining' data source (for training on fixed task set)\n",
    "pretrain_dist_1 = config.task_config.pretrain_dist_factory().to(config.device)\n",
    "\n",
    "# initialise 'true' data source (for evaluation, including unseen tasks)\n",
    "true_dist_1 = config.task_config.true_dist_factory().to(config.device)"
   ]
  },
  {
   "cell_type": "code",
   "execution_count": 5,
   "metadata": {},
   "outputs": [],
   "source": [
    "set_seed(0)\n",
    "\n",
    "# initialise model\n",
    "model_2 = config.task_config.model_factory().to(config.device)\n",
    "\n",
    "# initialise 'pretraining' data source (for training on fixed task set)\n",
    "pretrain_dist_2 = config.task_config.pretrain_dist_factory().to(config.device)\n",
    "\n",
    "# initialise 'true' data source (for evaluation, including unseen tasks)\n",
    "true_dist_2 = config.task_config.true_dist_factory().to(config.device)"
   ]
  },
  {
   "cell_type": "code",
   "execution_count": 13,
   "metadata": {},
   "outputs": [
    {
     "data": {
      "text/plain": [
       "True"
      ]
     },
     "execution_count": 13,
     "metadata": {},
     "output_type": "execute_result"
    }
   ],
   "source": []
  },
  {
   "cell_type": "code",
   "execution_count": 22,
   "metadata": {},
   "outputs": [
    {
     "data": {
      "text/plain": [
       "'{\"embed_size\": 128, \"max_examples\": 16, \"mlp_size\": 128, \"noise_variance\": 0.25, \"num_heads\": 2, \"num_layers\": 8, \"num_tasks\": 1, \"task_size\": 8}'"
      ]
     },
     "execution_count": 22,
     "metadata": {},
     "output_type": "execute_result"
    }
   ],
   "source": [
    "import json\n",
    "import random\n",
    "import warnings\n",
    "\n",
    "import numpy as np\n",
    "import torch\n",
    "\n",
    "json.dumps({\n",
    "    \"task_size\": 8,\n",
    "    \"max_examples\": 16,\n",
    "    \"num_tasks\": 1,\n",
    "    \"noise_variance\": 0.25,\n",
    "    \"embed_size\": 128,\n",
    "    \"mlp_size\": 128,\n",
    "    \"num_heads\": 2,\n",
    "    \"num_layers\": 8,\n",
    "}, sort_keys=True)\n"
   ]
  },
  {
   "cell_type": "code",
   "execution_count": null,
   "metadata": {},
   "outputs": [],
   "source": []
  }
 ],
 "metadata": {
  "kernelspec": {
   "display_name": ".venv",
   "language": "python",
   "name": "python3"
  },
  "language_info": {
   "codemirror_mode": {
    "name": "ipython",
    "version": 3
   },
   "file_extension": ".py",
   "mimetype": "text/x-python",
   "name": "python",
   "nbconvert_exporter": "python",
   "pygments_lexer": "ipython3",
   "version": "3.9.16"
  },
  "orig_nbformat": 4
 },
 "nbformat": 4,
 "nbformat_minor": 2
}
