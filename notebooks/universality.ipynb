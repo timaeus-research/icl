{
 "cells": [
  {
   "cell_type": "markdown",
   "metadata": {},
   "source": [
    "# Universality of Essential Dynamics"
   ]
  },
  {
   "cell_type": "code",
   "execution_count": null,
   "metadata": {},
   "outputs": [],
   "source": [
    "import os\n",
    "from dotenv import load_dotenv\n",
    "\n",
    "load_dotenv();"
   ]
  },
  {
   "cell_type": "code",
   "execution_count": null,
   "metadata": {},
   "outputs": [],
   "source": [
    "import torch\n",
    "from torch import nn\n",
    "import matplotlib.pyplot as plt\n",
    "import numpy as np\n",
    "import pandas as pd\n",
    "import tqdm\n",
    "import seaborn as sns\n",
    "from sklearn.decomposition import PCA\n",
    "from mpl_toolkits.axes_grid1.inset_locator import inset_axes\n",
    "import matplotlib.patches as mpatches\n",
    "\n",
    "import matplotlib.pyplot as plt\n",
    "from mpl_toolkits.mplot3d import Axes3D\n",
    "from matplotlib.patches import FancyArrowPatch\n",
    "from mpl_toolkits.mplot3d import proj3d\n",
    "import seaborn as sns\n",
    "import numpy as np\n",
    "from sklearn.decomposition import PCA\n",
    "from torch.nn import functional as F\n",
    "from sklearn.manifold import TSNE\n",
    "\n",
    "# import sys\n",
    "# del sys.modules['icl.figures.colors']\n",
    "# del sys.modules['icl.figures.notation']\n",
    "\n",
    "from icl.analysis.utils import get_unique_run\n",
    "from icl.constants import ANALYSIS, FIGURES, SWEEPS\n",
    "from icl.figures.notation import str_d_dlogt, str_d_dt, str_dlog_dlogt\n",
    "from icl.figures.colors import plot_transitions, gen_transition_colors, get_transition_type, PRIMARY, SECONDARY, TERTIARY, BRED, BBLUE, BRED, BGREEN\n",
    "from icl.constants import DEVICE\n",
    "\n",
    "# from devinterp.slt.forms import \n",
    "sns.set_style('white')\n",
    "plt.rcParams['figure.dpi'] = 300"
   ]
  },
  {
   "cell_type": "code",
   "execution_count": null,
   "metadata": {},
   "outputs": [],
   "source": [
    "pcas = []\n",
    "\n",
    "for seed in range(5):\n",
    "    pca = torch.load(ANALYSIS / f'pca_{seed}.pt')\n",
    "    pcas.append(pca)\n",
    "\n",
    "ref_pca = pcas[0]"
   ]
  },
  {
   "cell_type": "code",
   "execution_count": null,
   "metadata": {},
   "outputs": [],
   "source": [
    "MODEL_SEED = 1\n",
    "MODEL_ID = f\"Minf{MODEL_SEED}\"\n",
    "\n",
    "samples = torch.load(ANALYSIS / MODEL_ID / f'ed-samples.pt')\n",
    "\n",
    "# Transform using a PCA fit to a *different* trajectory.\n",
    "transformed = ref_pca.transform(samples)"
   ]
  }
 ],
 "metadata": {
  "language_info": {
   "name": "python"
  }
 },
 "nbformat": 4,
 "nbformat_minor": 2
}
