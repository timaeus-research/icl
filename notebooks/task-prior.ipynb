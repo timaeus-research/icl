{
 "cells": [
  {
   "cell_type": "markdown",
   "metadata": {},
   "source": [
    "# Learning the task prior\n",
    "\n",
    "This notebook was used to generate the figure for \"Learning the task prior...\" (Appendix Fig. 20). \n",
    "\n",
    "Unlike the models considered in the main body, the models here are trained on a dataset generated for a *finite set of tasks* $\\mathbf{t}$ of size $M$, where $\\log_2 M = 0 .. 20$.  \n",
    "\n",
    "This notebook compares the average prediction of the resulting models over time to the predictions made using either the \"O prediction\" ($x_k \\mapsto 0_D$) or the \"task-average\" prediction ($x_k \\mapsto \\bar{\\mathbf{t}}\\cdot x_k$, where $\\bar{\\mathbf{t}}= M^{-1}\\sum_{m=1}^M \\mathbf{t}_m$) for models trained on finite datasets, to show the model ends up closer to the task average than the O prediction. "
   ]
  },
  {
   "cell_type": "code",
   "execution_count": 1,
   "metadata": {},
   "outputs": [],
   "source": [
    "import os\n",
    "from dotenv import load_dotenv\n",
    "\n",
    "load_dotenv();"
   ]
  },
  {
   "cell_type": "code",
   "execution_count": 17,
   "metadata": {},
   "outputs": [],
   "source": [
    "import torch\n",
    "from torch import nn\n",
    "import matplotlib.pyplot as plt\n",
    "import numpy as np\n",
    "import pandas as pd\n",
    "import tqdm\n",
    "import seaborn as sns\n",
    "from copy import deepcopy \n",
    "from icl.constants import DATA, DEVICE\n",
    "\n",
    "from icl.analysis.utils import get_unique_run\n",
    "from devinterp.mechinterp.hooks import hook\n",
    "\n",
    "from icl.constants import FIGURES, SWEEPS\n",
    "from icl.figures.plotting import WIDTH, HEIGHT, FULL_WIDTH, FULL_HEIGHT\n",
    "from icl.monitoring import stdlogger"
   ]
  },
  {
   "cell_type": "code",
   "execution_count": null,
   "metadata": {},
   "outputs": [],
   "source": [
    "runs = [get_unique_run(\n",
    "    SWEEPS / \"training-runs/archive/small-L-2.yaml\", \n",
    "    task_config={\"num_tasks\": 2 ** m, \"num_layers\": 2},\n",
    "    optimizer_config={\"lr\": 0.01}\n",
    ") for m in range(21)]"
   ]
  },
  {
   "cell_type": "code",
   "execution_count": null,
   "metadata": {},
   "outputs": [],
   "source": [
    "from icl.train import Run\n",
    "\n",
    "def get_task_prior(run: Run):\n",
    "    tasks = run.pretrain_dist.task_distribution.tasks\n",
    "    return tasks.mean(dim=0).cpu().numpy()\n",
    "\n",
    "task_priors = [get_task_prior(run) for run in runs]"
   ]
  },
  {
   "cell_type": "markdown",
   "metadata": {},
   "source": [
    "# Load checkpoints"
   ]
  },
  {
   "cell_type": "code",
   "execution_count": 7,
   "metadata": {},
   "outputs": [
    {
     "name": "stderr",
     "output_type": "stream",
     "text": [
      "(20) 95/96: 100%|██████████| 21/21 [13:52<00:00, 39.67s/it]\n"
     ]
    }
   ],
   "source": [
    "num_checkpoints = len(runs[0].checkpointer)\n",
    "all_models = []\n",
    "\n",
    "if not os.path.exists(DATA / \"m-finite-models.pkl\"):\n",
    "    \n",
    "    stdlogger.info(\"Retrieving models from bucket\")\n",
    "    pbar = tqdm.tqdm(runs)\n",
    "    for i, run in enumerate(pbar):\n",
    "        models = []\n",
    "\n",
    "        for j, checkpoint in enumerate(run.checkpointer):\n",
    "            m = deepcopy(run.model)\n",
    "            m.load_state_dict(checkpoint[\"model\"])\n",
    "            models.append(m)\n",
    "\n",
    "            pbar.set_description(f\"({i}) {j}/{num_checkpoints}\")\n",
    "\n",
    "        all_models.append(models)\n",
    "\n",
    "    stdlogger.info(\"Saving models to disk\")\n",
    "    with open(DATA / 'm-finite-models.pkl', 'wb') as f:\n",
    "        torch.save(all_models, f)\n",
    "\n",
    "else:\n",
    "    stdlogger.info(\"Loading models from disk\")\n",
    "    with open(DATA / 'm-finite-models.pkl', 'rb') as f:\n",
    "        all_models = torch.load(f)"
   ]
  },
  {
   "cell_type": "markdown",
   "metadata": {},
   "source": [
    "# Compare to 0 prediction and task midpoint"
   ]
  },
  {
   "cell_type": "code",
   "execution_count": 14,
   "metadata": {},
   "outputs": [
    {
     "name": "stderr",
     "output_type": "stream",
     "text": [
      "(20) 95/96: 100%|██████████| 21/21 [00:17<00:00,  1.17it/s]\n"
     ]
    }
   ],
   "source": [
    "from icl.constants import DEVICE\n",
    "from icl.tasks import apply_transformations\n",
    "\n",
    "task_midpoint_evals = []\n",
    "\n",
    "pbar = tqdm.tqdm(zip(runs, all_models, task_priors), total=len(runs))\n",
    "steps = list(sorted(run.checkpointer.file_ids))\n",
    "\n",
    "for i, (run, models, task_prior) in enumerate(pbar):\n",
    "    xs, ys = run.evaluator.pretrain_xs, run.evaluator.pretrain_ys\n",
    "    xs, ys = xs.to(DEVICE), ys.to(DEVICE)\n",
    "\n",
    "    _task_prior = torch.tensor(task_prior).to(DEVICE).reshape(1, -1, 1).repeat(xs.shape[0], 1, 1)\n",
    "    y_preds_with_taskprior = apply_transformations(_task_prior, xs, 0., DEVICE)\n",
    "\n",
    "    for j, (step, model) in enumerate(zip(steps, models)):\n",
    "        y_preds = model(xs, ys)\n",
    "        y_pred_norms = (y_preds ** 2).sum(dim=1).mean(dim=0).item()\n",
    "        y_pred_dist_to_prior = ((y_preds - y_preds_with_taskprior) ** 2).sum(dim=1).mean(dim=0).item()\n",
    "\n",
    "        task_midpoint_evals.append({\n",
    "            'step': step,\n",
    "            'm': i,\n",
    "            \"M\": 2 ** i,\n",
    "            'y_pred_norms': y_pred_norms,\n",
    "            'y_pred_dist_to_prior': y_pred_dist_to_prior,\n",
    "        })\n",
    "\n",
    "        pbar.set_description(f\"({i}) {j}/{num_checkpoints}\")\n",
    "\n",
    "task_midpoint_evals = pd.DataFrame(task_midpoint_evals)"
   ]
  },
  {
   "cell_type": "markdown",
   "metadata": {},
   "source": [
    "# Plot figure"
   ]
  },
  {
   "cell_type": "code",
   "execution_count": 18,
   "metadata": {},
   "outputs": [
    {
     "name": "stderr",
     "output_type": "stream",
     "text": [
      "<ipython-input-18-2af19b89ecc7>:23: UserWarning: Attempt to set non-positive ylim on a log-scaled axis will be ignored.\n",
      "  ax.set_ylim(min_ylim, max_ylim)\n"
     ]
    },
    {
     "data": {
      "image/png": "[encoded data removed]",
      "text/plain": [
       "<Figure size 486x144.62 with 2 Axes>"
      ]
     },
     "metadata": {
      "needs_background": "light"
     },
     "output_type": "display_data"
    }
   ],
   "source": [
    "df = task_midpoint_evals.loc[task_midpoint_evals.m > 0]\n",
    "\n",
    "fig, axes = plt.subplots(1, 2, figsize=(FULL_WIDTH, FULL_HEIGHT))\n",
    "\n",
    "sns.lineplot(df, x='step', y='y_pred_norms', hue='m', palette='viridis', ax=axes[0], alpha=0.8)\n",
    "sns.lineplot(df, x='step', y='y_pred_dist_to_prior', hue='m', palette='viridis', ax=axes[1], alpha=0.8)\n",
    "\n",
    "axes[0].set_title(\"(a) MSE from $\\mathbf{0}$ Prediction\")\n",
    "axes[1].set_title(\"(b) MSE from $\\overline{\\mathbf{t}}$ Prediction\")\n",
    "\n",
    "ylims1 = axes[0].get_ylim()\n",
    "ylims2 = axes[1].get_ylim()\n",
    "\n",
    "min_ylim = min(ylims1[0], ylims2[0])\n",
    "max_ylim = max(ylims1[1], ylims2[1])\n",
    "\n",
    "for ax in axes:\n",
    "    ax.set_xlabel(\"Step $t$\")\n",
    "    ax.set_xscale(\"log\")\n",
    "    ax.set_ylabel(\"MSE\")\n",
    "    ax.set_yscale(\"log\")\n",
    "    ax.legend().remove()\n",
    "    ax.set_ylim(min_ylim, max_ylim)\n",
    "\n",
    "handles = axes[0].get_legend_handles_labels()[0]\n",
    "ax.legend(handles=handles, labels=[f\"$M = 2^{{{m}}}$\" for m in [4, 8, 12, 16, 20]], bbox_to_anchor=(1.05, .9), loc='upper left', borderaxespad=0.)\n",
    "\n",
    "fig.tight_layout()\n",
    "fig.savefig(FIGURES / \"m-finite/task-prior.pdf\", bbox_inches='tight')\n",
    "plt.show()"
   ]
  }
 ],
 "metadata": {
  "kernelspec": {
   "display_name": ".venv",
   "language": "python",
   "name": "python3"
  },
  "language_info": {
   "codemirror_mode": {
    "name": "ipython",
    "version": 3
   },
   "file_extension": ".py",
   "mimetype": "text/x-python",
   "name": "python",
   "nbconvert_exporter": "python",
   "pygments_lexer": "ipython3",
   "version": "3.9.15"
  },
  "orig_nbformat": 4
 },
 "nbformat": 4,
 "nbformat_minor": 2
}
