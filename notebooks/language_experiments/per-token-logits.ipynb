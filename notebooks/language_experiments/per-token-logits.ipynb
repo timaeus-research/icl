{
 "cells": [
  {
   "cell_type": "markdown",
   "metadata": {},
   "source": [
    "Note: this will get per-token logits for checkpoints 100 steps apart, which is a total of 501 checkpoints. In order to get 5001 datapoints to get the denser ED graph, adjust the training script to save every 10 steps instead."
   ]
  },
  {
   "cell_type": "code",
   "execution_count": null,
   "metadata": {},
   "outputs": [],
   "source": [
    "import datasets\n",
    "import einops\n",
    "import math\n",
    "import numpy as np\n",
    "\n",
    "import torch\n",
    "import torch.nn as nn\n",
    "from tqdm import tqdm\n",
    "\n",
    "from copy import deepcopy\n",
    "# from dataclasses import dataclass\n",
    "from fancy_einsum import einsum\n",
    "from transformer_lens import HookedTransformer\n",
    "from transformer_lens import HookedTransformerConfig\n",
    "from transformer_lens.utils import lm_cross_entropy_loss\n",
    "from transformer_lens.utils import tokenize_and_concatenate"
   ]
  },
  {
   "cell_type": "code",
   "execution_count": null,
   "metadata": {},
   "outputs": [],
   "source": [
    "from icl.language.model import get_model_cfg\n",
    "from icl.language.utils import load_hf_checkpoint\n",
    "\n",
    "model_cfgs = {}\n",
    "model_cfgs[1] = get_model_cfg(num_layers=1)\n",
    "model_cfgs[2] = get_model_cfg(num_layers=2)\n",
    "\n",
    "model = HookedTransformer(model_cfgs[2])"
   ]
  },
  {
   "cell_type": "code",
   "execution_count": null,
   "metadata": {},
   "outputs": [],
   "source": [
    "dataset_name = 'oknMswoztTPaAVreBrWy/dsir-pile-100k'\n",
    "dataset_col_name = 'contents'\n",
    "\n",
    "dataset = datasets.load_dataset(dataset_name,\n",
    "                                split='train')\n",
    "tokens_dataset = tokenize_and_concatenate(dataset,\n",
    "                                         model.tokenizer,\n",
    "                                         streaming=False,\n",
    "                                         max_length=model.cfg.n_ctx,\n",
    "                                         column_name=dataset_col_name,\n",
    "                                         add_bos_token=True,\n",
    "                                         num_proc=12)\n",
    "\n",
    "data_loader = torch.utils.data.DataLoader(tokens_dataset,\n",
    "                                          batch_size=32,\n",
    "                                          shuffle=False)\n",
    "len(data_loader)"
   ]
  },
  {
   "cell_type": "code",
   "execution_count": null,
   "metadata": {},
   "outputs": [],
   "source": [
    "import random\n",
    "\n",
    "def per_token_logit(model, data_loader, num_tokens=10000, seed=0):\n",
    "    '''Data loader must not be shuffled'''\n",
    "    random.seed(seed)\n",
    "    device = model.cfg.device\n",
    "    per_token_logits = []\n",
    "    for batch in tqdm(data_loader):\n",
    "        if len(per_token_logits) >= num_tokens:\n",
    "            break\n",
    "        tokens = batch['tokens'].to(device)\n",
    "        batch_logits = model(tokens).detach()\n",
    "        for i, logits in enumerate(batch_logits):\n",
    "          if len(per_token_logits) >= num_tokens:\n",
    "            break\n",
    "          idx = random.randint(0, len(logits)-2)\n",
    "          true_next_token = tokens[i][idx+1].cpu().item()\n",
    "          per_token_logits.append(logits[idx][true_next_token].cpu().item())\n",
    "    return per_token_logits"
   ]
  },
  {
   "cell_type": "code",
   "execution_count": null,
   "metadata": {},
   "outputs": [],
   "source": [
    "L1_all_per_token_logits = []\n",
    "L2_all_per_token_logits = []\n",
    "\n",
    "for step in range(0, 50_000 + 1, 10):\n",
    "  L1_per_token_logits = per_token_logit(load_hf_checkpoint(step, n_layers=1), data_loader)\n",
    "  L2_per_token_logits = per_token_logit(load_hf_checkpoint(step, n_layers=2), data_loader)\n",
    "  L1_all_per_token_logits.append(L1_per_token_logits)\n",
    "  L2_all_per_token_logits.append(L2_per_token_logits)"
   ]
  }
 ],
 "metadata": {
  "language_info": {
   "name": "python"
  }
 },
 "nbformat": 4,
 "nbformat_minor": 2
}
