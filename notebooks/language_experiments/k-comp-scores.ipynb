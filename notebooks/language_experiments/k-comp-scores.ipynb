{
 "cells": [
  {
   "cell_type": "code",
   "execution_count": null,
   "metadata": {},
   "outputs": [],
   "source": [
    "import datasets\n",
    "import math\n",
    "import numpy as np\n",
    "\n",
    "import torch\n",
    "import torch.nn as nn\n",
    "from tqdm import tqdm\n",
    "\n",
    "from copy import deepcopy\n",
    "from transformer_lens import HookedTransformer\n",
    "from transformer_lens import HookedTransformerConfig\n",
    "from transformer_lens.utils import lm_cross_entropy_loss\n",
    "from transformer_lens.utils import tokenize_and_concatenate\n",
    "\n",
    "from transformer_lens import HookedTransformerConfig, HookedTransformer\n",
    "\n",
    "DEVICE = 'cuda'"
   ]
  },
  {
   "cell_type": "code",
   "execution_count": null,
   "metadata": {},
   "outputs": [],
   "source": [
    "from icl.language.model import get_model_cfg\n",
    "from icl.language.utils import load_hf_checkpoint\n",
    "\n",
    "model_cfgs = {}\n",
    "model_cfgs[1] = get_model_cfg(num_layers=1)\n",
    "model_cfgs[2] = get_model_cfg(num_layers=2)\n",
    "\n",
    "model = HookedTransformer(model_cfgs[2])"
   ]
  },
  {
   "cell_type": "code",
   "execution_count": null,
   "metadata": {},
   "outputs": [],
   "source": [
    "L2_models = {}\n",
    "\n",
    "for step in tqdm(range(0, 50_001, 100)):\n",
    "    L2_models[step] = load_hf_checkpoint(step, n_layers=2)\n",
    "\n",
    "mean_k_score = L2_models[0].all_composition_scores('K')[0][:, 1].mean()"
   ]
  },
  {
   "cell_type": "code",
   "execution_count": null,
   "metadata": {},
   "outputs": [],
   "source": [
    "from collections import defaultdict\n",
    "\n",
    "def get_comp_scores(comp_type):\n",
    "  scores = defaultdict(list)\n",
    "  for step in range(0, 50_001, 100):\n",
    "    all_layer_scores = L2_models[step].all_composition_scores(comp_type)[0].detach()\n",
    "    for layer_0 in range(8):\n",
    "      for layer_1 in range(8):\n",
    "        score = all_layer_scores[layer_0][1][layer_1].item()\n",
    "        scores[(layer_0, layer_1)].append(score)\n",
    "  return scores\n",
    "\n",
    "k_scores = get_comp_scores('K')"
   ]
  }
 ],
 "metadata": {
  "language_info": {
   "name": "python"
  }
 },
 "nbformat": 4,
 "nbformat_minor": 2
}
