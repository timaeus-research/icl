{
 "cells": [
  {
   "cell_type": "code",
   "execution_count": null,
   "metadata": {},
   "outputs": [],
   "source": [
    "import wandb\n",
    "import datasets\n",
    "import math\n",
    "import numpy as np\n",
    "\n",
    "import torch\n",
    "import torch.nn as nn\n",
    "from tqdm import tqdm\n",
    "\n",
    "from copy import deepcopy\n",
    "from transformer_lens import HookedTransformer\n",
    "from transformer_lens import HookedTransformerConfig\n",
    "from transformer_lens.utils import lm_cross_entropy_loss\n",
    "from transformer_lens.utils import tokenize_and_concatenate\n",
    "\n",
    "from transformer_lens import HookedTransformerConfig, HookedTransformer\n",
    "\n",
    "DEVICE = 'cuda'"
   ]
  },
  {
   "cell_type": "code",
   "execution_count": null,
   "metadata": {},
   "outputs": [],
   "source": [
    "from icl.language.model import get_model_cfg\n",
    "from icl.language.utils import load_hf_checkpoint\n",
    "\n",
    "model_cfgs = {}\n",
    "model_cfgs[1] = get_model_cfg(num_layers=1)\n",
    "model_cfgs[2] = get_model_cfg(num_layers=2)\n",
    "\n",
    "model = HookedTransformer(model_cfgs[2])"
   ]
  },
  {
   "cell_type": "code",
   "execution_count": null,
   "metadata": {},
   "outputs": [],
   "source": [
    "dataset_name = 'oknMswoztTPaAVreBrWy/dsir-pile-100k'\n",
    "dataset_col_name = 'contents'\n",
    "\n",
    "dataset = datasets.load_dataset(dataset_name,\n",
    "                                split='train')\n",
    "tokens_dataset = tokenize_and_concatenate(dataset,\n",
    "                                         model.tokenizer,\n",
    "                                         streaming=False,\n",
    "                                         max_length=model.cfg.n_ctx,\n",
    "                                         column_name=dataset_col_name,\n",
    "                                         add_bos_token=True,\n",
    "                                         num_proc=12)\n",
    "\n",
    "data_loader = torch.utils.data.DataLoader(tokens_dataset,\n",
    "                                          batch_size=32,\n",
    "                                          shuffle=False)\n",
    "len(data_loader)"
   ]
  },
  {
   "cell_type": "code",
   "execution_count": null,
   "metadata": {},
   "outputs": [],
   "source": [
    "def icl_score(model, batch):\n",
    "    '''Score is loss of 500th token minus loss of 50th token'''\n",
    "    device = model.cfg.device\n",
    "    tokens = batch['tokens'].to(device)\n",
    "    logits = model(tokens).detach()\n",
    "    loss = lm_cross_entropy_loss(logits, tokens, per_token = True)\n",
    "    return loss[:, 498].mean() - loss[:, 48].mean()  # offset by 1 bc it's predicting the next token\n",
    "\n",
    "def score_checkpoint(step, data_loader, n_layers):\n",
    "  model = load_hf_checkpoint(step, n_layers=n_layers)\n",
    "  icl_scores = []\n",
    "  for batch in tqdm(data_loader):\n",
    "    score = icl_score(model, batch)\n",
    "    icl_scores.append(score.cpu().item())\n",
    "  return np.mean(icl_scores)"
   ]
  },
  {
   "cell_type": "code",
   "execution_count": null,
   "metadata": {},
   "outputs": [],
   "source": [
    "icl_scores = []\n",
    "for step in range(0, 50001, 100):\n",
    "  score = score_checkpoint(step, data_loader, n_layers=2)\n",
    "  icl_scores.append(score)"
   ]
  }
 ],
 "metadata": {
  "language_info": {
   "name": "python"
  }
 },
 "nbformat": 4,
 "nbformat_minor": 2
}
