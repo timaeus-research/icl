{
 "cells": [
  {
   "cell_type": "code",
   "execution_count": null,
   "metadata": {},
   "outputs": [],
   "source": [
    "import datasets\n",
    "import math\n",
    "import numpy as np\n",
    "\n",
    "import torch\n",
    "import torch.nn as nn\n",
    "from tqdm import tqdm\n",
    "\n",
    "from copy import deepcopy\n",
    "from transformer_lens import HookedTransformer\n",
    "from transformer_lens import HookedTransformerConfig\n",
    "from transformer_lens.utils import lm_cross_entropy_loss\n",
    "from transformer_lens.utils import tokenize_and_concatenate\n",
    "\n",
    "from transformer_lens import HookedTransformerConfig, HookedTransformer\n",
    "\n",
    "DEVICE = 'cuda'"
   ]
  },
  {
   "cell_type": "code",
   "execution_count": null,
   "metadata": {},
   "outputs": [],
   "source": [
    "from icl.language.model import get_model_cfg\n",
    "from icl.language.utils import load_hf_checkpoint\n",
    "\n",
    "model_cfgs = {}\n",
    "model_cfgs[1] = get_model_cfg(num_layers=1)\n",
    "model_cfgs[2] = get_model_cfg(num_layers=2)\n",
    "\n",
    "model = HookedTransformer(model_cfgs[2])"
   ]
  },
  {
   "cell_type": "code",
   "execution_count": null,
   "metadata": {},
   "outputs": [],
   "source": [
    "import pickle\n",
    "from icl.constants import ANALYSIS\n",
    "\n",
    "data_path = ANALYSIS / 'language'\n",
    "\n",
    "# this file is not included due to size constraints  \n",
    "with open(data_path / 'bigram_freq_percents.pkl', 'rb') as file:\n",
    "  bigram_freq_percents = pickle.load(file)\n"
   ]
  },
  {
   "cell_type": "code",
   "execution_count": null,
   "metadata": {},
   "outputs": [],
   "source": [
    "dataset_name = 'oknMswoztTPaAVreBrWy/dsir-pile-100k'\n",
    "dataset_col_name = 'contents'\n",
    "\n",
    "dataset = datasets.load_dataset(dataset_name,\n",
    "                                split='train')\n",
    "tokens_dataset = tokenize_and_concatenate(dataset,\n",
    "                                         model.tokenizer,\n",
    "                                         streaming=False,\n",
    "                                         max_length=model.cfg.n_ctx,\n",
    "                                         column_name=dataset_col_name,\n",
    "                                         add_bos_token=True,\n",
    "                                         num_proc=12)\n",
    "\n",
    "data_loader = torch.utils.data.DataLoader(tokens_dataset,\n",
    "                                          batch_size=32,\n",
    "                                          shuffle=False)\n",
    "len(data_loader)"
   ]
  },
  {
   "cell_type": "code",
   "execution_count": null,
   "metadata": {},
   "outputs": [],
   "source": [
    "# compute optimal model performance, which is the average bigram entropy\n",
    "\n",
    "import random\n",
    "from scipy.stats import entropy\n",
    "\n",
    "def bigram_entropy(model, data_loader, num_rows=10000, seed=0):\n",
    "    '''Assumed data loader is shuffled'''\n",
    "    random.seed(seed)\n",
    "    device = model.cfg.device\n",
    "    entropies = []\n",
    "    for batch in tqdm(data_loader):\n",
    "        if len(entropies) >= num_rows:\n",
    "            break\n",
    "        tokens = batch['tokens'].to(device)\n",
    "        batch_logits = model(tokens).detach()\n",
    "        for i, logits in enumerate(batch_logits):\n",
    "            if len(entropies) >= num_rows:\n",
    "                break\n",
    "            idx = random.randint(1, len(logits)-1)\n",
    "            curr_token = tokens[i][idx].item()\n",
    "            entropies.append(entropy(bigram_freq_percents[curr_token]))\n",
    "    return np.mean(entropies)\n",
    "\n",
    "\n",
    "model = load_hf_checkpoint(0)\n",
    "optimal_score = bigram_entropy(model, data_loader)\n",
    "optimal_score"
   ]
  },
  {
   "cell_type": "code",
   "execution_count": null,
   "metadata": {},
   "outputs": [],
   "source": [
    "import random\n",
    "\n",
    "def bigram_difference(model, data_loader, num_rows=10000, seed=0):\n",
    "    '''Data loader must not be shuffled'''\n",
    "    random.seed(seed)\n",
    "    device = model.cfg.device\n",
    "    cross_entropies = []\n",
    "    for batch in tqdm(data_loader):\n",
    "        if len(cross_entropies) >= num_rows:\n",
    "            break\n",
    "        tokens = batch['tokens'].to(device)\n",
    "        batch_logits = model(tokens).detach()\n",
    "        for i, logits in enumerate(batch_logits):\n",
    "            if len(cross_entropies) >= num_rows:\n",
    "                break\n",
    "            idx = random.randint(1, len(logits)-1)\n",
    "            curr_token = tokens[i][idx].item()\n",
    "            target_dist = torch.tensor(bigram_freq_percents[curr_token], dtype=torch.float32, device=model.cfg.device)\n",
    "            ce = F.cross_entropy(logits[idx], target_dist).detach().cpu().item()\n",
    "            cross_entropies.append(ce)\n",
    "    return np.mean(cross_entropies)"
   ]
  },
  {
   "cell_type": "code",
   "execution_count": null,
   "metadata": {},
   "outputs": [],
   "source": [
    "ces_L1 = []\n",
    "ces_L2 = []\n",
    "\n",
    "x_steps = list(range(0, 50001, 100))\n",
    "\n",
    "for step in x_steps:\n",
    "  model_L1 = load_hf_checkpoint(step, n_layers=1)\n",
    "  model_L2 = load_hf_checkpoint(step, n_layers=2)\n",
    "  ces_L1.append(bigram_difference(model_L1, data_loader, num_rows=5000))\n",
    "  ces_L2.append(bigram_difference(model_L2, data_loader, num_rows=5000))\n"
   ]
  }
 ],
 "metadata": {
  "language_info": {
   "name": "python"
  }
 },
 "nbformat": 4,
 "nbformat_minor": 2
}
