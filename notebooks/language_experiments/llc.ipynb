{
  "cells": [
    {
      "cell_type": "markdown",
      "metadata": {
        "id": "LFFg9C1q-y8Y"
      },
      "source": [
        "# LLC estimation"
      ]
    },
    {
      "cell_type": "code",
      "execution_count": null,
      "metadata": {},
      "outputs": [],
      "source": [
        "import datasets\n",
        "import math\n",
        "import numpy as np\n",
        "\n",
        "import torch\n",
        "import torch.nn as nn\n",
        "from tqdm import tqdm\n",
        "\n",
        "from copy import deepcopy\n",
        "from transformer_lens import HookedTransformer\n",
        "from transformer_lens import HookedTransformerConfig\n",
        "from transformer_lens.utils import lm_cross_entropy_loss\n",
        "from transformer_lens.utils import tokenize_and_concatenate"
      ]
    },
    {
      "cell_type": "code",
      "execution_count": null,
      "metadata": {},
      "outputs": [],
      "source": [
        "BATCH_SIZE = 100\n",
        "\n",
        "DATASET = 'oknMswoztTPaAVreBrWy/dsir-pile-1m-2'\n",
        "DS_COL = 'contents'\n",
        "\n",
        "MODEL_NAME = 'L1'\n",
        "\n",
        "DEVICE = 'cuda'"
      ]
    },
    {
      "cell_type": "code",
      "execution_count": null,
      "metadata": {},
      "outputs": [],
      "source": [
        "from icl.language.model import get_model_cfg\n",
        "from icl.language.utils import load_hf_checkpoint\n",
        "\n",
        "model_cfgs = {}\n",
        "model_cfgs[1] = get_model_cfg(num_layers=1)\n",
        "model_cfgs[2] = get_model_cfg(num_layers=2)\n",
        "\n",
        "model = HookedTransformer(model_cfgs[2])"
      ]
    },
    {
      "cell_type": "code",
      "execution_count": null,
      "metadata": {},
      "outputs": [],
      "source": [
        "def reformat_tokens_dataset_for_learning_coeff(tokens_dataset, batch_size):\n",
        "  def custom_collate(batch):\n",
        "    tokens = [item['tokens'] for item in batch]\n",
        "    tokens_tensor = torch.stack(tokens)\n",
        "    return [tokens_tensor, tokens_tensor.clone()]\n",
        "\n",
        "  return torch.utils.data.DataLoader(tokens_dataset,\n",
        "                                     batch_size=batch_size,\n",
        "                                     collate_fn=custom_collate,\n",
        "                                     shuffle=True,\n",
        "                                     num_workers=2,\n",
        "                                     pin_memory=True)\n",
        "\n",
        "lc_dataset = datasets.load_dataset(DATASET,\n",
        "                                   split='train')\n",
        "lc_tokens_dataset = tokenize_and_concatenate(lc_dataset,\n",
        "                                             model.tokenizer,\n",
        "                                             streaming=False,\n",
        "                                             max_length=model.cfg.n_ctx,\n",
        "                                             column_name=DS_COL,\n",
        "                                             add_bos_token=True,\n",
        "                                             num_proc=12)\n",
        "lc_dataset = reformat_tokens_dataset_for_learning_coeff(lc_tokens_dataset,\n",
        "                                                        BATCH_SIZE)\n",
        "\n",
        "print('num batches: ', len(lc_dataset))"
      ]
    },
    {
      "cell_type": "code",
      "execution_count": null,
      "metadata": {},
      "outputs": [],
      "source": [
        "import wandb\n",
        "\n",
        "from icl.analysis.sgld import SGLD\n",
        "from icl.language.llc import estimate_learning_coeff_with_summary\n",
        "\n",
        "from transformer_lens.utils import lm_cross_entropy_loss\n",
        "\n",
        "EPSILON = 0.003\n",
        "GAMMA = 300\n",
        "\n",
        "NUM_CHAINS = 20\n",
        "NUM_DRAWS = 200\n",
        "\n",
        "def llc_helper(model):\n",
        "  optim_kwargs = dict(\n",
        "      lr=EPSILON,\n",
        "      noise_level=1.0,\n",
        "      elasticity=GAMMA,\n",
        "      num_samples=100,\n",
        "      temperature=\"adaptive\",\n",
        "  )\n",
        "  results = estimate_learning_coeff_with_summary(\n",
        "      model=model,\n",
        "      loader=lc_dataset,\n",
        "      criterion=lm_cross_entropy_loss,\n",
        "      sampling_method=SGLD,\n",
        "      optimizer_kwargs=optim_kwargs,\n",
        "      num_chains=NUM_CHAINS,\n",
        "      num_draws=NUM_DRAWS,\n",
        "      device=DEVICE,\n",
        "      online=True,\n",
        "  )\n",
        "  return results\n",
        "\n",
        "\n",
        "def estimate_checkpoint_llc(step, n_layers):\n",
        "  model = load_hf_checkpoint(step, n_layers=n_layers)\n",
        "  results = llc_helper(model)\n",
        "  llc_mean = results['llc/means'][-1]\n",
        "  llc_std = results['llc/stds'][-1]\n",
        "  losses = results['loss/trace']\n",
        "  wandb.log({\n",
        "      \"llc/mean\": llc_mean,\n",
        "      \"llc/std\": llc_std,\n",
        "      **{\n",
        "          f\"loss/trace/{i}\": losses[i] for i in range(len(losses))\n",
        "      },\n",
        "  }, step=step)"
      ]
    },
    {
      "cell_type": "code",
      "execution_count": null,
      "metadata": {},
      "outputs": [],
      "source": [
        "import wandb\n",
        "WANDB_PROJECT = 'foo'\n",
        "wandb.init(project=\"foo\", entity=\"bar\")\n",
        "wandb.run.name = f\"L1W256-llc\"\n",
        "\n",
        "torch.manual_seed(1)\n",
        "\n",
        "# recommend parallelizing this\n",
        "for step in range(0, 50000, 100):\n",
        "  estimate_checkpoint_llc(step, n_layers=1)\n",
        "  estimate_checkpoint_llc(step, n_layers=2)"
      ]
    }
  ],
  "metadata": {
    "accelerator": "GPU",
    "colab": {
      "gpuType": "T4",
      "provenance": []
    },
    "kernelspec": {
      "display_name": "Python 3",
      "name": "python3"
    },
    "language_info": {
      "codemirror_mode": {
        "name": "ipython",
        "version": 3
      },
      "file_extension": ".py",
      "mimetype": "text/x-python",
      "name": "python",
      "nbconvert_exporter": "python",
      "pygments_lexer": "ipython3",
      "version": "3.9.18"
    }
  },
  "nbformat": 4,
  "nbformat_minor": 0
}
