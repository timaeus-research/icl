{
 "cells": [
  {
   "cell_type": "markdown",
   "metadata": {},
   "source": [
    "# Language"
   ]
  },
  {
   "cell_type": "code",
   "execution_count": 43,
   "metadata": {},
   "outputs": [
    {
     "name": "stderr",
     "output_type": "stream",
     "text": [
      "Using pad_token, but it is not set yet.\n"
     ]
    }
   ],
   "source": [
    "import os\n",
    "from pathlib import Path\n",
    "import json\n",
    "import pickle\n",
    "from collections import Counter\n",
    "\n",
    "import tqdm \n",
    "from icl.constants import DEVICE, DATA\n",
    "from icl.language.model import get_model\n",
    "from icl.language.utils import translate_int_to_str\n",
    "\n",
    "model = get_model()"
   ]
  },
  {
   "cell_type": "code",
   "execution_count": 16,
   "metadata": {},
   "outputs": [
    {
     "name": "stderr",
     "output_type": "stream",
     "text": [
      "100%|██████████| 5000000/5000000 [00:47<00:00, 106344.43it/s]\n"
     ]
    }
   ],
   "source": [
    "import torch\n",
    "import numpy as np\n",
    "\n",
    "validation_set_idxs = np.random.choice(5_000_000, size=10_000, replace=False)\n",
    "validation_set = []\n",
    "\n",
    "with open(DATA / \"train-5m.jsonl\", \"r\") as f:\n",
    "    for i, line in tqdm.tqdm(enumerate(f), total=5_000_000):\n",
    "        if i in validation_set_idxs:\n",
    "            content = json.loads(line)['contents']\n",
    "            tokens = model.tokenizer(content)['input_ids']\n",
    "\n",
    "            if len(tokens) > 1024:\n",
    "                tokens = tokens[:1024]\n",
    "\n",
    "            validation_set.append(tokens)"
   ]
  },
  {
   "cell_type": "code",
   "execution_count": 17,
   "metadata": {},
   "outputs": [],
   "source": [
    "import boto3\n",
    "\n",
    "client = boto3.client('s3')\n",
    "\n",
    "with open(DATA / 'tokens-10k.pkl', 'wb') as f:\n",
    "    pickle.dump(validation_set, f)\n",
    "\n",
    "with open(DATA / 'tokens-10k.pkl','rb') as f:\n",
    "    client.upload_fileobj(f, 'devinterp', f'other/language/tokens-10k.pkl')"
   ]
  },
  {
   "cell_type": "code",
   "execution_count": 18,
   "metadata": {},
   "outputs": [],
   "source": [
    "with open(DATA / 'tokens-10k.pkl','rb') as f:\n",
    "    validation_set = pickle.load(f) "
   ]
  },
  {
   "cell_type": "code",
   "execution_count": 48,
   "metadata": {},
   "outputs": [
    {
     "name": "stderr",
     "output_type": "stream",
     "text": [
      "100%|██████████| 10000/10000 [00:06<00:00, 1515.79it/s]\n"
     ]
    }
   ],
   "source": [
    "vocab_size = 5000\n",
    "vocab = np.arange(vocab_size)\n",
    "total_trigrams = Counter()\n",
    "total_trigrams_per_row = Counter()\n",
    "\n",
    "for tokens in tqdm.tqdm(validation_set):\n",
    "    trigrams_in_row = set()\n",
    "\n",
    "    for i in range(len(tokens)-2):\n",
    "        trigram = tuple(tokens[i:i+3])\n",
    "        total_trigrams[trigram] += 1\n",
    "        trigrams_in_row.add(trigram)\n",
    "\n",
    "    for token in trigrams_in_row:\n",
    "        total_trigrams_per_row[token] += 1\n"
   ]
  },
  {
   "cell_type": "code",
   "execution_count": 49,
   "metadata": {},
   "outputs": [
    {
     "name": "stdout",
     "output_type": "stream",
     "text": [
      "Number of unique trigrams in validation set: 2038645\n",
      "Number of unique trigrams with count > 1: 502141\n",
      "Number of unique trigrams with count > 2: 272505\n",
      "Number of unique trigrams that show up in > 1 rows: 432513\n",
      "Number of unique trigrams that show up in > 2 rows: 234870\n"
     ]
    }
   ],
   "source": [
    "print(\"Number of unique trigrams in validation set:\", len(total_trigrams))\n",
    "print(\"Number of unique trigrams with count > 1:\", len([t for t in total_trigrams if total_trigrams[t] > 1]))\n",
    "print(\"Number of unique trigrams with count > 2:\", len([t for t in total_trigrams if total_trigrams[t] > 2]))\n",
    "print(\"Number of unique trigrams that show up in > 1 rows:\", len([t for t in total_trigrams if total_trigrams_per_row[t] > 1]))\n",
    "print(\"Number of unique trigrams that show up in > 2 rows:\", len([t for t in total_trigrams if total_trigrams_per_row[t] > 2]))"
   ]
  },
  {
   "cell_type": "code",
   "execution_count": 54,
   "metadata": {},
   "outputs": [
    {
     "name": "stdout",
     "output_type": "stream",
     "text": [
      "ian refuge \t\t\t ('ian', ' ref', 'uge')\n",
      ", we've \t\t\t (',', ' we', \"'ve\")\n",
      "tool in \t\t\t ('t', 'ool', ' in')\n",
      "eld. \t\t\t ('e', 'ld', '.')\n",
      "� t \t\t\t ('�', ' ', 't')\n",
      "ue, The \t\t\t ('ue', ',', ' The')\n",
      "ion.\n",
      " \t\t\t ('ion', '.', '\\n')\n",
      " day I  \t\t\t (' day', ' I', ' ')\n",
      " off on  \t\t\t (' off', ' on', ' ')\n",
      "an entirely \t\t\t ('an', ' entire', 'ly')\n",
      " put his foot \t\t\t (' put', ' his', ' foot')\n",
      " in Japanese Pat \t\t\t (' in', ' Japanese', ' Pat')\n",
      "ain.\n",
      " \t\t\t ('ain', '.', '\\n')\n",
      "bot of \t\t\t ('b', 'ot', ' of')\n",
      "orn the \t\t\t ('orn', ' ', 'the')\n",
      " sound,  \t\t\t (' sound', ',', ' ')\n",
      " an eight \t\t\t (' ', 'an', ' eight')\n",
      "\n",
      "Clay \t\t\t ('\\n', 'Cl', 'ay')\n",
      "ed Wil \t\t\t ('ed', ' W', 'il')\n",
      " Bonn \t\t\t (' B', 'on', 'n')\n",
      " Nora \t\t\t (' N', 'or', 'a')\n",
      "branded \t\t\t ('br', 'and', 'ed')\n",
      "a. As \t\t\t ('a', '.', ' As')\n",
      " been fired \t\t\t (' been', ' f', 'ired')\n",
      "th-old \t\t\t ('th', '-', 'old')\n",
      " or ass \t\t\t (' or', ' ', 'ass')\n",
      " skin rash \t\t\t (' skin', ' r', 'ash')\n",
      " the break \t\t\t (' ', 'the', ' break')\n",
      " outline of \t\t\t (' out', 'line', ' of')\n",
      "venue,  \t\t\t ('venue', ',', ' ')\n",
      " his wife were \t\t\t (' his', ' wife', ' were')\n",
      "com,  \t\t\t ('com', ',', ' ')\n",
      " Railro \t\t\t (' R', 'ail', 'ro')\n",
      ", re- \t\t\t (',', ' re', '-')\n",
      " in commercial \t\t\t (' in', ' commer', 'cial')\n",
      "ured while  \t\t\t ('ured', ' while', ' ')\n",
      " party. But \t\t\t (' party', '.', ' But')\n",
      " would arg \t\t\t (' would', ' ', 'arg')\n",
      "tops, \t\t\t ('t', 'ops', ',')\n",
      "times  \t\t\t ('t', 'imes', ' ')\n",
      " are gl \t\t\t (' ', 'are', ' gl')\n",
      "the Sher \t\t\t ('the', ' S', 'her')\n",
      "ing his political \t\t\t ('ing', ' his', ' political')\n",
      "ade routes \t\t\t ('ade', ' rout', 'es')\n",
      "s campus \t\t\t ('s', ' camp', 'us')\n",
      " asymm \t\t\t (' ', 'asy', 'mm')\n",
      "\n",
      "\n",
      "\n",
      "* \t\t\t ('\\n\\n', '\\n', '*')\n",
      ", clin \t\t\t (',', ' cl', 'in')\n",
      "�s press \t\t\t ('�', 's', ' press')\n",
      "the new H \t\t\t ('the', ' new', ' H')\n",
      "ccompan \t\t\t ('cc', 'omp', 'an')\n",
      "conomic H \t\t\t ('conom', 'ic', ' H')\n",
      "enny W \t\t\t ('enn', 'y', ' W')\n",
      "the network  \t\t\t ('the', ' network', ' ')\n",
      " was predicted \t\t\t (' was', ' predict', 'ed')\n",
      " district of K \t\t\t (' district', ' of', ' K')\n",
      "ah, which \t\t\t ('ah', ',', ' which')\n",
      " and Ind \t\t\t (' ', 'and', ' Ind')\n",
      " past week. \t\t\t (' past', ' week', '.')\n",
      ", nep \t\t\t (',', ' ne', 'p')\n",
      "and distort \t\t\t ('and', ' dist', 'ort')\n",
      " Venerable \t\t\t (' V', 'ener', 'able')\n",
      " in only  \t\t\t (' in', ' only', ' ')\n",
      ". The children \t\t\t ('.', ' The', ' children')\n",
      "a former g \t\t\t ('a', ' former', ' g')\n",
      " mirror \t\t\t (' m', 'ir', 'ror')\n",
      "and conclud \t\t\t ('and', ' con', 'clud')\n",
      " tug \t\t\t (' ', 't', 'ug')\n",
      " Conversation \t\t\t (' Con', 'vers', 'ation')\n",
      " In tr \t\t\t (' In', ' ', 'tr')\n",
      "S\n",
      "\n",
      " \t\t\t ('S', '\\n', '\\n')\n",
      " her career  \t\t\t (' her', ' career', ' ')\n",
      "the harmony \t\t\t ('the', ' harm', 'ony')\n",
      "en, The \t\t\t ('en', ',', ' The')\n",
      "an unlike \t\t\t ('an', ' un', 'like')\n",
      " guard th \t\t\t (' guard', ' ', 'th')\n",
      "racting  \t\t\t ('ract', 'ing', ' ')\n",
      "y)  \t\t\t ('y', ')', ' ')\n",
      " back from  \t\t\t (' back', ' from', ' ')\n",
      "at duty \t\t\t ('at', ' d', 'uty')\n",
      " United States from \t\t\t (' United', ' States', ' from')\n",
      "Morgan \t\t\t ('M', 'or', 'gan')\n",
      " verses  \t\t\t (' vers', 'es', ' ')\n",
      "law, \t\t\t ('l', 'aw', ',')\n",
      " a desc \t\t\t (' ', 'a', ' desc')\n",
      " by JP \t\t\t (' by', ' J', 'P')\n",
      ",\" said K \t\t\t (',\"', ' said', ' K')\n",
      " next year  \t\t\t (' next', ' year', ' ')\n",
      " grand jury \t\t\t (' grand', ' j', 'ury')\n",
      "ured more  \t\t\t ('ured', ' more', ' ')\n",
      "chilles \t\t\t ('ch', 'ill', 'es')\n",
      "us, which \t\t\t ('us', ',', ' which')\n",
      "\n",
      "The drug \t\t\t ('\\n', 'The', ' drug')\n",
      "ache and \t\t\t ('ache', ' ', 'and')\n",
      " last year of \t\t\t (' last', ' year', ' of')\n",
      ". Second \t\t\t ('.', ' Sec', 'ond')\n",
      "ess was  \t\t\t ('ess', ' was', ' ')\n",
      "ountries  \t\t\t ('ount', 'ries', ' ')\n",
      " is under investigation \t\t\t (' is', ' under', ' investigation')\n",
      " innovations \t\t\t (' inn', 'ov', 'ations')\n",
      "essed in \t\t\t ('ess', 'ed', ' in')\n",
      "to Belg \t\t\t ('to', ' Bel', 'g')\n"
     ]
    }
   ],
   "source": [
    "common_trigrams = {t for t in total_trigrams if total_trigrams_per_row[t] > 2}\n",
    "\n",
    "for i, t in enumerate(common_trigrams):\n",
    "    strs = tuple(translate_int_to_str(t, model))\n",
    "    print(\"\".join(strs), \"\\t\\t\\t\", tuple(translate_int_to_str(t, model)))\n",
    "    if i > 100:\n",
    "        break"
   ]
  },
  {
   "cell_type": "code",
   "execution_count": 66,
   "metadata": {},
   "outputs": [
    {
     "name": "stdout",
     "output_type": "stream",
     "text": [
      "Loading dataset...\n"
     ]
    },
    {
     "name": "stderr",
     "output_type": "stream",
     "text": [
      "  0%|          | 10090/5000000 [00:26<2:52:35, 481.85it/s]"
     ]
    },
    {
     "name": "stdout",
     "output_type": "stream",
     "text": [
      "Number of non-zero elements not equal (2038645, 209272)\n"
     ]
    },
    {
     "name": "stderr",
     "output_type": "stream",
     "text": [
      "  0%|          | 20065/5000000 [00:44<3:19:22, 416.31it/s]"
     ]
    },
    {
     "name": "stdout",
     "output_type": "stream",
     "text": [
      "Number of non-zero elements not equal (209272, 225057)\n"
     ]
    },
    {
     "name": "stderr",
     "output_type": "stream",
     "text": [
      "  1%|          | 30051/5000000 [01:08<4:10:48, 330.25it/s]"
     ]
    },
    {
     "name": "stdout",
     "output_type": "stream",
     "text": [
      "Number of non-zero elements not equal (225057, 229888)\n"
     ]
    },
    {
     "name": "stderr",
     "output_type": "stream",
     "text": [
      "  1%|          | 40094/5000000 [01:30<3:50:43, 358.29it/s]"
     ]
    },
    {
     "name": "stdout",
     "output_type": "stream",
     "text": [
      "Number of non-zero elements not equal (229888, 231879)\n"
     ]
    },
    {
     "name": "stderr",
     "output_type": "stream",
     "text": [
      "  1%|          | 50044/5000000 [01:53<5:24:49, 253.99it/s]"
     ]
    },
    {
     "name": "stdout",
     "output_type": "stream",
     "text": [
      "Number of non-zero elements not equal (231879, 232880)\n"
     ]
    },
    {
     "name": "stderr",
     "output_type": "stream",
     "text": [
      "  1%|          | 60060/5000000 [02:21<5:30:39, 248.99it/s] "
     ]
    },
    {
     "name": "stdout",
     "output_type": "stream",
     "text": [
      "Number of non-zero elements not equal (232880, 233487)\n"
     ]
    },
    {
     "name": "stderr",
     "output_type": "stream",
     "text": [
      "  1%|▏         | 70060/5000000 [02:45<4:21:37, 314.07it/s]"
     ]
    },
    {
     "name": "stdout",
     "output_type": "stream",
     "text": [
      "Number of non-zero elements not equal (233487, 233858)\n"
     ]
    },
    {
     "name": "stderr",
     "output_type": "stream",
     "text": [
      "  2%|▏         | 80106/5000000 [03:04<2:13:08, 615.91it/s] "
     ]
    },
    {
     "name": "stdout",
     "output_type": "stream",
     "text": [
      "Number of non-zero elements not equal (233858, 234094)\n"
     ]
    },
    {
     "name": "stderr",
     "output_type": "stream",
     "text": [
      "  2%|▏         | 90099/5000000 [03:17<2:13:40, 612.20it/s]"
     ]
    },
    {
     "name": "stdout",
     "output_type": "stream",
     "text": [
      "Number of non-zero elements not equal (234094, 234273)\n"
     ]
    },
    {
     "name": "stderr",
     "output_type": "stream",
     "text": [
      "  2%|▏         | 100139/5000000 [03:30<2:13:27, 611.94it/s]"
     ]
    },
    {
     "name": "stdout",
     "output_type": "stream",
     "text": [
      "Number of non-zero elements not equal (234273, 234387)\n"
     ]
    },
    {
     "name": "stderr",
     "output_type": "stream",
     "text": [
      "  2%|▏         | 110091/5000000 [03:42<2:11:10, 621.33it/s]"
     ]
    },
    {
     "name": "stdout",
     "output_type": "stream",
     "text": [
      "Number of non-zero elements not equal (234387, 234480)\n"
     ]
    },
    {
     "name": "stderr",
     "output_type": "stream",
     "text": [
      "  2%|▏         | 120109/5000000 [03:55<2:10:14, 624.46it/s]"
     ]
    },
    {
     "name": "stdout",
     "output_type": "stream",
     "text": [
      "Number of non-zero elements not equal (234480, 234552)\n"
     ]
    },
    {
     "name": "stderr",
     "output_type": "stream",
     "text": [
      "  3%|▎         | 130116/5000000 [04:09<2:09:41, 625.79it/s]"
     ]
    },
    {
     "name": "stdout",
     "output_type": "stream",
     "text": [
      "Number of non-zero elements not equal (234552, 234604)\n"
     ]
    },
    {
     "name": "stderr",
     "output_type": "stream",
     "text": [
      "  3%|▎         | 140119/5000000 [04:22<2:17:57, 587.11it/s]"
     ]
    },
    {
     "name": "stdout",
     "output_type": "stream",
     "text": [
      "Number of non-zero elements not equal (234604, 234633)\n"
     ]
    },
    {
     "name": "stderr",
     "output_type": "stream",
     "text": [
      "  3%|▎         | 150131/5000000 [04:35<2:31:17, 534.28it/s]"
     ]
    },
    {
     "name": "stdout",
     "output_type": "stream",
     "text": [
      "Number of non-zero elements not equal (234633, 234670)\n"
     ]
    },
    {
     "name": "stderr",
     "output_type": "stream",
     "text": [
      "  3%|▎         | 160076/5000000 [04:48<2:13:35, 603.81it/s]"
     ]
    },
    {
     "name": "stdout",
     "output_type": "stream",
     "text": [
      "Number of non-zero elements not equal (234670, 234690)\n"
     ]
    },
    {
     "name": "stderr",
     "output_type": "stream",
     "text": [
      "  3%|▎         | 170093/5000000 [05:01<2:21:09, 570.26it/s]"
     ]
    },
    {
     "name": "stdout",
     "output_type": "stream",
     "text": [
      "Number of non-zero elements not equal (234690, 234711)\n"
     ]
    },
    {
     "name": "stderr",
     "output_type": "stream",
     "text": [
      "  4%|▎         | 180144/5000000 [05:15<2:10:03, 617.68it/s]"
     ]
    },
    {
     "name": "stdout",
     "output_type": "stream",
     "text": [
      "Number of non-zero elements not equal (234711, 234731)\n"
     ]
    },
    {
     "name": "stderr",
     "output_type": "stream",
     "text": [
      "  4%|▍         | 190117/5000000 [05:29<2:07:42, 627.76it/s]"
     ]
    },
    {
     "name": "stdout",
     "output_type": "stream",
     "text": [
      "Number of non-zero elements not equal (234731, 234742)\n"
     ]
    },
    {
     "name": "stderr",
     "output_type": "stream",
     "text": [
      "  4%|▍         | 200111/5000000 [05:42<2:28:03, 540.33it/s]"
     ]
    },
    {
     "name": "stdout",
     "output_type": "stream",
     "text": [
      "Number of non-zero elements not equal (234742, 234759)\n"
     ]
    },
    {
     "name": "stderr",
     "output_type": "stream",
     "text": [
      "  4%|▍         | 210081/5000000 [05:56<2:19:03, 574.10it/s]"
     ]
    },
    {
     "name": "stdout",
     "output_type": "stream",
     "text": [
      "Number of non-zero elements not equal (234759, 234767)\n"
     ]
    },
    {
     "name": "stderr",
     "output_type": "stream",
     "text": [
      "  4%|▍         | 220141/5000000 [06:10<2:10:14, 611.64it/s]"
     ]
    },
    {
     "name": "stdout",
     "output_type": "stream",
     "text": [
      "Number of non-zero elements not equal (234767, 234777)\n"
     ]
    },
    {
     "name": "stderr",
     "output_type": "stream",
     "text": [
      "  5%|▍         | 230085/5000000 [06:23<2:10:07, 610.93it/s]"
     ]
    },
    {
     "name": "stdout",
     "output_type": "stream",
     "text": [
      "Number of non-zero elements not equal (234777, 234783)\n"
     ]
    },
    {
     "name": "stderr",
     "output_type": "stream",
     "text": [
      "  5%|▍         | 240097/5000000 [06:36<2:07:23, 622.72it/s]"
     ]
    },
    {
     "name": "stdout",
     "output_type": "stream",
     "text": [
      "Number of non-zero elements not equal (234783, 234791)\n"
     ]
    },
    {
     "name": "stderr",
     "output_type": "stream",
     "text": [
      "  5%|▌         | 250150/5000000 [06:49<2:05:21, 631.51it/s]"
     ]
    },
    {
     "name": "stdout",
     "output_type": "stream",
     "text": [
      "Number of non-zero elements not equal (234791, 234794)\n"
     ]
    },
    {
     "name": "stderr",
     "output_type": "stream",
     "text": [
      "  5%|▌         | 260129/5000000 [07:02<2:06:59, 622.11it/s]"
     ]
    },
    {
     "name": "stdout",
     "output_type": "stream",
     "text": [
      "Number of non-zero elements not equal (234794, 234798)\n"
     ]
    },
    {
     "name": "stderr",
     "output_type": "stream",
     "text": [
      "  5%|▌         | 270077/5000000 [07:14<2:10:15, 605.23it/s]"
     ]
    },
    {
     "name": "stdout",
     "output_type": "stream",
     "text": [
      "Number of non-zero elements not equal (234798, 234806)\n"
     ]
    },
    {
     "name": "stderr",
     "output_type": "stream",
     "text": [
      "  6%|▌         | 280075/5000000 [07:28<2:19:47, 562.76it/s]"
     ]
    },
    {
     "name": "stdout",
     "output_type": "stream",
     "text": [
      "Number of non-zero elements not equal (234806, 234810)\n"
     ]
    },
    {
     "name": "stderr",
     "output_type": "stream",
     "text": [
      "  6%|▌         | 290114/5000000 [07:41<2:08:24, 611.28it/s]"
     ]
    },
    {
     "name": "stdout",
     "output_type": "stream",
     "text": [
      "Number of non-zero elements not equal (234810, 234813)\n"
     ]
    },
    {
     "name": "stderr",
     "output_type": "stream",
     "text": [
      "  6%|▌         | 300094/5000000 [07:55<2:03:01, 636.69it/s]"
     ]
    },
    {
     "name": "stdout",
     "output_type": "stream",
     "text": [
      "Number of non-zero elements not equal (234813, 234819)\n"
     ]
    },
    {
     "name": "stderr",
     "output_type": "stream",
     "text": [
      "  6%|▌         | 310113/5000000 [08:08<2:10:02, 601.05it/s]"
     ]
    },
    {
     "name": "stdout",
     "output_type": "stream",
     "text": [
      "Number of non-zero elements not equal (234819, 234824)\n"
     ]
    },
    {
     "name": "stderr",
     "output_type": "stream",
     "text": [
      "  6%|▋         | 320138/5000000 [08:22<2:14:45, 578.82it/s]"
     ]
    },
    {
     "name": "stdout",
     "output_type": "stream",
     "text": [
      "Number of non-zero elements not equal (234824, 234825)\n"
     ]
    },
    {
     "name": "stderr",
     "output_type": "stream",
     "text": [
      "  7%|▋         | 330118/5000000 [08:35<2:13:40, 582.25it/s]"
     ]
    },
    {
     "name": "stdout",
     "output_type": "stream",
     "text": [
      "Number of non-zero elements not equal (234825, 234827)\n"
     ]
    },
    {
     "name": "stderr",
     "output_type": "stream",
     "text": [
      "  7%|▋         | 340127/5000000 [08:49<2:11:50, 589.06it/s]"
     ]
    },
    {
     "name": "stdout",
     "output_type": "stream",
     "text": [
      "Number of non-zero elements not equal (234827, 234830)\n"
     ]
    },
    {
     "name": "stderr",
     "output_type": "stream",
     "text": [
      "  7%|▋         | 350076/5000000 [09:03<2:21:01, 549.51it/s]"
     ]
    },
    {
     "name": "stdout",
     "output_type": "stream",
     "text": [
      "Number of non-zero elements not equal (234830, 234832)\n"
     ]
    },
    {
     "name": "stderr",
     "output_type": "stream",
     "text": [
      "  7%|▋         | 360107/5000000 [09:17<2:15:56, 568.88it/s]"
     ]
    },
    {
     "name": "stdout",
     "output_type": "stream",
     "text": [
      "Number of non-zero elements not equal (234832, 234834)\n"
     ]
    },
    {
     "name": "stderr",
     "output_type": "stream",
     "text": [
      "  7%|▋         | 370082/5000000 [09:31<2:06:38, 609.29it/s]"
     ]
    },
    {
     "name": "stdout",
     "output_type": "stream",
     "text": [
      "Number of non-zero elements not equal (234834, 234836)\n"
     ]
    },
    {
     "name": "stderr",
     "output_type": "stream",
     "text": [
      "  8%|▊         | 380139/5000000 [09:44<2:15:56, 566.42it/s]"
     ]
    },
    {
     "name": "stdout",
     "output_type": "stream",
     "text": [
      "Number of non-zero elements not equal (234836, 234838)\n"
     ]
    },
    {
     "name": "stderr",
     "output_type": "stream",
     "text": [
      "  8%|▊         | 390107/5000000 [09:58<2:16:10, 564.18it/s]"
     ]
    },
    {
     "name": "stdout",
     "output_type": "stream",
     "text": [
      "Number of non-zero elements not equal (234838, 234839)\n"
     ]
    },
    {
     "name": "stderr",
     "output_type": "stream",
     "text": [
      "  8%|▊         | 400113/5000000 [10:12<2:09:27, 592.20it/s]"
     ]
    },
    {
     "name": "stdout",
     "output_type": "stream",
     "text": [
      "Number of non-zero elements not equal (234839, 234840)\n"
     ]
    },
    {
     "name": "stderr",
     "output_type": "stream",
     "text": [
      "  8%|▊         | 410111/5000000 [10:26<2:15:01, 566.53it/s]"
     ]
    },
    {
     "name": "stdout",
     "output_type": "stream",
     "text": [
      "Number of non-zero elements not equal (234840, 234841)\n"
     ]
    },
    {
     "name": "stderr",
     "output_type": "stream",
     "text": [
      "  8%|▊         | 420101/5000000 [10:40<2:03:09, 619.75it/s]"
     ]
    },
    {
     "name": "stdout",
     "output_type": "stream",
     "text": [
      "Number of non-zero elements not equal (234841, 234843)\n"
     ]
    },
    {
     "name": "stderr",
     "output_type": "stream",
     "text": [
      "  9%|▊         | 430123/5000000 [10:54<2:19:44, 545.03it/s]"
     ]
    },
    {
     "name": "stdout",
     "output_type": "stream",
     "text": [
      "Diff norm: tensor(2.4497e-05)\n"
     ]
    },
    {
     "name": "stderr",
     "output_type": "stream",
     "text": [
      "  9%|▉         | 440122/5000000 [11:07<2:18:35, 548.39it/s]"
     ]
    },
    {
     "name": "stdout",
     "output_type": "stream",
     "text": [
      "Diff norm: tensor(2.1298e-05)\n"
     ]
    },
    {
     "name": "stderr",
     "output_type": "stream",
     "text": [
      "  9%|▉         | 450091/5000000 [11:21<1:59:03, 636.91it/s]"
     ]
    },
    {
     "name": "stdout",
     "output_type": "stream",
     "text": [
      "Number of non-zero elements not equal (234843, 234844)\n"
     ]
    },
    {
     "name": "stderr",
     "output_type": "stream",
     "text": [
      "  9%|▉         | 460137/5000000 [11:35<2:11:45, 574.24it/s]"
     ]
    },
    {
     "name": "stdout",
     "output_type": "stream",
     "text": [
      "Number of non-zero elements not equal (234844, 234845)\n"
     ]
    },
    {
     "name": "stderr",
     "output_type": "stream",
     "text": [
      "  9%|▉         | 470086/5000000 [11:48<2:06:12, 598.19it/s]"
     ]
    },
    {
     "name": "stdout",
     "output_type": "stream",
     "text": [
      "Number of non-zero elements not equal (234845, 234848)\n"
     ]
    },
    {
     "name": "stderr",
     "output_type": "stream",
     "text": [
      " 10%|▉         | 480077/5000000 [12:02<2:01:05, 622.09it/s]"
     ]
    },
    {
     "name": "stdout",
     "output_type": "stream",
     "text": [
      "Number of non-zero elements not equal (234848, 234849)\n"
     ]
    },
    {
     "name": "stderr",
     "output_type": "stream",
     "text": [
      " 10%|▉         | 490103/5000000 [12:15<2:07:47, 588.17it/s]"
     ]
    },
    {
     "name": "stdout",
     "output_type": "stream",
     "text": [
      "Diff norm: tensor(1.9824e-05)\n"
     ]
    },
    {
     "name": "stderr",
     "output_type": "stream",
     "text": [
      " 10%|█         | 500095/5000000 [12:28<2:06:46, 591.56it/s]"
     ]
    },
    {
     "name": "stdout",
     "output_type": "stream",
     "text": [
      "Number of non-zero elements not equal (234849, 234851)\n"
     ]
    },
    {
     "name": "stderr",
     "output_type": "stream",
     "text": [
      " 10%|█         | 510152/5000000 [12:41<1:59:08, 628.10it/s]"
     ]
    },
    {
     "name": "stdout",
     "output_type": "stream",
     "text": [
      "Number of non-zero elements not equal (234851, 234853)\n"
     ]
    },
    {
     "name": "stderr",
     "output_type": "stream",
     "text": [
      " 10%|█         | 520102/5000000 [12:54<1:59:45, 623.49it/s]"
     ]
    },
    {
     "name": "stdout",
     "output_type": "stream",
     "text": [
      "Number of non-zero elements not equal (234853, 234855)\n"
     ]
    },
    {
     "name": "stderr",
     "output_type": "stream",
     "text": [
      " 11%|█         | 530114/5000000 [13:08<2:11:11, 567.88it/s]"
     ]
    },
    {
     "name": "stdout",
     "output_type": "stream",
     "text": [
      "Number of non-zero elements not equal (234855, 234856)\n"
     ]
    },
    {
     "name": "stderr",
     "output_type": "stream",
     "text": [
      " 11%|█         | 540132/5000000 [13:21<2:14:22, 553.18it/s]"
     ]
    },
    {
     "name": "stdout",
     "output_type": "stream",
     "text": [
      "Number of non-zero elements not equal (234856, 234858)\n"
     ]
    },
    {
     "name": "stderr",
     "output_type": "stream",
     "text": [
      " 11%|█         | 550136/5000000 [13:34<2:15:58, 545.43it/s]"
     ]
    },
    {
     "name": "stdout",
     "output_type": "stream",
     "text": [
      "Diff norm: tensor(2.0323e-05)\n"
     ]
    },
    {
     "name": "stderr",
     "output_type": "stream",
     "text": [
      " 11%|█         | 560077/5000000 [13:48<2:29:57, 493.47it/s]"
     ]
    },
    {
     "name": "stdout",
     "output_type": "stream",
     "text": [
      "Diff norm: tensor(1.6380e-05)\n"
     ]
    },
    {
     "name": "stderr",
     "output_type": "stream",
     "text": [
      " 11%|█▏        | 570082/5000000 [14:02<2:15:02, 546.72it/s]"
     ]
    },
    {
     "name": "stdout",
     "output_type": "stream",
     "text": [
      "Number of non-zero elements not equal (234858, 234859)\n"
     ]
    },
    {
     "name": "stderr",
     "output_type": "stream",
     "text": [
      " 12%|█▏        | 580096/5000000 [14:16<2:19:27, 528.24it/s]"
     ]
    },
    {
     "name": "stdout",
     "output_type": "stream",
     "text": [
      "Diff norm: tensor(1.5655e-05)\n"
     ]
    },
    {
     "name": "stderr",
     "output_type": "stream",
     "text": [
      " 12%|█▏        | 590076/5000000 [14:30<2:10:42, 562.29it/s]"
     ]
    },
    {
     "name": "stdout",
     "output_type": "stream",
     "text": [
      "Number of non-zero elements not equal (234859, 234860)\n"
     ]
    },
    {
     "name": "stderr",
     "output_type": "stream",
     "text": [
      " 12%|█▏        | 600071/5000000 [14:45<2:31:53, 482.81it/s]"
     ]
    },
    {
     "name": "stdout",
     "output_type": "stream",
     "text": [
      "Diff norm: tensor(1.4232e-05)\n"
     ]
    },
    {
     "name": "stderr",
     "output_type": "stream",
     "text": [
      " 12%|█▏        | 610073/5000000 [14:59<2:18:35, 527.91it/s]"
     ]
    },
    {
     "name": "stdout",
     "output_type": "stream",
     "text": [
      "Diff norm: tensor(1.7088e-05)\n"
     ]
    },
    {
     "name": "stderr",
     "output_type": "stream",
     "text": [
      " 12%|█▏        | 620077/5000000 [15:13<2:29:14, 489.13it/s]"
     ]
    },
    {
     "name": "stdout",
     "output_type": "stream",
     "text": [
      "Diff norm: tensor(2.8830e-05)\n"
     ]
    },
    {
     "name": "stderr",
     "output_type": "stream",
     "text": [
      " 13%|█▎        | 630103/5000000 [15:27<2:09:51, 560.84it/s]"
     ]
    },
    {
     "name": "stdout",
     "output_type": "stream",
     "text": [
      "Diff norm: tensor(1.5735e-05)\n"
     ]
    },
    {
     "name": "stderr",
     "output_type": "stream",
     "text": [
      " 13%|█▎        | 640135/5000000 [15:41<2:18:48, 523.48it/s]"
     ]
    },
    {
     "name": "stdout",
     "output_type": "stream",
     "text": [
      "Diff norm: tensor(2.0791e-05)\n"
     ]
    },
    {
     "name": "stderr",
     "output_type": "stream",
     "text": [
      " 13%|█▎        | 650131/5000000 [15:55<2:15:30, 534.99it/s]"
     ]
    },
    {
     "name": "stdout",
     "output_type": "stream",
     "text": [
      "Diff norm: tensor(1.4492e-05)\n"
     ]
    },
    {
     "name": "stderr",
     "output_type": "stream",
     "text": [
      " 13%|█▎        | 660073/5000000 [16:09<2:21:03, 512.78it/s]"
     ]
    },
    {
     "name": "stdout",
     "output_type": "stream",
     "text": [
      "Diff norm: tensor(1.3071e-05)\n"
     ]
    },
    {
     "name": "stderr",
     "output_type": "stream",
     "text": [
      " 13%|█▎        | 670105/5000000 [16:23<2:26:44, 491.79it/s]"
     ]
    },
    {
     "name": "stdout",
     "output_type": "stream",
     "text": [
      "Diff norm: tensor(2.1990e-05)\n"
     ]
    },
    {
     "name": "stderr",
     "output_type": "stream",
     "text": [
      " 14%|█▎        | 680104/5000000 [16:37<2:06:25, 569.46it/s]"
     ]
    },
    {
     "name": "stdout",
     "output_type": "stream",
     "text": [
      "Diff norm: tensor(1.3788e-05)\n"
     ]
    },
    {
     "name": "stderr",
     "output_type": "stream",
     "text": [
      " 14%|█▍        | 690137/5000000 [16:51<2:08:12, 560.28it/s]"
     ]
    },
    {
     "name": "stdout",
     "output_type": "stream",
     "text": [
      "Diff norm: tensor(1.4471e-05)\n"
     ]
    },
    {
     "name": "stderr",
     "output_type": "stream",
     "text": [
      " 14%|█▍        | 700122/5000000 [17:04<2:16:05, 526.58it/s]"
     ]
    },
    {
     "name": "stdout",
     "output_type": "stream",
     "text": [
      "Diff norm: tensor(1.3230e-05)\n"
     ]
    },
    {
     "name": "stderr",
     "output_type": "stream",
     "text": [
      " 14%|█▍        | 710141/5000000 [17:17<2:13:24, 535.95it/s]"
     ]
    },
    {
     "name": "stdout",
     "output_type": "stream",
     "text": [
      "Diff norm: tensor(1.4523e-05)\n"
     ]
    },
    {
     "name": "stderr",
     "output_type": "stream",
     "text": [
      " 14%|█▍        | 720136/5000000 [17:31<2:06:24, 564.30it/s]"
     ]
    },
    {
     "name": "stdout",
     "output_type": "stream",
     "text": [
      "Diff norm: tensor(1.2618e-05)\n"
     ]
    },
    {
     "name": "stderr",
     "output_type": "stream",
     "text": [
      " 15%|█▍        | 730071/5000000 [17:44<2:15:41, 524.49it/s]"
     ]
    },
    {
     "name": "stdout",
     "output_type": "stream",
     "text": [
      "Diff norm: tensor(1.4686e-05)\n"
     ]
    },
    {
     "name": "stderr",
     "output_type": "stream",
     "text": [
      " 15%|█▍        | 740088/5000000 [17:58<1:59:05, 596.15it/s]"
     ]
    },
    {
     "name": "stdout",
     "output_type": "stream",
     "text": [
      "Number of non-zero elements not equal (234860, 234861)\n"
     ]
    },
    {
     "name": "stderr",
     "output_type": "stream",
     "text": [
      " 15%|█▌        | 750134/5000000 [18:12<2:05:20, 565.11it/s]"
     ]
    },
    {
     "name": "stdout",
     "output_type": "stream",
     "text": [
      "Diff norm: tensor(1.7272e-05)\n"
     ]
    },
    {
     "name": "stderr",
     "output_type": "stream",
     "text": [
      " 15%|█▌        | 760115/5000000 [18:25<2:01:48, 580.09it/s]"
     ]
    },
    {
     "name": "stdout",
     "output_type": "stream",
     "text": [
      "Diff norm: tensor(1.5865e-05)\n"
     ]
    },
    {
     "name": "stderr",
     "output_type": "stream",
     "text": [
      " 15%|█▌        | 770109/5000000 [18:38<2:12:50, 530.70it/s]"
     ]
    },
    {
     "name": "stdout",
     "output_type": "stream",
     "text": [
      "Diff norm: tensor(1.1147e-05)\n"
     ]
    },
    {
     "name": "stderr",
     "output_type": "stream",
     "text": [
      " 16%|█▌        | 780110/5000000 [18:51<2:11:05, 536.50it/s]"
     ]
    },
    {
     "name": "stdout",
     "output_type": "stream",
     "text": [
      "Diff norm: tensor(1.3328e-05)\n"
     ]
    },
    {
     "name": "stderr",
     "output_type": "stream",
     "text": [
      " 16%|█▌        | 790076/5000000 [19:04<2:04:33, 563.29it/s]"
     ]
    },
    {
     "name": "stdout",
     "output_type": "stream",
     "text": [
      "Diff norm: tensor(3.4391e-05)\n"
     ]
    },
    {
     "name": "stderr",
     "output_type": "stream",
     "text": [
      " 16%|█▌        | 800075/5000000 [19:18<2:01:43, 575.08it/s]"
     ]
    },
    {
     "name": "stdout",
     "output_type": "stream",
     "text": [
      "Diff norm: tensor(2.2086e-05)\n"
     ]
    },
    {
     "name": "stderr",
     "output_type": "stream",
     "text": [
      " 16%|█▌        | 810121/5000000 [19:31<2:00:11, 581.00it/s]"
     ]
    },
    {
     "name": "stdout",
     "output_type": "stream",
     "text": [
      "Diff norm: tensor(1.1865e-05)\n"
     ]
    },
    {
     "name": "stderr",
     "output_type": "stream",
     "text": [
      " 16%|█▋        | 820125/5000000 [19:44<2:01:13, 574.67it/s]"
     ]
    },
    {
     "name": "stdout",
     "output_type": "stream",
     "text": [
      "Diff norm: tensor(1.3131e-05)\n"
     ]
    },
    {
     "name": "stderr",
     "output_type": "stream",
     "text": [
      " 17%|█▋        | 830104/5000000 [19:57<2:14:37, 516.21it/s]"
     ]
    },
    {
     "name": "stdout",
     "output_type": "stream",
     "text": [
      "Diff norm: tensor(1.0844e-05)\n"
     ]
    },
    {
     "name": "stderr",
     "output_type": "stream",
     "text": [
      " 17%|█▋        | 840088/5000000 [20:11<1:59:39, 579.45it/s]"
     ]
    },
    {
     "name": "stdout",
     "output_type": "stream",
     "text": [
      "Diff norm: tensor(1.2216e-05)\n"
     ]
    },
    {
     "name": "stderr",
     "output_type": "stream",
     "text": [
      " 17%|█▋        | 850082/5000000 [20:24<2:12:17, 522.83it/s]"
     ]
    },
    {
     "name": "stdout",
     "output_type": "stream",
     "text": [
      "Diff norm: tensor(1.2292e-05)\n"
     ]
    },
    {
     "name": "stderr",
     "output_type": "stream",
     "text": [
      " 17%|█▋        | 860078/5000000 [20:38<2:24:02, 479.01it/s]"
     ]
    },
    {
     "name": "stdout",
     "output_type": "stream",
     "text": [
      "Diff norm: tensor(1.1364e-05)\n"
     ]
    },
    {
     "name": "stderr",
     "output_type": "stream",
     "text": [
      " 17%|█▋        | 870080/5000000 [20:53<2:18:28, 497.05it/s]"
     ]
    },
    {
     "name": "stdout",
     "output_type": "stream",
     "text": [
      "Diff norm: tensor(1.3812e-05)\n"
     ]
    },
    {
     "name": "stderr",
     "output_type": "stream",
     "text": [
      " 18%|█▊        | 880113/5000000 [21:08<2:12:19, 518.88it/s]"
     ]
    },
    {
     "name": "stdout",
     "output_type": "stream",
     "text": [
      "Diff norm: tensor(1.1070e-05)\n"
     ]
    },
    {
     "name": "stderr",
     "output_type": "stream",
     "text": [
      " 18%|█▊        | 890127/5000000 [21:23<2:26:47, 466.64it/s]"
     ]
    },
    {
     "name": "stdout",
     "output_type": "stream",
     "text": [
      "Diff norm: tensor(2.8140e-05)\n"
     ]
    },
    {
     "name": "stderr",
     "output_type": "stream",
     "text": [
      " 18%|█▊        | 900103/5000000 [21:38<2:22:48, 478.50it/s]"
     ]
    },
    {
     "name": "stdout",
     "output_type": "stream",
     "text": [
      "Diff norm: tensor(1.0876e-05)\n"
     ]
    },
    {
     "name": "stderr",
     "output_type": "stream",
     "text": [
      " 18%|█▊        | 910112/5000000 [21:53<2:18:10, 493.32it/s]"
     ]
    },
    {
     "name": "stdout",
     "output_type": "stream",
     "text": [
      "Diff norm: tensor(1.5496e-05)\n"
     ]
    },
    {
     "name": "stderr",
     "output_type": "stream",
     "text": [
      " 18%|█▊        | 920089/5000000 [22:07<2:27:51, 459.89it/s]"
     ]
    },
    {
     "name": "stdout",
     "output_type": "stream",
     "text": [
      "Diff norm: tensor(1.0391e-05)\n"
     ]
    },
    {
     "name": "stderr",
     "output_type": "stream",
     "text": [
      " 19%|█▊        | 930083/5000000 [22:22<2:23:23, 473.07it/s]"
     ]
    },
    {
     "name": "stdout",
     "output_type": "stream",
     "text": [
      "Diff norm: tensor(1.0922e-05)\n"
     ]
    },
    {
     "name": "stderr",
     "output_type": "stream",
     "text": [
      " 19%|█▉        | 940090/5000000 [22:37<2:09:26, 522.73it/s]"
     ]
    },
    {
     "name": "stdout",
     "output_type": "stream",
     "text": [
      "Diff norm: tensor(9.9351e-06)\n"
     ]
    },
    {
     "name": "stderr",
     "output_type": "stream",
     "text": [
      " 19%|█▉        | 950081/5000000 [22:52<2:08:13, 526.38it/s]"
     ]
    },
    {
     "name": "stdout",
     "output_type": "stream",
     "text": [
      "Diff norm: tensor(1.0868e-05)\n"
     ]
    },
    {
     "name": "stderr",
     "output_type": "stream",
     "text": [
      " 19%|█▉        | 960095/5000000 [23:07<2:07:21, 528.69it/s]"
     ]
    },
    {
     "name": "stdout",
     "output_type": "stream",
     "text": [
      "Diff norm: tensor(2.0516e-05)\n"
     ]
    },
    {
     "name": "stderr",
     "output_type": "stream",
     "text": [
      " 19%|█▉        | 970117/5000000 [23:21<1:52:34, 596.63it/s]"
     ]
    },
    {
     "name": "stdout",
     "output_type": "stream",
     "text": [
      "Number of non-zero elements not equal (234861, 234862)\n"
     ]
    },
    {
     "name": "stderr",
     "output_type": "stream",
     "text": [
      " 20%|█▉        | 980142/5000000 [23:35<2:06:50, 528.20it/s]"
     ]
    },
    {
     "name": "stdout",
     "output_type": "stream",
     "text": [
      "Diff norm: tensor(1.0104e-05)\n"
     ]
    },
    {
     "name": "stderr",
     "output_type": "stream",
     "text": [
      " 20%|█▉        | 990086/5000000 [23:50<1:53:42, 587.79it/s]"
     ]
    },
    {
     "name": "stdout",
     "output_type": "stream",
     "text": [
      "Number of non-zero elements not equal (234862, 234863)\n"
     ]
    },
    {
     "name": "stderr",
     "output_type": "stream",
     "text": [
      " 20%|██        | 1000129/5000000 [24:04<2:04:12, 536.71it/s]"
     ]
    },
    {
     "name": "stdout",
     "output_type": "stream",
     "text": [
      "Diff norm: tensor(9.4838e-06)\n"
     ]
    },
    {
     "name": "stderr",
     "output_type": "stream",
     "text": [
      " 20%|██        | 1010081/5000000 [24:18<2:06:35, 525.30it/s]"
     ]
    },
    {
     "name": "stdout",
     "output_type": "stream",
     "text": [
      "Diff norm: tensor(1.1510e-05)\n"
     ]
    },
    {
     "name": "stderr",
     "output_type": "stream",
     "text": [
      " 20%|██        | 1020101/5000000 [24:32<2:07:44, 519.27it/s]"
     ]
    },
    {
     "name": "stdout",
     "output_type": "stream",
     "text": [
      "Diff norm: tensor(8.9385e-06)\n"
     ]
    },
    {
     "name": "stderr",
     "output_type": "stream",
     "text": [
      " 21%|██        | 1030144/5000000 [24:46<2:02:07, 541.79it/s]"
     ]
    },
    {
     "name": "stdout",
     "output_type": "stream",
     "text": [
      "Diff norm: tensor(9.2436e-06)\n"
     ]
    },
    {
     "name": "stderr",
     "output_type": "stream",
     "text": [
      " 21%|██        | 1040088/5000000 [24:59<2:05:28, 526.01it/s]"
     ]
    },
    {
     "name": "stdout",
     "output_type": "stream",
     "text": [
      "Diff norm: tensor(9.0781e-06)\n"
     ]
    },
    {
     "name": "stderr",
     "output_type": "stream",
     "text": [
      " 21%|██        | 1050135/5000000 [25:14<2:05:32, 524.36it/s]"
     ]
    },
    {
     "name": "stdout",
     "output_type": "stream",
     "text": [
      "Diff norm: tensor(9.8736e-06)\n"
     ]
    },
    {
     "name": "stderr",
     "output_type": "stream",
     "text": [
      " 21%|██        | 1060074/5000000 [25:28<2:07:48, 513.78it/s]"
     ]
    },
    {
     "name": "stdout",
     "output_type": "stream",
     "text": [
      "Diff norm: tensor(9.2828e-06)\n"
     ]
    },
    {
     "name": "stderr",
     "output_type": "stream",
     "text": [
      " 21%|██▏       | 1070129/5000000 [25:43<2:03:50, 528.90it/s]"
     ]
    },
    {
     "name": "stdout",
     "output_type": "stream",
     "text": [
      "Diff norm: tensor(7.8734e-06)\n"
     ]
    },
    {
     "name": "stderr",
     "output_type": "stream",
     "text": [
      " 22%|██▏       | 1080078/5000000 [25:57<2:14:13, 486.74it/s]"
     ]
    },
    {
     "name": "stdout",
     "output_type": "stream",
     "text": [
      "Diff norm: tensor(1.6023e-05)\n"
     ]
    },
    {
     "name": "stderr",
     "output_type": "stream",
     "text": [
      " 22%|██▏       | 1090089/5000000 [26:12<2:03:06, 529.37it/s]"
     ]
    },
    {
     "name": "stdout",
     "output_type": "stream",
     "text": [
      "Diff norm: tensor(1.0360e-05)\n"
     ]
    },
    {
     "name": "stderr",
     "output_type": "stream",
     "text": [
      " 22%|██▏       | 1100097/5000000 [26:27<2:14:33, 483.06it/s]"
     ]
    },
    {
     "name": "stdout",
     "output_type": "stream",
     "text": [
      "Diff norm: tensor(9.2618e-06)\n"
     ]
    },
    {
     "name": "stderr",
     "output_type": "stream",
     "text": [
      " 22%|██▏       | 1110082/5000000 [26:42<2:12:43, 488.50it/s]"
     ]
    },
    {
     "name": "stdout",
     "output_type": "stream",
     "text": [
      "Diff norm: tensor(7.6506e-06)\n"
     ]
    },
    {
     "name": "stderr",
     "output_type": "stream",
     "text": [
      " 22%|██▏       | 1120129/5000000 [26:57<2:00:07, 538.29it/s]"
     ]
    },
    {
     "name": "stdout",
     "output_type": "stream",
     "text": [
      "Diff norm: tensor(1.1634e-05)\n"
     ]
    },
    {
     "name": "stderr",
     "output_type": "stream",
     "text": [
      " 23%|██▎       | 1130133/5000000 [27:11<2:01:56, 528.90it/s]"
     ]
    },
    {
     "name": "stdout",
     "output_type": "stream",
     "text": [
      "Diff norm: tensor(8.6709e-06)\n"
     ]
    },
    {
     "name": "stderr",
     "output_type": "stream",
     "text": [
      " 23%|██▎       | 1140116/5000000 [27:25<1:56:59, 549.91it/s]"
     ]
    },
    {
     "name": "stdout",
     "output_type": "stream",
     "text": [
      "Diff norm: tensor(1.1328e-05)\n"
     ]
    },
    {
     "name": "stderr",
     "output_type": "stream",
     "text": [
      " 23%|██▎       | 1150071/5000000 [27:39<2:15:16, 474.34it/s]"
     ]
    },
    {
     "name": "stdout",
     "output_type": "stream",
     "text": [
      "Diff norm: tensor(9.9787e-06)\n"
     ]
    },
    {
     "name": "stderr",
     "output_type": "stream",
     "text": [
      " 23%|██▎       | 1160087/5000000 [27:54<2:11:37, 486.23it/s]"
     ]
    },
    {
     "name": "stdout",
     "output_type": "stream",
     "text": [
      "Diff norm: tensor(7.9954e-06)\n"
     ]
    },
    {
     "name": "stderr",
     "output_type": "stream",
     "text": [
      " 23%|██▎       | 1170095/5000000 [28:10<2:16:34, 467.39it/s]"
     ]
    },
    {
     "name": "stdout",
     "output_type": "stream",
     "text": [
      "Diff norm: tensor(9.7890e-06)\n"
     ]
    },
    {
     "name": "stderr",
     "output_type": "stream",
     "text": [
      " 24%|██▎       | 1180078/5000000 [28:25<2:06:22, 503.81it/s]"
     ]
    },
    {
     "name": "stdout",
     "output_type": "stream",
     "text": [
      "Diff norm: tensor(8.0066e-06)\n"
     ]
    },
    {
     "name": "stderr",
     "output_type": "stream",
     "text": [
      " 24%|██▍       | 1190096/5000000 [28:39<2:10:13, 487.63it/s]"
     ]
    },
    {
     "name": "stdout",
     "output_type": "stream",
     "text": [
      "Diff norm: tensor(1.0386e-05)\n"
     ]
    },
    {
     "name": "stderr",
     "output_type": "stream",
     "text": [
      " 24%|██▍       | 1200105/5000000 [28:55<2:23:43, 440.62it/s]"
     ]
    },
    {
     "name": "stdout",
     "output_type": "stream",
     "text": [
      "Diff norm: tensor(1.1523e-05)\n"
     ]
    },
    {
     "name": "stderr",
     "output_type": "stream",
     "text": [
      " 24%|██▍       | 1210091/5000000 [29:10<2:18:41, 455.41it/s]"
     ]
    },
    {
     "name": "stdout",
     "output_type": "stream",
     "text": [
      "Diff norm: tensor(1.1208e-05)\n"
     ]
    },
    {
     "name": "stderr",
     "output_type": "stream",
     "text": [
      " 24%|██▍       | 1220140/5000000 [29:25<2:03:17, 510.99it/s]"
     ]
    },
    {
     "name": "stdout",
     "output_type": "stream",
     "text": [
      "Diff norm: tensor(8.4069e-06)\n"
     ]
    },
    {
     "name": "stderr",
     "output_type": "stream",
     "text": [
      " 25%|██▍       | 1230099/5000000 [29:41<2:23:29, 437.85it/s]"
     ]
    },
    {
     "name": "stdout",
     "output_type": "stream",
     "text": [
      "Diff norm: tensor(8.4263e-06)\n"
     ]
    },
    {
     "name": "stderr",
     "output_type": "stream",
     "text": [
      " 25%|██▍       | 1240084/5000000 [29:56<2:33:55, 407.10it/s]"
     ]
    },
    {
     "name": "stdout",
     "output_type": "stream",
     "text": [
      "Diff norm: tensor(7.8902e-06)\n"
     ]
    },
    {
     "name": "stderr",
     "output_type": "stream",
     "text": [
      " 25%|██▌       | 1250077/5000000 [30:11<2:10:27, 479.06it/s]"
     ]
    },
    {
     "name": "stdout",
     "output_type": "stream",
     "text": [
      "Diff norm: tensor(8.3964e-06)\n"
     ]
    },
    {
     "name": "stderr",
     "output_type": "stream",
     "text": [
      " 25%|██▌       | 1260118/5000000 [30:26<1:58:40, 525.22it/s]"
     ]
    },
    {
     "name": "stdout",
     "output_type": "stream",
     "text": [
      "Diff norm: tensor(7.7447e-06)\n"
     ]
    },
    {
     "name": "stderr",
     "output_type": "stream",
     "text": [
      " 25%|██▌       | 1270099/5000000 [30:41<2:15:13, 459.69it/s]"
     ]
    },
    {
     "name": "stdout",
     "output_type": "stream",
     "text": [
      "Diff norm: tensor(7.5753e-06)\n"
     ]
    },
    {
     "name": "stderr",
     "output_type": "stream",
     "text": [
      " 26%|██▌       | 1280097/5000000 [30:57<2:13:15, 465.27it/s]"
     ]
    },
    {
     "name": "stdout",
     "output_type": "stream",
     "text": [
      "Diff norm: tensor(6.6334e-06)\n"
     ]
    },
    {
     "name": "stderr",
     "output_type": "stream",
     "text": [
      " 26%|██▌       | 1290098/5000000 [31:12<2:08:22, 481.64it/s]"
     ]
    },
    {
     "name": "stdout",
     "output_type": "stream",
     "text": [
      "Diff norm: tensor(1.0590e-05)\n"
     ]
    },
    {
     "name": "stderr",
     "output_type": "stream",
     "text": [
      " 26%|██▌       | 1300117/5000000 [31:27<2:00:18, 512.57it/s]"
     ]
    },
    {
     "name": "stdout",
     "output_type": "stream",
     "text": [
      "Diff norm: tensor(1.8986e-05)\n"
     ]
    },
    {
     "name": "stderr",
     "output_type": "stream",
     "text": [
      " 26%|██▌       | 1310135/5000000 [31:42<1:59:23, 515.12it/s]"
     ]
    },
    {
     "name": "stdout",
     "output_type": "stream",
     "text": [
      "Diff norm: tensor(7.3326e-06)\n"
     ]
    },
    {
     "name": "stderr",
     "output_type": "stream",
     "text": [
      " 26%|██▋       | 1320078/5000000 [31:58<1:55:17, 531.94it/s]"
     ]
    },
    {
     "name": "stdout",
     "output_type": "stream",
     "text": [
      "Diff norm: tensor(7.5575e-06)\n"
     ]
    },
    {
     "name": "stderr",
     "output_type": "stream",
     "text": [
      " 27%|██▋       | 1330059/5000000 [32:12<2:26:12, 418.36it/s]"
     ]
    },
    {
     "name": "stdout",
     "output_type": "stream",
     "text": [
      "Diff norm: tensor(8.3711e-06)\n"
     ]
    },
    {
     "name": "stderr",
     "output_type": "stream",
     "text": [
      " 27%|██▋       | 1340117/5000000 [32:28<2:17:08, 444.81it/s]"
     ]
    },
    {
     "name": "stdout",
     "output_type": "stream",
     "text": [
      "Diff norm: tensor(1.0303e-05)\n"
     ]
    },
    {
     "name": "stderr",
     "output_type": "stream",
     "text": [
      " 27%|██▋       | 1350084/5000000 [32:44<2:14:24, 452.61it/s]"
     ]
    },
    {
     "name": "stdout",
     "output_type": "stream",
     "text": [
      "Diff norm: tensor(1.1270e-05)\n"
     ]
    },
    {
     "name": "stderr",
     "output_type": "stream",
     "text": [
      " 27%|██▋       | 1360107/5000000 [33:00<2:06:49, 478.36it/s]"
     ]
    },
    {
     "name": "stdout",
     "output_type": "stream",
     "text": [
      "Diff norm: tensor(6.6155e-06)\n"
     ]
    },
    {
     "name": "stderr",
     "output_type": "stream",
     "text": [
      " 27%|██▋       | 1370103/5000000 [33:16<2:16:55, 441.82it/s]"
     ]
    },
    {
     "name": "stdout",
     "output_type": "stream",
     "text": [
      "Diff norm: tensor(7.7848e-06)\n"
     ]
    },
    {
     "name": "stderr",
     "output_type": "stream",
     "text": [
      " 28%|██▊       | 1380123/5000000 [33:31<2:08:33, 469.26it/s]"
     ]
    },
    {
     "name": "stdout",
     "output_type": "stream",
     "text": [
      "Diff norm: tensor(7.5316e-06)\n"
     ]
    },
    {
     "name": "stderr",
     "output_type": "stream",
     "text": [
      " 28%|██▊       | 1390086/5000000 [33:47<2:00:45, 498.25it/s]"
     ]
    },
    {
     "name": "stdout",
     "output_type": "stream",
     "text": [
      "Diff norm: tensor(8.3994e-06)\n"
     ]
    },
    {
     "name": "stderr",
     "output_type": "stream",
     "text": [
      " 28%|██▊       | 1400096/5000000 [34:02<2:02:22, 490.28it/s]"
     ]
    },
    {
     "name": "stdout",
     "output_type": "stream",
     "text": [
      "Diff norm: tensor(6.8086e-06)\n"
     ]
    },
    {
     "name": "stderr",
     "output_type": "stream",
     "text": [
      " 28%|██▊       | 1410071/5000000 [34:18<2:10:07, 459.79it/s]"
     ]
    },
    {
     "name": "stdout",
     "output_type": "stream",
     "text": [
      "Diff norm: tensor(1.2115e-05)\n"
     ]
    },
    {
     "name": "stderr",
     "output_type": "stream",
     "text": [
      " 28%|██▊       | 1420071/5000000 [34:34<2:06:20, 472.26it/s]"
     ]
    },
    {
     "name": "stdout",
     "output_type": "stream",
     "text": [
      "Diff norm: tensor(8.2499e-06)\n"
     ]
    },
    {
     "name": "stderr",
     "output_type": "stream",
     "text": [
      " 29%|██▊       | 1430089/5000000 [34:50<2:04:55, 476.30it/s]"
     ]
    },
    {
     "name": "stdout",
     "output_type": "stream",
     "text": [
      "Diff norm: tensor(6.5364e-06)\n"
     ]
    },
    {
     "name": "stderr",
     "output_type": "stream",
     "text": [
      " 29%|██▉       | 1440146/5000000 [35:04<1:37:43, 607.16it/s]"
     ]
    },
    {
     "name": "stdout",
     "output_type": "stream",
     "text": [
      "Number of non-zero elements not equal (234863, 234864)\n"
     ]
    },
    {
     "name": "stderr",
     "output_type": "stream",
     "text": [
      " 29%|██▉       | 1450075/5000000 [35:18<2:07:12, 465.08it/s]"
     ]
    },
    {
     "name": "stdout",
     "output_type": "stream",
     "text": [
      "Diff norm: tensor(7.5388e-06)\n"
     ]
    },
    {
     "name": "stderr",
     "output_type": "stream",
     "text": [
      " 29%|██▉       | 1460112/5000000 [35:34<2:02:40, 480.96it/s]"
     ]
    },
    {
     "name": "stdout",
     "output_type": "stream",
     "text": [
      "Diff norm: tensor(6.2007e-06)\n"
     ]
    },
    {
     "name": "stderr",
     "output_type": "stream",
     "text": [
      " 29%|██▉       | 1470134/5000000 [35:49<2:00:53, 486.64it/s]"
     ]
    },
    {
     "name": "stdout",
     "output_type": "stream",
     "text": [
      "Diff norm: tensor(8.6858e-06)\n"
     ]
    },
    {
     "name": "stderr",
     "output_type": "stream",
     "text": [
      " 30%|██▉       | 1480121/5000000 [36:04<1:55:36, 507.47it/s]"
     ]
    },
    {
     "name": "stdout",
     "output_type": "stream",
     "text": [
      "Diff norm: tensor(6.6603e-06)\n"
     ]
    },
    {
     "name": "stderr",
     "output_type": "stream",
     "text": [
      " 30%|██▉       | 1490074/5000000 [36:19<1:48:46, 537.80it/s]"
     ]
    },
    {
     "name": "stdout",
     "output_type": "stream",
     "text": [
      "Diff norm: tensor(7.4805e-06)\n"
     ]
    },
    {
     "name": "stderr",
     "output_type": "stream",
     "text": [
      " 30%|███       | 1500109/5000000 [36:33<2:07:25, 457.78it/s]"
     ]
    },
    {
     "name": "stdout",
     "output_type": "stream",
     "text": [
      "Diff norm: tensor(6.0626e-06)\n"
     ]
    },
    {
     "name": "stderr",
     "output_type": "stream",
     "text": [
      " 30%|███       | 1510129/5000000 [36:48<2:02:25, 475.10it/s]"
     ]
    },
    {
     "name": "stdout",
     "output_type": "stream",
     "text": [
      "Diff norm: tensor(8.1260e-06)\n"
     ]
    },
    {
     "name": "stderr",
     "output_type": "stream",
     "text": [
      " 30%|███       | 1520083/5000000 [37:03<1:58:52, 487.90it/s]"
     ]
    },
    {
     "name": "stdout",
     "output_type": "stream",
     "text": [
      "Diff norm: tensor(6.2236e-06)\n"
     ]
    },
    {
     "name": "stderr",
     "output_type": "stream",
     "text": [
      " 31%|███       | 1530082/5000000 [37:19<2:08:22, 450.47it/s]"
     ]
    },
    {
     "name": "stdout",
     "output_type": "stream",
     "text": [
      "Diff norm: tensor(5.9273e-06)\n"
     ]
    },
    {
     "name": "stderr",
     "output_type": "stream",
     "text": [
      " 31%|███       | 1540125/5000000 [37:36<2:04:24, 463.53it/s]"
     ]
    },
    {
     "name": "stdout",
     "output_type": "stream",
     "text": [
      "Diff norm: tensor(5.9894e-06)\n"
     ]
    },
    {
     "name": "stderr",
     "output_type": "stream",
     "text": [
      " 31%|███       | 1550128/5000000 [37:51<2:01:33, 473.02it/s]"
     ]
    },
    {
     "name": "stdout",
     "output_type": "stream",
     "text": [
      "Diff norm: tensor(6.7209e-06)\n"
     ]
    },
    {
     "name": "stderr",
     "output_type": "stream",
     "text": [
      " 31%|███       | 1560068/5000000 [38:07<2:02:52, 466.62it/s]"
     ]
    },
    {
     "name": "stdout",
     "output_type": "stream",
     "text": [
      "Diff norm: tensor(6.5729e-06)\n"
     ]
    },
    {
     "name": "stderr",
     "output_type": "stream",
     "text": [
      " 31%|███▏      | 1570066/5000000 [38:22<2:19:20, 410.25it/s]"
     ]
    },
    {
     "name": "stdout",
     "output_type": "stream",
     "text": [
      "Diff norm: tensor(1.2039e-05)\n"
     ]
    },
    {
     "name": "stderr",
     "output_type": "stream",
     "text": [
      " 32%|███▏      | 1580084/5000000 [38:37<1:47:33, 529.95it/s]"
     ]
    },
    {
     "name": "stdout",
     "output_type": "stream",
     "text": [
      "Diff norm: tensor(6.7793e-06)\n"
     ]
    },
    {
     "name": "stderr",
     "output_type": "stream",
     "text": [
      " 32%|███▏      | 1590066/5000000 [38:52<1:48:54, 521.85it/s]"
     ]
    },
    {
     "name": "stdout",
     "output_type": "stream",
     "text": [
      "Diff norm: tensor(6.3066e-06)\n"
     ]
    },
    {
     "name": "stderr",
     "output_type": "stream",
     "text": [
      " 32%|███▏      | 1600082/5000000 [39:07<1:58:44, 477.22it/s]"
     ]
    },
    {
     "name": "stdout",
     "output_type": "stream",
     "text": [
      "Diff norm: tensor(6.4644e-06)\n"
     ]
    },
    {
     "name": "stderr",
     "output_type": "stream",
     "text": [
      " 32%|███▏      | 1610091/5000000 [39:23<1:59:26, 473.04it/s]"
     ]
    },
    {
     "name": "stdout",
     "output_type": "stream",
     "text": [
      "Diff norm: tensor(6.6623e-06)\n"
     ]
    },
    {
     "name": "stderr",
     "output_type": "stream",
     "text": [
      " 32%|███▏      | 1620070/5000000 [39:39<1:58:51, 473.94it/s]"
     ]
    },
    {
     "name": "stdout",
     "output_type": "stream",
     "text": [
      "Diff norm: tensor(1.0407e-05)\n"
     ]
    },
    {
     "name": "stderr",
     "output_type": "stream",
     "text": [
      " 33%|███▎      | 1630101/5000000 [39:54<1:56:37, 481.61it/s]"
     ]
    },
    {
     "name": "stdout",
     "output_type": "stream",
     "text": [
      "Diff norm: tensor(5.5689e-06)\n"
     ]
    },
    {
     "name": "stderr",
     "output_type": "stream",
     "text": [
      " 33%|███▎      | 1640101/5000000 [40:09<1:47:42, 519.92it/s]"
     ]
    },
    {
     "name": "stdout",
     "output_type": "stream",
     "text": [
      "Diff norm: tensor(7.3848e-06)\n"
     ]
    },
    {
     "name": "stderr",
     "output_type": "stream",
     "text": [
      " 33%|███▎      | 1650122/5000000 [40:22<1:38:44, 565.40it/s]"
     ]
    },
    {
     "name": "stdout",
     "output_type": "stream",
     "text": [
      "Diff norm: tensor(6.5169e-06)\n"
     ]
    },
    {
     "name": "stderr",
     "output_type": "stream",
     "text": [
      " 33%|███▎      | 1660087/5000000 [40:35<1:36:27, 577.06it/s]"
     ]
    },
    {
     "name": "stdout",
     "output_type": "stream",
     "text": [
      "Diff norm: tensor(6.6342e-06)\n"
     ]
    },
    {
     "name": "stderr",
     "output_type": "stream",
     "text": [
      " 33%|███▎      | 1670131/5000000 [40:48<1:36:08, 577.21it/s]"
     ]
    },
    {
     "name": "stdout",
     "output_type": "stream",
     "text": [
      "Diff norm: tensor(7.6492e-06)\n"
     ]
    },
    {
     "name": "stderr",
     "output_type": "stream",
     "text": [
      " 34%|███▎      | 1680079/5000000 [41:01<1:37:10, 569.38it/s]"
     ]
    },
    {
     "name": "stdout",
     "output_type": "stream",
     "text": [
      "Diff norm: tensor(6.3137e-06)\n"
     ]
    },
    {
     "name": "stderr",
     "output_type": "stream",
     "text": [
      " 34%|███▍      | 1690119/5000000 [41:14<1:35:48, 575.73it/s]"
     ]
    },
    {
     "name": "stdout",
     "output_type": "stream",
     "text": [
      "Diff norm: tensor(5.2782e-06)\n"
     ]
    },
    {
     "name": "stderr",
     "output_type": "stream",
     "text": [
      " 34%|███▍      | 1700076/5000000 [41:27<1:39:29, 552.78it/s]"
     ]
    },
    {
     "name": "stdout",
     "output_type": "stream",
     "text": [
      "Diff norm: tensor(7.2172e-06)\n"
     ]
    },
    {
     "name": "stderr",
     "output_type": "stream",
     "text": [
      " 34%|███▍      | 1710134/5000000 [41:41<1:40:38, 544.81it/s]"
     ]
    },
    {
     "name": "stdout",
     "output_type": "stream",
     "text": [
      "Diff norm: tensor(6.2275e-06)\n"
     ]
    },
    {
     "name": "stderr",
     "output_type": "stream",
     "text": [
      " 34%|███▍      | 1720143/5000000 [41:55<1:43:39, 527.36it/s]"
     ]
    },
    {
     "name": "stdout",
     "output_type": "stream",
     "text": [
      "Diff norm: tensor(5.8672e-06)\n"
     ]
    },
    {
     "name": "stderr",
     "output_type": "stream",
     "text": [
      " 35%|███▍      | 1730149/5000000 [42:09<1:55:21, 472.45it/s]"
     ]
    },
    {
     "name": "stdout",
     "output_type": "stream",
     "text": [
      "Diff norm: tensor(9.7400e-06)\n"
     ]
    },
    {
     "name": "stderr",
     "output_type": "stream",
     "text": [
      " 35%|███▍      | 1740094/5000000 [42:23<1:44:39, 519.13it/s]"
     ]
    },
    {
     "name": "stdout",
     "output_type": "stream",
     "text": [
      "Diff norm: tensor(1.3971e-05)\n"
     ]
    },
    {
     "name": "stderr",
     "output_type": "stream",
     "text": [
      " 35%|███▌      | 1750143/5000000 [42:36<1:36:27, 561.49it/s]"
     ]
    },
    {
     "name": "stdout",
     "output_type": "stream",
     "text": [
      "Diff norm: tensor(1.7003e-05)\n"
     ]
    },
    {
     "name": "stderr",
     "output_type": "stream",
     "text": [
      " 35%|███▌      | 1760112/5000000 [42:49<1:34:59, 568.42it/s]"
     ]
    },
    {
     "name": "stdout",
     "output_type": "stream",
     "text": [
      "Diff norm: tensor(6.3832e-06)\n"
     ]
    },
    {
     "name": "stderr",
     "output_type": "stream",
     "text": [
      " 35%|███▌      | 1770150/5000000 [43:02<1:30:18, 596.12it/s]"
     ]
    },
    {
     "name": "stdout",
     "output_type": "stream",
     "text": [
      "Diff norm: tensor(4.8593e-06)\n"
     ]
    },
    {
     "name": "stderr",
     "output_type": "stream",
     "text": [
      " 36%|███▌      | 1780125/5000000 [43:15<1:36:37, 555.42it/s]"
     ]
    },
    {
     "name": "stdout",
     "output_type": "stream",
     "text": [
      "Diff norm: tensor(6.1517e-06)\n"
     ]
    },
    {
     "name": "stderr",
     "output_type": "stream",
     "text": [
      " 36%|███▌      | 1790102/5000000 [43:27<1:28:58, 601.32it/s]"
     ]
    },
    {
     "name": "stdout",
     "output_type": "stream",
     "text": [
      "Diff norm: tensor(6.1663e-06)\n"
     ]
    },
    {
     "name": "stderr",
     "output_type": "stream",
     "text": [
      " 36%|███▌      | 1800102/5000000 [43:40<1:35:47, 556.71it/s]"
     ]
    },
    {
     "name": "stdout",
     "output_type": "stream",
     "text": [
      "Diff norm: tensor(5.5855e-06)\n"
     ]
    },
    {
     "name": "stderr",
     "output_type": "stream",
     "text": [
      " 36%|███▌      | 1810149/5000000 [43:53<1:34:53, 560.31it/s]"
     ]
    },
    {
     "name": "stdout",
     "output_type": "stream",
     "text": [
      "Diff norm: tensor(5.3857e-06)\n"
     ]
    },
    {
     "name": "stderr",
     "output_type": "stream",
     "text": [
      " 36%|███▋      | 1820093/5000000 [44:05<1:31:59, 576.15it/s]"
     ]
    },
    {
     "name": "stdout",
     "output_type": "stream",
     "text": [
      "Diff norm: tensor(7.9505e-06)\n"
     ]
    },
    {
     "name": "stderr",
     "output_type": "stream",
     "text": [
      " 37%|███▋      | 1830141/5000000 [44:18<1:30:25, 584.26it/s]"
     ]
    },
    {
     "name": "stdout",
     "output_type": "stream",
     "text": [
      "Diff norm: tensor(6.4840e-06)\n"
     ]
    },
    {
     "name": "stderr",
     "output_type": "stream",
     "text": [
      " 37%|███▋      | 1840129/5000000 [44:31<1:29:38, 587.49it/s]"
     ]
    },
    {
     "name": "stdout",
     "output_type": "stream",
     "text": [
      "Diff norm: tensor(5.7712e-06)\n"
     ]
    },
    {
     "name": "stderr",
     "output_type": "stream",
     "text": [
      " 37%|███▋      | 1850114/5000000 [44:44<1:29:58, 583.43it/s]"
     ]
    },
    {
     "name": "stdout",
     "output_type": "stream",
     "text": [
      "Diff norm: tensor(5.8145e-06)\n"
     ]
    },
    {
     "name": "stderr",
     "output_type": "stream",
     "text": [
      " 37%|███▋      | 1860138/5000000 [44:57<1:30:17, 579.62it/s]"
     ]
    },
    {
     "name": "stdout",
     "output_type": "stream",
     "text": [
      "Diff norm: tensor(5.2416e-06)\n"
     ]
    },
    {
     "name": "stderr",
     "output_type": "stream",
     "text": [
      " 37%|███▋      | 1870116/5000000 [45:09<1:30:26, 576.79it/s]"
     ]
    },
    {
     "name": "stdout",
     "output_type": "stream",
     "text": [
      "Diff norm: tensor(6.1024e-06)\n"
     ]
    },
    {
     "name": "stderr",
     "output_type": "stream",
     "text": [
      " 38%|███▊      | 1880137/5000000 [45:22<1:27:36, 593.56it/s]"
     ]
    },
    {
     "name": "stdout",
     "output_type": "stream",
     "text": [
      "Diff norm: tensor(4.9427e-06)\n"
     ]
    },
    {
     "name": "stderr",
     "output_type": "stream",
     "text": [
      " 38%|███▊      | 1890144/5000000 [45:35<1:27:51, 589.92it/s]"
     ]
    },
    {
     "name": "stdout",
     "output_type": "stream",
     "text": [
      "Diff norm: tensor(4.7105e-06)\n"
     ]
    },
    {
     "name": "stderr",
     "output_type": "stream",
     "text": [
      " 38%|███▊      | 1900148/5000000 [45:47<1:28:40, 582.67it/s]"
     ]
    },
    {
     "name": "stdout",
     "output_type": "stream",
     "text": [
      "Diff norm: tensor(5.3248e-06)\n"
     ]
    },
    {
     "name": "stderr",
     "output_type": "stream",
     "text": [
      " 38%|███▊      | 1910135/5000000 [46:00<1:30:50, 566.92it/s]"
     ]
    },
    {
     "name": "stdout",
     "output_type": "stream",
     "text": [
      "Diff norm: tensor(5.9506e-06)\n"
     ]
    },
    {
     "name": "stderr",
     "output_type": "stream",
     "text": [
      " 38%|███▊      | 1920139/5000000 [46:13<1:28:06, 582.54it/s]"
     ]
    },
    {
     "name": "stdout",
     "output_type": "stream",
     "text": [
      "Diff norm: tensor(5.7481e-06)\n"
     ]
    },
    {
     "name": "stderr",
     "output_type": "stream",
     "text": [
      " 39%|███▊      | 1930147/5000000 [46:26<1:29:06, 574.17it/s]"
     ]
    },
    {
     "name": "stdout",
     "output_type": "stream",
     "text": [
      "Diff norm: tensor(6.2870e-06)\n"
     ]
    },
    {
     "name": "stderr",
     "output_type": "stream",
     "text": [
      " 39%|███▉      | 1940090/5000000 [46:38<1:26:32, 589.29it/s]"
     ]
    },
    {
     "name": "stdout",
     "output_type": "stream",
     "text": [
      "Diff norm: tensor(4.4982e-06)\n"
     ]
    },
    {
     "name": "stderr",
     "output_type": "stream",
     "text": [
      " 39%|███▉      | 1950142/5000000 [46:51<1:29:35, 567.41it/s]"
     ]
    },
    {
     "name": "stdout",
     "output_type": "stream",
     "text": [
      "Diff norm: tensor(4.2013e-06)\n"
     ]
    },
    {
     "name": "stderr",
     "output_type": "stream",
     "text": [
      " 39%|███▉      | 1960134/5000000 [47:04<1:26:03, 588.71it/s]"
     ]
    },
    {
     "name": "stdout",
     "output_type": "stream",
     "text": [
      "Diff norm: tensor(4.8684e-06)\n"
     ]
    },
    {
     "name": "stderr",
     "output_type": "stream",
     "text": [
      " 39%|███▉      | 1970093/5000000 [47:17<1:27:02, 580.18it/s]"
     ]
    },
    {
     "name": "stdout",
     "output_type": "stream",
     "text": [
      "Diff norm: tensor(8.7200e-06)\n"
     ]
    },
    {
     "name": "stderr",
     "output_type": "stream",
     "text": [
      " 40%|███▉      | 1980146/5000000 [47:30<1:29:05, 564.89it/s]"
     ]
    },
    {
     "name": "stdout",
     "output_type": "stream",
     "text": [
      "Diff norm: tensor(4.5751e-06)\n"
     ]
    },
    {
     "name": "stderr",
     "output_type": "stream",
     "text": [
      " 40%|███▉      | 1990081/5000000 [47:42<1:33:32, 536.26it/s]"
     ]
    },
    {
     "name": "stdout",
     "output_type": "stream",
     "text": [
      "Diff norm: tensor(5.6862e-06)\n"
     ]
    },
    {
     "name": "stderr",
     "output_type": "stream",
     "text": [
      " 40%|████      | 2000080/5000000 [47:55<1:26:28, 578.18it/s]"
     ]
    },
    {
     "name": "stdout",
     "output_type": "stream",
     "text": [
      "Diff norm: tensor(4.9706e-06)\n"
     ]
    },
    {
     "name": "stderr",
     "output_type": "stream",
     "text": [
      " 40%|████      | 2010092/5000000 [48:08<1:25:48, 580.70it/s]"
     ]
    },
    {
     "name": "stdout",
     "output_type": "stream",
     "text": [
      "Diff norm: tensor(4.6022e-06)\n"
     ]
    },
    {
     "name": "stderr",
     "output_type": "stream",
     "text": [
      " 40%|████      | 2020072/5000000 [48:21<1:29:46, 553.21it/s]"
     ]
    },
    {
     "name": "stdout",
     "output_type": "stream",
     "text": [
      "Diff norm: tensor(5.7745e-06)\n"
     ]
    },
    {
     "name": "stderr",
     "output_type": "stream",
     "text": [
      " 41%|████      | 2030143/5000000 [48:34<1:27:45, 563.98it/s]"
     ]
    },
    {
     "name": "stdout",
     "output_type": "stream",
     "text": [
      "Diff norm: tensor(4.2091e-06)\n"
     ]
    },
    {
     "name": "stderr",
     "output_type": "stream",
     "text": [
      " 41%|████      | 2040085/5000000 [48:47<1:39:00, 498.27it/s]"
     ]
    },
    {
     "name": "stdout",
     "output_type": "stream",
     "text": [
      "Diff norm: tensor(7.1977e-06)\n"
     ]
    },
    {
     "name": "stderr",
     "output_type": "stream",
     "text": [
      " 41%|████      | 2050134/5000000 [49:00<1:21:53, 600.33it/s]"
     ]
    },
    {
     "name": "stdout",
     "output_type": "stream",
     "text": [
      "Diff norm: tensor(7.5135e-06)\n"
     ]
    },
    {
     "name": "stderr",
     "output_type": "stream",
     "text": [
      " 41%|████      | 2060092/5000000 [49:13<1:24:39, 578.81it/s]"
     ]
    },
    {
     "name": "stdout",
     "output_type": "stream",
     "text": [
      "Diff norm: tensor(4.7940e-06)\n"
     ]
    },
    {
     "name": "stderr",
     "output_type": "stream",
     "text": [
      " 41%|████▏     | 2070112/5000000 [49:25<1:24:25, 578.43it/s]"
     ]
    },
    {
     "name": "stdout",
     "output_type": "stream",
     "text": [
      "Diff norm: tensor(7.4963e-06)\n"
     ]
    },
    {
     "name": "stderr",
     "output_type": "stream",
     "text": [
      " 42%|████▏     | 2080073/5000000 [49:38<1:35:48, 507.93it/s]"
     ]
    },
    {
     "name": "stdout",
     "output_type": "stream",
     "text": [
      "Diff norm: tensor(4.6245e-06)\n"
     ]
    },
    {
     "name": "stderr",
     "output_type": "stream",
     "text": [
      " 42%|████▏     | 2090088/5000000 [49:51<1:26:56, 557.87it/s]"
     ]
    },
    {
     "name": "stdout",
     "output_type": "stream",
     "text": [
      "Diff norm: tensor(4.7076e-06)\n"
     ]
    },
    {
     "name": "stderr",
     "output_type": "stream",
     "text": [
      " 42%|████▏     | 2100140/5000000 [50:04<1:21:58, 589.62it/s]"
     ]
    },
    {
     "name": "stdout",
     "output_type": "stream",
     "text": [
      "Diff norm: tensor(4.8524e-06)\n"
     ]
    },
    {
     "name": "stderr",
     "output_type": "stream",
     "text": [
      " 42%|████▏     | 2110138/5000000 [50:17<1:25:54, 560.60it/s]"
     ]
    },
    {
     "name": "stdout",
     "output_type": "stream",
     "text": [
      "Diff norm: tensor(4.2541e-06)\n"
     ]
    },
    {
     "name": "stderr",
     "output_type": "stream",
     "text": [
      " 42%|████▏     | 2120102/5000000 [50:30<1:24:22, 568.90it/s]"
     ]
    },
    {
     "name": "stdout",
     "output_type": "stream",
     "text": [
      "Diff norm: tensor(4.7482e-06)\n"
     ]
    },
    {
     "name": "stderr",
     "output_type": "stream",
     "text": [
      " 43%|████▎     | 2130110/5000000 [50:43<1:20:52, 591.41it/s]"
     ]
    },
    {
     "name": "stdout",
     "output_type": "stream",
     "text": [
      "Diff norm: tensor(5.1959e-06)\n"
     ]
    },
    {
     "name": "stderr",
     "output_type": "stream",
     "text": [
      " 43%|████▎     | 2140055/5000000 [50:55<1:28:24, 539.13it/s]"
     ]
    },
    {
     "name": "stdout",
     "output_type": "stream",
     "text": [
      "Diff norm: tensor(6.5047e-06)\n"
     ]
    },
    {
     "name": "stderr",
     "output_type": "stream",
     "text": [
      " 43%|████▎     | 2150130/5000000 [51:08<1:19:59, 593.73it/s]"
     ]
    },
    {
     "name": "stdout",
     "output_type": "stream",
     "text": [
      "Diff norm: tensor(4.2700e-06)\n"
     ]
    },
    {
     "name": "stderr",
     "output_type": "stream",
     "text": [
      " 43%|████▎     | 2160092/5000000 [51:21<1:20:42, 586.44it/s]"
     ]
    },
    {
     "name": "stdout",
     "output_type": "stream",
     "text": [
      "Diff norm: tensor(6.7046e-06)\n"
     ]
    },
    {
     "name": "stderr",
     "output_type": "stream",
     "text": [
      " 43%|████▎     | 2170108/5000000 [51:33<1:20:22, 586.87it/s]"
     ]
    },
    {
     "name": "stdout",
     "output_type": "stream",
     "text": [
      "Diff norm: tensor(5.3732e-06)\n"
     ]
    },
    {
     "name": "stderr",
     "output_type": "stream",
     "text": [
      " 44%|████▎     | 2180103/5000000 [51:46<1:20:56, 580.64it/s]"
     ]
    },
    {
     "name": "stdout",
     "output_type": "stream",
     "text": [
      "Diff norm: tensor(4.2480e-06)\n"
     ]
    },
    {
     "name": "stderr",
     "output_type": "stream",
     "text": [
      " 44%|████▍     | 2190080/5000000 [51:59<1:22:55, 564.75it/s]"
     ]
    },
    {
     "name": "stdout",
     "output_type": "stream",
     "text": [
      "Diff norm: tensor(6.2714e-06)\n"
     ]
    },
    {
     "name": "stderr",
     "output_type": "stream",
     "text": [
      " 44%|████▍     | 2200093/5000000 [52:12<1:21:09, 575.02it/s]"
     ]
    },
    {
     "name": "stdout",
     "output_type": "stream",
     "text": [
      "Diff norm: tensor(5.3147e-06)\n"
     ]
    },
    {
     "name": "stderr",
     "output_type": "stream",
     "text": [
      " 44%|████▍     | 2210106/5000000 [52:24<1:20:33, 577.21it/s]"
     ]
    },
    {
     "name": "stdout",
     "output_type": "stream",
     "text": [
      "Diff norm: tensor(4.0158e-06)\n"
     ]
    },
    {
     "name": "stderr",
     "output_type": "stream",
     "text": [
      " 44%|████▍     | 2220080/5000000 [52:37<1:18:51, 587.49it/s]"
     ]
    },
    {
     "name": "stdout",
     "output_type": "stream",
     "text": [
      "Diff norm: tensor(4.4260e-06)\n"
     ]
    },
    {
     "name": "stderr",
     "output_type": "stream",
     "text": [
      " 45%|████▍     | 2230078/5000000 [52:50<1:26:26, 534.03it/s]"
     ]
    },
    {
     "name": "stdout",
     "output_type": "stream",
     "text": [
      "Diff norm: tensor(8.3824e-06)\n"
     ]
    },
    {
     "name": "stderr",
     "output_type": "stream",
     "text": [
      " 45%|████▍     | 2240114/5000000 [53:02<1:18:42, 584.46it/s]"
     ]
    },
    {
     "name": "stdout",
     "output_type": "stream",
     "text": [
      "Diff norm: tensor(4.9300e-06)\n"
     ]
    },
    {
     "name": "stderr",
     "output_type": "stream",
     "text": [
      " 45%|████▌     | 2250136/5000000 [53:15<1:18:06, 586.76it/s]"
     ]
    },
    {
     "name": "stdout",
     "output_type": "stream",
     "text": [
      "Diff norm: tensor(5.2407e-06)\n"
     ]
    },
    {
     "name": "stderr",
     "output_type": "stream",
     "text": [
      " 45%|████▌     | 2260133/5000000 [53:28<1:17:07, 592.10it/s]"
     ]
    },
    {
     "name": "stdout",
     "output_type": "stream",
     "text": [
      "Diff norm: tensor(4.2985e-06)\n"
     ]
    },
    {
     "name": "stderr",
     "output_type": "stream",
     "text": [
      " 45%|████▌     | 2270096/5000000 [53:41<1:20:50, 562.85it/s]"
     ]
    },
    {
     "name": "stdout",
     "output_type": "stream",
     "text": [
      "Diff norm: tensor(6.9166e-06)\n"
     ]
    },
    {
     "name": "stderr",
     "output_type": "stream",
     "text": [
      " 46%|████▌     | 2280106/5000000 [53:53<1:17:39, 583.67it/s]"
     ]
    },
    {
     "name": "stdout",
     "output_type": "stream",
     "text": [
      "Diff norm: tensor(4.5429e-06)\n"
     ]
    },
    {
     "name": "stderr",
     "output_type": "stream",
     "text": [
      " 46%|████▌     | 2290076/5000000 [54:06<1:21:13, 556.06it/s]"
     ]
    },
    {
     "name": "stdout",
     "output_type": "stream",
     "text": [
      "Diff norm: tensor(4.1242e-06)\n"
     ]
    },
    {
     "name": "stderr",
     "output_type": "stream",
     "text": [
      " 46%|████▌     | 2300123/5000000 [54:19<1:17:12, 582.77it/s]"
     ]
    },
    {
     "name": "stdout",
     "output_type": "stream",
     "text": [
      "Diff norm: tensor(4.1157e-06)\n"
     ]
    },
    {
     "name": "stderr",
     "output_type": "stream",
     "text": [
      " 46%|████▌     | 2310077/5000000 [54:32<1:24:49, 528.52it/s]"
     ]
    },
    {
     "name": "stdout",
     "output_type": "stream",
     "text": [
      "Diff norm: tensor(3.8367e-06)\n"
     ]
    },
    {
     "name": "stderr",
     "output_type": "stream",
     "text": [
      " 46%|████▋     | 2320101/5000000 [54:44<1:14:16, 601.36it/s]"
     ]
    },
    {
     "name": "stdout",
     "output_type": "stream",
     "text": [
      "Diff norm: tensor(6.0429e-06)\n"
     ]
    },
    {
     "name": "stderr",
     "output_type": "stream",
     "text": [
      " 47%|████▋     | 2330136/5000000 [54:57<1:16:33, 581.23it/s]"
     ]
    },
    {
     "name": "stdout",
     "output_type": "stream",
     "text": [
      "Diff norm: tensor(5.0837e-06)\n"
     ]
    },
    {
     "name": "stderr",
     "output_type": "stream",
     "text": [
      " 47%|████▋     | 2340128/5000000 [55:10<1:17:49, 569.61it/s]"
     ]
    },
    {
     "name": "stdout",
     "output_type": "stream",
     "text": [
      "Diff norm: tensor(4.2372e-06)\n"
     ]
    },
    {
     "name": "stderr",
     "output_type": "stream",
     "text": [
      " 47%|████▋     | 2350091/5000000 [55:23<1:15:16, 586.66it/s]"
     ]
    },
    {
     "name": "stdout",
     "output_type": "stream",
     "text": [
      "Diff norm: tensor(4.0999e-06)\n"
     ]
    },
    {
     "name": "stderr",
     "output_type": "stream",
     "text": [
      " 47%|████▋     | 2360131/5000000 [55:35<1:14:04, 593.91it/s]"
     ]
    },
    {
     "name": "stdout",
     "output_type": "stream",
     "text": [
      "Diff norm: tensor(4.3337e-06)\n"
     ]
    },
    {
     "name": "stderr",
     "output_type": "stream",
     "text": [
      " 47%|████▋     | 2370148/5000000 [55:48<1:16:02, 576.38it/s]"
     ]
    },
    {
     "name": "stdout",
     "output_type": "stream",
     "text": [
      "Diff norm: tensor(3.7111e-06)\n"
     ]
    },
    {
     "name": "stderr",
     "output_type": "stream",
     "text": [
      " 48%|████▊     | 2380077/5000000 [56:01<1:14:00, 589.95it/s]"
     ]
    },
    {
     "name": "stdout",
     "output_type": "stream",
     "text": [
      "Diff norm: tensor(5.2342e-06)\n"
     ]
    },
    {
     "name": "stderr",
     "output_type": "stream",
     "text": [
      " 48%|████▊     | 2390077/5000000 [56:13<1:24:46, 513.13it/s]"
     ]
    },
    {
     "name": "stdout",
     "output_type": "stream",
     "text": [
      "Diff norm: tensor(5.2542e-06)\n"
     ]
    },
    {
     "name": "stderr",
     "output_type": "stream",
     "text": [
      " 48%|████▊     | 2400086/5000000 [56:26<1:13:31, 589.40it/s]"
     ]
    },
    {
     "name": "stdout",
     "output_type": "stream",
     "text": [
      "Diff norm: tensor(2.1679e-05)\n"
     ]
    },
    {
     "name": "stderr",
     "output_type": "stream",
     "text": [
      " 48%|████▊     | 2410081/5000000 [56:39<1:13:06, 590.40it/s]"
     ]
    },
    {
     "name": "stdout",
     "output_type": "stream",
     "text": [
      "Diff norm: tensor(3.6987e-06)\n"
     ]
    },
    {
     "name": "stderr",
     "output_type": "stream",
     "text": [
      " 48%|████▊     | 2420142/5000000 [56:52<1:13:28, 585.22it/s]"
     ]
    },
    {
     "name": "stdout",
     "output_type": "stream",
     "text": [
      "Diff norm: tensor(4.0129e-06)\n"
     ]
    },
    {
     "name": "stderr",
     "output_type": "stream",
     "text": [
      " 49%|████▊     | 2430082/5000000 [57:04<1:13:55, 579.35it/s]"
     ]
    },
    {
     "name": "stdout",
     "output_type": "stream",
     "text": [
      "Diff norm: tensor(3.4718e-06)\n"
     ]
    },
    {
     "name": "stderr",
     "output_type": "stream",
     "text": [
      " 49%|████▉     | 2440133/5000000 [57:17<1:15:04, 568.26it/s]"
     ]
    },
    {
     "name": "stdout",
     "output_type": "stream",
     "text": [
      "Diff norm: tensor(4.3437e-06)\n"
     ]
    },
    {
     "name": "stderr",
     "output_type": "stream",
     "text": [
      " 49%|████▉     | 2450078/5000000 [57:30<1:20:49, 525.83it/s]"
     ]
    },
    {
     "name": "stdout",
     "output_type": "stream",
     "text": [
      "Diff norm: tensor(3.9130e-06)\n"
     ]
    },
    {
     "name": "stderr",
     "output_type": "stream",
     "text": [
      " 49%|████▉     | 2460088/5000000 [57:43<1:09:47, 606.57it/s]"
     ]
    },
    {
     "name": "stdout",
     "output_type": "stream",
     "text": [
      "Diff norm: tensor(3.6736e-06)\n"
     ]
    },
    {
     "name": "stderr",
     "output_type": "stream",
     "text": [
      " 49%|████▉     | 2470098/5000000 [57:55<1:19:33, 529.95it/s]"
     ]
    },
    {
     "name": "stdout",
     "output_type": "stream",
     "text": [
      "Diff norm: tensor(4.8539e-06)\n"
     ]
    },
    {
     "name": "stderr",
     "output_type": "stream",
     "text": [
      " 50%|████▉     | 2480141/5000000 [58:08<1:12:08, 582.15it/s]"
     ]
    },
    {
     "name": "stdout",
     "output_type": "stream",
     "text": [
      "Diff norm: tensor(4.4720e-06)\n"
     ]
    },
    {
     "name": "stderr",
     "output_type": "stream",
     "text": [
      " 50%|████▉     | 2490077/5000000 [58:21<1:13:47, 566.85it/s]"
     ]
    },
    {
     "name": "stdout",
     "output_type": "stream",
     "text": [
      "Diff norm: tensor(5.3594e-06)\n"
     ]
    },
    {
     "name": "stderr",
     "output_type": "stream",
     "text": [
      " 50%|█████     | 2500088/5000000 [58:33<1:11:58, 578.90it/s]"
     ]
    },
    {
     "name": "stdout",
     "output_type": "stream",
     "text": [
      "Diff norm: tensor(4.5139e-06)\n"
     ]
    },
    {
     "name": "stderr",
     "output_type": "stream",
     "text": [
      " 50%|█████     | 2510141/5000000 [58:46<1:12:18, 573.93it/s]"
     ]
    },
    {
     "name": "stdout",
     "output_type": "stream",
     "text": [
      "Diff norm: tensor(3.5071e-06)\n"
     ]
    },
    {
     "name": "stderr",
     "output_type": "stream",
     "text": [
      " 50%|█████     | 2520098/5000000 [58:59<1:10:23, 587.15it/s]"
     ]
    },
    {
     "name": "stdout",
     "output_type": "stream",
     "text": [
      "Diff norm: tensor(3.6329e-06)\n"
     ]
    },
    {
     "name": "stderr",
     "output_type": "stream",
     "text": [
      " 51%|█████     | 2530122/5000000 [59:11<1:09:17, 594.11it/s]"
     ]
    },
    {
     "name": "stdout",
     "output_type": "stream",
     "text": [
      "Diff norm: tensor(4.3443e-06)\n"
     ]
    },
    {
     "name": "stderr",
     "output_type": "stream",
     "text": [
      " 51%|█████     | 2540103/5000000 [59:24<1:13:46, 555.72it/s]"
     ]
    },
    {
     "name": "stdout",
     "output_type": "stream",
     "text": [
      "Diff norm: tensor(4.7345e-06)\n"
     ]
    },
    {
     "name": "stderr",
     "output_type": "stream",
     "text": [
      " 51%|█████     | 2550116/5000000 [59:36<1:09:07, 590.68it/s]"
     ]
    },
    {
     "name": "stdout",
     "output_type": "stream",
     "text": [
      "Diff norm: tensor(4.0566e-06)\n"
     ]
    },
    {
     "name": "stderr",
     "output_type": "stream",
     "text": [
      " 51%|█████     | 2560129/5000000 [59:49<1:08:19, 595.18it/s]"
     ]
    },
    {
     "name": "stdout",
     "output_type": "stream",
     "text": [
      "Diff norm: tensor(4.6241e-06)\n"
     ]
    },
    {
     "name": "stderr",
     "output_type": "stream",
     "text": [
      " 51%|█████▏    | 2570151/5000000 [1:00:02<1:08:58, 587.18it/s]"
     ]
    },
    {
     "name": "stdout",
     "output_type": "stream",
     "text": [
      "Diff norm: tensor(4.5929e-06)\n"
     ]
    },
    {
     "name": "stderr",
     "output_type": "stream",
     "text": [
      " 52%|█████▏    | 2580080/5000000 [1:00:14<1:12:15, 558.20it/s]"
     ]
    },
    {
     "name": "stdout",
     "output_type": "stream",
     "text": [
      "Diff norm: tensor(3.9443e-06)\n"
     ]
    },
    {
     "name": "stderr",
     "output_type": "stream",
     "text": [
      " 52%|█████▏    | 2590115/5000000 [1:00:27<1:08:39, 585.05it/s]"
     ]
    },
    {
     "name": "stdout",
     "output_type": "stream",
     "text": [
      "Diff norm: tensor(3.4456e-06)\n"
     ]
    },
    {
     "name": "stderr",
     "output_type": "stream",
     "text": [
      " 52%|█████▏    | 2600120/5000000 [1:00:39<1:07:26, 593.13it/s]"
     ]
    },
    {
     "name": "stdout",
     "output_type": "stream",
     "text": [
      "Diff norm: tensor(3.9526e-06)\n"
     ]
    },
    {
     "name": "stderr",
     "output_type": "stream",
     "text": [
      " 52%|█████▏    | 2610130/5000000 [1:00:52<1:11:23, 557.92it/s]"
     ]
    },
    {
     "name": "stdout",
     "output_type": "stream",
     "text": [
      "Diff norm: tensor(4.0774e-06)\n"
     ]
    },
    {
     "name": "stderr",
     "output_type": "stream",
     "text": [
      " 52%|█████▏    | 2620114/5000000 [1:01:05<1:06:26, 597.03it/s]"
     ]
    },
    {
     "name": "stdout",
     "output_type": "stream",
     "text": [
      "Diff norm: tensor(8.3458e-06)\n"
     ]
    },
    {
     "name": "stderr",
     "output_type": "stream",
     "text": [
      " 53%|█████▎    | 2630122/5000000 [1:01:17<1:07:19, 586.70it/s]"
     ]
    },
    {
     "name": "stdout",
     "output_type": "stream",
     "text": [
      "Diff norm: tensor(3.4831e-06)\n"
     ]
    },
    {
     "name": "stderr",
     "output_type": "stream",
     "text": [
      " 53%|█████▎    | 2640070/5000000 [1:01:31<1:22:17, 477.92it/s]"
     ]
    },
    {
     "name": "stdout",
     "output_type": "stream",
     "text": [
      "Diff norm: tensor(3.4113e-06)\n"
     ]
    },
    {
     "name": "stderr",
     "output_type": "stream",
     "text": [
      " 53%|█████▎    | 2650069/5000000 [1:01:45<1:32:14, 424.61it/s]"
     ]
    },
    {
     "name": "stdout",
     "output_type": "stream",
     "text": [
      "Number of non-zero elements not equal (234864, 234869)\n"
     ]
    },
    {
     "name": "stderr",
     "output_type": "stream",
     "text": [
      " 53%|█████▎    | 2660102/5000000 [1:02:01<1:15:34, 516.02it/s]"
     ]
    },
    {
     "name": "stdout",
     "output_type": "stream",
     "text": [
      "Diff norm: tensor(3.7278e-06)\n"
     ]
    },
    {
     "name": "stderr",
     "output_type": "stream",
     "text": [
      " 53%|█████▎    | 2670094/5000000 [1:02:16<1:24:32, 459.31it/s]"
     ]
    },
    {
     "name": "stdout",
     "output_type": "stream",
     "text": [
      "Diff norm: tensor(5.2618e-06)\n"
     ]
    },
    {
     "name": "stderr",
     "output_type": "stream",
     "text": [
      " 54%|█████▎    | 2680070/5000000 [1:02:32<1:23:56, 460.62it/s]"
     ]
    },
    {
     "name": "stdout",
     "output_type": "stream",
     "text": [
      "Diff norm: tensor(5.7320e-06)\n"
     ]
    },
    {
     "name": "stderr",
     "output_type": "stream",
     "text": [
      " 54%|█████▍    | 2690099/5000000 [1:02:47<1:24:56, 453.21it/s]"
     ]
    },
    {
     "name": "stdout",
     "output_type": "stream",
     "text": [
      "Diff norm: tensor(5.2444e-06)\n"
     ]
    },
    {
     "name": "stderr",
     "output_type": "stream",
     "text": [
      " 54%|█████▍    | 2700095/5000000 [1:03:03<1:18:42, 487.01it/s]"
     ]
    },
    {
     "name": "stdout",
     "output_type": "stream",
     "text": [
      "Diff norm: tensor(4.2348e-06)\n"
     ]
    },
    {
     "name": "stderr",
     "output_type": "stream",
     "text": [
      " 54%|█████▍    | 2710131/5000000 [1:03:18<1:16:19, 500.02it/s]"
     ]
    },
    {
     "name": "stdout",
     "output_type": "stream",
     "text": [
      "Diff norm: tensor(5.8480e-06)\n"
     ]
    },
    {
     "name": "stderr",
     "output_type": "stream",
     "text": [
      " 54%|█████▍    | 2720093/5000000 [1:03:34<1:28:56, 427.26it/s]"
     ]
    },
    {
     "name": "stdout",
     "output_type": "stream",
     "text": [
      "Diff norm: tensor(4.1788e-06)\n"
     ]
    },
    {
     "name": "stderr",
     "output_type": "stream",
     "text": [
      " 55%|█████▍    | 2730074/5000000 [1:03:49<1:24:03, 450.10it/s]"
     ]
    },
    {
     "name": "stdout",
     "output_type": "stream",
     "text": [
      "Diff norm: tensor(3.3398e-06)\n"
     ]
    },
    {
     "name": "stderr",
     "output_type": "stream",
     "text": [
      " 55%|█████▍    | 2740063/5000000 [1:04:06<1:30:10, 417.66it/s]"
     ]
    },
    {
     "name": "stdout",
     "output_type": "stream",
     "text": [
      "Diff norm: tensor(4.0766e-06)\n"
     ]
    },
    {
     "name": "stderr",
     "output_type": "stream",
     "text": [
      " 55%|█████▌    | 2750070/5000000 [1:04:21<1:30:51, 412.68it/s]"
     ]
    },
    {
     "name": "stdout",
     "output_type": "stream",
     "text": [
      "Diff norm: tensor(4.6924e-06)\n"
     ]
    },
    {
     "name": "stderr",
     "output_type": "stream",
     "text": [
      " 55%|█████▌    | 2760074/5000000 [1:04:37<1:25:27, 436.86it/s]"
     ]
    },
    {
     "name": "stdout",
     "output_type": "stream",
     "text": [
      "Diff norm: tensor(6.7771e-06)\n"
     ]
    },
    {
     "name": "stderr",
     "output_type": "stream",
     "text": [
      " 55%|█████▌    | 2770117/5000000 [1:04:52<1:15:44, 490.66it/s]"
     ]
    },
    {
     "name": "stdout",
     "output_type": "stream",
     "text": [
      "Diff norm: tensor(4.7480e-06)\n"
     ]
    },
    {
     "name": "stderr",
     "output_type": "stream",
     "text": [
      " 56%|█████▌    | 2780093/5000000 [1:05:08<1:17:42, 476.09it/s]"
     ]
    },
    {
     "name": "stdout",
     "output_type": "stream",
     "text": [
      "Diff norm: tensor(3.7408e-06)\n"
     ]
    },
    {
     "name": "stderr",
     "output_type": "stream",
     "text": [
      " 56%|█████▌    | 2790087/5000000 [1:05:23<1:16:59, 478.42it/s]"
     ]
    },
    {
     "name": "stdout",
     "output_type": "stream",
     "text": [
      "Diff norm: tensor(3.7988e-06)\n"
     ]
    },
    {
     "name": "stderr",
     "output_type": "stream",
     "text": [
      " 56%|█████▌    | 2800103/5000000 [1:05:39<1:20:03, 457.95it/s]"
     ]
    },
    {
     "name": "stdout",
     "output_type": "stream",
     "text": [
      "Diff norm: tensor(3.0730e-06)\n"
     ]
    },
    {
     "name": "stderr",
     "output_type": "stream",
     "text": [
      " 56%|█████▌    | 2810080/5000000 [1:05:55<1:19:31, 458.99it/s]"
     ]
    },
    {
     "name": "stdout",
     "output_type": "stream",
     "text": [
      "Diff norm: tensor(4.5994e-06)\n"
     ]
    },
    {
     "name": "stderr",
     "output_type": "stream",
     "text": [
      " 56%|█████▋    | 2820126/5000000 [1:06:11<1:15:12, 483.09it/s]"
     ]
    },
    {
     "name": "stdout",
     "output_type": "stream",
     "text": [
      "Diff norm: tensor(4.6183e-06)\n"
     ]
    },
    {
     "name": "stderr",
     "output_type": "stream",
     "text": [
      " 57%|█████▋    | 2830119/5000000 [1:06:26<1:11:56, 502.66it/s]"
     ]
    },
    {
     "name": "stdout",
     "output_type": "stream",
     "text": [
      "Diff norm: tensor(3.8929e-06)\n"
     ]
    },
    {
     "name": "stderr",
     "output_type": "stream",
     "text": [
      " 57%|█████▋    | 2840100/5000000 [1:06:41<1:18:48, 456.79it/s]"
     ]
    },
    {
     "name": "stdout",
     "output_type": "stream",
     "text": [
      "Diff norm: tensor(3.2565e-06)\n"
     ]
    },
    {
     "name": "stderr",
     "output_type": "stream",
     "text": [
      " 57%|█████▋    | 2850123/5000000 [1:06:57<1:13:37, 486.62it/s]"
     ]
    },
    {
     "name": "stdout",
     "output_type": "stream",
     "text": [
      "Diff norm: tensor(3.2227e-06)\n"
     ]
    },
    {
     "name": "stderr",
     "output_type": "stream",
     "text": [
      " 57%|█████▋    | 2860090/5000000 [1:10:56<66:40:43,  8.91it/s] "
     ]
    },
    {
     "name": "stdout",
     "output_type": "stream",
     "text": [
      "Diff norm: tensor(3.6419e-06)\n"
     ]
    },
    {
     "name": "stderr",
     "output_type": "stream",
     "text": [
      " 57%|█████▋    | 2870089/5000000 [1:11:09<1:02:26, 568.48it/s]"
     ]
    },
    {
     "name": "stdout",
     "output_type": "stream",
     "text": [
      "Diff norm: tensor(3.4322e-06)\n"
     ]
    },
    {
     "name": "stderr",
     "output_type": "stream",
     "text": [
      " 58%|█████▊    | 2880081/5000000 [1:11:33<1:04:21, 548.93it/s]"
     ]
    },
    {
     "name": "stdout",
     "output_type": "stream",
     "text": [
      "Diff norm: tensor(3.5751e-06)\n"
     ]
    },
    {
     "name": "stderr",
     "output_type": "stream",
     "text": [
      " 58%|█████▊    | 2890124/5000000 [1:11:52<1:04:07, 548.32it/s]"
     ]
    },
    {
     "name": "stdout",
     "output_type": "stream",
     "text": [
      "Diff norm: tensor(3.3885e-06)\n"
     ]
    },
    {
     "name": "stderr",
     "output_type": "stream",
     "text": [
      " 58%|█████▊    | 2900148/5000000 [1:22:35<1:04:19, 544.12it/s]  "
     ]
    },
    {
     "name": "stdout",
     "output_type": "stream",
     "text": [
      "Diff norm: tensor(3.0327e-06)\n"
     ]
    },
    {
     "name": "stderr",
     "output_type": "stream",
     "text": [
      " 58%|█████▊    | 2910123/5000000 [1:23:01<55:29, 627.69it/s]  "
     ]
    },
    {
     "name": "stdout",
     "output_type": "stream",
     "text": [
      "Diff norm: tensor(4.2504e-06)\n"
     ]
    },
    {
     "name": "stderr",
     "output_type": "stream",
     "text": [
      " 58%|█████▊    | 2920081/5000000 [1:41:50<1:01:53, 560.16it/s]  "
     ]
    },
    {
     "name": "stdout",
     "output_type": "stream",
     "text": [
      "Diff norm: tensor(3.0449e-06)\n"
     ]
    },
    {
     "name": "stderr",
     "output_type": "stream",
     "text": [
      " 59%|█████▊    | 2930138/5000000 [1:42:16<55:14, 624.41it/s]  "
     ]
    },
    {
     "name": "stdout",
     "output_type": "stream",
     "text": [
      "Diff norm: tensor(3.0083e-06)\n"
     ]
    },
    {
     "name": "stderr",
     "output_type": "stream",
     "text": [
      " 59%|█████▉    | 2940121/5000000 [1:42:40<55:39, 616.86it/s]  "
     ]
    },
    {
     "name": "stdout",
     "output_type": "stream",
     "text": [
      "Diff norm: tensor(3.8609e-06)\n"
     ]
    },
    {
     "name": "stderr",
     "output_type": "stream",
     "text": [
      " 59%|█████▉    | 2950117/5000000 [1:42:56<55:07, 619.77it/s]  "
     ]
    },
    {
     "name": "stdout",
     "output_type": "stream",
     "text": [
      "Diff norm: tensor(3.1413e-06)\n"
     ]
    },
    {
     "name": "stderr",
     "output_type": "stream",
     "text": [
      " 59%|█████▉    | 2960082/5000000 [1:45:56<2:24:30, 235.28it/s] "
     ]
    },
    {
     "name": "stdout",
     "output_type": "stream",
     "text": [
      "Diff norm: tensor(4.5004e-06)\n"
     ]
    },
    {
     "name": "stderr",
     "output_type": "stream",
     "text": [
      " 59%|█████▉    | 2970118/5000000 [1:46:39<53:17, 634.82it/s]  "
     ]
    },
    {
     "name": "stdout",
     "output_type": "stream",
     "text": [
      "Diff norm: tensor(3.3326e-06)\n"
     ]
    },
    {
     "name": "stderr",
     "output_type": "stream",
     "text": [
      " 60%|█████▉    | 2980082/5000000 [1:46:53<58:09, 578.86it/s]  "
     ]
    },
    {
     "name": "stdout",
     "output_type": "stream",
     "text": [
      "Diff norm: tensor(4.0437e-06)\n"
     ]
    },
    {
     "name": "stderr",
     "output_type": "stream",
     "text": [
      " 60%|█████▉    | 2990146/5000000 [2:11:42<54:01, 619.97it/s]    "
     ]
    },
    {
     "name": "stdout",
     "output_type": "stream",
     "text": [
      "Diff norm: tensor(3.8086e-06)\n"
     ]
    },
    {
     "name": "stderr",
     "output_type": "stream",
     "text": [
      " 60%|██████    | 3000084/5000000 [2:12:05<55:54, 596.18it/s]  "
     ]
    },
    {
     "name": "stdout",
     "output_type": "stream",
     "text": [
      "Diff norm: tensor(2.8515e-06)\n"
     ]
    },
    {
     "name": "stderr",
     "output_type": "stream",
     "text": [
      " 60%|██████    | 3010103/5000000 [2:12:24<52:46, 628.45it/s]  "
     ]
    },
    {
     "name": "stdout",
     "output_type": "stream",
     "text": [
      "Diff norm: tensor(3.0209e-06)\n"
     ]
    },
    {
     "name": "stderr",
     "output_type": "stream",
     "text": [
      " 60%|██████    | 3020136/5000000 [2:16:35<53:06, 621.37it/s]   "
     ]
    },
    {
     "name": "stdout",
     "output_type": "stream",
     "text": [
      "Diff norm: tensor(3.1254e-06)\n"
     ]
    },
    {
     "name": "stderr",
     "output_type": "stream",
     "text": [
      " 61%|██████    | 3030124/5000000 [2:20:42<54:33, 601.85it/s]   "
     ]
    },
    {
     "name": "stdout",
     "output_type": "stream",
     "text": [
      "Diff norm: tensor(3.4978e-06)\n"
     ]
    },
    {
     "name": "stderr",
     "output_type": "stream",
     "text": [
      " 61%|██████    | 3040081/5000000 [2:22:12<1:14:47, 436.75it/s] "
     ]
    },
    {
     "name": "stdout",
     "output_type": "stream",
     "text": [
      "Diff norm: tensor(4.4548e-06)\n"
     ]
    },
    {
     "name": "stderr",
     "output_type": "stream",
     "text": [
      " 61%|██████    | 3050113/5000000 [2:25:33<53:54, 602.79it/s]   "
     ]
    },
    {
     "name": "stdout",
     "output_type": "stream",
     "text": [
      "Diff norm: tensor(3.6920e-06)\n"
     ]
    },
    {
     "name": "stderr",
     "output_type": "stream",
     "text": [
      " 61%|██████    | 3060150/5000000 [2:31:33<52:15, 618.64it/s]   "
     ]
    },
    {
     "name": "stdout",
     "output_type": "stream",
     "text": [
      "Diff norm: tensor(3.0988e-06)\n"
     ]
    },
    {
     "name": "stderr",
     "output_type": "stream",
     "text": [
      " 61%|██████▏   | 3070135/5000000 [2:34:33<52:36, 611.30it/s]   "
     ]
    },
    {
     "name": "stdout",
     "output_type": "stream",
     "text": [
      "Diff norm: tensor(3.9334e-06)\n"
     ]
    },
    {
     "name": "stderr",
     "output_type": "stream",
     "text": [
      " 62%|██████▏   | 3080093/5000000 [2:50:10<52:47, 606.11it/s]    "
     ]
    },
    {
     "name": "stdout",
     "output_type": "stream",
     "text": [
      "Diff norm: tensor(4.1488e-06)\n"
     ]
    },
    {
     "name": "stderr",
     "output_type": "stream",
     "text": [
      " 62%|██████▏   | 3090148/5000000 [2:50:22<56:17, 565.47it/s]  "
     ]
    },
    {
     "name": "stdout",
     "output_type": "stream",
     "text": [
      "Diff norm: tensor(3.6136e-06)\n"
     ]
    },
    {
     "name": "stderr",
     "output_type": "stream",
     "text": [
      " 62%|██████▏   | 3100078/5000000 [3:07:29<50:52, 622.43it/s]    "
     ]
    },
    {
     "name": "stdout",
     "output_type": "stream",
     "text": [
      "Diff norm: tensor(4.6883e-06)\n"
     ]
    },
    {
     "name": "stderr",
     "output_type": "stream",
     "text": [
      " 62%|██████▏   | 3110090/5000000 [3:55:52<112:12:31,  4.68it/s] "
     ]
    },
    {
     "name": "stdout",
     "output_type": "stream",
     "text": [
      "Diff norm: tensor(3.6499e-06)\n"
     ]
    },
    {
     "name": "stderr",
     "output_type": "stream",
     "text": [
      " 62%|██████▏   | 3120126/5000000 [3:56:04<49:59, 626.80it/s]   "
     ]
    },
    {
     "name": "stdout",
     "output_type": "stream",
     "text": [
      "Diff norm: tensor(3.2891e-06)\n"
     ]
    },
    {
     "name": "stderr",
     "output_type": "stream",
     "text": [
      " 63%|██████▎   | 3130086/5000000 [3:56:15<50:10, 621.08it/s]"
     ]
    },
    {
     "name": "stdout",
     "output_type": "stream",
     "text": [
      "Diff norm: tensor(3.1886e-06)\n"
     ]
    },
    {
     "name": "stderr",
     "output_type": "stream",
     "text": [
      " 63%|██████▎   | 3140143/5000000 [3:56:27<49:51, 621.72it/s]"
     ]
    },
    {
     "name": "stdout",
     "output_type": "stream",
     "text": [
      "Diff norm: tensor(4.4382e-06)\n"
     ]
    },
    {
     "name": "stderr",
     "output_type": "stream",
     "text": [
      " 63%|██████▎   | 3150122/5000000 [3:56:39<51:37, 597.16it/s]"
     ]
    },
    {
     "name": "stdout",
     "output_type": "stream",
     "text": [
      "Diff norm: tensor(2.8139e-06)\n"
     ]
    },
    {
     "name": "stderr",
     "output_type": "stream",
     "text": [
      " 63%|██████▎   | 3160154/5000000 [3:56:51<47:10, 650.11it/s]"
     ]
    },
    {
     "name": "stdout",
     "output_type": "stream",
     "text": [
      "Diff norm: tensor(4.0628e-06)\n"
     ]
    },
    {
     "name": "stderr",
     "output_type": "stream",
     "text": [
      " 63%|██████▎   | 3170083/5000000 [4:12:13<50:41, 601.63it/s]    "
     ]
    },
    {
     "name": "stdout",
     "output_type": "stream",
     "text": [
      "Diff norm: tensor(3.8538e-06)\n"
     ]
    },
    {
     "name": "stderr",
     "output_type": "stream",
     "text": [
      " 64%|██████▎   | 3180077/5000000 [4:12:24<51:01, 594.53it/s]"
     ]
    },
    {
     "name": "stdout",
     "output_type": "stream",
     "text": [
      "Diff norm: tensor(2.7295e-06)\n"
     ]
    },
    {
     "name": "stderr",
     "output_type": "stream",
     "text": [
      " 64%|██████▍   | 3190090/5000000 [4:15:13<1:01:10, 493.08it/s] "
     ]
    },
    {
     "name": "stdout",
     "output_type": "stream",
     "text": [
      "Diff norm: tensor(4.2421e-06)\n"
     ]
    },
    {
     "name": "stderr",
     "output_type": "stream",
     "text": [
      " 64%|██████▍   | 3200083/5000000 [4:15:27<1:01:50, 485.07it/s]"
     ]
    },
    {
     "name": "stdout",
     "output_type": "stream",
     "text": [
      "Diff norm: tensor(3.4415e-06)\n"
     ]
    },
    {
     "name": "stderr",
     "output_type": "stream",
     "text": [
      " 64%|██████▍   | 3210086/5000000 [4:15:41<56:49, 525.05it/s]  "
     ]
    },
    {
     "name": "stdout",
     "output_type": "stream",
     "text": [
      "Diff norm: tensor(4.0413e-06)\n"
     ]
    },
    {
     "name": "stderr",
     "output_type": "stream",
     "text": [
      " 64%|██████▍   | 3220105/5000000 [4:15:56<53:12, 557.49it/s]"
     ]
    },
    {
     "name": "stdout",
     "output_type": "stream",
     "text": [
      "Diff norm: tensor(4.1264e-06)\n"
     ]
    },
    {
     "name": "stderr",
     "output_type": "stream",
     "text": [
      " 65%|██████▍   | 3230119/5000000 [4:16:11<59:48, 493.15it/s]  "
     ]
    },
    {
     "name": "stdout",
     "output_type": "stream",
     "text": [
      "Diff norm: tensor(3.7445e-06)\n"
     ]
    },
    {
     "name": "stderr",
     "output_type": "stream",
     "text": [
      " 65%|██████▍   | 3240069/5000000 [4:16:26<1:08:17, 429.49it/s]"
     ]
    },
    {
     "name": "stdout",
     "output_type": "stream",
     "text": [
      "Diff norm: tensor(3.3460e-06)\n"
     ]
    },
    {
     "name": "stderr",
     "output_type": "stream",
     "text": [
      " 65%|██████▌   | 3250123/5000000 [4:16:41<1:01:30, 474.15it/s]"
     ]
    },
    {
     "name": "stdout",
     "output_type": "stream",
     "text": [
      "Diff norm: tensor(2.8100e-06)\n"
     ]
    },
    {
     "name": "stderr",
     "output_type": "stream",
     "text": [
      " 65%|██████▌   | 3260098/5000000 [4:16:56<57:45, 502.10it/s]  "
     ]
    },
    {
     "name": "stdout",
     "output_type": "stream",
     "text": [
      "Diff norm: tensor(3.3749e-06)\n"
     ]
    },
    {
     "name": "stderr",
     "output_type": "stream",
     "text": [
      " 65%|██████▌   | 3270102/5000000 [4:17:10<56:11, 513.11it/s]  "
     ]
    },
    {
     "name": "stdout",
     "output_type": "stream",
     "text": [
      "Diff norm: tensor(3.3550e-06)\n"
     ]
    },
    {
     "name": "stderr",
     "output_type": "stream",
     "text": [
      " 66%|██████▌   | 3280098/5000000 [4:17:24<52:31, 545.78it/s]"
     ]
    },
    {
     "name": "stdout",
     "output_type": "stream",
     "text": [
      "Diff norm: tensor(3.6521e-06)\n"
     ]
    },
    {
     "name": "stderr",
     "output_type": "stream",
     "text": [
      " 66%|██████▌   | 3290082/5000000 [4:17:38<56:51, 501.23it/s]  "
     ]
    },
    {
     "name": "stdout",
     "output_type": "stream",
     "text": [
      "Diff norm: tensor(2.7890e-06)\n"
     ]
    },
    {
     "name": "stderr",
     "output_type": "stream",
     "text": [
      " 66%|██████▌   | 3300152/5000000 [4:17:52<50:31, 560.64it/s]"
     ]
    },
    {
     "name": "stdout",
     "output_type": "stream",
     "text": [
      "Diff norm: tensor(3.0917e-06)\n"
     ]
    },
    {
     "name": "stderr",
     "output_type": "stream",
     "text": [
      " 66%|██████▌   | 3310129/5000000 [4:18:06<52:18, 538.46it/s]"
     ]
    },
    {
     "name": "stdout",
     "output_type": "stream",
     "text": [
      "Diff norm: tensor(4.3129e-06)\n"
     ]
    },
    {
     "name": "stderr",
     "output_type": "stream",
     "text": [
      " 66%|██████▋   | 3320112/5000000 [4:18:20<56:54, 491.95it/s]  "
     ]
    },
    {
     "name": "stdout",
     "output_type": "stream",
     "text": [
      "Number of non-zero elements not equal (234869, 234870)\n"
     ]
    },
    {
     "name": "stderr",
     "output_type": "stream",
     "text": [
      " 67%|██████▋   | 3330067/5000000 [4:18:35<54:26, 511.31it/s]"
     ]
    },
    {
     "name": "stdout",
     "output_type": "stream",
     "text": [
      "Diff norm: tensor(3.9609e-06)\n"
     ]
    },
    {
     "name": "stderr",
     "output_type": "stream",
     "text": [
      " 67%|██████▋   | 3340117/5000000 [4:18:50<58:08, 475.76it/s]  "
     ]
    },
    {
     "name": "stdout",
     "output_type": "stream",
     "text": [
      "Diff norm: tensor(3.9387e-06)\n"
     ]
    },
    {
     "name": "stderr",
     "output_type": "stream",
     "text": [
      " 67%|██████▋   | 3350073/5000000 [4:19:05<56:54, 483.21it/s]  "
     ]
    },
    {
     "name": "stdout",
     "output_type": "stream",
     "text": [
      "Diff norm: tensor(2.9365e-06)\n"
     ]
    },
    {
     "name": "stderr",
     "output_type": "stream",
     "text": [
      " 67%|██████▋   | 3360097/5000000 [4:19:20<51:05, 534.97it/s]"
     ]
    },
    {
     "name": "stdout",
     "output_type": "stream",
     "text": [
      "Diff norm: tensor(3.4033e-06)\n"
     ]
    },
    {
     "name": "stderr",
     "output_type": "stream",
     "text": [
      " 67%|██████▋   | 3370074/5000000 [4:19:35<56:04, 484.41it/s]  "
     ]
    },
    {
     "name": "stdout",
     "output_type": "stream",
     "text": [
      "Diff norm: tensor(5.2946e-06)\n"
     ]
    },
    {
     "name": "stderr",
     "output_type": "stream",
     "text": [
      " 68%|██████▊   | 3380117/5000000 [4:19:50<55:17, 488.31it/s]  "
     ]
    },
    {
     "name": "stdout",
     "output_type": "stream",
     "text": [
      "Diff norm: tensor(3.3188e-06)\n"
     ]
    },
    {
     "name": "stderr",
     "output_type": "stream",
     "text": [
      " 68%|██████▊   | 3390145/5000000 [4:20:05<49:14, 544.94it/s]"
     ]
    },
    {
     "name": "stdout",
     "output_type": "stream",
     "text": [
      "Diff norm: tensor(2.7855e-06)\n"
     ]
    },
    {
     "name": "stderr",
     "output_type": "stream",
     "text": [
      " 68%|██████▊   | 3400077/5000000 [4:20:20<54:37, 488.14it/s]"
     ]
    },
    {
     "name": "stdout",
     "output_type": "stream",
     "text": [
      "Diff norm: tensor(2.4158e-06)\n"
     ]
    },
    {
     "name": "stderr",
     "output_type": "stream",
     "text": [
      " 68%|██████▊   | 3410077/5000000 [4:20:35<52:26, 505.26it/s]  "
     ]
    },
    {
     "name": "stdout",
     "output_type": "stream",
     "text": [
      "Diff norm: tensor(3.5655e-06)\n"
     ]
    },
    {
     "name": "stderr",
     "output_type": "stream",
     "text": [
      " 68%|██████▊   | 3420091/5000000 [4:20:49<55:12, 477.02it/s]  "
     ]
    },
    {
     "name": "stdout",
     "output_type": "stream",
     "text": [
      "Diff norm: tensor(2.7681e-06)\n"
     ]
    },
    {
     "name": "stderr",
     "output_type": "stream",
     "text": [
      " 69%|██████▊   | 3430090/5000000 [4:21:04<51:54, 504.11it/s]"
     ]
    },
    {
     "name": "stdout",
     "output_type": "stream",
     "text": [
      "Diff norm: tensor(2.7853e-06)\n"
     ]
    },
    {
     "name": "stderr",
     "output_type": "stream",
     "text": [
      " 69%|██████▉   | 3440070/5000000 [4:21:19<58:51, 441.72it/s]  "
     ]
    },
    {
     "name": "stdout",
     "output_type": "stream",
     "text": [
      "Diff norm: tensor(2.9699e-06)\n"
     ]
    },
    {
     "name": "stderr",
     "output_type": "stream",
     "text": [
      " 69%|██████▉   | 3450086/5000000 [4:21:35<55:23, 466.36it/s]  "
     ]
    },
    {
     "name": "stdout",
     "output_type": "stream",
     "text": [
      "Diff norm: tensor(2.6246e-06)\n"
     ]
    },
    {
     "name": "stderr",
     "output_type": "stream",
     "text": [
      " 69%|██████▉   | 3460091/5000000 [4:21:49<50:37, 506.93it/s]"
     ]
    },
    {
     "name": "stdout",
     "output_type": "stream",
     "text": [
      "Diff norm: tensor(3.6136e-06)\n"
     ]
    },
    {
     "name": "stderr",
     "output_type": "stream",
     "text": [
      " 69%|██████▉   | 3470123/5000000 [4:22:04<55:43, 457.52it/s]  "
     ]
    },
    {
     "name": "stdout",
     "output_type": "stream",
     "text": [
      "Diff norm: tensor(2.8320e-06)\n"
     ]
    },
    {
     "name": "stderr",
     "output_type": "stream",
     "text": [
      " 70%|██████▉   | 3480099/5000000 [4:22:19<54:35, 464.01it/s]  "
     ]
    },
    {
     "name": "stdout",
     "output_type": "stream",
     "text": [
      "Diff norm: tensor(3.6607e-06)\n"
     ]
    },
    {
     "name": "stderr",
     "output_type": "stream",
     "text": [
      " 70%|██████▉   | 3490094/5000000 [4:22:34<49:59, 503.45it/s]"
     ]
    },
    {
     "name": "stdout",
     "output_type": "stream",
     "text": [
      "Diff norm: tensor(2.9127e-06)\n"
     ]
    },
    {
     "name": "stderr",
     "output_type": "stream",
     "text": [
      " 70%|███████   | 3500112/5000000 [4:22:49<53:21, 468.55it/s]  "
     ]
    },
    {
     "name": "stdout",
     "output_type": "stream",
     "text": [
      "Diff norm: tensor(2.6178e-06)\n"
     ]
    },
    {
     "name": "stderr",
     "output_type": "stream",
     "text": [
      " 70%|███████   | 3510112/5000000 [4:23:05<1:00:03, 413.42it/s]"
     ]
    },
    {
     "name": "stdout",
     "output_type": "stream",
     "text": [
      "Diff norm: tensor(3.6204e-06)\n"
     ]
    },
    {
     "name": "stderr",
     "output_type": "stream",
     "text": [
      " 70%|███████   | 3520071/5000000 [4:23:20<53:41, 459.45it/s]  "
     ]
    },
    {
     "name": "stdout",
     "output_type": "stream",
     "text": [
      "Diff norm: tensor(2.5335e-06)\n"
     ]
    },
    {
     "name": "stderr",
     "output_type": "stream",
     "text": [
      " 71%|███████   | 3530112/5000000 [4:23:35<46:07, 531.09it/s]"
     ]
    },
    {
     "name": "stdout",
     "output_type": "stream",
     "text": [
      "Diff norm: tensor(3.7916e-06)\n"
     ]
    },
    {
     "name": "stderr",
     "output_type": "stream",
     "text": [
      " 71%|███████   | 3540102/5000000 [4:23:49<55:08, 441.30it/s]  "
     ]
    },
    {
     "name": "stdout",
     "output_type": "stream",
     "text": [
      "Diff norm: tensor(2.5044e-06)\n"
     ]
    },
    {
     "name": "stderr",
     "output_type": "stream",
     "text": [
      " 71%|███████   | 3550128/5000000 [4:24:05<46:16, 522.16it/s]"
     ]
    },
    {
     "name": "stdout",
     "output_type": "stream",
     "text": [
      "Diff norm: tensor(3.3608e-06)\n"
     ]
    },
    {
     "name": "stderr",
     "output_type": "stream",
     "text": [
      " 71%|███████   | 3560095/5000000 [4:24:19<47:56, 500.65it/s]"
     ]
    },
    {
     "name": "stdout",
     "output_type": "stream",
     "text": [
      "Diff norm: tensor(2.8487e-06)\n"
     ]
    },
    {
     "name": "stderr",
     "output_type": "stream",
     "text": [
      " 71%|███████▏  | 3570143/5000000 [4:24:33<46:57, 507.53it/s]"
     ]
    },
    {
     "name": "stdout",
     "output_type": "stream",
     "text": [
      "Diff norm: tensor(2.7244e-06)\n"
     ]
    },
    {
     "name": "stderr",
     "output_type": "stream",
     "text": [
      " 72%|███████▏  | 3580111/5000000 [4:24:47<43:05, 549.21it/s]"
     ]
    },
    {
     "name": "stdout",
     "output_type": "stream",
     "text": [
      "Diff norm: tensor(2.7338e-06)\n"
     ]
    },
    {
     "name": "stderr",
     "output_type": "stream",
     "text": [
      " 72%|███████▏  | 3590097/5000000 [4:25:01<46:48, 502.04it/s]"
     ]
    },
    {
     "name": "stdout",
     "output_type": "stream",
     "text": [
      "Diff norm: tensor(2.8758e-06)\n"
     ]
    },
    {
     "name": "stderr",
     "output_type": "stream",
     "text": [
      " 72%|███████▏  | 3600135/5000000 [4:25:16<47:52, 487.29it/s]"
     ]
    },
    {
     "name": "stdout",
     "output_type": "stream",
     "text": [
      "Diff norm: tensor(2.7284e-06)\n"
     ]
    },
    {
     "name": "stderr",
     "output_type": "stream",
     "text": [
      " 72%|███████▏  | 3610101/5000000 [4:25:30<42:38, 543.35it/s]"
     ]
    },
    {
     "name": "stdout",
     "output_type": "stream",
     "text": [
      "Diff norm: tensor(3.5064e-06)\n"
     ]
    },
    {
     "name": "stderr",
     "output_type": "stream",
     "text": [
      " 72%|███████▏  | 3620090/5000000 [4:25:45<50:46, 453.01it/s]"
     ]
    },
    {
     "name": "stdout",
     "output_type": "stream",
     "text": [
      "Diff norm: tensor(3.7779e-06)\n"
     ]
    },
    {
     "name": "stderr",
     "output_type": "stream",
     "text": [
      " 73%|███████▎  | 3630124/5000000 [4:26:00<49:49, 458.16it/s]"
     ]
    },
    {
     "name": "stdout",
     "output_type": "stream",
     "text": [
      "Diff norm: tensor(3.1655e-06)\n"
     ]
    },
    {
     "name": "stderr",
     "output_type": "stream",
     "text": [
      " 73%|███████▎  | 3640074/5000000 [4:26:15<42:25, 534.17it/s]"
     ]
    },
    {
     "name": "stdout",
     "output_type": "stream",
     "text": [
      "Diff norm: tensor(2.4704e-06)\n"
     ]
    },
    {
     "name": "stderr",
     "output_type": "stream",
     "text": [
      " 73%|███████▎  | 3650123/5000000 [4:26:29<48:18, 465.73it/s]"
     ]
    },
    {
     "name": "stdout",
     "output_type": "stream",
     "text": [
      "Diff norm: tensor(2.5743e-06)\n"
     ]
    },
    {
     "name": "stderr",
     "output_type": "stream",
     "text": [
      " 73%|███████▎  | 3660091/5000000 [4:26:45<44:13, 504.91it/s]"
     ]
    },
    {
     "name": "stdout",
     "output_type": "stream",
     "text": [
      "Diff norm: tensor(3.7485e-06)\n"
     ]
    },
    {
     "name": "stderr",
     "output_type": "stream",
     "text": [
      " 73%|███████▎  | 3670137/5000000 [4:27:00<43:02, 514.95it/s]"
     ]
    },
    {
     "name": "stdout",
     "output_type": "stream",
     "text": [
      "Diff norm: tensor(2.3877e-06)\n"
     ]
    },
    {
     "name": "stderr",
     "output_type": "stream",
     "text": [
      " 74%|███████▎  | 3680118/5000000 [4:27:13<38:38, 569.37it/s]"
     ]
    },
    {
     "name": "stdout",
     "output_type": "stream",
     "text": [
      "Diff norm: tensor(3.2556e-06)\n"
     ]
    },
    {
     "name": "stderr",
     "output_type": "stream",
     "text": [
      " 74%|███████▍  | 3690066/5000000 [4:27:28<51:57, 420.15it/s]"
     ]
    },
    {
     "name": "stdout",
     "output_type": "stream",
     "text": [
      "Diff norm: tensor(2.8489e-06)\n"
     ]
    },
    {
     "name": "stderr",
     "output_type": "stream",
     "text": [
      " 74%|███████▍  | 3700132/5000000 [4:27:44<42:08, 514.14it/s]"
     ]
    },
    {
     "name": "stdout",
     "output_type": "stream",
     "text": [
      "Diff norm: tensor(5.4502e-06)\n"
     ]
    },
    {
     "name": "stderr",
     "output_type": "stream",
     "text": [
      " 74%|███████▍  | 3710099/5000000 [4:27:59<43:43, 491.66it/s]"
     ]
    },
    {
     "name": "stdout",
     "output_type": "stream",
     "text": [
      "Diff norm: tensor(2.9895e-06)\n"
     ]
    },
    {
     "name": "stderr",
     "output_type": "stream",
     "text": [
      " 74%|███████▍  | 3720094/5000000 [4:28:14<46:34, 458.04it/s]"
     ]
    },
    {
     "name": "stdout",
     "output_type": "stream",
     "text": [
      "Diff norm: tensor(2.6207e-06)\n"
     ]
    },
    {
     "name": "stderr",
     "output_type": "stream",
     "text": [
      " 75%|███████▍  | 3730096/5000000 [4:28:28<43:01, 491.88it/s]  "
     ]
    },
    {
     "name": "stdout",
     "output_type": "stream",
     "text": [
      "Diff norm: tensor(3.0850e-06)\n"
     ]
    },
    {
     "name": "stderr",
     "output_type": "stream",
     "text": [
      " 75%|███████▍  | 3740138/5000000 [4:28:43<39:50, 527.00it/s]"
     ]
    },
    {
     "name": "stdout",
     "output_type": "stream",
     "text": [
      "Diff norm: tensor(2.3828e-06)\n"
     ]
    },
    {
     "name": "stderr",
     "output_type": "stream",
     "text": [
      " 75%|███████▌  | 3750079/5000000 [4:28:58<46:30, 447.88it/s]"
     ]
    },
    {
     "name": "stdout",
     "output_type": "stream",
     "text": [
      "Diff norm: tensor(2.6353e-06)\n"
     ]
    },
    {
     "name": "stderr",
     "output_type": "stream",
     "text": [
      " 75%|███████▌  | 3760106/5000000 [4:29:12<36:55, 559.69it/s]"
     ]
    },
    {
     "name": "stdout",
     "output_type": "stream",
     "text": [
      "Diff norm: tensor(3.9083e-06)\n"
     ]
    },
    {
     "name": "stderr",
     "output_type": "stream",
     "text": [
      " 75%|███████▌  | 3770076/5000000 [4:29:25<40:59, 500.13it/s]"
     ]
    },
    {
     "name": "stdout",
     "output_type": "stream",
     "text": [
      "Diff norm: tensor(2.6675e-06)\n"
     ]
    },
    {
     "name": "stderr",
     "output_type": "stream",
     "text": [
      " 76%|███████▌  | 3780078/5000000 [4:29:39<43:56, 462.67it/s]"
     ]
    },
    {
     "name": "stdout",
     "output_type": "stream",
     "text": [
      "Diff norm: tensor(2.2760e-06)\n"
     ]
    },
    {
     "name": "stderr",
     "output_type": "stream",
     "text": [
      " 76%|███████▌  | 3790119/5000000 [4:29:54<43:31, 463.35it/s]"
     ]
    },
    {
     "name": "stdout",
     "output_type": "stream",
     "text": [
      "Diff norm: tensor(2.4853e-06)\n"
     ]
    },
    {
     "name": "stderr",
     "output_type": "stream",
     "text": [
      " 76%|███████▌  | 3800133/5000000 [4:30:09<37:18, 536.03it/s]"
     ]
    },
    {
     "name": "stdout",
     "output_type": "stream",
     "text": [
      "Diff norm: tensor(2.3786e-06)\n"
     ]
    },
    {
     "name": "stderr",
     "output_type": "stream",
     "text": [
      " 76%|███████▌  | 3810072/5000000 [4:30:24<42:53, 462.36it/s]"
     ]
    },
    {
     "name": "stdout",
     "output_type": "stream",
     "text": [
      "Diff norm: tensor(2.6969e-06)\n"
     ]
    },
    {
     "name": "stderr",
     "output_type": "stream",
     "text": [
      " 76%|███████▋  | 3820119/5000000 [4:30:40<43:24, 452.94it/s]"
     ]
    },
    {
     "name": "stdout",
     "output_type": "stream",
     "text": [
      "Diff norm: tensor(6.1658e-06)\n"
     ]
    },
    {
     "name": "stderr",
     "output_type": "stream",
     "text": [
      " 77%|███████▋  | 3830061/5000000 [4:30:54<46:37, 418.18it/s]"
     ]
    },
    {
     "name": "stdout",
     "output_type": "stream",
     "text": [
      "Diff norm: tensor(2.7859e-06)\n"
     ]
    },
    {
     "name": "stderr",
     "output_type": "stream",
     "text": [
      " 77%|███████▋  | 3840077/5000000 [4:31:09<36:11, 534.15it/s]"
     ]
    },
    {
     "name": "stdout",
     "output_type": "stream",
     "text": [
      "Diff norm: tensor(2.4420e-06)\n"
     ]
    },
    {
     "name": "stderr",
     "output_type": "stream",
     "text": [
      " 77%|███████▋  | 3850128/5000000 [4:31:23<37:14, 514.50it/s]"
     ]
    },
    {
     "name": "stdout",
     "output_type": "stream",
     "text": [
      "Diff norm: tensor(3.0290e-06)\n"
     ]
    },
    {
     "name": "stderr",
     "output_type": "stream",
     "text": [
      " 77%|███████▋  | 3860086/5000000 [4:31:37<38:24, 494.56it/s]"
     ]
    },
    {
     "name": "stdout",
     "output_type": "stream",
     "text": [
      "Diff norm: tensor(2.4443e-06)\n"
     ]
    },
    {
     "name": "stderr",
     "output_type": "stream",
     "text": [
      " 77%|███████▋  | 3870146/5000000 [4:31:52<33:45, 557.78it/s]"
     ]
    },
    {
     "name": "stdout",
     "output_type": "stream",
     "text": [
      "Diff norm: tensor(2.6409e-06)\n"
     ]
    },
    {
     "name": "stderr",
     "output_type": "stream",
     "text": [
      " 78%|███████▊  | 3880129/5000000 [4:32:05<36:59, 504.55it/s]"
     ]
    },
    {
     "name": "stdout",
     "output_type": "stream",
     "text": [
      "Diff norm: tensor(2.6430e-06)\n"
     ]
    },
    {
     "name": "stderr",
     "output_type": "stream",
     "text": [
      " 78%|███████▊  | 3890115/5000000 [4:32:19<36:01, 513.58it/s]"
     ]
    },
    {
     "name": "stdout",
     "output_type": "stream",
     "text": [
      "Diff norm: tensor(2.7174e-06)\n"
     ]
    },
    {
     "name": "stderr",
     "output_type": "stream",
     "text": [
      " 78%|███████▊  | 3900068/5000000 [4:32:34<40:09, 456.53it/s]"
     ]
    },
    {
     "name": "stdout",
     "output_type": "stream",
     "text": [
      "Diff norm: tensor(2.9587e-06)\n"
     ]
    },
    {
     "name": "stderr",
     "output_type": "stream",
     "text": [
      " 78%|███████▊  | 3910094/5000000 [4:32:49<38:17, 474.31it/s]"
     ]
    },
    {
     "name": "stdout",
     "output_type": "stream",
     "text": [
      "Diff norm: tensor(2.9501e-06)\n"
     ]
    },
    {
     "name": "stderr",
     "output_type": "stream",
     "text": [
      " 78%|███████▊  | 3920095/5000000 [4:33:04<36:14, 496.73it/s]"
     ]
    },
    {
     "name": "stdout",
     "output_type": "stream",
     "text": [
      "Diff norm: tensor(2.5039e-06)\n"
     ]
    },
    {
     "name": "stderr",
     "output_type": "stream",
     "text": [
      " 79%|███████▊  | 3930069/5000000 [4:33:19<39:30, 451.42it/s]"
     ]
    },
    {
     "name": "stdout",
     "output_type": "stream",
     "text": [
      "Diff norm: tensor(2.5502e-06)\n"
     ]
    },
    {
     "name": "stderr",
     "output_type": "stream",
     "text": [
      " 79%|███████▉  | 3940081/5000000 [4:33:34<36:34, 483.09it/s]"
     ]
    },
    {
     "name": "stdout",
     "output_type": "stream",
     "text": [
      "Diff norm: tensor(2.2918e-06)\n"
     ]
    },
    {
     "name": "stderr",
     "output_type": "stream",
     "text": [
      " 79%|███████▉  | 3950084/5000000 [4:33:48<32:24, 539.87it/s]"
     ]
    },
    {
     "name": "stdout",
     "output_type": "stream",
     "text": [
      "Diff norm: tensor(2.4640e-06)\n"
     ]
    },
    {
     "name": "stderr",
     "output_type": "stream",
     "text": [
      " 79%|███████▉  | 3960115/5000000 [4:34:02<32:38, 531.03it/s]"
     ]
    },
    {
     "name": "stdout",
     "output_type": "stream",
     "text": [
      "Diff norm: tensor(2.3391e-06)\n"
     ]
    },
    {
     "name": "stderr",
     "output_type": "stream",
     "text": [
      " 79%|███████▉  | 3970092/5000000 [4:34:17<34:05, 503.38it/s]"
     ]
    },
    {
     "name": "stdout",
     "output_type": "stream",
     "text": [
      "Diff norm: tensor(2.2005e-06)\n"
     ]
    },
    {
     "name": "stderr",
     "output_type": "stream",
     "text": [
      " 80%|███████▉  | 3980137/5000000 [4:34:31<31:59, 531.21it/s]"
     ]
    },
    {
     "name": "stdout",
     "output_type": "stream",
     "text": [
      "Diff norm: tensor(2.5158e-06)\n"
     ]
    },
    {
     "name": "stderr",
     "output_type": "stream",
     "text": [
      " 80%|███████▉  | 3990111/5000000 [4:34:46<32:01, 525.52it/s]"
     ]
    },
    {
     "name": "stdout",
     "output_type": "stream",
     "text": [
      "Diff norm: tensor(4.6548e-06)\n"
     ]
    },
    {
     "name": "stderr",
     "output_type": "stream",
     "text": [
      " 80%|████████  | 4000095/5000000 [4:35:00<31:56, 521.67it/s]"
     ]
    },
    {
     "name": "stdout",
     "output_type": "stream",
     "text": [
      "Diff norm: tensor(2.8601e-06)\n"
     ]
    },
    {
     "name": "stderr",
     "output_type": "stream",
     "text": [
      " 80%|████████  | 4010078/5000000 [4:35:15<34:58, 471.71it/s]"
     ]
    },
    {
     "name": "stdout",
     "output_type": "stream",
     "text": [
      "Diff norm: tensor(2.1510e-06)\n"
     ]
    },
    {
     "name": "stderr",
     "output_type": "stream",
     "text": [
      " 80%|████████  | 4020069/5000000 [4:35:29<32:50, 497.35it/s]"
     ]
    },
    {
     "name": "stdout",
     "output_type": "stream",
     "text": [
      "Diff norm: tensor(2.2616e-06)\n"
     ]
    },
    {
     "name": "stderr",
     "output_type": "stream",
     "text": [
      " 81%|████████  | 4030089/5000000 [4:35:45<37:37, 429.70it/s]"
     ]
    },
    {
     "name": "stdout",
     "output_type": "stream",
     "text": [
      "Diff norm: tensor(2.4658e-06)\n"
     ]
    },
    {
     "name": "stderr",
     "output_type": "stream",
     "text": [
      " 81%|████████  | 4040111/5000000 [4:36:00<33:18, 480.20it/s]"
     ]
    },
    {
     "name": "stdout",
     "output_type": "stream",
     "text": [
      "Diff norm: tensor(2.4141e-06)\n"
     ]
    },
    {
     "name": "stderr",
     "output_type": "stream",
     "text": [
      " 81%|████████  | 4050069/5000000 [4:36:15<30:17, 522.72it/s]"
     ]
    },
    {
     "name": "stdout",
     "output_type": "stream",
     "text": [
      "Diff norm: tensor(3.5275e-06)\n"
     ]
    },
    {
     "name": "stderr",
     "output_type": "stream",
     "text": [
      " 81%|████████  | 4060122/5000000 [4:36:30<32:52, 476.44it/s]"
     ]
    },
    {
     "name": "stdout",
     "output_type": "stream",
     "text": [
      "Diff norm: tensor(3.1797e-06)\n"
     ]
    },
    {
     "name": "stderr",
     "output_type": "stream",
     "text": [
      " 81%|████████▏ | 4070079/5000000 [4:36:45<32:49, 472.15it/s]"
     ]
    },
    {
     "name": "stdout",
     "output_type": "stream",
     "text": [
      "Diff norm: tensor(2.0969e-06)\n"
     ]
    },
    {
     "name": "stderr",
     "output_type": "stream",
     "text": [
      " 82%|████████▏ | 4080096/5000000 [4:37:00<29:29, 519.96it/s]"
     ]
    },
    {
     "name": "stdout",
     "output_type": "stream",
     "text": [
      "Diff norm: tensor(2.2544e-06)\n"
     ]
    },
    {
     "name": "stderr",
     "output_type": "stream",
     "text": [
      " 82%|████████▏ | 4090122/5000000 [4:37:14<30:07, 503.47it/s]"
     ]
    },
    {
     "name": "stdout",
     "output_type": "stream",
     "text": [
      "Diff norm: tensor(2.6297e-06)\n"
     ]
    },
    {
     "name": "stderr",
     "output_type": "stream",
     "text": [
      " 82%|████████▏ | 4100140/5000000 [4:37:30<30:02, 499.26it/s]"
     ]
    },
    {
     "name": "stdout",
     "output_type": "stream",
     "text": [
      "Diff norm: tensor(3.2319e-06)\n"
     ]
    },
    {
     "name": "stderr",
     "output_type": "stream",
     "text": [
      " 82%|████████▏ | 4110091/5000000 [4:37:45<30:21, 488.46it/s]"
     ]
    },
    {
     "name": "stdout",
     "output_type": "stream",
     "text": [
      "Diff norm: tensor(2.6292e-06)\n"
     ]
    },
    {
     "name": "stderr",
     "output_type": "stream",
     "text": [
      " 82%|████████▏ | 4120117/5000000 [4:38:00<34:19, 427.28it/s]"
     ]
    },
    {
     "name": "stdout",
     "output_type": "stream",
     "text": [
      "Diff norm: tensor(2.5234e-06)\n"
     ]
    },
    {
     "name": "stderr",
     "output_type": "stream",
     "text": [
      " 83%|████████▎ | 4130100/5000000 [4:38:16<31:47, 455.99it/s]"
     ]
    },
    {
     "name": "stdout",
     "output_type": "stream",
     "text": [
      "Diff norm: tensor(2.2052e-06)\n"
     ]
    },
    {
     "name": "stderr",
     "output_type": "stream",
     "text": [
      " 83%|████████▎ | 4140112/5000000 [4:38:31<28:21, 505.27it/s]"
     ]
    },
    {
     "name": "stdout",
     "output_type": "stream",
     "text": [
      "Diff norm: tensor(2.5411e-06)\n"
     ]
    },
    {
     "name": "stderr",
     "output_type": "stream",
     "text": [
      " 83%|████████▎ | 4150062/5000000 [4:38:45<29:40, 477.45it/s]"
     ]
    },
    {
     "name": "stdout",
     "output_type": "stream",
     "text": [
      "Diff norm: tensor(2.7048e-06)\n"
     ]
    },
    {
     "name": "stderr",
     "output_type": "stream",
     "text": [
      " 83%|████████▎ | 4160085/5000000 [4:39:00<24:53, 562.38it/s]"
     ]
    },
    {
     "name": "stdout",
     "output_type": "stream",
     "text": [
      "Diff norm: tensor(2.2059e-06)\n"
     ]
    },
    {
     "name": "stderr",
     "output_type": "stream",
     "text": [
      " 83%|████████▎ | 4170092/5000000 [4:39:15<27:42, 499.22it/s]"
     ]
    },
    {
     "name": "stdout",
     "output_type": "stream",
     "text": [
      "Diff norm: tensor(3.8684e-06)\n"
     ]
    },
    {
     "name": "stderr",
     "output_type": "stream",
     "text": [
      " 84%|████████▎ | 4180094/5000000 [4:39:29<26:13, 521.22it/s]"
     ]
    },
    {
     "name": "stdout",
     "output_type": "stream",
     "text": [
      "Diff norm: tensor(2.2115e-06)\n"
     ]
    },
    {
     "name": "stderr",
     "output_type": "stream",
     "text": [
      " 84%|████████▍ | 4190101/5000000 [4:39:44<28:47, 468.73it/s]"
     ]
    },
    {
     "name": "stdout",
     "output_type": "stream",
     "text": [
      "Diff norm: tensor(2.3580e-06)\n"
     ]
    },
    {
     "name": "stderr",
     "output_type": "stream",
     "text": [
      " 84%|████████▍ | 4200121/5000000 [4:39:59<27:01, 493.18it/s]"
     ]
    },
    {
     "name": "stdout",
     "output_type": "stream",
     "text": [
      "Diff norm: tensor(2.4641e-06)\n"
     ]
    },
    {
     "name": "stderr",
     "output_type": "stream",
     "text": [
      " 84%|████████▍ | 4210102/5000000 [4:40:14<27:31, 478.35it/s]"
     ]
    },
    {
     "name": "stdout",
     "output_type": "stream",
     "text": [
      "Diff norm: tensor(2.2691e-06)\n"
     ]
    },
    {
     "name": "stderr",
     "output_type": "stream",
     "text": [
      " 84%|████████▍ | 4220097/5000000 [4:40:30<25:42, 505.48it/s]"
     ]
    },
    {
     "name": "stdout",
     "output_type": "stream",
     "text": [
      "Diff norm: tensor(2.2694e-06)\n"
     ]
    },
    {
     "name": "stderr",
     "output_type": "stream",
     "text": [
      " 85%|████████▍ | 4230127/5000000 [4:40:45<25:54, 495.33it/s]"
     ]
    },
    {
     "name": "stdout",
     "output_type": "stream",
     "text": [
      "Diff norm: tensor(2.6202e-06)\n"
     ]
    },
    {
     "name": "stderr",
     "output_type": "stream",
     "text": [
      " 85%|████████▍ | 4240072/5000000 [4:41:00<26:33, 476.80it/s]"
     ]
    },
    {
     "name": "stdout",
     "output_type": "stream",
     "text": [
      "Diff norm: tensor(2.3386e-06)\n"
     ]
    },
    {
     "name": "stderr",
     "output_type": "stream",
     "text": [
      " 85%|████████▌ | 4250104/5000000 [4:41:15<24:21, 513.19it/s]"
     ]
    },
    {
     "name": "stdout",
     "output_type": "stream",
     "text": [
      "Diff norm: tensor(2.6605e-06)\n"
     ]
    },
    {
     "name": "stderr",
     "output_type": "stream",
     "text": [
      " 85%|████████▌ | 4260104/5000000 [4:41:30<26:06, 472.45it/s]"
     ]
    },
    {
     "name": "stdout",
     "output_type": "stream",
     "text": [
      "Diff norm: tensor(2.5817e-06)\n"
     ]
    },
    {
     "name": "stderr",
     "output_type": "stream",
     "text": [
      " 85%|████████▌ | 4270082/5000000 [4:41:45<24:55, 488.01it/s]"
     ]
    },
    {
     "name": "stdout",
     "output_type": "stream",
     "text": [
      "Diff norm: tensor(2.9588e-06)\n"
     ]
    },
    {
     "name": "stderr",
     "output_type": "stream",
     "text": [
      " 86%|████████▌ | 4280108/5000000 [4:42:01<24:10, 496.23it/s]"
     ]
    },
    {
     "name": "stdout",
     "output_type": "stream",
     "text": [
      "Diff norm: tensor(2.6947e-06)\n"
     ]
    },
    {
     "name": "stderr",
     "output_type": "stream",
     "text": [
      " 86%|████████▌ | 4290130/5000000 [4:42:15<22:38, 522.62it/s]"
     ]
    },
    {
     "name": "stdout",
     "output_type": "stream",
     "text": [
      "Diff norm: tensor(2.1575e-06)\n"
     ]
    },
    {
     "name": "stderr",
     "output_type": "stream",
     "text": [
      " 86%|████████▌ | 4300086/5000000 [4:42:30<23:20, 499.85it/s]"
     ]
    },
    {
     "name": "stdout",
     "output_type": "stream",
     "text": [
      "Diff norm: tensor(2.9422e-06)\n"
     ]
    },
    {
     "name": "stderr",
     "output_type": "stream",
     "text": [
      " 86%|████████▌ | 4310094/5000000 [4:42:45<22:29, 511.16it/s]"
     ]
    },
    {
     "name": "stdout",
     "output_type": "stream",
     "text": [
      "Diff norm: tensor(2.4978e-06)\n"
     ]
    },
    {
     "name": "stderr",
     "output_type": "stream",
     "text": [
      " 86%|████████▋ | 4320072/5000000 [4:42:59<23:42, 477.97it/s]"
     ]
    },
    {
     "name": "stdout",
     "output_type": "stream",
     "text": [
      "Diff norm: tensor(2.7159e-06)\n"
     ]
    },
    {
     "name": "stderr",
     "output_type": "stream",
     "text": [
      " 87%|████████▋ | 4330084/5000000 [4:43:13<20:54, 533.87it/s]"
     ]
    },
    {
     "name": "stdout",
     "output_type": "stream",
     "text": [
      "Diff norm: tensor(2.4905e-06)\n"
     ]
    },
    {
     "name": "stderr",
     "output_type": "stream",
     "text": [
      " 87%|████████▋ | 4340138/5000000 [4:43:27<20:20, 540.78it/s]"
     ]
    },
    {
     "name": "stdout",
     "output_type": "stream",
     "text": [
      "Diff norm: tensor(2.9393e-06)\n"
     ]
    },
    {
     "name": "stderr",
     "output_type": "stream",
     "text": [
      " 87%|████████▋ | 4350131/5000000 [4:43:41<20:07, 538.24it/s]"
     ]
    },
    {
     "name": "stdout",
     "output_type": "stream",
     "text": [
      "Diff norm: tensor(3.3396e-06)\n"
     ]
    },
    {
     "name": "stderr",
     "output_type": "stream",
     "text": [
      " 87%|████████▋ | 4360105/5000000 [4:43:56<24:39, 432.61it/s]"
     ]
    },
    {
     "name": "stdout",
     "output_type": "stream",
     "text": [
      "Diff norm: tensor(2.4752e-06)\n"
     ]
    },
    {
     "name": "stderr",
     "output_type": "stream",
     "text": [
      " 87%|████████▋ | 4370084/5000000 [4:44:11<22:37, 463.96it/s]"
     ]
    },
    {
     "name": "stdout",
     "output_type": "stream",
     "text": [
      "Diff norm: tensor(2.2004e-06)\n"
     ]
    },
    {
     "name": "stderr",
     "output_type": "stream",
     "text": [
      " 88%|████████▊ | 4380067/5000000 [4:44:26<23:51, 433.18it/s]"
     ]
    },
    {
     "name": "stdout",
     "output_type": "stream",
     "text": [
      "Diff norm: tensor(2.3163e-06)\n"
     ]
    },
    {
     "name": "stderr",
     "output_type": "stream",
     "text": [
      " 88%|████████▊ | 4390071/5000000 [4:44:41<19:33, 519.82it/s]"
     ]
    },
    {
     "name": "stdout",
     "output_type": "stream",
     "text": [
      "Diff norm: tensor(3.8432e-06)\n"
     ]
    },
    {
     "name": "stderr",
     "output_type": "stream",
     "text": [
      " 88%|████████▊ | 4400117/5000000 [4:44:54<18:40, 535.16it/s]"
     ]
    },
    {
     "name": "stdout",
     "output_type": "stream",
     "text": [
      "Diff norm: tensor(3.6956e-06)\n"
     ]
    },
    {
     "name": "stderr",
     "output_type": "stream",
     "text": [
      " 88%|████████▊ | 4410094/5000000 [4:45:10<23:15, 422.86it/s]"
     ]
    },
    {
     "name": "stdout",
     "output_type": "stream",
     "text": [
      "Diff norm: tensor(2.6520e-06)\n"
     ]
    },
    {
     "name": "stderr",
     "output_type": "stream",
     "text": [
      " 88%|████████▊ | 4420129/5000000 [4:45:25<20:22, 474.31it/s]"
     ]
    },
    {
     "name": "stdout",
     "output_type": "stream",
     "text": [
      "Diff norm: tensor(2.3472e-06)\n"
     ]
    },
    {
     "name": "stderr",
     "output_type": "stream",
     "text": [
      " 89%|████████▊ | 4430098/5000000 [4:45:40<18:39, 508.90it/s]"
     ]
    },
    {
     "name": "stdout",
     "output_type": "stream",
     "text": [
      "Diff norm: tensor(2.2943e-06)\n"
     ]
    },
    {
     "name": "stderr",
     "output_type": "stream",
     "text": [
      " 89%|████████▉ | 4440136/5000000 [4:45:55<18:33, 502.78it/s]"
     ]
    },
    {
     "name": "stdout",
     "output_type": "stream",
     "text": [
      "Diff norm: tensor(2.4637e-06)\n"
     ]
    },
    {
     "name": "stderr",
     "output_type": "stream",
     "text": [
      " 89%|████████▉ | 4450115/5000000 [4:46:09<16:46, 546.45it/s]"
     ]
    },
    {
     "name": "stdout",
     "output_type": "stream",
     "text": [
      "Diff norm: tensor(2.7360e-06)\n"
     ]
    },
    {
     "name": "stderr",
     "output_type": "stream",
     "text": [
      " 89%|████████▉ | 4460133/5000000 [4:46:22<16:19, 551.33it/s]"
     ]
    },
    {
     "name": "stdout",
     "output_type": "stream",
     "text": [
      "Diff norm: tensor(2.3618e-06)\n"
     ]
    },
    {
     "name": "stderr",
     "output_type": "stream",
     "text": [
      " 89%|████████▉ | 4470139/5000000 [4:46:36<15:57, 553.12it/s]"
     ]
    },
    {
     "name": "stdout",
     "output_type": "stream",
     "text": [
      "Diff norm: tensor(2.7614e-06)\n"
     ]
    },
    {
     "name": "stderr",
     "output_type": "stream",
     "text": [
      " 90%|████████▉ | 4480071/5000000 [4:46:49<17:19, 500.39it/s]"
     ]
    },
    {
     "name": "stdout",
     "output_type": "stream",
     "text": [
      "Diff norm: tensor(2.4348e-06)\n"
     ]
    },
    {
     "name": "stderr",
     "output_type": "stream",
     "text": [
      " 90%|████████▉ | 4490111/5000000 [4:47:04<17:14, 492.81it/s]"
     ]
    },
    {
     "name": "stdout",
     "output_type": "stream",
     "text": [
      "Diff norm: tensor(3.6945e-06)\n"
     ]
    },
    {
     "name": "stderr",
     "output_type": "stream",
     "text": [
      " 90%|█████████ | 4500079/5000000 [4:47:19<16:08, 516.17it/s]"
     ]
    },
    {
     "name": "stdout",
     "output_type": "stream",
     "text": [
      "Diff norm: tensor(2.1712e-06)\n"
     ]
    },
    {
     "name": "stderr",
     "output_type": "stream",
     "text": [
      " 90%|█████████ | 4510071/5000000 [4:47:34<17:49, 457.99it/s]"
     ]
    },
    {
     "name": "stdout",
     "output_type": "stream",
     "text": [
      "Diff norm: tensor(2.1230e-06)\n"
     ]
    },
    {
     "name": "stderr",
     "output_type": "stream",
     "text": [
      " 90%|█████████ | 4520136/5000000 [4:47:49<16:04, 497.53it/s]"
     ]
    },
    {
     "name": "stdout",
     "output_type": "stream",
     "text": [
      "Diff norm: tensor(2.4740e-06)\n"
     ]
    },
    {
     "name": "stderr",
     "output_type": "stream",
     "text": [
      " 91%|█████████ | 4530105/5000000 [4:48:03<15:08, 517.21it/s]"
     ]
    },
    {
     "name": "stdout",
     "output_type": "stream",
     "text": [
      "Diff norm: tensor(3.6252e-06)\n"
     ]
    },
    {
     "name": "stderr",
     "output_type": "stream",
     "text": [
      " 91%|█████████ | 4540108/5000000 [4:48:18<15:28, 495.14it/s]"
     ]
    },
    {
     "name": "stdout",
     "output_type": "stream",
     "text": [
      "Diff norm: tensor(2.6196e-06)\n"
     ]
    },
    {
     "name": "stderr",
     "output_type": "stream",
     "text": [
      " 91%|█████████ | 4550106/5000000 [4:48:33<15:12, 493.18it/s]"
     ]
    },
    {
     "name": "stdout",
     "output_type": "stream",
     "text": [
      "Diff norm: tensor(1.9357e-06)\n"
     ]
    },
    {
     "name": "stderr",
     "output_type": "stream",
     "text": [
      " 91%|█████████ | 4560119/5000000 [4:48:48<14:46, 496.39it/s]"
     ]
    },
    {
     "name": "stdout",
     "output_type": "stream",
     "text": [
      "Diff norm: tensor(2.3040e-06)\n"
     ]
    },
    {
     "name": "stderr",
     "output_type": "stream",
     "text": [
      " 91%|█████████▏| 4570081/5000000 [4:49:04<16:26, 436.01it/s]"
     ]
    },
    {
     "name": "stdout",
     "output_type": "stream",
     "text": [
      "Diff norm: tensor(2.2394e-06)\n"
     ]
    },
    {
     "name": "stderr",
     "output_type": "stream",
     "text": [
      " 92%|█████████▏| 4580070/5000000 [4:49:19<14:03, 497.62it/s]"
     ]
    },
    {
     "name": "stdout",
     "output_type": "stream",
     "text": [
      "Diff norm: tensor(2.2607e-06)\n"
     ]
    },
    {
     "name": "stderr",
     "output_type": "stream",
     "text": [
      " 92%|█████████▏| 4590108/5000000 [4:49:34<14:46, 462.58it/s]"
     ]
    },
    {
     "name": "stdout",
     "output_type": "stream",
     "text": [
      "Diff norm: tensor(2.4449e-06)\n"
     ]
    },
    {
     "name": "stderr",
     "output_type": "stream",
     "text": [
      " 92%|█████████▏| 4600125/5000000 [4:49:49<14:11, 469.47it/s]"
     ]
    },
    {
     "name": "stdout",
     "output_type": "stream",
     "text": [
      "Diff norm: tensor(2.7528e-06)\n"
     ]
    },
    {
     "name": "stderr",
     "output_type": "stream",
     "text": [
      " 92%|█████████▏| 4610076/5000000 [4:50:04<13:04, 497.27it/s]"
     ]
    },
    {
     "name": "stdout",
     "output_type": "stream",
     "text": [
      "Diff norm: tensor(2.3859e-06)\n"
     ]
    },
    {
     "name": "stderr",
     "output_type": "stream",
     "text": [
      " 92%|█████████▏| 4620122/5000000 [4:50:18<12:01, 526.74it/s]"
     ]
    },
    {
     "name": "stdout",
     "output_type": "stream",
     "text": [
      "Diff norm: tensor(2.7756e-06)\n"
     ]
    },
    {
     "name": "stderr",
     "output_type": "stream",
     "text": [
      " 93%|█████████▎| 4630081/5000000 [4:50:31<12:06, 509.11it/s]"
     ]
    },
    {
     "name": "stdout",
     "output_type": "stream",
     "text": [
      "Diff norm: tensor(2.3413e-06)\n"
     ]
    },
    {
     "name": "stderr",
     "output_type": "stream",
     "text": [
      " 93%|█████████▎| 4640132/5000000 [4:50:46<11:49, 507.31it/s]"
     ]
    },
    {
     "name": "stdout",
     "output_type": "stream",
     "text": [
      "Diff norm: tensor(2.7444e-06)\n"
     ]
    },
    {
     "name": "stderr",
     "output_type": "stream",
     "text": [
      " 93%|█████████▎| 4650104/5000000 [4:51:01<11:57, 487.80it/s]"
     ]
    },
    {
     "name": "stdout",
     "output_type": "stream",
     "text": [
      "Diff norm: tensor(2.0196e-06)\n"
     ]
    },
    {
     "name": "stderr",
     "output_type": "stream",
     "text": [
      " 93%|█████████▎| 4660074/5000000 [4:51:16<12:43, 444.98it/s]"
     ]
    },
    {
     "name": "stdout",
     "output_type": "stream",
     "text": [
      "Diff norm: tensor(3.3494e-06)\n"
     ]
    },
    {
     "name": "stderr",
     "output_type": "stream",
     "text": [
      " 93%|█████████▎| 4670084/5000000 [4:51:31<10:41, 514.41it/s]"
     ]
    },
    {
     "name": "stdout",
     "output_type": "stream",
     "text": [
      "Diff norm: tensor(2.1218e-06)\n"
     ]
    },
    {
     "name": "stderr",
     "output_type": "stream",
     "text": [
      " 94%|█████████▎| 4680094/5000000 [4:51:46<11:03, 481.96it/s]"
     ]
    },
    {
     "name": "stdout",
     "output_type": "stream",
     "text": [
      "Diff norm: tensor(1.9286e-06)\n"
     ]
    },
    {
     "name": "stderr",
     "output_type": "stream",
     "text": [
      " 94%|█████████▍| 4690134/5000000 [4:52:01<09:51, 523.45it/s]"
     ]
    },
    {
     "name": "stdout",
     "output_type": "stream",
     "text": [
      "Diff norm: tensor(2.0196e-06)\n"
     ]
    },
    {
     "name": "stderr",
     "output_type": "stream",
     "text": [
      " 94%|█████████▍| 4700067/5000000 [4:52:17<11:25, 437.60it/s]"
     ]
    },
    {
     "name": "stdout",
     "output_type": "stream",
     "text": [
      "Diff norm: tensor(3.1619e-06)\n"
     ]
    },
    {
     "name": "stderr",
     "output_type": "stream",
     "text": [
      " 94%|█████████▍| 4710109/5000000 [4:52:32<10:01, 482.05it/s]"
     ]
    },
    {
     "name": "stdout",
     "output_type": "stream",
     "text": [
      "Diff norm: tensor(4.1365e-06)\n"
     ]
    },
    {
     "name": "stderr",
     "output_type": "stream",
     "text": [
      " 94%|█████████▍| 4720079/5000000 [4:52:46<08:30, 548.32it/s]"
     ]
    },
    {
     "name": "stdout",
     "output_type": "stream",
     "text": [
      "Diff norm: tensor(2.2202e-06)\n"
     ]
    },
    {
     "name": "stderr",
     "output_type": "stream",
     "text": [
      " 95%|█████████▍| 4730149/5000000 [4:52:59<07:59, 562.80it/s]"
     ]
    },
    {
     "name": "stdout",
     "output_type": "stream",
     "text": [
      "Diff norm: tensor(1.8511e-06)\n"
     ]
    },
    {
     "name": "stderr",
     "output_type": "stream",
     "text": [
      " 95%|█████████▍| 4740072/5000000 [4:53:13<08:00, 540.66it/s]"
     ]
    },
    {
     "name": "stdout",
     "output_type": "stream",
     "text": [
      "Diff norm: tensor(2.7153e-06)\n"
     ]
    },
    {
     "name": "stderr",
     "output_type": "stream",
     "text": [
      " 95%|█████████▌| 4750082/5000000 [4:53:27<07:45, 536.97it/s]"
     ]
    },
    {
     "name": "stdout",
     "output_type": "stream",
     "text": [
      "Diff norm: tensor(2.3547e-06)\n"
     ]
    },
    {
     "name": "stderr",
     "output_type": "stream",
     "text": [
      " 95%|█████████▌| 4760094/5000000 [4:53:40<07:11, 556.33it/s]"
     ]
    },
    {
     "name": "stdout",
     "output_type": "stream",
     "text": [
      "Diff norm: tensor(1.9308e-06)\n"
     ]
    },
    {
     "name": "stderr",
     "output_type": "stream",
     "text": [
      " 95%|█████████▌| 4770133/5000000 [4:53:54<07:10, 533.69it/s]"
     ]
    },
    {
     "name": "stdout",
     "output_type": "stream",
     "text": [
      "Diff norm: tensor(2.4352e-06)\n"
     ]
    },
    {
     "name": "stderr",
     "output_type": "stream",
     "text": [
      " 96%|█████████▌| 4780076/5000000 [4:54:08<07:28, 490.00it/s]"
     ]
    },
    {
     "name": "stdout",
     "output_type": "stream",
     "text": [
      "Diff norm: tensor(2.1115e-06)\n"
     ]
    },
    {
     "name": "stderr",
     "output_type": "stream",
     "text": [
      " 96%|█████████▌| 4790100/5000000 [4:54:22<06:49, 512.68it/s]"
     ]
    },
    {
     "name": "stdout",
     "output_type": "stream",
     "text": [
      "Diff norm: tensor(2.2054e-06)\n"
     ]
    },
    {
     "name": "stderr",
     "output_type": "stream",
     "text": [
      " 96%|█████████▌| 4800073/5000000 [4:54:36<06:41, 497.38it/s]"
     ]
    },
    {
     "name": "stdout",
     "output_type": "stream",
     "text": [
      "Diff norm: tensor(2.0343e-06)\n"
     ]
    },
    {
     "name": "stderr",
     "output_type": "stream",
     "text": [
      " 96%|█████████▌| 4810103/5000000 [4:54:51<06:24, 493.75it/s]"
     ]
    },
    {
     "name": "stdout",
     "output_type": "stream",
     "text": [
      "Diff norm: tensor(2.0435e-06)\n"
     ]
    },
    {
     "name": "stderr",
     "output_type": "stream",
     "text": [
      " 96%|█████████▋| 4820102/5000000 [4:55:06<05:19, 563.81it/s]"
     ]
    },
    {
     "name": "stdout",
     "output_type": "stream",
     "text": [
      "Diff norm: tensor(1.9596e-06)\n"
     ]
    },
    {
     "name": "stderr",
     "output_type": "stream",
     "text": [
      " 97%|█████████▋| 4830114/5000000 [4:55:20<05:15, 537.93it/s]"
     ]
    },
    {
     "name": "stdout",
     "output_type": "stream",
     "text": [
      "Diff norm: tensor(2.2026e-06)\n"
     ]
    },
    {
     "name": "stderr",
     "output_type": "stream",
     "text": [
      " 97%|█████████▋| 4840127/5000000 [4:55:34<05:34, 478.37it/s]"
     ]
    },
    {
     "name": "stdout",
     "output_type": "stream",
     "text": [
      "Diff norm: tensor(2.4082e-06)\n"
     ]
    },
    {
     "name": "stderr",
     "output_type": "stream",
     "text": [
      " 97%|█████████▋| 4850133/5000000 [4:55:48<04:36, 542.88it/s]"
     ]
    },
    {
     "name": "stdout",
     "output_type": "stream",
     "text": [
      "Diff norm: tensor(3.7525e-06)\n"
     ]
    },
    {
     "name": "stderr",
     "output_type": "stream",
     "text": [
      " 97%|█████████▋| 4860077/5000000 [4:56:01<04:14, 548.97it/s]"
     ]
    },
    {
     "name": "stdout",
     "output_type": "stream",
     "text": [
      "Diff norm: tensor(1.8946e-06)\n"
     ]
    },
    {
     "name": "stderr",
     "output_type": "stream",
     "text": [
      " 97%|█████████▋| 4870088/5000000 [4:56:15<04:03, 532.62it/s]"
     ]
    },
    {
     "name": "stdout",
     "output_type": "stream",
     "text": [
      "Diff norm: tensor(3.1484e-06)\n"
     ]
    },
    {
     "name": "stderr",
     "output_type": "stream",
     "text": [
      " 98%|█████████▊| 4880120/5000000 [4:56:29<03:52, 515.93it/s]"
     ]
    },
    {
     "name": "stdout",
     "output_type": "stream",
     "text": [
      "Diff norm: tensor(2.0615e-06)\n"
     ]
    },
    {
     "name": "stderr",
     "output_type": "stream",
     "text": [
      " 98%|█████████▊| 4890113/5000000 [4:56:43<03:34, 512.96it/s]"
     ]
    },
    {
     "name": "stdout",
     "output_type": "stream",
     "text": [
      "Diff norm: tensor(2.0520e-06)\n"
     ]
    },
    {
     "name": "stderr",
     "output_type": "stream",
     "text": [
      " 98%|█████████▊| 4900147/5000000 [4:56:57<03:00, 553.38it/s]"
     ]
    },
    {
     "name": "stdout",
     "output_type": "stream",
     "text": [
      "Diff norm: tensor(2.3098e-06)\n"
     ]
    },
    {
     "name": "stderr",
     "output_type": "stream",
     "text": [
      " 98%|█████████▊| 4910123/5000000 [4:57:11<02:50, 526.09it/s]"
     ]
    },
    {
     "name": "stdout",
     "output_type": "stream",
     "text": [
      "Diff norm: tensor(2.0786e-06)\n"
     ]
    },
    {
     "name": "stderr",
     "output_type": "stream",
     "text": [
      " 98%|█████████▊| 4920121/5000000 [4:57:24<02:24, 551.12it/s]"
     ]
    },
    {
     "name": "stdout",
     "output_type": "stream",
     "text": [
      "Diff norm: tensor(1.9053e-06)\n"
     ]
    },
    {
     "name": "stderr",
     "output_type": "stream",
     "text": [
      " 99%|█████████▊| 4930075/5000000 [4:57:38<02:04, 559.95it/s]"
     ]
    },
    {
     "name": "stdout",
     "output_type": "stream",
     "text": [
      "Diff norm: tensor(2.2594e-06)\n"
     ]
    },
    {
     "name": "stderr",
     "output_type": "stream",
     "text": [
      " 99%|█████████▉| 4940122/5000000 [4:57:51<01:55, 518.96it/s]"
     ]
    },
    {
     "name": "stdout",
     "output_type": "stream",
     "text": [
      "Diff norm: tensor(2.8422e-06)\n"
     ]
    },
    {
     "name": "stderr",
     "output_type": "stream",
     "text": [
      " 99%|█████████▉| 4950109/5000000 [4:58:05<01:30, 553.64it/s]"
     ]
    },
    {
     "name": "stdout",
     "output_type": "stream",
     "text": [
      "Diff norm: tensor(1.8335e-06)\n"
     ]
    },
    {
     "name": "stderr",
     "output_type": "stream",
     "text": [
      " 99%|█████████▉| 4960106/5000000 [4:58:19<01:11, 558.71it/s]"
     ]
    },
    {
     "name": "stdout",
     "output_type": "stream",
     "text": [
      "Diff norm: tensor(2.0880e-06)\n"
     ]
    },
    {
     "name": "stderr",
     "output_type": "stream",
     "text": [
      " 99%|█████████▉| 4970137/5000000 [4:58:32<00:54, 552.03it/s]"
     ]
    },
    {
     "name": "stdout",
     "output_type": "stream",
     "text": [
      "Diff norm: tensor(1.9471e-06)\n"
     ]
    },
    {
     "name": "stderr",
     "output_type": "stream",
     "text": [
      "100%|█████████▉| 4980084/5000000 [4:58:45<00:35, 557.62it/s]"
     ]
    },
    {
     "name": "stdout",
     "output_type": "stream",
     "text": [
      "Diff norm: tensor(1.9343e-06)\n"
     ]
    },
    {
     "name": "stderr",
     "output_type": "stream",
     "text": [
      "100%|█████████▉| 4990100/5000000 [4:58:59<00:17, 556.17it/s]"
     ]
    },
    {
     "name": "stdout",
     "output_type": "stream",
     "text": [
      "Diff norm: tensor(1.7690e-06)\n"
     ]
    },
    {
     "name": "stderr",
     "output_type": "stream",
     "text": [
      "100%|██████████| 5000000/5000000 [4:59:16<00:00, 278.46it/s]\n"
     ]
    },
    {
     "name": "stdout",
     "output_type": "stream",
     "text": [
      "Number of trigrams in dataset: 2643978273\n",
      "Number of trigrams in dataset that are 'common': 1449851214\n",
      "Percentage of trigrams in dataset that are 'common': 0.5483597307911766\n",
      ".\n",
      "\n",
      " \t\t\t ('.', '\\n', '\\n') \t\t\t 14731749\n",
      " of the \t\t\t (' of', ' ', 'the') \t\t\t 12445017\n",
      " that \t\t\t (' ', 'th', 'at') \t\t\t 11172021\n",
      " in the \t\t\t (' in', ' ', 'the') \t\t\t 7920267\n",
      " to  \t\t\t (' ', 'to', ' ') \t\t\t 7917493\n",
      " and  \t\t\t (' ', 'and', ' ') \t\t\t 7780406\n",
      " the  \t\t\t (' ', 'the', ' ') \t\t\t 6198509\n",
      ", and \t\t\t (',', ' ', 'and') \t\t\t 6173226\n",
      ", the \t\t\t (',', ' ', 'the') \t\t\t 5644935\n",
      "    \t\t\t (' ', ' ', ' ') \t\t\t 4616111\n",
      "to the \t\t\t ('to', ' ', 'the') \t\t\t 4550625\n",
      "at the \t\t\t ('at', ' ', 'the') \t\t\t 4297780\n",
      " at  \t\t\t (' ', 'at', ' ') \t\t\t 3308883\n",
      " this \t\t\t (' ', 'th', 'is') \t\t\t 3304921\n",
      " as  \t\t\t (' ', 'as', ' ') \t\t\t 3219661\n",
      "and the \t\t\t ('and', ' ', 'the') \t\t\t 3194412\n",
      "\n",
      "\n",
      "The \t\t\t ('\\n', '\\n', 'The') \t\t\t 3120855\n",
      " their \t\t\t (' ', 'the', 'ir') \t\t\t 3093095\n",
      " on the \t\t\t (' on', ' ', 'the') \t\t\t 3089305\n",
      "that  \t\t\t ('th', 'at', ' ') \t\t\t 2851660\n",
      "��s \t\t\t ('�', '�', 's') \t\t\t 2569822\n",
      " for the \t\t\t (' for', ' ', 'the') \t\t\t 2564880\n",
      " they \t\t\t (' ', 'the', 'y') \t\t\t 2497487\n",
      " also \t\t\t (' ', 'al', 'so') \t\t\t 2267976\n",
      " after \t\t\t (' ', 'a', 'fter') \t\t\t 2196869\n",
      ", a \t\t\t (',', ' ', 'a') \t\t\t 2005478\n",
      " about \t\t\t (' ', 'ab', 'out') \t\t\t 1998603\n",
      " from the \t\t\t (' from', ' ', 'the') \t\t\t 1990324\n",
      " with the \t\t\t (' with', ' ', 'the') \t\t\t 1974282\n",
      " two \t\t\t (' ', 'tw', 'o') \t\t\t 1943514\n",
      " by the \t\t\t (' by', ' ', 'the') \t\t\t 1809020\n",
      " there \t\t\t (' ', 'the', 're') \t\t\t 1594038\n",
      " in a \t\t\t (' in', ' ', 'a') \t\t\t 1512266\n",
      " them \t\t\t (' ', 'the', 'm') \t\t\t 1511798\n",
      " again \t\t\t (' ', 'ag', 'ain') \t\t\t 1479416\n",
      "\n",
      "\n",
      "\" \t\t\t ('\\n', '\\n', '\"') \t\t\t 1452086\n",
      " to be \t\t\t (' ', 'to', ' be') \t\t\t 1431687\n",
      " of a \t\t\t (' of', ' ', 'a') \t\t\t 1418684\n",
      " a  \t\t\t (' ', 'a', ' ') \t\t\t 1412885\n",
      "as a \t\t\t ('as', ' ', 'a') \t\t\t 1393260\n",
      " than \t\t\t (' ', 'th', 'an') \t\t\t 1370419\n",
      " an  \t\t\t (' ', 'an', ' ') \t\t\t 1271215\n",
      "as the \t\t\t ('as', ' ', 'the') \t\t\t 1255510\n",
      " through \t\t\t (' ', 'th', 'rough') \t\t\t 1245028\n",
      "ing the \t\t\t ('ing', ' ', 'the') \t\t\t 1237311\n",
      "ed to \t\t\t ('ed', ' ', 'to') \t\t\t 1208179\n",
      "the t \t\t\t ('the', ' ', 't') \t\t\t 1187829\n",
      " is a \t\t\t (' is', ' ', 'a') \t\t\t 1143806\n",
      " then \t\t\t (' ', 't', 'hen') \t\t\t 1086101\n",
      " the first \t\t\t (' ', 'the', ' first') \t\t\t 1074391\n",
      "ed the \t\t\t ('ed', ' ', 'the') \t\t\t 1065644\n",
      "against \t\t\t ('ag', 'ain', 'st') \t\t\t 1054566\n",
      " three \t\t\t (' ', 'th', 'ree') \t\t\t 1046603\n",
      " with a \t\t\t (' with', ' ', 'a') \t\t\t 1020629\n",
      "and a \t\t\t ('and', ' ', 'a') \t\t\t 979007\n",
      ".\"\n",
      "\n",
      " \t\t\t ('.\"', '\\n', '\\n') \t\t\t 960669\n",
      " was a \t\t\t (' was', ' ', 'a') \t\t\t 930749\n",
      "\n",
      "\n",
      "M \t\t\t ('\\n', '\\n', 'M') \t\t\t 918337\n",
      ", as \t\t\t (',', ' ', 'as') \t\t\t 904630\n",
      "\n",
      "\n",
      "In \t\t\t ('\\n', '\\n', 'In') \t\t\t 894562\n",
      "\n",
      "\n",
      "A \t\t\t ('\\n', '\\n', 'A') \t\t\t 874015\n",
      "to a \t\t\t ('to', ' ', 'a') \t\t\t 868611\n",
      "after  \t\t\t ('a', 'fter', ' ') \t\t\t 854045\n",
      "that he \t\t\t ('th', 'at', ' he') \t\t\t 835026\n",
      " trans \t\t\t (' ', 'tr', 'ans') \t\t\t 828960\n",
      "s and \t\t\t ('s', ' ', 'and') \t\t\t 808586\n",
      ", th \t\t\t (',', ' ', 'th') \t\t\t 798055\n",
      " for a \t\t\t (' for', ' ', 'a') \t\t\t 797935\n",
      "\n",
      "\n",
      "S \t\t\t ('\\n', '\\n', 'S') \t\t\t 794449\n",
      "about  \t\t\t ('ab', 'out', ' ') \t\t\t 778822\n",
      " team \t\t\t (' ', 'te', 'am') \t\t\t 777289\n",
      "and t \t\t\t ('and', ' ', 't') \t\t\t 764410\n",
      " is the \t\t\t (' is', ' ', 'the') \t\t\t 763134\n",
      " of th \t\t\t (' of', ' ', 'th') \t\t\t 761735\n",
      " around \t\t\t (' ', 'ar', 'ound') \t\t\t 754364\n",
      " into the \t\t\t (' into', ' ', 'the') \t\t\t 742123\n",
      " are  \t\t\t (' ', 'are', ' ') \t\t\t 731918\n",
      " one of  \t\t\t (' one', ' of', ' ') \t\t\t 727273\n",
      " told \t\t\t (' ', 't', 'old') \t\t\t 718294\n",
      " these \t\t\t (' ', 'the', 'se') \t\t\t 707728\n",
      ".S. \t\t\t ('.', 'S', '.') \t\t\t 685633\n",
      " those \t\t\t (' ', 'th', 'ose') \t\t\t 684439\n",
      " was the \t\t\t (' was', ' ', 'the') \t\t\t 683627\n",
      "and th \t\t\t ('and', ' ', 'th') \t\t\t 664652\n",
      "ing to \t\t\t ('ing', ' ', 'to') \t\t\t 659892\n",
      "a t \t\t\t ('a', ' ', 't') \t\t\t 652533\n",
      ", t \t\t\t (',', ' ', 't') \t\t\t 646538\n",
      " the United \t\t\t (' ', 'the', ' United') \t\t\t 644331\n",
      " U.S \t\t\t (' U', '.', 'S') \t\t\t 643780\n",
      "\n",
      "\n",
      "D \t\t\t ('\\n', '\\n', 'D') \t\t\t 643239\n",
      "out the \t\t\t ('out', ' ', 'the') \t\t\t 640165\n",
      " tra \t\t\t (' ', 't', 'ra') \t\t\t 631959\n",
      " all  \t\t\t (' ', 'all', ' ') \t\t\t 630585\n",
      " took \t\t\t (' ', 't', 'ook') \t\t\t 609759\n",
      " test \t\t\t (' ', 't', 'est') \t\t\t 606880\n",
      "to t \t\t\t ('to', ' ', 't') \t\t\t 602136\n",
      "\n",
      "\n",
      "C \t\t\t ('\\n', '\\n', 'C') \t\t\t 596206\n",
      " another \t\t\t (' ', 'an', 'other') \t\t\t 594651\n",
      " turn \t\t\t (' ', 't', 'urn') \t\t\t 586784\n",
      "at a \t\t\t ('at', ' ', 'a') \t\t\t 585530\n"
     ]
    }
   ],
   "source": [
    "common_trigrams_counts = Counter()\n",
    "num_total_trigrams = 0\n",
    "num_included_trigrams = 0\n",
    "\n",
    "def count_to_freq(counter, num_total):\n",
    "    indices = list(counter.keys())\n",
    "    values = list(counter.values())\n",
    "\n",
    "    # Convert to Tensors\n",
    "    indices_tensor = torch.tensor(indices).t()  # Transpose to get 2D tensor for indices\n",
    "    values_tensor = torch.tensor(values) / num_total\n",
    "\n",
    "    # Create sparse tensor\n",
    "    sparse_tensor = torch.sparse_coo_tensor(indices_tensor, values_tensor, size=(5000, 5000, 5000))\n",
    "    return sparse_tensor\n",
    "\n",
    "last_freq = count_to_freq(common, num_total_trigrams)\n",
    "\n",
    "def sparse_allclose(sparse_tensor1, sparse_tensor2, atol=1e-8, rtol=1e-5):\n",
    "    # Check if both have the same number of non-zero elements\n",
    "    if sparse_tensor1._nnz() != sparse_tensor2._nnz():\n",
    "        print(f\"Number of non-zero elements not equal ({sparse_tensor1._nnz()}, {sparse_tensor2._nnz()})\")\n",
    "        return False\n",
    "    \n",
    "    # Sort indices and values\n",
    "    sparse_tensor1 = sparse_tensor1.coalesce()\n",
    "    sparse_tensor2 = sparse_tensor2.coalesce()\n",
    "\n",
    "    # Compare indices\n",
    "    if not torch.equal(sparse_tensor1.indices(), sparse_tensor2.indices()):\n",
    "        print(f\"Indices not equal ({len(sparse_tensor1.indices())}, {len(sparse_tensor2.indices())})\")\n",
    "        return False\n",
    "\n",
    "    # Compare values with tolerance\n",
    "    diff = torch.abs(sparse_tensor1.values() - sparse_tensor2.values())\n",
    "    print(\"Diff norm:\", diff.norm())\n",
    "    return torch.all(diff <= atol + rtol * torch.abs(sparse_tensor2.values()))\n",
    "\n",
    "\n",
    "print(\"Loading dataset...\")\n",
    "with open(DATA / 'train-5m.jsonl', 'rb') as f:\n",
    "    for i, row in tqdm.tqdm(enumerate(f.readlines()), total=5_000_000):\n",
    "        tokens = model.tokenizer(json.loads(row)['contents'])['input_ids']\n",
    "        \n",
    "        for j in range(len(tokens)-2):\n",
    "            num_total_trigrams += 1\n",
    "            trigram = tuple(tokens[j:j+3])\n",
    "            \n",
    "            if trigram in common_trigrams:\n",
    "                common_trigrams_counts[trigram] += 1\n",
    "                num_included_trigrams += 1\n",
    "\n",
    "        if i > 0 and i % 10_000 == 0:\n",
    "            freq = count_to_freq(common_trigrams_counts, num_included_trigrams)\n",
    "\n",
    "            if sparse_allclose(last_freq, freq, atol=0, rtol=1e-5):\n",
    "                print(\"Early stopping at row\", i)\n",
    "                break\n",
    "\n",
    "            last_freq = freq"
   ]
  },
  {
   "cell_type": "code",
   "execution_count": 67,
   "metadata": {},
   "outputs": [
    {
     "name": "stdout",
     "output_type": "stream",
     "text": [
      "Number of trigrams in dataset: 2643978273\n",
      "Number of trigrams in dataset that are 'common': 1449851214\n",
      "Percentage of trigrams in dataset that are 'common': 0.5483597307911766\n",
      ".\n",
      "\n",
      " \t\t\t ('.', '\\n', '\\n') \t\t\t 14731749\n",
      " of the \t\t\t (' of', ' ', 'the') \t\t\t 12445017\n",
      " that \t\t\t (' ', 'th', 'at') \t\t\t 11172021\n",
      " in the \t\t\t (' in', ' ', 'the') \t\t\t 7920267\n",
      " to  \t\t\t (' ', 'to', ' ') \t\t\t 7917493\n",
      " and  \t\t\t (' ', 'and', ' ') \t\t\t 7780406\n",
      " the  \t\t\t (' ', 'the', ' ') \t\t\t 6198509\n",
      ", and \t\t\t (',', ' ', 'and') \t\t\t 6173226\n",
      ", the \t\t\t (',', ' ', 'the') \t\t\t 5644935\n",
      "    \t\t\t (' ', ' ', ' ') \t\t\t 4616111\n",
      "to the \t\t\t ('to', ' ', 'the') \t\t\t 4550625\n",
      "at the \t\t\t ('at', ' ', 'the') \t\t\t 4297780\n",
      " at  \t\t\t (' ', 'at', ' ') \t\t\t 3308883\n",
      " this \t\t\t (' ', 'th', 'is') \t\t\t 3304921\n",
      " as  \t\t\t (' ', 'as', ' ') \t\t\t 3219661\n",
      "and the \t\t\t ('and', ' ', 'the') \t\t\t 3194412\n",
      "\n",
      "\n",
      "The \t\t\t ('\\n', '\\n', 'The') \t\t\t 3120855\n",
      " their \t\t\t (' ', 'the', 'ir') \t\t\t 3093095\n",
      " on the \t\t\t (' on', ' ', 'the') \t\t\t 3089305\n",
      "that  \t\t\t ('th', 'at', ' ') \t\t\t 2851660\n",
      "��s \t\t\t ('�', '�', 's') \t\t\t 2569822\n",
      " for the \t\t\t (' for', ' ', 'the') \t\t\t 2564880\n",
      " they \t\t\t (' ', 'the', 'y') \t\t\t 2497487\n",
      " also \t\t\t (' ', 'al', 'so') \t\t\t 2267976\n",
      " after \t\t\t (' ', 'a', 'fter') \t\t\t 2196869\n",
      ", a \t\t\t (',', ' ', 'a') \t\t\t 2005478\n",
      " about \t\t\t (' ', 'ab', 'out') \t\t\t 1998603\n",
      " from the \t\t\t (' from', ' ', 'the') \t\t\t 1990324\n",
      " with the \t\t\t (' with', ' ', 'the') \t\t\t 1974282\n",
      " two \t\t\t (' ', 'tw', 'o') \t\t\t 1943514\n",
      " by the \t\t\t (' by', ' ', 'the') \t\t\t 1809020\n",
      " there \t\t\t (' ', 'the', 're') \t\t\t 1594038\n",
      " in a \t\t\t (' in', ' ', 'a') \t\t\t 1512266\n",
      " them \t\t\t (' ', 'the', 'm') \t\t\t 1511798\n",
      " again \t\t\t (' ', 'ag', 'ain') \t\t\t 1479416\n",
      "\n",
      "\n",
      "\" \t\t\t ('\\n', '\\n', '\"') \t\t\t 1452086\n",
      " to be \t\t\t (' ', 'to', ' be') \t\t\t 1431687\n",
      " of a \t\t\t (' of', ' ', 'a') \t\t\t 1418684\n",
      " a  \t\t\t (' ', 'a', ' ') \t\t\t 1412885\n",
      "as a \t\t\t ('as', ' ', 'a') \t\t\t 1393260\n",
      " than \t\t\t (' ', 'th', 'an') \t\t\t 1370419\n",
      " an  \t\t\t (' ', 'an', ' ') \t\t\t 1271215\n",
      "as the \t\t\t ('as', ' ', 'the') \t\t\t 1255510\n",
      " through \t\t\t (' ', 'th', 'rough') \t\t\t 1245028\n",
      "ing the \t\t\t ('ing', ' ', 'the') \t\t\t 1237311\n",
      "ed to \t\t\t ('ed', ' ', 'to') \t\t\t 1208179\n",
      "the t \t\t\t ('the', ' ', 't') \t\t\t 1187829\n",
      " is a \t\t\t (' is', ' ', 'a') \t\t\t 1143806\n",
      " then \t\t\t (' ', 't', 'hen') \t\t\t 1086101\n",
      " the first \t\t\t (' ', 'the', ' first') \t\t\t 1074391\n",
      "ed the \t\t\t ('ed', ' ', 'the') \t\t\t 1065644\n",
      "against \t\t\t ('ag', 'ain', 'st') \t\t\t 1054566\n",
      " three \t\t\t (' ', 'th', 'ree') \t\t\t 1046603\n",
      " with a \t\t\t (' with', ' ', 'a') \t\t\t 1020629\n",
      "and a \t\t\t ('and', ' ', 'a') \t\t\t 979007\n",
      ".\"\n",
      "\n",
      " \t\t\t ('.\"', '\\n', '\\n') \t\t\t 960669\n",
      " was a \t\t\t (' was', ' ', 'a') \t\t\t 930749\n",
      "\n",
      "\n",
      "M \t\t\t ('\\n', '\\n', 'M') \t\t\t 918337\n",
      ", as \t\t\t (',', ' ', 'as') \t\t\t 904630\n",
      "\n",
      "\n",
      "In \t\t\t ('\\n', '\\n', 'In') \t\t\t 894562\n",
      "\n",
      "\n",
      "A \t\t\t ('\\n', '\\n', 'A') \t\t\t 874015\n",
      "to a \t\t\t ('to', ' ', 'a') \t\t\t 868611\n",
      "after  \t\t\t ('a', 'fter', ' ') \t\t\t 854045\n",
      "that he \t\t\t ('th', 'at', ' he') \t\t\t 835026\n",
      " trans \t\t\t (' ', 'tr', 'ans') \t\t\t 828960\n",
      "s and \t\t\t ('s', ' ', 'and') \t\t\t 808586\n",
      ", th \t\t\t (',', ' ', 'th') \t\t\t 798055\n",
      " for a \t\t\t (' for', ' ', 'a') \t\t\t 797935\n",
      "\n",
      "\n",
      "S \t\t\t ('\\n', '\\n', 'S') \t\t\t 794449\n",
      "about  \t\t\t ('ab', 'out', ' ') \t\t\t 778822\n",
      " team \t\t\t (' ', 'te', 'am') \t\t\t 777289\n",
      "and t \t\t\t ('and', ' ', 't') \t\t\t 764410\n",
      " is the \t\t\t (' is', ' ', 'the') \t\t\t 763134\n",
      " of th \t\t\t (' of', ' ', 'th') \t\t\t 761735\n",
      " around \t\t\t (' ', 'ar', 'ound') \t\t\t 754364\n",
      " into the \t\t\t (' into', ' ', 'the') \t\t\t 742123\n",
      " are  \t\t\t (' ', 'are', ' ') \t\t\t 731918\n",
      " one of  \t\t\t (' one', ' of', ' ') \t\t\t 727273\n",
      " told \t\t\t (' ', 't', 'old') \t\t\t 718294\n",
      " these \t\t\t (' ', 'the', 'se') \t\t\t 707728\n",
      ".S. \t\t\t ('.', 'S', '.') \t\t\t 685633\n",
      " those \t\t\t (' ', 'th', 'ose') \t\t\t 684439\n",
      " was the \t\t\t (' was', ' ', 'the') \t\t\t 683627\n",
      "and th \t\t\t ('and', ' ', 'th') \t\t\t 664652\n",
      "ing to \t\t\t ('ing', ' ', 'to') \t\t\t 659892\n",
      "a t \t\t\t ('a', ' ', 't') \t\t\t 652533\n",
      ", t \t\t\t (',', ' ', 't') \t\t\t 646538\n",
      " the United \t\t\t (' ', 'the', ' United') \t\t\t 644331\n",
      " U.S \t\t\t (' U', '.', 'S') \t\t\t 643780\n",
      "\n",
      "\n",
      "D \t\t\t ('\\n', '\\n', 'D') \t\t\t 643239\n",
      "out the \t\t\t ('out', ' ', 'the') \t\t\t 640165\n",
      " tra \t\t\t (' ', 't', 'ra') \t\t\t 631959\n",
      " all  \t\t\t (' ', 'all', ' ') \t\t\t 630585\n",
      " took \t\t\t (' ', 't', 'ook') \t\t\t 609759\n",
      " test \t\t\t (' ', 't', 'est') \t\t\t 606880\n",
      "to t \t\t\t ('to', ' ', 't') \t\t\t 602136\n",
      "\n",
      "\n",
      "C \t\t\t ('\\n', '\\n', 'C') \t\t\t 596206\n",
      " another \t\t\t (' ', 'an', 'other') \t\t\t 594651\n",
      " turn \t\t\t (' ', 't', 'urn') \t\t\t 586784\n",
      "at a \t\t\t ('at', ' ', 'a') \t\t\t 585530\n"
     ]
    }
   ],
   "source": [
    "print(\"Number of trigrams in dataset:\", num_total_trigrams)\n",
    "print(\"Number of trigrams in dataset that are 'common':\", num_included_trigrams)\n",
    "print(\"Percentage of trigrams in dataset that are 'common':\", num_included_trigrams / num_total_trigrams)\n",
    "\n",
    "# Top 100 trigrams\n",
    "\n",
    "for i, t in enumerate(common_trigrams_counts.most_common(100)):\n",
    "    strs = tuple(translate_int_to_str(t[0], model))\n",
    "    print(\"\".join(strs), \"\\t\\t\\t\", tuple(translate_int_to_str(t[0], model)), \"\\t\\t\\t\", t[1])"
   ]
  },
  {
   "cell_type": "code",
   "execution_count": 79,
   "metadata": {},
   "outputs": [
    {
     "data": {
      "text/plain": [
       "tensor(indices=tensor([[ 433,  198,  198,  ..., 1853,    8, 1169],\n",
       "                       [ 198,  198,   37,  ...,  350,  930, 3141],\n",
       "                       [ 198,   37, 3532,  ..., 3861,  285,  714]]),\n",
       "       values=tensor([1.5987e-06, 1.9804e-04, 3.0257e-06,  ...,\n",
       "                      2.7043e-07, 5.9002e-08, 2.6475e-09]),\n",
       "       size=(5000, 5000, 5000), nnz=234870, layout=torch.sparse_coo)"
      ]
     },
     "execution_count": 79,
     "metadata": {},
     "output_type": "execute_result"
    }
   ],
   "source": [
    "freq = count_to_freq(common_trigrams_counts, num_total_trigrams)\n",
    "freq = freq.to('cpu')\n",
    "freq"
   ]
  },
  {
   "cell_type": "code",
   "execution_count": 80,
   "metadata": {},
   "outputs": [],
   "source": [
    "with open(DATA / 'trigram_freq_percents.pkl', 'wb') as f:\n",
    "    torch.save(freq, f)\n",
    "\n",
    "with open(DATA / 'trigram_counts.pkl','wb') as f:\n",
    "    pickle.dump(common_trigrams_counts, f)\n",
    "\n",
    "with open(DATA / 'trigram_freq_percents.pkl','rb') as f:\n",
    "    client.upload_fileobj(f, 'devinterp', f'other/language/trigram_freq_percents.pkl')"
   ]
  },
  {
   "cell_type": "code",
   "execution_count": 75,
   "metadata": {},
   "outputs": [],
   "source": [
    "with open(DATA / 'unigram_freq_percents.pkl','rb') as f:\n",
    "    unigrams = pickle.load(f)\n",
    "\n",
    "with open(DATA / 'bigram_freq_percents.pkl','rb') as f:\n",
    "    bigrams = pickle.load(f)"
   ]
  },
  {
   "cell_type": "code",
   "execution_count": 81,
   "metadata": {},
   "outputs": [
    {
     "name": "stderr",
     "output_type": "stream",
     "text": [
      "100%|██████████| 234870/234870 [00:00<00:00, 878431.55it/s]\n"
     ]
    },
    {
     "data": {
      "text/plain": [
       "tensor(indices=tensor([[ 433,  198,  198,  ..., 1853,    8, 1169],\n",
       "                       [ 198,  198,   37,  ...,  350,  930, 3141],\n",
       "                       [ 198,   37, 3532,  ..., 3861,  285,  714]]),\n",
       "       values=tensor([5.9378e-01, 2.1215e-02, 1.2524e-02,  ...,\n",
       "                      7.1499e-01, 1.9240e-02, 3.9708e-04]),\n",
       "       size=(5000, 5000, 5000), nnz=234870, dtype=torch.float64,\n",
       "       layout=torch.sparse_coo)"
      ]
     },
     "execution_count": 81,
     "metadata": {},
     "output_type": "execute_result"
    }
   ],
   "source": [
    "from copy import deepcopy\n",
    "\n",
    "conds = deepcopy(common_trigrams_counts)\n",
    "\n",
    "for trigram in tqdm.tqdm(conds.keys(), total=len(conds)):\n",
    "    unigram = unigrams[trigram[0]]\n",
    "    bigram = bigrams[trigram[0], trigram[1]]\n",
    "\n",
    "    conds[trigram[0], trigram[1], trigram[2]] /= unigram * bigram\n",
    "\n",
    "conds = count_to_freq(conds, num_total_trigrams)\n",
    "conds = conds.to('cpu')\n",
    "conds"
   ]
  },
  {
   "cell_type": "code",
   "execution_count": 82,
   "metadata": {},
   "outputs": [],
   "source": [
    "with open(DATA / 'trigram_cond_percents.pkl', 'wb') as f:\n",
    "    torch.save(conds, f)    \n",
    "\n",
    "with open(DATA / 'trigram_cond_percents.pkl','rb') as f:\n",
    "    client.upload_fileobj(f, 'devinterp', f'other/language/trigram_cond_percents.pkl')"
   ]
  },
  {
   "cell_type": "code",
   "execution_count": 125,
   "metadata": {},
   "outputs": [
    {
     "name": "stderr",
     "output_type": "stream",
     "text": [
      "100%|██████████| 234870/234870 [00:00<00:00, 615069.86it/s]\n"
     ]
    },
    {
     "name": "stdout",
     "output_type": "stream",
     "text": [
      "----- Top 1000 trigrams -----\n",
      "['ur', 'the', 'red']: 21285.597644228605\n",
      "['uf', 'th', 'ans']: 14044.770071629926\n",
      "[' di', 'at', 'ribe']: 13110.16595316359\n",
      "['ew', 'and', 'ows']: 11769.413329887691\n",
      "[' ins', 'at', 'iable']: 11237.792294081743\n",
      "[' O', 'ed', 'ip']: 9263.792747441617\n",
      "[' [', 'and', ']']: 8938.46007830286\n",
      "[' Monday', ' or', ' Tuesday']: 8688.805147909969\n",
      "[' .', ' ', '.\"']: 8568.6935266374\n",
      "[' fil', 't', 'ration']: 7891.903961009574\n",
      "[' des', 'al', 'ination']: 7741.979114474865\n",
      "[' cl', 'and', 'est']: 7563.542202065638\n",
      "['Here', 'to', 'fore']: 7263.1032782608745\n",
      "[' Mich', 'a', 'els']: 7172.9353889328095\n",
      "['ng', 'the', 'ning']: 7166.569581041179\n",
      "[' streng', 'the', 'ning']: 7146.711610846329\n",
      "[' bro', 'the', 'l']: 6785.742756572347\n",
      "[' inc', 'and', 'es']: 6619.369704291288\n",
      "['awn', 'm', 'ower']: 6454.02394365402\n",
      "[' met', 'at', 'ars']: 5996.483111278057\n",
      "[' prec', 'a', 'ution']: 5811.613198684079\n",
      "['ent', 'at', 'ious']: 5726.000145946399\n",
      "['bit', '.', 'ly']: 5656.875122108683\n",
      "[' here', 'to', 'fore']: 5442.456214432593\n",
      "[' Car', 'th', 'age']: 5412.327641254612\n",
      "['per', 'to', 'ire']: 5412.064697210466\n",
      "['[', 'a', ']']: 5258.0721164808265\n",
      "[' [', 'the', ']']: 5096.807082058291\n",
      "['aterial', ' O', 'mitted']: 5091.165041440424\n",
      "['[', 'ing', ']']: 5024.740292182932\n",
      "[' know', '-', 'how']: 5004.034194323319\n",
      "[' par', 'all', 'ax']: 4953.517036578401\n",
      "[' rele', 'as', 'ably']: 4791.4078889238235\n",
      "['ian', 'an', 'men']: 4741.238893211273\n",
      "[' mon', 'or', 'ail']: 4617.060929057313\n",
      "[' West', 'ing', 'house']: 4479.266337800241\n",
      "[' des', 'er', 'ters']: 4392.094401949871\n",
      "[' on', 't', 'ological']: 4364.980049135364\n",
      "[' rock', 'ab', 'ill']: 4191.107567802804\n",
      "[' z', 'w', 'isc']: 4056.3752063364764\n",
      "['asing', 'st', 'oke']: 3940.3537610503254\n",
      "[' bre', 'th', 'ren']: 3939.2458605173642\n",
      "[' K', 'and', 'ah']: 3909.749694435369\n",
      "[' E', 'the', 'l']: 3859.3346165919193\n",
      "['N', 'c', 'ric']: 3809.455195121785\n",
      "[' cy', 'an', 'ide']: 3603.6047035287424\n",
      "['[', 't', ']']: 3588.8649871117827\n",
      "['at', 'th', 'ias']: 3563.5635639103225\n",
      "['ither', ' he', ' nor']: 3550.0374473816205\n",
      "[' Sal', 'a', 'am']: 3426.2273797835264\n",
      "[' un', 'y', 'ield']: 3304.0538066995045\n",
      "['oc', ' for', ' detail']: 3288.645180544924\n",
      "[' Dec', 'ed', 'ent']: 3283.9865703282517\n",
      "[' lo', 'it', 'ering']: 3264.203672473335\n",
      "[' Facebook', ',', ' Twitter']: 3253.731894736484\n",
      "[' For', 're', 'ster']: 3229.4345288820973\n",
      "['ere', 't', ' News']: 3191.350818296993\n",
      "[' bl', 'at', 'antly']: 3183.1311602547903\n",
      "[' Cal', 'ed', 'on']: 3166.46014814506\n",
      "[' Sund', 'i', 'ata']: 3147.160310904396\n",
      "[' Jud', 'a', 'ism']: 3087.143958574575\n",
      "['p', 'and', 'able']: 3084.111276189789\n",
      "[' Y', 'is', 'rael']: 3033.2601760059783\n",
      "[' oper', 'and', 'i']: 2950.419934797223\n",
      "[' your', ' in', 'box']: 2942.4535059613218\n",
      "[' 1', ' of', ' /']: 2936.521172302269\n",
      "['ah', 'at', 'ma']: 2935.250222443924\n",
      "[' vis', '-', '�']: 2923.083036624191\n",
      "['co', '.', 'uk']: 2916.707662572498\n",
      "['ers', 'a', 'ill']: 2914.0435400545084\n",
      "[' som', 'ed', 'ay']: 2910.0462668254013\n",
      "[' federal', ',', ' state']: 2905.827684361451\n",
      "['read', 'n', 'ought']: 2876.56002199116\n",
      "['zz', 'an', 'ine']: 2865.827637329709\n",
      "['yn', 'a', 'ec']: 2820.142111969121\n",
      "[' squ', 'and', 'ered']: 2810.3231242709376\n",
      "['iff', 'h', 'anger']: 2807.40232118457\n",
      "[' j', 'an', 'itor']: 2798.4078088109604\n",
      "[' Sch', '.', ' Dist']: 2789.945198279016\n",
      "[' free', ' of', ' charge']: 2770.389105097926\n",
      "['isc', 're', 'ants']: 2730.726631258035\n",
      "['[', 'h', ']']: 2724.343850005332\n",
      "['ute', ' of', ' limit']: 2716.8521528820866\n",
      "[' go', 'all', 'ess']: 2708.1830489684608\n",
      "[' neg', 'at', 'ivity']: 2654.676013286421\n",
      "['j', 'and', 'ro']: 2650.692938921968\n",
      "['aw', 'est', 'ru']: 2641.977773708095\n",
      "[' W', 'and', 'ere']: 2641.1230686236745\n",
      "['mail', ' H', 'ani']: 2633.708086268441\n",
      "['igh', ' of', ' rel']: 2629.3869297757046\n",
      "[' imp', 'at', 'ience']: 2603.0541014372316\n",
      "[' Te', 'a', ' Party']: 2596.336517819104\n",
      "[' very', ',', ' very']: 2574.048011131213\n",
      "[' U', 'y', 'gh']: 2562.172120242577\n",
      "[' really', ',', ' really']: 2550.065557828476\n",
      "[' cle', 'm', 'ency']: 2545.5435988553104\n",
      "[' d', 'ain', 'ty']: 2545.1432207385933\n",
      "[' n', 'a', 'ive']: 2537.0954137162253\n",
      "['ch', 'and', 'ising']: 2533.268437516966\n",
      "[' cl', 'a', 'uses']: 2525.172769653773\n",
      "[' blood', 's', 'hed']: 2478.810087853051\n",
      "['yn', 'th', 'ia']: 2456.1618905221335\n",
      "['ch', 'and', 'ise']: 2451.0477010620657\n",
      "[' weapons', ' of', ' mass']: 2429.4749532846163\n",
      "[' op', 'a', 'que']: 2401.025127782345\n",
      "['year', ',', ' $']: 2372.0067254350733\n",
      "['ever', 'the', 'less']: 2350.4712280108624\n",
      "[' never', 'the', 'less']: 2333.965951908138\n",
      "[' di', 'as', 'por']: 2323.5108817666605\n",
      "['f', ' for', ' detail']: 2306.293385959495\n",
      "[' dat', 'as', 'et']: 2293.8531100500836\n",
      "[' inf', 'ar', 'ction']: 2283.0906576771235\n",
      "[' code', ' of', ' conduct']: 2259.5625109476664\n",
      "[' bel', 'f', 'ry']: 2249.0908909735062\n",
      "['D', 'ed', 'icated']: 2229.3677601305026\n",
      "[' next', ' of', ' k']: 2228.939015432286\n",
      "[' P', 'and', 'ey']: 2222.3450493011696\n",
      "[' cast', 's', ' doubt']: 2221.09863427189\n",
      "[' Rel', 'at', 'ivity']: 2217.8345560291095\n",
      "[' ens', 'n', 'ared']: 2217.330905400341\n",
      "['ig', 'ly', 'cer']: 2206.955115267325\n",
      "[' rest', ' is', ' history']: 2206.8108625189957\n",
      "['arn', 'a', 'ev']: 2199.7722287172587\n",
      "['f', 'al', 'gar']: 2199.125664770968\n",
      "[' recogn', 'is', 'able']: 2180.739244435279\n",
      "[' prim', 'a', ' fac']: 2152.7906718104036\n",
      "['yr', 'g', 'ios']: 2151.4205086144516\n",
      "[' Q', 'al', 'q']: 2151.340333073199\n",
      "[' it', 'al', 'ics']: 2146.504813814448\n",
      "['An', 'h', 'alt']: 2142.3422037400674\n",
      "['op', 'on', 'nes']: 2139.4475080585007\n",
      "['c', 'and', 'id']: 2117.0828084571995\n",
      "['ks', 'and', 'r']: 2096.9829773357073\n",
      "[' W', 'ons', 'an']: 2080.1535236135983\n",
      "[' ro', 's', 'ary']: 2052.8324210716155\n",
      "[' climate', '-', 'change']: 2051.243132581959\n",
      "[' conserv', 'at', 'ism']: 2046.1047171223663\n",
      "['qu', 'ed', 'uct']: 2032.2574179209491\n",
      "[' Sc', 'and', 'in']: 2028.4829691182883\n",
      "['ram', 'ar', 'ital']: 2023.6958683069752\n",
      "[' em', 'an', 'ating']: 2021.7016533333294\n",
      "[' ve', 'to', 'ed']: 2003.380672867218\n",
      "['un', 'le', 'avy']: 1988.8927966956994\n",
      "['omp', 'at', 'ible']: 1988.5512732191746\n",
      "[' Add', 'is', ' Ab']: 1987.8507304010654\n",
      "[' bl', 'at', 'ant']: 1972.1323453123289\n",
      "['[', 's', ']']: 1962.711651358806\n",
      "[' he', 'i', 'ress']: 1952.5618287222385\n",
      "[' dis', 'ent', 'ang']: 1943.7033711495362\n",
      "[' exc', 're', 'ment']: 1921.844289340063\n",
      "[' was', 't', 'ew']: 1916.422542066188\n",
      "['ut', 'to', \"'s\"]: 1915.8688815335952\n",
      "['�', '-', 'vis']: 1912.2296017828505\n",
      "['ow', 'o', 'omb']: 1887.1536377116963\n",
      "[' sal', 'ar', 'ied']: 1868.3889073606065\n",
      "[' i', '.', 'e']: 1844.1253888554634\n",
      "[' e', '.', 'g']: 1832.742130663758\n",
      "['ep', 'th', ' interview']: 1829.405484932016\n",
      "['gr', 'and', 'ch']: 1829.0184228679566\n",
      "[' m', 'a', 'ize']: 1819.8756993156762\n",
      "['q', '.', ' f']: 1807.6585017573752\n",
      "['ec', 'ed', 'ent']: 1794.9503000194752\n",
      "[' An', 'at', 'ol']: 1793.3536180582496\n",
      "['l', 'al', ' Ne']: 1792.6969653621886\n",
      "[' pe', 'an', 'ut']: 1790.1527348021189\n",
      "[' Ad', 'ir', 'ond']: 1788.6489301883673\n",
      "['ren', 'ad', 'ines']: 1780.7412236724342\n",
      "[' Sh', 'om', 'ron']: 1778.9149217115182\n",
      "['R', 'a', 'ising']: 1776.3411415173825\n",
      "[\"'\", 'et', 'at']: 1767.120123661064\n",
      "[' b', 'ers', 'er']: 1732.5304332811024\n",
      "['ass', 'and', 'ra']: 1718.49073569345\n",
      "['arn', 'at', 'ak']: 1715.7394493164954\n",
      "[' Be', 'as', 'ley']: 1705.7955187178172\n",
      "[' Sch', 'al', 'ke']: 1697.434902047615\n",
      "['or', 'and', 'um']: 1695.7620380421508\n",
      "[' Or', 't', 'iz']: 1688.8842724277374\n",
      "[' 2015', ' P', 'RA']: 1683.6918244867334\n",
      "[' b', 'is', 'ect']: 1682.686189354452\n",
      "['ul', 'th', 'ood']: 1682.1524039239905\n",
      "['rodu', 'c', 'ibility']: 1681.3817366141589\n",
      "['ah', 'as', 'see']: 1662.769167080117\n",
      "[' care', 't', 'aker']: 1661.6624189949894\n",
      "[' eth', 'an', 'ol']: 1659.0867899215175\n",
      "['ach', 'al', ' Pr']: 1658.7565687905255\n",
      "[' ch', 'and', 'el']: 1646.7674477007847\n",
      "['ism', 'ar', 'ck']: 1635.757717739444\n",
      "['t', 'and', 'em']: 1634.5324727251327\n",
      "[' sl', 'al', 'om']: 1633.3533062376484\n",
      "['arch', 'a', 'ic']: 1630.4120075326618\n",
      "['.', 'y', 'out']: 1623.377019943262\n",
      "[' male', ' or', ' female']: 1616.1577895148187\n",
      "[' S', 'ine', 'ad']: 1610.9844621926552\n",
      "[' Man', 'b', 'ij']: 1595.4760863483789\n",
      "['ep', 'at', 'it']: 1591.925440188151\n",
      "[' Col', 'tr', 'ane']: 1583.9418758171635\n",
      "[' cour', 'te', 'ous']: 1581.8967193534731\n",
      "['.', 'ly', '/']: 1579.7283758848043\n",
      "[' every', ' in', 'ch']: 1576.4452423707526\n",
      "['y', 'at', 'oll']: 1574.7507540706426\n",
      "[' str', 'at', 'ified']: 1570.8546741865164\n",
      "[' m', 'ing', 'led']: 1549.8397627213346\n",
      "['�', 'd', '�']: 1547.54019340474\n",
      "[' oil', ',', ' gas']: 1546.0416624633015\n",
      "[' Angel', 'a', ' Mer']: 1530.4731189658971\n",
      "[' sun', 's', 'ets']: 1529.1770437359053\n",
      "[' writ', ' of', ' ha']: 1527.324921758047\n",
      "[' stay', '-', 'at']: 1522.3059069381056\n",
      "[' me', 'and', 'ering']: 1520.1090825706397\n",
      "[' d', 're', 'ary']: 1501.8267921442557\n",
      "['osp', 'at', 'ial']: 1499.4395886168363\n",
      "['ans', 'at', 'l']: 1499.3889198121933\n",
      "['mp', 'at', 'het']: 1498.4917075751505\n",
      "[' Ver', 'ac', 'ru']: 1495.5087307422066\n",
      "['hod', 's', ' {']: 1489.942189026736\n",
      "[' C', 'and', 'ace']: 1489.4481497537517\n",
      "[' cr', 'an', 'ial']: 1479.0039026691084\n",
      "[' con', 'n', 'iving']: 1478.052219741852\n",
      "['unt', 'ar', 'iness']: 1477.6115165038284\n",
      "[' D', 'at', 'ab']: 1471.7214393144463\n",
      "[' inn', 'u', 'end']: 1466.2297941911781\n",
      "[' Comm', 'it', 'ment']: 1454.350087732389\n",
      "['es', 'o', 'amer']: 1452.619765158496\n",
      "[' P', 'and', 'or']: 1450.8341837549654\n",
      "['T', 'se', 'le']: 1447.8765010482516\n",
      "['-', 'the', '-']: 1444.7634940246935\n",
      "['im', 'any', 'u']: 1436.5671051892198\n",
      "[' sur', 'm', 'ised']: 1432.8099030367416\n",
      "[' cast', ' of', ' characters']: 1432.2029631550997\n",
      "[' st', 'a', 'ples']: 1430.5250727364116\n",
      "[' def', 'en', 'sel']: 1429.3906397382239\n",
      "['set', 't', 'lement']: 1423.4692318980683\n",
      "[' Is', 'a', 'ac']: 1415.310691430713\n",
      "['em', 'at', 'ography']: 1413.8582065355172\n",
      "['Cl', 'a', 'ude']: 1413.307879120942\n",
      "[' Can', 'a', 'an']: 1405.200966534027\n",
      "['t', 'at', 'ably']: 1404.3931523040328\n",
      "[' Pal', 'ac', 'ios']: 1403.2766750761368\n",
      "['agn', 'ar', 'ok']: 1400.5224949455287\n",
      "[' liber', 't', 'arian']: 1400.226022153413\n",
      "[' living', ',', ' breat']: 1399.1629615418103\n",
      "[' student', '-', 'ath']: 1390.2871863400119\n",
      "[' mod', 'us', ' oper']: 1384.1548787058575\n",
      "[' el', 'it', 'ist']: 1374.19431979387\n",
      "[' political', ',', ' economic']: 1372.0457933064647\n",
      "['or', 'at', 'io']: 1366.9678639095814\n",
      "[' p', 'and', 'em']: 1358.6674933814609\n",
      "[' King', 'f', 'isher']: 1340.0030814772263\n",
      "[' Man', 'm', 'oh']: 1332.4768919493242\n",
      "[' Y', 'ing', 'l']: 1329.0178752947295\n",
      "[' prom', 'en', 'ade']: 1328.8185039511145\n",
      "[' er', 'st', 'while']: 1322.3130551096567\n",
      "['gr', 'at', 'ulated']: 1321.569347096433\n",
      "[' separ', 'at', 'ists']: 1316.2208685557398\n",
      "['pre', 'v', ' Im']: 1310.7413157082538\n",
      "[' 8', ' C', 'ance']: 1307.5661659092696\n",
      "['tr', 'as', 'ound']: 1307.2990048391778\n",
      "[' foc', 'al', ' point']: 1305.3403159763193\n",
      "[' Ev', 'o', ' Mor']: 1302.6765364430773\n",
      "[' High', 'cle', 're']: 1294.9467508446016\n",
      "['n', 'at', 'ured']: 1292.9695907217538\n",
      "['ob', 'ed', 'ience']: 1288.530713225557\n",
      "[' Pe', 'ab', 'ody']: 1287.7743086179953\n",
      "[' Comm', 'and', 'ments']: 1282.4758387062109\n",
      "['own', 'ing', ' Street']: 1280.9167171509166\n",
      "[' gr', 'is', 'ly']: 1269.0989368903772\n",
      "['mb', 'il', 'ical']: 1268.7707107596989\n",
      "['arch', '-', 'ri']: 1265.5405603964919\n",
      "[' sp', 'as', 'ms']: 1260.2234894425894\n",
      "[' H', 'and', 'book']: 1260.0160676401774\n",
      "[' str', 'ic', 'ter']: 1258.1007946954585\n",
      "[' Pr', 'an', 'ab']: 1247.564236656165\n",
      "[' dem', 'ig', 'od']: 1245.4524581150743\n",
      "[' Alex', 'and', 'ri']: 1242.8890444708259\n",
      "['hen', 'and', 'o']: 1237.8013160286869\n",
      "[' The', 'o', ' Ep']: 1233.2308531206565\n",
      "[' Str', 'at', 'ford']: 1227.521744165836\n",
      "[' ob', 'ed', 'ience']: 1218.668886315669\n",
      "['av', 'ap', 'ai']: 1217.3633881969113\n",
      "[' z', 'en', 'ith']: 1215.9300617651138\n",
      "[' Ch', 'and', 'ler']: 1214.4150533958946\n",
      "[' comp', 'at', 'ible']: 1213.5802782004248\n",
      "[' Com', 'er', 'ica']: 1213.2458110386603\n",
      "[' fe', 'as', 'ibility']: 1208.228860129681\n",
      "[' gr', 'at', 'ifying']: 1203.2971779974794\n",
      "[' rem', 'ed', 'iation']: 1202.005882216408\n",
      "[' J', 'a', 'ime']: 1199.0311382643667\n",
      "['gy', 'n', 'ous']: 1196.8693583010781\n",
      "[' occ', 'l', 'usion']: 1185.8099452485108\n",
      "[' Man', 'ig', 'ault']: 1179.9865742573488\n",
      "['ance', 'l', ' Play']: 1179.2576003623901\n",
      "['ox', 'ing', ' Day']: 1179.2517082892318\n",
      "[' har', 'v', 'ests']: 1178.1455609951838\n",
      "[' w', 'and', 'ered']: 1176.9133654290029\n",
      "['sp', 'a', '�']: 1174.0536444263598\n",
      "['ok', 'ow', 'i']: 1172.4483421845257\n",
      "[' Sam', 's', 'ung']: 1170.4193117985742\n",
      "[' secret', 'ar', 'ial']: 1168.1404780167816\n",
      "[' sl', 'a', 'very']: 1164.988439901496\n",
      "[' J', 'a', 'une']: 1164.9391769484087\n",
      "['ang', '-', 'rap']: 1162.008375667342\n",
      "[' ob', 'ed', 'ient']: 1160.470482530105\n",
      "[' red', ',', ' white']: 1152.7903831728217\n",
      "['IV', '-', 'pos']: 1152.0928358384308\n",
      "['01', 'st', ' Air']: 1146.5599607105137\n",
      "[' O', 't', 'ago']: 1146.4042917389065\n",
      "[' ind', 'om', 'itable']: 1144.184857927966\n",
      "['ant', 'ia', 'irc']: 1140.1016821598166\n",
      "[' rel', 'at', 'ivity']: 1139.2564637097078\n",
      "[' Le', 'in', 'ster']: 1138.2470443303723\n",
      "[' he', 'y', 'day']: 1136.9965134725114\n",
      "[' Mac', 'le', 'od']: 1134.0483666821374\n",
      "[' W', 'ab', 'ash']: 1134.0131520629386\n",
      "[' fe', 'as', 'ible']: 1132.2402339282228\n",
      "[' App', 'al', 'ach']: 1131.2983674172178\n",
      "[' We', 'as', 'ley']: 1130.2977658842046\n",
      "['set', 't', 'ling']: 1129.1071233030618\n",
      "['ht', 'ar', ' Don']: 1127.6567960391496\n",
      "[' brand', '-', 'new']: 1127.0172658837864\n",
      "['pr', 'is', 'als']: 1126.4110195869455\n",
      "[' Gu', 'at', 'em']: 1126.1177425878689\n",
      "[' Post', 'al', ' Service']: 1125.6038372517112\n",
      "[' cause', ' for', ' concern']: 1125.0829253117133\n",
      "['}', '\\n', '========']: 1121.3136499812995\n",
      "[' gr', 'at', 'itude']: 1120.7100985772586\n",
      "[' its', ' in', 'ception']: 1112.230245826879\n",
      "[' priv', 'at', 'ization']: 1111.0234772560489\n",
      "[' inc', 'o', 'he']: 1110.6543001387868\n",
      "[' deb', 'at', 'able']: 1106.8346826596166\n",
      "[' Google', ' M', 'aps']: 1105.6622192486054\n",
      "[' un', 'ed', 'ited']: 1102.6948780339346\n",
      "[' wh', 'al', 'ers']: 1102.276500247538\n",
      "['imal', 'ar', 'ial']: 1101.7894807204536\n",
      "[' fac', 'el', 'ift']: 1099.5935903973275\n",
      "['urn', 'p', 'ike']: 1099.1568471321289\n",
      "['aw', 'th', 'orn']: 1096.3572516495376\n",
      "['C', 'and', 'id']: 1095.8151512742995\n",
      "['ind', 'ut', 'v']: 1095.5067966747715\n",
      "['ING', 'D', 'OM']: 1095.4977461088185\n",
      "['ulf', ' of', ' Mex']: 1095.215095401646\n",
      "[' A', 'ac', 'hen']: 1095.1469687115602\n",
      "[' Out', 's', 'iders']: 1092.0157078968678\n",
      "['orn', 'ad', 'oes']: 1090.2401401835175\n",
      "['n', 'as', 'ium']: 1087.5613316889503\n",
      "['in', 'at', 'own']: 1086.8036147913954\n",
      "['be', 'as', ' cor']: 1082.271508145821\n",
      "[' Game', ' of', ' Th']: 1078.124980369496\n",
      "[' Pe', 'y', 'ton']: 1073.4070607162225\n",
      "[' work', 'ah', 'olic']: 1072.0641427361704\n",
      "['�', 'te', 'au']: 1068.1379302910984\n",
      "[' pl', 'a', 'que']: 1066.3778667662284\n",
      "['night', ' R', 'ises']: 1064.511452575167\n",
      "[' high', 'b', 'row']: 1062.7635178298015\n",
      "['oth', 'or', 'ax']: 1061.6039207251654\n",
      "[' squ', 'e', 'aking']: 1061.4946098832827\n",
      "[' Count', 's', ' II']: 1060.595885023113\n",
      "[' ne', 'at', 'ly']: 1054.9116932587665\n",
      "['Is', 'a', 'ac']: 1052.7331158830605\n",
      "['itting', ' by', ' design']: 1052.719379439278\n",
      "['amb', 'our', 'ine']: 1049.5382678971794\n",
      "['per', 'an', 'za']: 1045.0987184748035\n",
      "[' head', 'g', 'ear']: 1041.6276771282046\n",
      "['lex', 'and', 're']: 1038.9167578897823\n",
      "['amp', 'a', ' Bay']: 1037.8361289850552\n",
      "['.', 'ed', 'u']: 1037.103513749694\n",
      "[' right', ' of', ' way']: 1036.8702935341942\n",
      "[' sol', 'st', 'ice']: 1031.8577957269026\n",
      "['oly', 's', 'is']: 1031.2043945976843\n",
      "['iv', 'as', ' USA']: 1029.3484015851316\n",
      "['ob', 'tr', 'us']: 1028.8188678438055\n",
      "[' places', ' of', ' wor']: 1027.430744119829\n",
      "['ir', 'ir', 'aj']: 1024.8414119990357\n",
      "[' Cour', 'th', 'ouse']: 1024.4938252860536\n",
      "[' J', 'al', 'isco']: 1024.116599877057\n",
      "[' cour', 'th', 'ouse']: 1023.810210549249\n",
      "[' lif', 'es', 'aving']: 1023.1080532602197\n",
      "[' And', 'al', 'us']: 1022.4597837999987\n",
      "[' yes', 'h', 'iv']: 1022.1118823857\n",
      "['set', 't', 'led']: 1020.7468174690808\n",
      "[' E', 't', 'ih']: 1020.2251196726162\n",
      "['m', 'and', 'u']: 1020.2074102346846\n",
      "[' so', 'y', 'be']: 1019.4882021696563\n",
      "['ht', 'ag', ' #']: 1016.7475164987346\n",
      "[' did', '\\n', 'not']: 1013.4822572773546\n",
      "['ole', 'e', 'zz']: 1012.3492011732112\n",
      "['}', '\\n', '================']: 1009.9275530709222\n",
      "['udd', 'ers', 'field']: 1009.5449168829911\n",
      "['k', 'and', 'ar']: 1006.2943937070926\n",
      "['be', 'as', ' pet']: 1005.3115585057229\n",
      "['B', 'it', 'coin']: 1003.7599545463519\n",
      "[' C', 'ed', 'ric']: 1003.5605966984647\n",
      "[' Dav', 'ut', 'og']: 1000.8157876706038\n",
      "[' sh', 'ing', 'les']: 1000.2884843232035\n",
      "['ph', 're', 'ys']: 998.9202113240624\n",
      "['itch', 'f', 'ork']: 997.3087047803971\n",
      "[' Col', 'o', '.,']: 996.8138938788876\n",
      "[' Pol', 'ic', 'ies']: 993.392393809067\n",
      "[' w', 'and', 'ering']: 993.3850621504138\n",
      "['og', 'ad', 'ish']: 991.7074237922054\n",
      "[' mor', 'p', 'hed']: 989.7191475332676\n",
      "[' Met', 'c', 'alf']: 989.2519246484933\n",
      "[' c', 'ac', 'oph']: 989.183545446025\n",
      "[' l', 'en', 'ient']: 989.1407927311725\n",
      "['res', 'a', ' May']: 988.3140271063131\n",
      "[' chief', ' of', ' staff']: 986.8228536040685\n",
      "['ask', 'at', 'che']: 986.4400669746298\n",
      "['s', 'at', 'isf']: 983.1491392165361\n",
      "['ut', 'el', 'age']: 981.5276038777832\n",
      "['}', '\\n', '----------------']: 979.8921649240044\n",
      "['ep', 'st', 'akes']: 979.0297402899342\n",
      "[' Sl', 'a', 'very']: 976.4274904187095\n",
      "['ument', 'ed', ' imm']: 976.1199848361855\n",
      "[' St', 'ard', 'ust']: 974.3568147764263\n",
      "[' G', 'ing', 'r']: 973.3738729825968\n",
      "[' G', 'and', 'h']: 971.2237771284751\n",
      "[' mur', 'm', 'ured']: 969.7920634951021\n",
      "['per', 'a', ' House']: 969.6584110085073\n",
      "[' Spe', 'ed', 'way']: 969.5043634882178\n",
      "[' side', ' by', ' side']: 966.6928207547894\n",
      "[' Che', 'y', 'en']: 966.5013867866637\n",
      "[' ex', 'as', 'per']: 965.89463195642\n",
      "[' pain', 'st', 'aking']: 965.0907521601828\n",
      "[' prog', 'en', 'itor']: 964.3010935639787\n",
      "[' und', 'ated', ' photo']: 963.3935013063658\n",
      "[' St', 'a', 'ples']: 963.1854057494388\n",
      "[' fin', 'an', 'cially']: 962.6572054810316\n",
      "[' vers', 'at', 'ility']: 961.7926650692611\n",
      "[' hand', 'out', ' photo']: 961.4606639517079\n",
      "['ien', 'able', ' rights']: 960.7027360170597\n",
      "[' d', 'ing', 'y']: 960.3243416385153\n",
      "['aw', 't', 'uck']: 957.154909169262\n",
      "[' sil', 'ic', 'one']: 957.0208880054581\n",
      "[' off', 's', 'pr']: 954.0937938281488\n",
      "[' sp', 'at', 'ial']: 954.0143637993248\n",
      "[' man', 'ic', 'ured']: 953.8089891044224\n",
      "[' y', \"'\", 'all']: 951.5169807676565\n",
      "[' P', 'and', 'it']: 951.09279791041\n",
      "['}', '\\n', '====']: 948.9273177968934\n",
      "[' pot', 'at', 'oes']: 948.5985474725893\n",
      "[' observ', 'ant', ' Jew']: 947.5373092420341\n",
      "[' C', 'and', 'id']: 946.960027061586\n",
      "[' Min', 'h', ' City']: 941.2592464481539\n",
      "['as', 'th', 'ma']: 940.6769271896621\n",
      "[' Par', 'an', 'orm']: 936.5253529978523\n",
      "['p', 'a', ' League']: 935.9991664026362\n",
      "[' N', 'a', 'om']: 932.2179880630914\n",
      "[' My', 'an', 'mar']: 932.0573417113179\n",
      "[' vol', 't', 'age']: 931.5902224968733\n",
      "[' repl', 'en', 'ish']: 931.4810184404024\n",
      "['s', 'ce', 'ol']: 929.8924545768647\n",
      "[' mat', 'r', 'ices']: 929.5411561444319\n",
      "[' or', 'th', 'op']: 926.1270636231341\n",
      "['on', 'th', 'ly']: 925.5496587875114\n",
      "['S', 'and', 'ers']: 924.8632562705077\n",
      "[' p', 'a', 'used']: 923.8707594103215\n",
      "['E', 't', 'ien']: 923.1999129722785\n",
      "['@', 'g', 'mail']: 919.7851809151738\n",
      "['G', 'ing', 'r']: 918.8411761457688\n",
      "['ry', 's', 'ler']: 918.8257105203418\n",
      "['ber', ' of', ' Com']: 918.1781342952876\n",
      "[' Met', 'all', 'ica']: 917.9521606904469\n",
      "['ment', 'ing', ' On']: 917.8698597736123\n",
      "[' inc', 'ong', 'ru']: 916.82503645489\n",
      "[' notice', ' In', 'val']: 916.231183545653\n",
      "['n', 'th', 'ood']: 914.679455291528\n",
      "['il', 'ow', 'att']: 912.4942538953944\n",
      "[' Ev', 'an', 'ston']: 908.7451086940952\n",
      "['re', 'is', 'and']: 907.4957569786777\n",
      "[' par', 'an', 'oid']: 902.6134150252565\n",
      "['ood', 'g', 'ates']: 901.97287667933\n",
      "['ly', 's', 'ms']: 897.1264309067935\n",
      "[' rem', 'ed', 'ial']: 897.0389880893915\n",
      "[' born', '-', 'ag']: 894.2671511535357\n",
      "[' mor', 'p', 'hing']: 894.0808204355108\n",
      "[' food', ' in', 'sec']: 893.4175622408106\n",
      "[' food', 'st', 'uff']: 892.3034685968111\n",
      "['iber', 't', 'arian']: 891.0338092768031\n",
      "[' de', ' j', 'ure']: 890.5609813736457\n",
      "['umb', 'ar', ' ver']: 890.5508141075048\n",
      "[' West', 'p', 'ac']: 889.6066570437968\n",
      "['ot', 'an', 'ically']: 889.1168283759675\n",
      "['cy', 'l', 'ind']: 887.5154448659472\n",
      "['ime', 'ly', ' death']: 885.3209999469072\n",
      "[' unt', 'en', 'able']: 883.54819835957\n",
      "[' Super', 'd', 'ome']: 880.0472200827472\n",
      "[' Group', ' of', ' Comp']: 877.4831972782357\n",
      "[' par', 'at', 'ro']: 875.6252327167825\n",
      "['ustom', 's', ' En']: 873.2942415319108\n",
      "['id', 'th', ' direction']: 870.2800050522558\n",
      "[' str', 'and', 'ed']: 868.2430389771718\n",
      "[' imp', 'at', 'ient']: 867.4122094906324\n",
      "['oph', 'age', 'al']: 866.253923693362\n",
      "[' dom', 'ic', 'ile']: 865.8580648254131\n",
      "[' par', 'as', 'ites']: 865.7357542265667\n",
      "['org', 'ant', 'own']: 865.5064858998289\n",
      "[' cont', 'ing', 'ent']: 863.1154385310411\n",
      "['ter', 'in', 'arian']: 862.1967658768222\n",
      "['ren', 'al', 'ine']: 861.8916833656209\n",
      "[' El', 'is', 'ab']: 859.3920004634095\n",
      "['-', 'the', 'med']: 859.3531476658494\n",
      "[' co', 'er', 'ced']: 858.8888130852829\n",
      "[' sp', 'ong', 'es']: 858.380110000424\n",
      "[' live', '-', 'action']: 857.9382510515763\n",
      "['ft', 'w', 'aff']: 857.5972685218379\n",
      "[' rem', 'ed', 'ies']: 857.4261083243234\n",
      "['ary', 'ing', ' deg']: 856.2369263084813\n",
      "[' Bar', 'o', 'que']: 855.7465783139327\n",
      "[' vol', 'at', 'ile']: 855.5658986167729\n",
      "[' April', ' F', 'ool']: 854.5151556229841\n",
      "['ad', 'rop', 'hen']: 854.3288047885361\n",
      "[' never', '-', 'ending']: 853.9371049872851\n",
      "[' Republic', ' of', ' Cong']: 853.7508943904024\n",
      "[' he', 's', 'itation']: 851.1426036690862\n",
      "[' dom', 'ic', 'ili']: 850.2570283648494\n",
      "[' information', ',', ' visit']: 849.6978039194211\n",
      "[' fl', 'im', 'sy']: 849.2897029767936\n",
      "[' news', ' in', ' pict']: 848.4816201090658\n",
      "[' steps', ' of', ':']: 847.510082456626\n",
      "['ant', 'as', 'ies']: 847.1551017862693\n",
      "['d', 'al', 'ene']: 846.989222014401\n",
      "['uth', 'an', 'ized']: 846.5185414455572\n",
      "['rop', 'hen', 'ia']: 845.4649957448327\n",
      "['ot', 'an', 'ical']: 845.3742705410907\n",
      "['ph', 'th', 'al']: 844.304417183086\n",
      "['ink', 'ed', 'In']: 844.1944795752929\n",
      "[' pass', 'ers', 'by']: 843.9454653897349\n",
      "[' repe', 'll', 'ent']: 841.7848428716442\n",
      "[' board', ' of', ' direct']: 841.4484889487081\n",
      "['BS', ' This', ' Mor']: 840.758490140307\n",
      "['utions', ' of', ' higher']: 839.7721686252901\n",
      "[' Al', 'aw', 'ite']: 838.5621790091242\n",
      "[' E', 'ly', 'see']: 838.3199702208635\n",
      "[' count', 'en', 'ance']: 837.8484126169715\n",
      "['order', 'ly', ' conduct']: 837.0885383511263\n",
      "['ustom', 'er', ' Service']: 832.683520953123\n",
      "[' we', 'as', 'el']: 831.9923489774364\n",
      "[' lack', 'l', 'ust']: 831.8839336592947\n",
      "[' but', 't', 'ocks']: 831.5402999384819\n",
      "[' To', 'ow', 'o']: 831.2123807368556\n",
      "['ten', 'or', ' sa']: 829.2896001895233\n",
      "[' ur', 'an', 'ium']: 825.4575334800018\n",
      "[' w', 'ist', 'ful']: 821.3926363779101\n",
      "['ham', ' H', 'ots']: 819.3158315940019\n",
      "[' priv', 'at', 'ize']: 817.9833007394799\n",
      "['ant', 'am', 'we']: 817.2049635346133\n",
      "['ph', 'an', 'ages']: 814.4049683088074\n",
      "[' Mad', 'ag', 'asc']: 814.3460714060112\n",
      "[' C', 'ed', 'ar']: 810.8270414723385\n",
      "[' vers', 'at', 'ile']: 810.6748109457689\n",
      "[' par', 'as', 'ite']: 808.5468969019248\n",
      "['os', 'al', 'ind']: 808.0992438002753\n",
      "['pport', 'ing', ' Act']: 804.6630438754049\n",
      "[' An', 'a', 'he']: 802.9965811997641\n",
      "['ly', 's', 'é']: 801.7520063372273\n",
      "['im', 'ic', 'ry']: 799.4303417983239\n",
      "[' Ge', 'h', 'rig']: 797.590222731384\n",
      "['ies', 'c', 'ence']: 793.7195647704207\n",
      "['www', '.', 'y']: 793.2981460370135\n",
      "['az', 'ir', 'istan']: 793.1716548022818\n",
      "['igh', 'am', ' You']: 792.8818256012217\n",
      "[' Z', 'ard', 'ari']: 792.0690737661885\n",
      "[' Bl', 'as', 'io']: 790.5014547324637\n",
      "['er', 'ain', 'ty']: 788.9468818018371\n",
      "[' social', ',', ' cult']: 784.5658803454643\n",
      "[' Pr', 'as', 'ad']: 783.4101855761373\n",
      "[' p', 'ree', 'x']: 782.4735568261469\n",
      "['gr', 'and', 'f']: 781.6080640751987\n",
      "['ar', 'as', 'ota']: 779.9884817976287\n",
      "[' ban', 'an', 'as']: 779.5496994943568\n",
      "[' F', 'at', 'ah']: 779.5266816568051\n",
      "['ona', ' f', 'ide']: 779.413053623403\n",
      "[' St', 'and', 'ards']: 778.5114049613094\n",
      "[' White', 'ch', 'ap']: 778.1628107709936\n",
      "[' writ', ' of', ' error']: 777.1720151669319\n",
      "[' gr', 'an', 'ul']: 776.3906540024559\n",
      "[' par', 'an', 'orm']: 775.9388593932513\n",
      "['mb', 'i', 'id']: 775.3637299265246\n",
      "['que', 'h', 'ann']: 774.9738588215255\n",
      "[' sp', 'amb', 'ots']: 772.962813139781\n",
      "['ery', 'l', ' St']: 772.1380742572387\n",
      "[' The', 's', 'is']: 769.1292287337843\n",
      "[' vol', 'at', 'ility']: 768.2805436569591\n",
      "[' F', 'at', 'ih']: 767.5219416944307\n",
      "[' cont', 'ing', 'ency']: 766.6329672248157\n",
      "['st', 'ent', 'at']: 763.5144899765268\n",
      "[' und', 'en', 'iable']: 763.0948895280728\n",
      "[' wh', 'od', 'un']: 762.2830050773457\n",
      "['one', 'hen', 'ge']: 761.6026109737271\n",
      "[' feature', 't', 'te']: 761.5102154380706\n",
      "['yr', 'r', 'ha']: 761.2533900177092\n",
      "['ove', '-', 'ment']: 760.8694135020453\n",
      "['w', 'and', 'an']: 759.8852670057515\n",
      "['rim', 'm', 'age']: 759.2920546612829\n",
      "['gr', 'at', 'ul']: 759.048970233241\n",
      "['uck', 'ab', 'ee']: 758.5757245134065\n",
      "['amed', 'a', ' County']: 758.0112755784376\n",
      "[' pl', 'as', 'ma']: 755.8523467819311\n",
      "[' S', 'a', 'eed']: 755.7794791145301\n",
      "['ph', 'an', 'age']: 754.31053346257\n",
      "['ix', 'e', 'ir']: 754.0428079233526\n",
      "[' Ant', 'o', 'ine']: 752.7434126774472\n",
      "[' ins', 'h', 'ore']: 750.8723465884513\n",
      "[' pred', 'ile', 'ction']: 750.8039344931036\n",
      "[' pred', 'ic', 'ament']: 750.5433634468488\n",
      "['J', 'as', 'mine']: 748.1126961439325\n",
      "[' email', 'ed', ' statement']: 744.9184255268992\n",
      "[' G', 'ly', 'nd']: 744.4498741752604\n",
      "['uke', ' of', ' York']: 743.9189074520672\n",
      "['op', 'st', 'icks']: 743.6870514726677\n",
      "[' pot', 'ass', 'ium']: 740.66998170266\n",
      "['Q', 'a', 'ed']: 740.061285791749\n",
      "['gar', 'c', 'ane']: 738.5412713374109\n",
      "['oc', 'qu', 'ev']: 736.843980585206\n",
      "['ux', 'ed', 'o']: 736.3758430056008\n",
      "['Ph', '.', 'D']: 735.9447053679022\n",
      "[' imp', 'a', 'ired']: 735.6160354279397\n",
      "['ah', 'ad', 'ur']: 735.177318127363\n",
      "[' cap', 's', 'ule']: 734.9895988019381\n",
      "[' le', 'th', 'al']: 734.6524922788702\n",
      "[' six', ' or', ' seven']: 734.2094575916586\n",
      "['uch', 'an', 'an']: 732.3024625211915\n",
      "[' ch', 'i', 'rop']: 730.3848176437326\n",
      "[' Super', 'D', 'raft']: 730.2822433374972\n",
      "['ig', 'ad', 'ier']: 729.7885489543274\n",
      "[' weapon', ' of', ' mass']: 726.1453867322998\n",
      "[' St', 'and', 'ard']: 726.1162905322963\n",
      "[' road', 'm', 'ap']: 725.9800347801103\n",
      "[' N', '.', 'Y']: 724.7645227040347\n",
      "['im', 'at', 'um']: 723.98796578426\n",
      "[' ch', 'a', 'ot']: 722.9512798023596\n",
      "[' v', 'ant', 'age']: 721.6726461144585\n",
      "[' Str', 'as', 'b']: 720.431488624523\n",
      "[' S', 'es', 'ame']: 720.1309297345061\n",
      "[' small', 'p', 'ox']: 719.7909416694647\n",
      "[' rep', 'ur', 'pos']: 719.7543755273288\n",
      "[' sub', 'l', 'ime']: 719.7495452689058\n",
      "['v', 'at', 'ore']: 719.5576959801222\n",
      "[' Or', 'te', 'ga']: 718.8117830016183\n",
      "['le', 'ot', 'ide']: 718.7475869942562\n",
      "['arg', 'ot', ' Rob']: 718.6251216625145\n",
      "['uc', 'hen', 'ne']: 718.6173073888943\n",
      "[' x', '-', 'ray']: 718.3225469254662\n",
      "[' ins', 'an', 'ity']: 718.2651336283913\n",
      "[' ex', 'al', 'ted']: 718.0927343429075\n",
      "['L', 'at', 'est']: 716.5229587275157\n",
      "['OR', 'F', 'OL']: 714.7739935343527\n",
      "['sp', 're', 'ys']: 713.5505346617739\n",
      "[' Q', 'a', 'ed']: 712.8307181877198\n",
      "['ton', 'a', ' Be']: 712.3245844533657\n",
      "['oor', 'he', 'es']: 712.1638259720445\n",
      "['ang', 'al', 'ore']: 711.8035186444388\n",
      "['all', 'ess', ' draw']: 710.7642596187712\n",
      "['g', 'and', 'an']: 709.6692144729487\n",
      "['oph', 'oc', 'les']: 709.4086251227941\n",
      "['ons', 'ie', 'ur']: 707.934700988684\n",
      "[' House', ' of', ' Rep']: 707.8311013116355\n",
      "[' rep', 'a', 'ired']: 707.374019438586\n",
      "[' n', 'ad', 'ir']: 707.3469799956762\n",
      "[' se', 'ab', 'ed']: 707.2013592716819\n",
      "[' pe', 'c', 'un']: 706.7282447862503\n",
      "[' Sam', ' R', 'aim']: 705.9919701821697\n",
      "[' Cong', 'ol', 'ese']: 705.5876882217227\n",
      "[' economic', ',', ' social']: 705.1632040155223\n",
      "[' A', 'et', 'na']: 704.7368597661061\n",
      "['ip', 'hen', 'yl']: 703.5957280947954\n",
      "[' l', 'y', 'ric']: 702.5151810577115\n",
      "['v', '.', 'UN']: 701.8280510518712\n",
      "[' Com', 'ed', 'ian']: 700.4322156700497\n",
      "[' standard', ' of', ' living']: 700.1877042764066\n",
      "[' Th', 'uring', 'ia']: 699.6356641253623\n",
      "['em', 'at', 'og']: 698.559069921207\n",
      "[' sat', 'ir', 'ical']: 696.6422840919911\n",
      "['sc', 'at', 'hed']: 695.5728879172168\n",
      "['ay', 'y', 'ip']: 695.2077898114031\n",
      "['sh', 'r', 'ined']: 693.8174976207958\n",
      "['ain', 'y', ' season']: 692.8417457149765\n",
      "['ss', 'et', 'ia']: 692.687011903738\n",
      "[' R', 'and', 'all']: 691.1606901577055\n",
      "[' Be', 'at', 'les']: 690.2180865654104\n",
      "[' st', 'or', 'ied']: 688.9759978874474\n",
      "['No', '.', ' 0']: 686.2104295645089\n",
      "['ph', 'ra', 'im']: 685.9204881253166\n",
      "['ep', 'ar', 'ately']: 685.4020389636092\n",
      "[' Ph', '.', 'D']: 685.0652008627319\n",
      "[' un', 'her', 'ald']: 683.5652026268679\n",
      "['(', 's', '):']: 682.7559241461628\n",
      "['ou', 'c', 'ault']: 681.9760332302791\n",
      "[' T', 'as', 'man']: 681.7866236441711\n",
      "[' L', 'ed', 'ger']: 681.5202795563342\n",
      "['tr', 'an', 'qu']: 681.2836369071603\n",
      "[' On', 'ond', 'ag']: 681.2523002331689\n",
      "[' prov', 'is', 'o']: 681.2376330286419\n",
      "[' billion', 'a', 'ire']: 680.5556149265918\n",
      "['ore', 't', 'ically']: 680.4362259979223\n",
      "['ant', 'im', 'icro']: 680.3377946444766\n",
      "[' g', 'or', 'ill']: 678.48508769122\n",
      "[' B', 'ist', 'ro']: 678.2304692204549\n",
      "[' J', 'as', 'mine']: 678.1802306445039\n",
      "[' Ben', ' &', ' Jer']: 677.9994863469293\n",
      "['c', 'ric', 'in']: 677.9826092722924\n",
      "['No', '.', ' 00']: 677.939561234564\n",
      "['ock', 't', 'ails']: 675.8104399939541\n",
      "['�', '�', '�']: 674.4185306443046\n",
      "[' rev', 'is', 'ited']: 673.8392155571755\n",
      "[' door', ' ', 'aj']: 673.7297365807619\n",
      "['ce', 'al', 'ment']: 673.6584578723919\n",
      "['oad', 'ing', '...']: 672.7314912948481\n",
      "['pe', 'f', 'ruit']: 672.0946677404108\n",
      "['illion', 'a', 'ire']: 671.7062199419955\n",
      "[' v', 'il', 'ified']: 671.6165916402607\n",
      "['rey', 'h', 'ound']: 671.5333566979674\n",
      "['-', 'es', 'que']: 670.5978125988239\n",
      "[' refer', 'r', 'als']: 668.850703909962\n",
      "[' R', 'pt', 'r']: 668.6823148169652\n",
      "[' cat', 'ac', 'ly']: 667.457969600027\n",
      "[' cred', 'ul', 'ity']: 666.7141844592347\n",
      "[' million', 'a', 'ire']: 666.5200008718232\n",
      "['acc', 'ult', 'uration']: 665.2607857384921\n",
      "[' pass', 'ag', 'ew']: 664.1253343103315\n",
      "[' st', 'an', 'za']: 663.9622040428553\n",
      "[' standard', ' of', ' review']: 663.7135936442172\n",
      "['arg', 'ant', 'u']: 662.8077516185934\n",
      "[' B', 'ly', 'the']: 660.9352777275715\n",
      "[' par', 'as', 'it']: 660.5891671532145\n",
      "[' Mon', 'th', 'ly']: 659.0484103110607\n",
      "['ant', 'an', 'am']: 658.4201401168241\n",
      "[' n', 'as', 'al']: 657.8172595362333\n",
      "['itor', \"'s\", ' note']: 657.3429173905892\n",
      "[' cut', ' in', ' half']: 656.7312296580861\n",
      "[' keep', ' in', ' mind']: 655.9277424321792\n",
      "['se', 'aw', 'orth']: 653.890633633116\n",
      "[' case', ' in', ' point']: 653.6525185552969\n",
      "[' play', ' on', ' words']: 652.7826592739347\n",
      "['her', 'an', ' Church']: 652.7769026825135\n",
      "['edom', ' of', ' In']: 652.1928759209609\n",
      "[' Fl', 'a', '.,']: 651.2406119934393\n",
      "['old', 'em', 'ort']: 650.8004513704625\n",
      "[' en', 'am', 'ored']: 650.4160564675946\n",
      "['inal', ' ', 'ax']: 650.1450362898111\n",
      "['ens', 'ac', 'ol']: 649.4584003476791\n",
      "['bit', 'at', ' loss']: 649.2785645232345\n",
      "[' x', 'en', 'oph']: 648.4715940800717\n",
      "[' pre', 'l', 'ude']: 648.4182589801362\n",
      "['es', 'ot', 'hel']: 647.9583239831022\n",
      "[' Cong', 'en', 'ital']: 646.8489347636115\n",
      "[' pe', 'as', 'ants']: 645.5140619256814\n",
      "[' clean', 'l', 'iness']: 645.4029693040745\n",
      "[' role', '-', 'play']: 644.8047051522428\n",
      "[' matter', ',', ' del']: 641.8202613767312\n",
      "['st', 'ed', 't']: 640.0278008736466\n",
      "['aud', 'h', 'ry']: 639.6128064401533\n",
      "['imes', ' local', '):']: 638.4703649663898\n",
      "[' Mag', 'y', 'ar']: 638.0454319859775\n",
      "['ment', 'ed', ' reality']: 637.7692751820599\n",
      "['aur', 'it', 'ius']: 635.947613099139\n",
      "['ater', 'p', 'ill']: 635.7460804903014\n",
      "[' Cal', 'h', 'oun']: 635.435088616565\n",
      "['um', 'at', 'ized']: 635.0459704311974\n",
      "['y', 'th', 'ms']: 634.3638802185997\n",
      "['let', 'ch', 'ley']: 633.3151439821731\n",
      "['ons', 'c', 'ion']: 631.3027902381223\n",
      "['le', 'ist', 'oc']: 630.2169001621638\n",
      "['os', 'a', 'ics']: 629.7544394327067\n",
      "['ade', 'le', 'ine']: 629.2396194283805\n",
      "['arian', ' ', 'aid']: 628.7069684047905\n",
      "['ter', 't', 'i']: 628.1683722292822\n",
      "[' A', 'th', 'let']: 626.1792941520828\n",
      "['aff', 'er', 'ty']: 625.9435205786522\n",
      "['eb', 'or', 'ah']: 624.6632466418822\n",
      "[' 2008', '-', '09']: 624.6069508029863\n",
      "['W', 'ed', 'nesday']: 622.9440366652392\n",
      "[' N', 'ant', 'uck']: 622.6450759569528\n",
      "[' shut', 's', ' down']: 622.0259892799852\n",
      "[' pl', 'at', 'oon']: 621.8990937165879\n",
      "[' vote', ',', ' giving']: 620.8803532626326\n",
      "[' ch', 'a', 'os']: 620.5413158588432\n",
      "[' demon', 'et', 'is']: 619.4894037089663\n",
      "['def', 'in', 'ition']: 619.422936005425\n",
      "[' ob', 'it', 'uary']: 618.2738707322516\n",
      "[' re', 'en', 'act']: 617.1608083142527\n",
      "['ear', ' of', ' birth']: 616.7804801282316\n",
      "[' Che', 'st', 'ert']: 616.5359117302901\n",
      "[' cl', 'o', 'aked']: 616.5047902153511\n",
      "['br', 'and', 't']: 616.1980259937495\n",
      "['the', ' has', 'ht']: 616.0221501628344\n",
      "['ener', 'b', 'ah']: 615.6207732046257\n",
      "['el', 'and', ' Security']: 615.2288879175351\n",
      "[' Q', 'at', 'ari']: 615.189842861817\n",
      "['iz', 'em', 'ore']: 615.1120938655797\n",
      "[' dec', 'ad', 'ence']: 615.0421499394818\n",
      "[' ob', 's', 'ess']: 615.0098111215719\n",
      "[' Qu', 'in', 'cy']: 614.6997494507357\n",
      "[' Dem', 'p', 'sey']: 614.119989697714\n",
      "[' rep', 'ent', 'ance']: 614.0741173802255\n",
      "['ants', '-', 'App']: 613.7969689634001\n",
      "['up', 'y', ' movement']: 613.6099006027251\n",
      "[' R', 'and', 'ol']: 612.964861224825\n",
      "[' m', 'and', 'ates']: 612.9502232497359\n",
      "[' Is', 'a', 'ia']: 612.943440485528\n",
      "[' Al', 'ast', 'air']: 612.9399761016267\n",
      "['ab', 'en', 'ow']: 612.669833870721\n",
      "[' p', 'and', 'as']: 612.6600056465098\n",
      "['Cl', 'os', 'key']: 611.9566327993148\n",
      "[' cy', 't', 'ok']: 611.6556559304189\n",
      "[' rep', 'ar', 'ations']: 611.596053571885\n",
      "[' un', 'ab', 'ated']: 611.1379963048299\n",
      "['ro', 'ly', 'te']: 610.6186371093469\n",
      "[' Mar', 'th', 'a']: 610.5451634558094\n",
      "['orm', 'and', 'y']: 610.1151879225355\n",
      "['os', 'a', 'urs']: 610.0502952337384\n",
      "[' com', 'ed', 'ians']: 609.2178199987834\n",
      "['ret', 'o', 'fore']: 608.7771948690805\n",
      "['utes', ' of', ' Health']: 608.4269581883933\n",
      "['anta', ',', ' Ge']: 607.7845692327311\n",
      "[' right', ' or', ' wrong']: 606.2959004047297\n",
      "[' fan', 'at', 'ical']: 606.1739589956875\n",
      "['eb', 'an', 'on']: 605.9274546982842\n",
      "[' ob', 's', 'ession']: 605.8918856446767\n",
      "['und', 'es', 'lig']: 605.8330278412501\n",
      "[' fl', 'ir', 'ting']: 605.564622083779\n",
      "['th', '\\n', 'cent']: 605.3851567881305\n",
      "['oth', 'al', 'am']: 604.4807562680527\n",
      "['ask', 'at', 'oon']: 604.0757897642592\n",
      "[' down', ' for', ' video']: 602.880179441557\n",
      "['ach', 't', ' Cl']: 602.431549345257\n",
      "['oney', 'm', 'oon']: 602.3784003949347\n",
      "['ict', ' of', ' gu']: 601.999839293986\n",
      "[' Ed', 'ou', 'ard']: 601.6220059592919\n",
      "[' st', 'ow', 'aw']: 601.4699375652497\n",
      "[' head', 'd', 'ress']: 601.4108091751083\n",
      "['ec', 'y', 'cle']: 601.275452331232\n",
      "[' P', 'ile', 'gg']: 601.1339785190762\n",
      "[' 2007', '-', '08']: 600.8976439414971\n",
      "['isc', 'ar', 'riage']: 600.895007955672\n",
      "['bs', 'er', 'ver']: 600.4269436348353\n",
      "['ove', 're', 'ign']: 600.3981508032222\n",
      "[' m', 'and', 'ating']: 600.1312899925096\n",
      "[' cor', 'al', ' re']: 599.8992704505944\n",
      "[' und', 'i', 'agn']: 599.646932497236\n",
      "[' e', 'art', 'hen']: 599.594293582827\n",
      "[' T', 'ir', 'ana']: 599.5295196274102\n",
      "['oc', 'a', 'ust']: 599.4328790142772\n",
      "[' und', 'es', 'ir']: 599.2751063583229\n",
      "['ich', 'st', 'ag']: 598.6889141554366\n",
      "[' le', 'ar', 'nt']: 598.0327403761814\n",
      "['�', 'T', 'se']: 597.9838549236795\n",
      "[' qu', 'ir', 'ky']: 597.2295951434751\n",
      "[' fre', 'ed', 'oms']: 597.0816830523011\n",
      "[' fac', 'ie', ' case']: 597.0758725546962\n",
      "[' Or', 'th', 'od']: 595.3167243559751\n",
      "['umb', 'ar', ' sp']: 595.1927593052354\n",
      "['aut', 'il', 'us']: 594.9211476183491\n",
      "[' sh', 'a', 'ft']: 594.6541699062012\n",
      "[' Dem', 'et', 'ri']: 594.4267258944373\n",
      "[' Sh', 'ost', 'ak']: 593.4086625332217\n",
      "[' Ne', 'h', 'ru']: 593.4029886725374\n",
      "[' stock', 'p', 'iles']: 593.3998198047329\n",
      "[' A', 'e', 'ge']: 593.133860266488\n",
      "[' B', 'ed', 'ou']: 592.9830253898451\n",
      "[' multiple', ' s', 'cl']: 592.6294269829712\n",
      "['u', 'am', 'mar']: 591.3330083186517\n",
      "['gr', 'and', 'm']: 591.2038224585167\n",
      "[' m', 'and', 'ate']: 590.4037359736492\n",
      "[' ill', 'us', 'ory']: 590.3645253829897\n",
      "['A', 'ul', 'iff']: 590.3549978741253\n",
      "[' Cl', 'a', 'ude']: 589.5491620951373\n",
      "['imum', ' medical', ' improve']: 588.9530558892436\n",
      "['gn', 'ac', 'io']: 588.8044247799592\n",
      "[' dist', 'al', ' end']: 588.5367864305007\n",
      "['ros', 'an', 'ct']: 588.467748645044\n",
      "[' Mon', 'ter', 'rey']: 586.7702220769625\n",
      "[' g', 'y', 'ms']: 586.6916206674956\n",
      "['oad', 'm', 'ap']: 586.6887294858778\n",
      "[' .', 'p', 'd']: 586.2840611307435\n",
      "['oc', 'ry', 'ph']: 586.21168141552\n",
      "[' gr', 'an', 'ite']: 585.077497722355\n",
      "[' rep', 'at', 'ri']: 584.705905175982\n",
      "[' contribut', 'ory', ' neg']: 584.2855114359971\n",
      "['ission', ':', ' Im']: 583.7218212561726\n",
      "['.[', 'c', 'itation']: 583.5135838538788\n",
      "[' Fr', 'ing', 'e']: 582.9847331834604\n",
      "[' bo', 'o', 'ze']: 582.5564515943319\n",
      "['id', 'est', 'ep']: 582.1044604184339\n",
      "[' u', 'b', 'iqu']: 581.7632357456774\n",
      "[' Des', 'h', 'aun']: 581.4671949793199\n",
      "[' Comp', 'an', 'ion']: 581.4179483533819\n",
      "['Ar', 't', 'icle']: 579.8768244912495\n",
      "[' K', 'as', 'ich']: 579.7152500603011\n",
      "[' com', 'ed', 'ian']: 579.4822428818248\n",
      "['ollow', ' Y', 'net']: 577.7811621855319\n",
      "['Ar', 't', 'icles']: 577.5177674959642\n",
      "['ic', '.', 'tw']: 577.267666753426\n",
      "[' fell', ' in', ' love']: 576.9020972810368\n",
      "[' Your', ' In', 'box']: 576.3648834240499\n",
      "[' new', ' he', 'ights']: 576.1154647146109\n",
      "[' Council', ' on', ' Fore']: 575.2728349405704\n",
      "[' sp', 'or', 'ad']: 574.5867064630404\n",
      "['ives', ' M', 'atter']: 574.5264412241015\n",
      "[' sh', 'ag', 'gy']: 573.3908908272036\n",
      "[' day', 'd', 'ream']: 572.6257798031522\n",
      "['on', 'M', 'ob']: 572.3173150885194\n",
      "[' cut', 't', 'ings']: 572.1882135067126\n",
      "[' Now', 'ad', 'ays']: 570.8789408449799\n",
      "['ideo', ' L', 'oad']: 570.8586063304507\n",
      "['Now', 'ad', 'ays']: 570.4363177285812\n",
      "[' conc', 'ub', 'ines']: 569.755005107762\n",
      "[' he', 's', 'it']: 569.248960191029\n",
      "[' question', ' of', ' whether']: 568.9226750923517\n",
      "['ss', 'al', 'on']: 568.6281994125554\n",
      "[' Read', 'ing', ' Bel']: 568.5571031454716\n",
      "['year', ' ', 'term']: 568.4211961017022\n",
      "[' m', 'and', 'ated']: 567.9797449132385\n",
      "['Ar', 't', 'ist']: 567.944789030923\n",
      "['y', 'th', 'm']: 566.9636680212758\n",
      "[' ra', 'fter', 's']: 566.7251615489721\n",
      "[' voice', '-', 'over']: 566.4375825864438\n",
      "[' White', 'c', 'aps']: 565.8644722315049\n",
      "[' ob', 'es', 'ity']: 564.1078645896121\n",
      "[' Ab', 'ub', 'ak']: 563.7248601224559\n",
      "[' now', 'ad', 'ays']: 562.7769291100889\n",
      "['rib', 'ing', ' We']: 562.5217587691676\n",
      "[' sh', 'ab', 'by']: 562.3893826383726\n",
      "[' J', 'a', 'ip']: 562.1564925442451\n",
      "['gh', 'is', ' K']: 561.8661531389531\n",
      "['up', 'c', 'ake']: 561.6503048203931\n",
      "['ibrary', ' of', ' Congress']: 561.4821655263788\n",
      "[' physical', ' ', 'ther']: 561.4386567057434\n",
      "[' N', 'il', 'ss']: 561.321645803656\n",
      "[' ep', 'he', 'mer']: 561.2102520128536\n",
      "['any', 'e', ' West']: 560.9959908262516\n",
      "[' squ', 'e', 'ak']: 560.9067408374664\n",
      "['S', 'an', ' Franc']: 559.9649174003821\n",
      "['Sh', 'ab', 'ab']: 559.8934041259159\n",
      "[' change', ' of', ' heart']: 558.918240458246\n",
      "['Q', 'at', 'ar']: 558.330362301756\n",
      "[' Gl', 'as', 'g']: 558.2359306318262\n",
      "[' j', 'it', 'ters']: 558.1224460345555\n",
      "[' m', 'and', 'atory']: 557.6937632224276\n",
      "['ant', 'id', 'ote']: 557.6215395611962\n",
      "[' 20', ' or', ' 30']: 557.4187665325904\n",
      "[' M', 'and', 'el']: 557.3246437666813\n",
      "[' com', 'f', 'orts']: 557.2393593629155\n",
      "[' n', 'ac', 'el']: 557.0784681083471\n",
      "[' b', 'ant', 'am']: 556.599604983552\n",
      "[' Alex', 'and', 're']: 555.8695348513417\n",
      "[' B', 'ed', 'ford']: 555.4212505387346\n",
      "['�', '�', '�']: 555.3890934950373\n",
      "[' p', 'a', 'using']: 555.0813364083269\n",
      "['oll', 'ing', 'wood']: 554.7098130600126\n",
      "[' Fin', 'ne', 'gan']: 553.6798295191044\n",
      "[' Pat', '.', ' No']: 553.1847954727195\n",
      "[' separ', 'at', 'ist']: 551.7111544026269\n",
      "[' O', 'mitted', ']']: 550.5524087006039\n",
      "['ile', 'm', 'ma']: 550.2694215136215\n",
      "[' st', 'al', 'w']: 550.1898950319136\n",
      "['e', 'as', 'ance']: 548.1930631042417\n",
      "['SA', ' 2015', ' P']: 546.9359396986679\n",
      "[' Y', 'out', 'ube']: 546.6006976036623\n",
      "['top', 'en', 'ia']: 546.31797504899\n",
      "[' S', 'at', 'urn']: 546.1892097404314\n",
      "[' fr', 'ing', 'es']: 545.8439645632627\n",
      "['OS', 'C', 'OW']: 545.6200863442867\n",
      "[' freedom', ' of', ' movement']: 545.3503978311036\n",
      "['aun', 't', 'let']: 545.143174958483\n",
      "[' V', 'a', '.,']: 544.7015258502279\n",
      "[' T', 's', 'arn']: 544.5705473822943\n",
      "['D', '.', ' student']: 544.5545528222967\n",
      "['iv', 'ar', ' name']: 544.2824248683875\n",
      "['raft', 's', 'men']: 543.8526763125367\n",
      "[' Z', 'ar', 'ago']: 543.6227257670049\n",
      "[' board', 'ing', ' school']: 543.4620520670621\n",
      "['anned', ' P', 'are']: 542.8067225491245\n",
      "[' n', 'as', 'cent']: 542.388757823289\n",
      "[' re', 'us', 'able']: 542.1210727515188\n",
      "[' high', ' f', 'ives']: 541.8875703685236\n",
      "['ipp', 'oc', 'amp']: 541.5293201406965\n",
      "[' pop', 'c', 'orn']: 540.902304100889\n",
      "['oc', 'ah', 'ont']: 540.4433452745695\n",
      "['rict', 'ed', ' free']: 540.4257281317927\n",
      "['ign', 'it', 'aries']: 540.2155786453834\n",
      "[' Q', 'at', 'ar']: 539.7681743423751\n",
      "['x', 'c', '2']: 539.3031843843621\n",
      "[' un', 'ed', 'uc']: 538.4609539413659\n",
      "[' War', '-', 'er']: 538.0386658887859\n",
      "['000', ' he', 'ct']: 536.0850765757332\n",
      "['ug', 'it', 'ives']: 535.8350894076227\n",
      "[' Intern', 'al', ' Re']: 535.7979450014786\n",
      "[' C', 'a', 'ption']: 535.3393482118532\n",
      "['ce', 're', 'mon']: 534.7975422646659\n",
      "[' exp', 'ed', 'ite']: 534.7042513090119\n",
      "[' v', 'and', 'al']: 533.503395119494\n",
      "[' Tra', 'f', 'al']: 533.4629431378712\n",
      "[' d', 'rough', 'ts']: 532.9753099848808\n",
      "['me', 'as', 'ur']: 532.5713277863263\n",
      "[' impro', 'b', 'able']: 532.2868442470913\n",
      "[' Mar', 'ic', 'op']: 532.274620961669\n",
      "['im', 's', 'ical']: 532.2560067288762\n",
      "['ab', 'd', 'icated']: 531.7814161579304\n",
      "['One', ' ', 'thing']: 531.1834678347606\n",
      "[' ch', 'ie', 'ft']: 531.0462331667416\n"
     ]
    }
   ],
   "source": [
    "def preview_trigrams_dict(trigrams_dict, model):\n",
    "    print(\"----- Top 1000 trigrams -----\")\n",
    "    for k, v in list(trigrams_dict.items())[:1000]:\n",
    "        trigram = translate_int_to_str(k, model)\n",
    "        print(f'{trigram}: {v}')\n",
    "\n",
    "relative_to_factor = deepcopy(common_trigrams_counts)\n",
    "\n",
    "for trigram in tqdm.tqdm(relative_to_factor.keys(), total=len(relative_to_factor)):\n",
    "    unigram = unigrams[trigram[0]]\n",
    "    bigram1 = bigrams[trigram[0], trigram[1]]\n",
    "    bigram2 = bigrams[trigram[1], trigram[2]]\n",
    "    relative_to_factor[trigram[0], trigram[1], trigram[2]] /= unigram * bigram1 * bigram2\n",
    "\n",
    "# Sort by frequency\n",
    "relative_to_factor = {k: v / num_total_trigrams for k, v in sorted(relative_to_factor.items(), key=lambda item: item[1], reverse=True)}\n",
    "preview_trigrams_dict(relative_to_factor, model)"
   ]
  },
  {
   "cell_type": "code",
   "execution_count": 98,
   "metadata": {},
   "outputs": [
    {
     "data": {
      "text/plain": [
       "<matplotlib.lines.Line2D at 0x7ff5ebd67e80>"
      ]
     },
     "execution_count": 98,
     "metadata": {},
     "output_type": "execute_result"
    },
    {
     "data": {
      "image/png": "[encoded data removed]",
      "text/plain": [
       "<Figure size 720x720 with 1 Axes>"
      ]
     },
     "metadata": {
      "needs_background": "light"
     },
     "output_type": "display_data"
    }
   ],
   "source": [
    "import seaborn as sns\n",
    "import matplotlib.pyplot as plt\n",
    "\n",
    "fig, ax = plt.subplots(figsize=(10, 10))\n",
    "\n",
    "sns.lineplot(x=range(len(relative_to_factor)), y=list(relative_to_factor.values()), ax=ax)\n",
    "ax.set_xscale('log')\n",
    "ax.set_yscale('log')\n",
    "ax.axhline(y=1, color='r', linestyle='--')"
   ]
  },
  {
   "cell_type": "code",
   "execution_count": 137,
   "metadata": {},
   "outputs": [
    {
     "name": "stderr",
     "output_type": "stream",
     "text": [
      "Cleaning: 100%|██████████| 40229777/40229777 [00:49<00:00, 814751.53it/s]\n",
      "Cleaning: 100%|██████████| 42325453/42325453 [00:52<00:00, 807103.12it/s]\n",
      "Cleaning: 100%|██████████| 44698545/44698545 [00:54<00:00, 823581.78it/s]\n",
      "Cleaning: 100%|██████████| 45974501/45974501 [00:49<00:00, 930321.32it/s]\n",
      "Cleaning: 100%|██████████| 47143454/47143454 [00:49<00:00, 952712.24it/s]\n",
      "Cleaning: 100%|██████████| 49002796/49002796 [00:53<00:00, 919757.46it/s]\n",
      "Cleaning: 100%|██████████| 50488077/50488077 [00:55<00:00, 914647.38it/s]\n",
      "Cleaning: 100%|██████████| 51338394/51338394 [00:59<00:00, 869129.57it/s]\n",
      "Cleaning: 100%|██████████| 52849678/52849678 [00:59<00:00, 894860.32it/s]\n",
      "100%|██████████| 10000/10000 [40:14<00:00,  4.14it/s] \n",
      "Cleaning:  47%|████▋     | 24999659/53457707 [00:12<00:14, 1944565.18it/s]\n"
     ]
    },
    {
     "ename": "RuntimeError",
     "evalue": "dictionary changed size during iteration",
     "output_type": "error",
     "traceback": [
      "\u001b[0;31m---------------------------------------------------------------------------\u001b[0m",
      "\u001b[0;31mRuntimeError\u001b[0m                              Traceback (most recent call last)",
      "\u001b[1;32m/Users/Jesse/Projects/icl/notebooks/language.ipynb Cell 18\u001b[0m line \u001b[0;36m2\n\u001b[1;32m     <a href='vscode-notebook-cell:/Users/Jesse/Projects/icl/notebooks/language.ipynb#X20sZmlsZQ%3D%3D?line=21'>22</a>\u001b[0m                 \u001b[39mdel\u001b[39;00m total_skip_trigrams[trigram]\n\u001b[1;32m     <a href='vscode-notebook-cell:/Users/Jesse/Projects/icl/notebooks/language.ipynb#X20sZmlsZQ%3D%3D?line=22'>23</a>\u001b[0m                 \u001b[39mdel\u001b[39;00m total_skip_trigrams_per_row[trigram]\n\u001b[0;32m---> <a href='vscode-notebook-cell:/Users/Jesse/Projects/icl/notebooks/language.ipynb#X20sZmlsZQ%3D%3D?line=24'>25</a>\u001b[0m \u001b[39mfor\u001b[39;00m trigram \u001b[39min\u001b[39;00m tqdm\u001b[39m.\u001b[39mtqdm(total_skip_trigrams\u001b[39m.\u001b[39mkeys(), desc\u001b[39m=\u001b[39m\u001b[39m\"\u001b[39m\u001b[39mCleaning\u001b[39m\u001b[39m\"\u001b[39m):\n\u001b[1;32m     <a href='vscode-notebook-cell:/Users/Jesse/Projects/icl/notebooks/language.ipynb#X20sZmlsZQ%3D%3D?line=25'>26</a>\u001b[0m     \u001b[39mif\u001b[39;00m total_skip_trigrams_per_row[trigram] \u001b[39m==\u001b[39m \u001b[39m1\u001b[39m:\n\u001b[1;32m     <a href='vscode-notebook-cell:/Users/Jesse/Projects/icl/notebooks/language.ipynb#X20sZmlsZQ%3D%3D?line=26'>27</a>\u001b[0m         \u001b[39mdel\u001b[39;00m total_skip_trigrams[trigram]\n",
      "File \u001b[0;32m~/Projects/icl/.venv/lib/python3.9/site-packages/tqdm/std.py:1178\u001b[0m, in \u001b[0;36mtqdm.__iter__\u001b[0;34m(self)\u001b[0m\n\u001b[1;32m   1175\u001b[0m time \u001b[39m=\u001b[39m \u001b[39mself\u001b[39m\u001b[39m.\u001b[39m_time\n\u001b[1;32m   1177\u001b[0m \u001b[39mtry\u001b[39;00m:\n\u001b[0;32m-> 1178\u001b[0m     \u001b[39mfor\u001b[39;00m obj \u001b[39min\u001b[39;00m iterable:\n\u001b[1;32m   1179\u001b[0m         \u001b[39myield\u001b[39;00m obj\n\u001b[1;32m   1180\u001b[0m         \u001b[39m# Update and possibly print the progressbar.\u001b[39;00m\n\u001b[1;32m   1181\u001b[0m         \u001b[39m# Note: does not call self.update(1) for speed optimisation.\u001b[39;00m\n",
      "\u001b[0;31mRuntimeError\u001b[0m: dictionary changed size during iteration"
     ]
    }
   ],
   "source": [
    "total_skip_trigrams = Counter()\n",
    "total_skip_trigrams_per_row = Counter()\n",
    "\n",
    "num_total_skip_trigrams = 0\n",
    "\n",
    "for row, tokens in enumerate(tqdm.tqdm(validation_set)):\n",
    "    skip_trigrams_in_row = set()\n",
    "\n",
    "    for i in range(len(tokens)-2):\n",
    "        for j in range(i+1, len(tokens)-2):\n",
    "            skip_trigram = (tokens[i], tokens[j], tokens[j+1])\n",
    "            total_skip_trigrams[skip_trigram] += 1\n",
    "            skip_trigrams_in_row.add(skip_trigram)     \n",
    "            num_total_skip_trigrams += 1\n",
    "\n",
    "    for token in skip_trigrams_in_row:\n",
    "        total_skip_trigrams_per_row[token] += 1\n",
    "\n",
    "    if row > 0 and row % 1000 == 0:\n",
    "        for trigram in tqdm.tqdm(list(total_skip_trigrams.keys()), desc=\"Cleaning\"):\n",
    "            if total_skip_trigrams_per_row[trigram] == 1:\n",
    "                del total_skip_trigrams[trigram]\n",
    "                del total_skip_trigrams_per_row[trigram]\n",
    "\n",
    "for trigram in tqdm.tqdm(total_skip_trigrams.keys(), desc=\"Cleaning\"):\n",
    "    if total_skip_trigrams_per_row[trigram] == 1:\n",
    "        del total_skip_trigrams[trigram]\n",
    "        del total_skip_trigrams_per_row[trigram]\n",
    "        \n",
    "num_unique_skip_trigrams = len(total_skip_trigrams) # Note this has already discarded a lot of trigrams encountered\n",
    "num_filtered_skip_trigrams = sum(v for v in total_skip_trigrams.values())\n",
    "num_unique_skip_trigrams, num_total_skip_trigrams, num_filtered_skip_trigrams"
   ]
  },
  {
   "cell_type": "code",
   "execution_count": 103,
   "metadata": {},
   "outputs": [
    {
     "name": "stdout",
     "output_type": "stream",
     "text": [
      "Number of unique trigrams in validation set: 40205163\n",
      "Number of unique trigrams with count > 1: 15759899\n",
      "Number of unique trigrams with count > 2: 8686507\n",
      "Number of unique trigrams that show up in > 1 rows: 6544088\n",
      "Number of unique trigrams that show up in > 2 rows: 2816563\n"
     ]
    }
   ],
   "source": [
    "print(\"Number of unique trigrams in validation set:\", len(total_skip_trigrams))\n",
    "print(\"Number of unique trigrams with count > 1:\", sum((1 for t in total_skip_trigrams if total_skip_trigrams[t] > 1)))\n",
    "print(\"Number of unique trigrams with count > 2:\", sum(1 for t in total_skip_trigrams if total_skip_trigrams[t] > 2))\n",
    "print(\"Number of unique trigrams that show up in > 1 rows:\", sum(1 for t in total_skip_trigrams if total_skip_trigrams_per_row[t] > 1))\n",
    "print(\"Number of unique trigrams that show up in > 2 rows:\", sum(1 for t in total_skip_trigrams if total_skip_trigrams_per_row[t] > 2))\n",
    "print(\"Number of unique trigrams that show up in > 4 rows:\", sum(1 for t in total_skip_trigrams if total_skip_trigrams_per_row[t] > 4))\n",
    "print(\"Number of unique trigrams that show up in > 8 rows:\", sum(1 for t in total_skip_trigrams if total_skip_trigrams_per_row[t] > 8))\n",
    "print(\"Number of unique trigrams that show up in > 12 rows:\", sum(1 for t in total_skip_trigrams if total_skip_trigrams_per_row[t] > 8))\n",
    "print(\"Number of unique trigrams that show up in > 16 rows:\", sum(1 for t in total_skip_trigrams if total_skip_trigrams_per_row[t] > 16))"
   ]
  },
  {
   "cell_type": "code",
   "execution_count": 106,
   "metadata": {},
   "outputs": [
    {
     "name": "stdout",
     "output_type": "stream",
     "text": [
      "Number of unique trigrams with count > 1 (no space): 14287464\n",
      "Number of unique trigrams with count > 2 (no space): 7674410\n",
      "Number of unique trigrams that show up in > 1 rows (no space): 5506815\n",
      "Number of unique trigrams that show up in > 2 rows (no space): 2202657\n",
      "Number of unique trigrams that show up in > 4 rows (no space): 763766\n",
      "Number of unique trigrams that show up in > 8 rows (no space): 239317\n",
      "Number of unique trigrams that show up in > 12 rows (no space): 239317\n",
      "Number of unique trigrams that show up in > 16 rows (no space): 71125\n"
     ]
    }
   ],
   "source": [
    "print(\"Number of unique trigrams with count > 1 (no space):\", sum((1 for t in total_skip_trigrams if total_skip_trigrams[t] > 1 and 220 not in t)))\n",
    "print(\"Number of unique trigrams with count > 2 (no space):\", sum(1 for t in total_skip_trigrams if total_skip_trigrams[t] > 2 and 220 not in t))\n",
    "print(\"Number of unique trigrams that show up in > 1 rows (no space):\", sum(1 for t in total_skip_trigrams if total_skip_trigrams_per_row[t] > 1 and 220 not in t))\n",
    "print(\"Number of unique trigrams that show up in > 2 rows (no space):\", sum(1 for t in total_skip_trigrams if total_skip_trigrams_per_row[t] > 2 and 220 not in t))\n",
    "print(\"Number of unique trigrams that show up in > 4 rows (no space):\", sum(1 for t in total_skip_trigrams if total_skip_trigrams_per_row[t] > 4 and 220 not in t))\n",
    "print(\"Number of unique trigrams that show up in > 8 rows (no space):\", sum(1 for t in total_skip_trigrams if total_skip_trigrams_per_row[t] > 8 and 220 not in t))\n",
    "print(\"Number of unique trigrams that show up in > 12 rows (no space):\", sum(1 for t in total_skip_trigrams if total_skip_trigrams_per_row[t] > 8 and 220 not in t))\n",
    "print(\"Number of unique trigrams that show up in > 16 rows (no space):\", sum(1 for t in total_skip_trigrams if total_skip_trigrams_per_row[t] > 16 and 220 not in t))"
   ]
  },
  {
   "cell_type": "code",
   "execution_count": 107,
   "metadata": {},
   "outputs": [
    {
     "name": "stdout",
     "output_type": "stream",
     "text": [
      "Number of unique trigrams with count > 1 (no init space): 15618714\n",
      "Number of unique trigrams with count > 2 (no init space): 8546960\n",
      "Number of unique trigrams that show up in > 1 rows (no init space): 6495676\n",
      "Number of unique trigrams that show up in > 2 rows (no init space): 2787257\n",
      "Number of unique trigrams that show up in > 4 rows (no init space): 1084229\n",
      "Number of unique trigrams that show up in > 8 rows (no init space): 406237\n",
      "Number of unique trigrams that show up in > 12 rows (no init space): 406237\n",
      "Number of unique trigrams that show up in > 16 rows (no init space): 151166\n"
     ]
    }
   ],
   "source": [
    "print(\"Number of unique trigrams with count > 1 (no init space):\", sum((1 for t in total_skip_trigrams if total_skip_trigrams[t] > 1 and t[0] != 220)))\n",
    "print(\"Number of unique trigrams with count > 2 (no init space):\", sum(1 for t in total_skip_trigrams if total_skip_trigrams[t] > 2 and t[0] != 220))\n",
    "print(\"Number of unique trigrams that show up in > 1 rows (no init space):\", sum(1 for t in total_skip_trigrams if total_skip_trigrams_per_row[t] > 1 and t[0] != 220))\n",
    "print(\"Number of unique trigrams that show up in > 2 rows (no init space):\", sum(1 for t in total_skip_trigrams if total_skip_trigrams_per_row[t] > 2 and t[0] != 220))\n",
    "print(\"Number of unique trigrams that show up in > 4 rows (no init space):\", sum(1 for t in total_skip_trigrams if total_skip_trigrams_per_row[t] > 4 and t[0] != 220))\n",
    "print(\"Number of unique trigrams that show up in > 8 rows (no init space):\", sum(1 for t in total_skip_trigrams if total_skip_trigrams_per_row[t] > 8 and t[0] != 220))\n",
    "print(\"Number of unique trigrams that show up in > 12 rows (no init space):\", sum(1 for t in total_skip_trigrams if total_skip_trigrams_per_row[t] > 8 and t[0] != 220))\n",
    "print(\"Number of unique trigrams that show up in > 16 rows (no init space):\", sum(1 for t in total_skip_trigrams if total_skip_trigrams_per_row[t] > 16 and t[0] != 220))"
   ]
  },
  {
   "cell_type": "code",
   "execution_count": 108,
   "metadata": {},
   "outputs": [
    {
     "name": "stdout",
     "output_type": "stream",
     "text": [
      "  the \t\t\t (' ', ' ', 'the') \t\t\t 550436\n",
      "  and \t\t\t (' ', ' ', 'and') \t\t\t 206816\n",
      "  to \t\t\t (' ', ' ', 'to') \t\t\t 187769\n",
      "  a \t\t\t (' ', ' ', 'a') \t\t\t 177928\n",
      "the the \t\t\t ('the', ' ', 'the') \t\t\t 174172\n",
      " \n",
      "\n",
      " \t\t\t (' ', '\\n', '\\n') \t\t\t 143792\n",
      "  th \t\t\t (' ', ' ', 'th') \t\t\t 125204\n",
      ", the \t\t\t (',', ' ', 'the') \t\t\t 123400\n",
      " ,  \t\t\t (' ', ',', ' ') \t\t\t 120184\n",
      "\n",
      " the \t\t\t ('\\n', ' ', 'the') \t\t\t 109650\n",
      "  of  \t\t\t (' ', ' of', ' ') \t\t\t 104804\n",
      " .\n",
      " \t\t\t (' ', '.', '\\n') \t\t\t 103814\n",
      ". the \t\t\t ('.', ' ', 'the') \t\t\t 101418\n",
      "  t \t\t\t (' ', ' ', 't') \t\t\t 89776\n",
      " of the \t\t\t (' of', ' ', 'the') \t\t\t 76558\n",
      "a the \t\t\t ('a', ' ', 'the') \t\t\t 69202\n",
      " that \t\t\t (' ', 'th', 'at') \t\t\t 67840\n",
      "and the \t\t\t ('and', ' ', 'the') \t\t\t 67065\n",
      "  in  \t\t\t (' ', ' in', ' ') \t\t\t 66046\n",
      "the and \t\t\t ('the', ' ', 'and') \t\t\t 62452\n",
      "to the \t\t\t ('to', ' ', 'the') \t\t\t 57576\n",
      " to  \t\t\t (' ', 'to', ' ') \t\t\t 56647\n",
      "the to \t\t\t ('the', ' ', 'to') \t\t\t 56277\n",
      "the a \t\t\t ('the', ' ', 'a') \t\t\t 52421\n",
      " in the \t\t\t (' in', ' ', 'the') \t\t\t 51240\n",
      ", and \t\t\t (',', ' ', 'and') \t\t\t 50993\n",
      "  as \t\t\t (' ', ' ', 'as') \t\t\t 50666\n",
      " and  \t\t\t (' ', 'and', ' ') \t\t\t 49407\n",
      "th the \t\t\t ('th', ' ', 'the') \t\t\t 43912\n",
      "\n",
      " and \t\t\t ('\\n', ' ', 'and') \t\t\t 42582\n",
      ", to \t\t\t (',', ' ', 'to') \t\t\t 42577\n",
      "\n",
      "\n",
      "\n",
      " \t\t\t ('\\n', '\\n', '\\n') \t\t\t 41749\n",
      "the\n",
      "\n",
      " \t\t\t ('the', '\\n', '\\n') \t\t\t 41548\n",
      " the  \t\t\t (' ', 'the', ' ') \t\t\t 41429\n",
      ", a \t\t\t (',', ' ', 'a') \t\t\t 41011\n",
      "at the \t\t\t ('at', ' ', 'the') \t\t\t 40482\n",
      "  at \t\t\t (' ', ' ', 'at') \t\t\t 40053\n",
      " at  \t\t\t (' ', 'at', ' ') \t\t\t 39918\n",
      ". and \t\t\t ('.', ' ', 'and') \t\t\t 39410\n",
      "\n",
      " to \t\t\t ('\\n', ' ', 'to') \t\t\t 38885\n",
      "\n",
      " a \t\t\t ('\\n', ' ', 'a') \t\t\t 38439\n",
      "    \t\t\t (' ', ' ', ' ') \t\t\t 38023\n",
      "  an \t\t\t (' ', ' ', 'an') \t\t\t 37949\n",
      "the th \t\t\t ('the', ' ', 'th') \t\t\t 37519\n",
      "the,  \t\t\t ('the', ',', ' ') \t\t\t 37198\n",
      ". to \t\t\t ('.', ' ', 'to') \t\t\t 35697\n",
      ". a \t\t\t ('.', ' ', 'a') \t\t\t 34408\n",
      "the of  \t\t\t ('the', ' of', ' ') \t\t\t 34133\n",
      ",\n",
      "\n",
      " \t\t\t (',', '\\n', '\\n') \t\t\t 33176\n",
      "t the \t\t\t ('t', ' ', 'the') \t\t\t 32611\n",
      ".\n",
      "\n",
      " \t\t\t ('.', '\\n', '\\n') \t\t\t 31787\n",
      "the.\n",
      " \t\t\t ('the', '.', '\\n') \t\t\t 31000\n",
      " . The \t\t\t (' ', '.', ' The') \t\t\t 30918\n",
      "s the \t\t\t ('s', ' ', 'the') \t\t\t 30299\n",
      "  are \t\t\t (' ', ' ', 'are') \t\t\t 29230\n",
      ",,  \t\t\t (',', ',', ' ') \t\t\t 29038\n",
      "  al \t\t\t (' ', ' ', 'al') \t\t\t 28786\n",
      "ed the \t\t\t ('ed', ' ', 'the') \t\t\t 28684\n",
      " of and \t\t\t (' of', ' ', 'and') \t\t\t 28373\n",
      " ed  \t\t\t (' ', 'ed', ' ') \t\t\t 27983\n",
      ", th \t\t\t (',', ' ', 'th') \t\t\t 27501\n",
      "and and \t\t\t ('and', ' ', 'and') \t\t\t 27371\n",
      "the t \t\t\t ('the', ' ', 't') \t\t\t 27089\n",
      "a and \t\t\t ('a', ' ', 'and') \t\t\t 26577\n",
      "  on  \t\t\t (' ', ' on', ' ') \t\t\t 26472\n",
      "\n",
      ".\n",
      " \t\t\t ('\\n', '.', '\\n') \t\t\t 26235\n",
      "a a \t\t\t ('a', ' ', 'a') \t\t\t 25319\n",
      "ing the \t\t\t ('ing', ' ', 'the') \t\t\t 25057\n",
      "\n",
      " th \t\t\t ('\\n', ' ', 'th') \t\t\t 24760\n",
      "  for  \t\t\t (' ', ' for', ' ') \t\t\t 24742\n",
      " of to \t\t\t (' of', ' ', 'to') \t\t\t 24235\n",
      "\n",
      ",  \t\t\t ('\\n', ',', ' ') \t\t\t 24206\n",
      "a to \t\t\t ('a', ' ', 'to') \t\t\t 24134\n",
      ",.\n",
      " \t\t\t (',', '.', '\\n') \t\t\t 24128\n",
      " ing  \t\t\t (' ', 'ing', ' ') \t\t\t 24000\n",
      " as  \t\t\t (' ', 'as', ' ') \t\t\t 23621\n",
      ". th \t\t\t ('.', ' ', 'th') \t\t\t 23425\n",
      " of a \t\t\t (' of', ' ', 'a') \t\t\t 23391\n",
      "an the \t\t\t ('an', ' ', 'the') \t\t\t 23337\n",
      ", of  \t\t\t (',', ' of', ' ') \t\t\t 23097\n",
      "as the \t\t\t ('as', ' ', 'the') \t\t\t 22951\n",
      "and to \t\t\t ('and', ' ', 'to') \t\t\t 22737\n",
      " \n",
      "The \t\t\t (' ', '\\n', 'The') \t\t\t 22704\n",
      "- the \t\t\t ('-', ' ', 'the') \t\t\t 22446\n",
      ".,  \t\t\t ('.', ',', ' ') \t\t\t 22442\n",
      " was the \t\t\t (' was', ' ', 'the') \t\t\t 22154\n",
      "and a \t\t\t ('and', ' ', 'a') \t\t\t 21381\n",
      "to and \t\t\t ('to', ' ', 'and') \t\t\t 21147\n",
      "to to \t\t\t ('to', ' ', 'to') \t\t\t 20878\n",
      "..\n",
      " \t\t\t ('.', '.', '\\n') \t\t\t 20729\n",
      "\n",
      " of  \t\t\t ('\\n', ' of', ' ') \t\t\t 20523\n",
      "the in  \t\t\t ('the', ' in', ' ') \t\t\t 20428\n",
      " �� \t\t\t (' ', '�', '�') \t\t\t 20428\n",
      "al the \t\t\t ('al', ' ', 'the') \t\t\t 20426\n",
      "  is  \t\t\t (' ', ' is', ' ') \t\t\t 20361\n",
      " their \t\t\t (' ', 'the', 'ir') \t\t\t 20219\n",
      " for the \t\t\t (' for', ' ', 'the') \t\t\t 20099\n",
      " this \t\t\t (' ', 'th', 'is') \t\t\t 19894\n",
      "  with  \t\t\t (' ', ' with', ' ') \t\t\t 19795\n",
      "thethat \t\t\t ('the', 'th', 'at') \t\t\t 19704\n"
     ]
    }
   ],
   "source": [
    "# Most common\n",
    "for i, t in enumerate(total_skip_trigrams.most_common(100)):\n",
    "    strs = tuple(translate_int_to_str(t[0], model))\n",
    "    print(\"\".join(strs), \"\\t\\t\\t\", tuple(translate_int_to_str(t[0], model)), \"\\t\\t\\t\", t[1])"
   ]
  },
  {
   "cell_type": "code",
   "execution_count": 132,
   "metadata": {},
   "outputs": [
    {
     "name": "stderr",
     "output_type": "stream",
     "text": [
      "100%|██████████| 40205163/40205163 [00:38<00:00, 1056159.16it/s]\n",
      "100%|██████████| 6104275/6104275 [00:05<00:00, 1201981.48it/s]\n"
     ]
    }
   ],
   "source": [
    "total_skip_trigrams_dict = dict(total_skip_trigrams)\n",
    "\n",
    "for trigram in tqdm.tqdm(total_skip_trigrams, total=len(total_skip_trigrams_dict)):\n",
    "    if total_skip_trigrams_per_row[trigram] < 2 or trigram in total_trigrams_per_row:\n",
    "        del total_skip_trigrams_dict[trigram]\n",
    "        continue\n",
    "\n",
    "    unigram1 = unigrams[trigram[0]]\n",
    "    unigram2 = unigrams[trigram[1]]\n",
    "    bigram = bigrams[trigram[1], trigram[2]]\n",
    "\n",
    "    null_prob = unigram1 * unigram2 * bigram\n",
    "    total_skip_trigrams_dict[trigram] /= null_prob * num_total_skip_trigrams\n",
    "\n",
    "# Sort by frequency\n",
    "total_skip_trigrams_dict = {k: v  for k, v in tqdm.tqdm(sorted(total_skip_trigrams_dict.items(), key=lambda item: item[1], reverse=True), total=len(total_skip_trigrams_dict))}\n"
   ]
  },
  {
   "cell_type": "code",
   "execution_count": 133,
   "metadata": {},
   "outputs": [
    {
     "name": "stdout",
     "output_type": "stream",
     "text": [
      "----- Top 1000 trigrams -----\n",
      "[' Bit', 'ing', ' Bit']: 118386.57130305818\n",
      "['coin', 'ing', ' Bit']: 105624.60198847554\n",
      "['..', ' same', '..']: 104378.38256166862\n",
      "['�', '�', '\\n']: 46831.466762458425\n",
      "['oh', 'u', ' rele']: 35486.87276392847\n",
      "[' dat', ' species', ' during']: 33146.6997868504\n",
      "[' crime', ' red', ' cost']: 30980.57178813649\n",
      "[' studies', ' support', ' non']: 30259.159176487927\n",
      "['bers', 'u', ' rele']: 27483.115332806996\n",
      "[' Ag', ' same', '..']: 26750.38401517876\n",
      "['coin', 'coin', ',']: 25636.516656791242\n",
      "['aith', 'aith', ' in']: 25035.58861649418\n",
      "[' gain', ' TV', ' execut']: 23583.577552771538\n",
      "['�', 'ities', ' �']: 22529.335007908645\n",
      "[' Bit', ' Bit', 'coin']: 22035.693314019853\n",
      "[' greater', ' personal', ' fr']: 21770.246787867745\n",
      "['�', '�', '\\n']: 21551.34503973925\n",
      "['coin', ' Bit', 'coin']: 21371.02435187529\n",
      "[' station', 'ption', ' Michael']: 20628.35043505859\n",
      "['�', '�', '\\n']: 20442.681938710237\n",
      "['�', '�', '\\n']: 20347.77820962115\n",
      "[' TV', ' TV', ' execut']: 19232.98372758534\n",
      "[' need', ' Council', ' ended']: 18702.779684647405\n",
      "[' Bit', 'it', 'coin']: 18519.4158555339\n",
      "[' role', ' Council', ' ended']: 18489.832656204664\n",
      "[' Press', 'u', 'itions']: 18485.21772449075\n",
      "[' certain', '40', ' pl']: 18372.43358174804\n",
      "[' others', ' Council', ' ended']: 18367.443612368894\n",
      "['].', ' items', ' related']: 17891.233913908378\n",
      "['�', '�', 'm']: 17715.02997946583\n",
      "[' Bit', ' of', ' Bit']: 17702.3492395677\n",
      "['coin', ' of', ' Bit']: 17652.17509846096\n",
      "[' direct', 'ce', ' side']: 17621.718129248515\n",
      "['coin', 'it', 'coin']: 16942.671685259305\n",
      "['�', '�', '\\n']: 16760.951708347788\n",
      "['^', ' ', '^']: 16247.1515742317\n",
      "['atic', ' Council', ' ended']: 15905.302803918217\n",
      "[' individual', 'ander', ' Sp']: 15538.683581126026\n",
      "['yright', 'ption', ' Michael']: 15522.633793085737\n",
      "['�', '�', '\\n']: 15347.345603714753\n",
      "['ables', 'ment', ' paper']: 15158.09331479755\n",
      "['�', '�', 'm']: 14639.18359383717\n",
      "['aterial', 'mitted', ']']: 14535.216607273132\n",
      "[' supp', 'ce', ' side']: 14372.071493201174\n",
      "[' wa', '40', ' pl']: 14356.716410821371\n",
      "[' ID', ' detail', ' page']: 14044.925552794399\n",
      "[' Res', 'ville', ' Res']: 13491.895101244558\n",
      "[' em', ' Council', ' ended']: 13211.110782620453\n",
      "[' goals', ' Col', 'ten']: 12746.460590663353\n",
      "['�', '�', '�']: 12710.474531294507\n",
      "[' Game', 'BA', 'E']: 12699.353121194457\n",
      "[' Jud', ' five', ' federal']: 12662.649498425673\n",
      "[' Fr', ' property', '\".']: 12440.042982870576\n",
      "['ger', ' same', '..']: 12334.949249809288\n",
      "['cast', ' offers', ' world']: 12235.844341492353\n",
      "['�', 'm', '�']: 12124.586331508643\n",
      "['list', 'ute', ' Inf']: 11167.312265984081\n",
      "[' play', ' Council', ' ended']: 11126.4502048541\n",
      "['z', 'u', ' rele']: 10996.04744364384\n",
      "['�', 'i', ' mon']: 10987.202306639529\n",
      "[' percent', 'ract', ' car']: 10855.65976728427\n",
      "['Im', 'ption', ' Michael']: 10779.156320120812\n",
      "['Ch', 'ract', ' car']: 10727.349169916703\n",
      "['idered', ' wrote', '\\n']: 10709.617194340746\n",
      "[' Feb', ' many', ' Arab']: 10579.371628841196\n",
      "[' Phil', 'u', 'itions']: 10471.853113419227\n",
      "[' PC', ' PC', 'B']: 10411.006922310677\n",
      "[' Clinton', '.', ' vot']: 10037.985537815475\n",
      "[' �', 'ities', ' �']: 9898.103000603756\n",
      "[' Chinese', 'al', ' Chinese']: 9864.08491430947\n",
      "[' required', ' without', ' police']: 9618.638868586768\n",
      "[' Bit', 'B', 'it']: 9583.348423106889\n",
      "['03', '.', '03']: 9561.614269750213\n",
      "[' power', 'ce', ' side']: 9555.820523769798\n",
      "[' net', ' Col', 'ten']: 9504.714996443985\n",
      "[' player', ' football', '!']: 9247.935597528021\n",
      "[' ID', ' she', ' regist']: 9223.565134209148\n",
      "['ains', 'ream', ' sc']: 9156.178993890193\n",
      "[' faith', 'aith', ' in']: 9101.322880244976\n",
      "[' drink', 'ct', ' repe']: 9071.399372864067\n",
      "[' |', 'I', ' |']: 9043.045867193385\n",
      "['ata', 'ready', ' killed']: 9024.898475512373\n",
      "[' religious', 'ated', ' har']: 8968.010886542239\n",
      "[' itself', 'ities', ' �']: 8906.611295557741\n",
      "[' Chinese', ' make', ' China']: 8878.324904108422\n",
      "['ok', ' Am', ' L']: 8868.801406722938\n",
      "[' disapp', ' real', ' subst']: 8737.273589789564\n",
      "['play', ' Col', 'ten']: 8602.582404981418\n",
      "[' reg', 'ract', ' car']: 8594.24836550362\n",
      "['epend', ' British', ' Ind']: 8534.478488908042\n",
      "[' �', '�', '500']: 8390.077464746546\n",
      "[' particularly', 'h', ' rule']: 8229.754339608062\n",
      "[' ended', ' football', '!']: 8228.777649168891\n",
      "['coin', 'B', 'it']: 8219.457718966205\n",
      "[' connect', ' first', ' connect']: 8198.01688558851\n",
      "[' end', ' Council', ' ended']: 8165.373478435977\n",
      "[' minutes', ' officer', ' might']: 8146.093099982836\n",
      "['ger', 'ger', 'on']: 8126.096649173228\n",
      "[' low', ' board', '!']: 8116.976706638304\n",
      "['�', '�', 'b']: 8093.49496999784\n",
      "[' repe', ' repe', 'll']: 7810.202144453067\n",
      "['aken', 'ract', ' car']: 7710.088044934147\n",
      "['olic', ' but', ' norm']: 7708.07791408873\n",
      "['idents', 'ville', ' Res']: 7669.348166881441\n",
      "['ij', ' make', ' China']: 7641.301393684548\n",
      "[' Div', 'icle', ' provides']: 7571.829076924684\n",
      "['nce', 'ks', ' ro']: 7500.617170794411\n",
      "[' plans', ' By', ' v']: 7494.872658287749\n",
      "[' Secretary', ' further', ' di']: 7484.464086298418\n",
      "['ference', 'ption', ' Michael']: 7394.204336537051\n",
      "['aces', ' By', ' v']: 7311.741318910802\n",
      "[' lab', 'ms', ' called']: 7296.842034971602\n",
      "[' com', ' due', ' $']: 7140.220252649453\n",
      "[' ST', 'aterial', ' O']: 7078.205248062682\n",
      "['light', ' real', ' subst']: 7028.634310938116\n",
      "['hib', ' without', ' police']: 7026.949437934721\n",
      "[' up', 'u', ' rele']: 7026.868507095602\n",
      "['ough', 'ough', ' into']: 7025.866320637742\n",
      "['ios', 'ios', ' had']: 7019.746123724661\n",
      "[' rather', ' TV', ' execut']: 7015.1535309351375\n",
      "['ont', ' event', ' draw']: 6984.205763313069\n",
      "['oph', 'u', 'itions']: 6983.24198739938\n",
      "[' launch', 'I', ' London']: 6980.787171410647\n",
      "[' consist', ' five', ' federal']: 6900.09443059948\n",
      "['list', 'ant', ' major']: 6885.687177038584\n",
      "[' climate', 'an', ' Power']: 6846.390156783876\n",
      "[' Ar', ' event', ' draw']: 6836.196922028385\n",
      "[' cop', 'ption', ' Michael']: 6826.164261492089\n",
      "['eared', ' officer', ' might']: 6766.152605157539\n",
      "[' pet', 'ified', ' pet']: 6715.5806112980945\n",
      "['term', 'ates', ' shared']: 6663.453467213061\n",
      "[' me', ' same', '..']: 6575.017193158684\n",
      "[' carry', ' our', ' circ']: 6558.538751180459\n",
      "['75', 'In', ' opp']: 6551.2303334159715\n",
      "['�', '�', '\\n']: 6482.996209213757\n",
      "[' even', ' Council', ' ended']: 6482.219600185533\n",
      "['aign', ' with', ' mess']: 6465.383553118886\n",
      "[' only', 'u', ' rele']: 6429.443146147624\n",
      "[' points', ' maybe', ' do']: 6427.085436732662\n",
      "['ears', ' soon', ' cr']: 6389.878641032577\n",
      "[' page', 'AN', ' was']: 6372.99622286771\n",
      "[' Inf', 'nd', ' Air']: 6330.713743508428\n",
      "[' br', ' red', ' cost']: 6247.12720373598\n",
      "['oun', 'ates', ' shared']: 6234.641333386853\n",
      "[' ST', ' O', 'mitted']: 6216.182744544105\n",
      "[' Ret', ' personal', ' care']: 6173.696194632271\n",
      "[' ST', 'mitted', ']']: 6140.409721839766\n",
      "['03', '03', '.']: 6124.431768500623\n",
      "[' detail', 'AN', ' was']: 6074.969944999175\n",
      "[' ser', 'ant', ' major']: 6057.907267622976\n",
      "[' conv', ' five', ' federal']: 6028.8545473769545\n",
      "[' repe', ' when', ' staff']: 6026.307196807627\n",
      "['ki', 'es', 'ki']: 6012.161113015868\n",
      "['istic', 'ander', ' Sp']: 6009.598482399306\n",
      "[' big', ' Am', ' L']: 5978.42041933919\n",
      "[' football', ' football', '!']: 5917.752452925654\n",
      "[' Fr', ' De', ' Fr']: 5912.545699667767\n",
      "['ce', 'ce', ' side']: 5853.672196120238\n",
      "[' here', ' personal', ' fr']: 5827.243421739978\n",
      "['IL', 'ER', 'IN']: 5803.550281770687\n",
      "[' election', '.', ' vot']: 5680.918087572779\n",
      "[' individual', 'ys', 'ander']: 5652.568192511818\n",
      "[' Canad', ' players', ' leaving']: 5622.807486046326\n",
      "[' would', ' Council', ' ended']: 5582.932139567502\n",
      "['ning', ' De', ' Fr']: 5563.8871417087075\n",
      "[' regist', ' detail', ' page']: 5552.9242064868395\n",
      "['ction', ' Some', ' six']: 5541.947778111369\n",
      "['�', '�', '\\n']: 5532.031620265974\n",
      "[' page', ' detail', ' page']: 5487.5817580687235\n",
      "[' film', 'ms', ' called']: 5454.732382440155\n",
      "[' being', ' same', '..']: 5425.443135381336\n",
      "[' Dist', ' Sch', '.']: 5403.753684363081\n",
      "[' De', ' De', ' Fr']: 5386.522529615489\n",
      "['%', ' below', ' 20']: 5379.14948164794\n",
      "[' Act', 'ber', ' L']: 5362.99668534461\n",
      "['ceed', '40', ' pl']: 5362.1930103273635\n",
      "['ats', ' live', ' r']: 5349.13513701796\n",
      "['ag', 'u', ' rele']: 5343.388718400937\n",
      "['ification', ' five', ' federal']: 5323.110323111571\n",
      "['vel', 'ates', ' shared']: 5298.194060363701\n",
      "[' ob', '40', ' pl']: 5282.25278971235\n",
      "[' charg', ' six', ' j']: 5267.125033591445\n",
      "['Sp', ' drink', '\\n']: 5259.160040496485\n",
      "[' As', 'ream', ' sc']: 5238.058270545985\n",
      "[' detail', ' detail', ' page']: 5230.960930334956\n",
      "['mar', 'ively', ' under']: 5206.7511606485305\n",
      "[' v', ' Council', ' ended']: 5186.533930627653\n",
      "['aint', '40', ' pl']: 5163.252634252396\n",
      "[' Ep', 'out', ' has']: 5161.720803488748\n",
      "['ast', ' Council', ' ended']: 5158.755012603901\n",
      "[' Ber', ' Ber', 'ger']: 5146.1221528941105\n",
      "['its', 'ract', ' car']: 5141.004573547998\n",
      "[' recogn', ' offers', ' world']: 5129.809856368749\n",
      "[' reg', 'ities', ' �']: 5124.241936287874\n",
      "[' Your', ' Just', ' for']: 5118.422867095835\n",
      "['rib', 'ber', ' L']: 5116.595052189996\n",
      "[' educ', 'eline', ' by']: 5084.991689018296\n",
      "[' drink', ' repe', 'll']: 5066.978126954219\n",
      "[' OF', 'aterial', ' O']: 5053.11630374411\n",
      "[' real', '40', ' pl']: 5045.827815813835\n",
      "[' leaving', ' now', ' fore']: 5040.319505433783\n",
      "['yright', 'aterial', ' O']: 5038.773551218476\n",
      "['mine', 'any', ' inst']: 5021.112622958781\n",
      "['IC', ' board', '!']: 5011.533299736705\n",
      "[' gu', ' recently', ' explained']: 5009.006856309027\n",
      "['iced', 'ince', ' p']: 5004.772357414208\n",
      "[' but', 'u', ' rele']: 5002.077304326413\n",
      "['ular', ' without', ' police']: 4974.542373476148\n",
      "[' THE', 'ry', ' Pet']: 4954.375722568292\n",
      "[' 25', ' due', ' $']: 4946.064771433912\n",
      "[' ID', 'V', 'ot']: 4942.122314936434\n",
      "[' until', ' story', ' often']: 4919.851885045626\n",
      "['There', ' By', ' v']: 4900.48212756995\n",
      "[' ID', ' ID', ' number']: 4894.659413850157\n",
      "['bo', 'A', ' #']: 4876.8817377672995\n",
      "['�', '�', 'l']: 4856.479004019558\n",
      "['iddle', ' many', ' Arab']: 4850.701664788601\n",
      "['[', ' items', ' related']: 4847.793965139474\n",
      "['anc', 'ham', ' Re']: 4836.297265089692\n",
      "[' role', ' support', ' non']: 4834.463975153221\n",
      "[' leaving', ' only', ' phot']: 4821.118483382268\n",
      "[' kn', 'ough', ' into']: 4799.510919981744\n",
      "[' drink', 'o', ' repe']: 4773.177257511393\n",
      "[' Port', 'ues', 'e']: 4756.338109709217\n",
      "[' page', ' she', ' regist']: 4750.707430167557\n",
      "['This', ' offers', ' world']: 4745.709769774481\n",
      "[' upon', '40', ' pl']: 4734.57619018544\n",
      "[' me', 'u', ' rele']: 4730.556787255104\n",
      "['ers', 'u', ' rele']: 4716.743420287925\n",
      "[' beaut', 'ully', ' re']: 4690.772637799567\n",
      "[' 2010', ')', ' focus']: 4679.240535565376\n",
      "['ained', ' De', ' Fr']: 4655.723550776729\n",
      "[' bl', ' sold', ' several']: 4641.775620580619\n",
      "['�', '�', 'l']: 4603.43665276587\n",
      "[' ice', ' Ben', ' &']: 4602.075936064836\n",
      "[' MP', ' his', ' MP']: 4582.3061091373775\n",
      "[' century', 'ander', ' Sp']: 4555.245880437359\n",
      "['alt', ' Col', 'ten']: 4546.713350338078\n",
      "[' detail', ' she', ' regist']: 4528.545733668367\n",
      "[' steps', ' became', ' co']: 4523.417703784131\n",
      "[' Iran', 'ed', ' elements']: 4519.3588574470905\n",
      "[' because', ' same', '..']: 4512.374020602227\n",
      "['orney', ' California', ' Att']: 4495.307099393136\n",
      "['empt', ' officer', ' might']: 4494.357267778945\n",
      "[' port', ' first', ' connect']: 4490.888899766943\n",
      "[' econom', 'as', 'G']: 4483.709962645743\n",
      "[' ID', 'er', ' ID']: 4461.921578846066\n",
      "[' request', ' further', ' di']: 4454.904271963029\n",
      "[' OF', ' O', 'mitted']: 4437.720194975401\n",
      "['iff', '40', ' pl']: 4429.116507101092\n",
      "['yright', ' O', 'mitted']: 4425.1241812071485\n",
      "[' prov', 'ribe', '-']: 4409.5470216010835\n",
      "['which', 'al', ' died']: 4399.608460807329\n",
      "['ading', 'ble', ' I']: 4385.137987680261\n",
      "[' OF', 'mitted', ']']: 4383.625988465061\n",
      "['yright', 'mitted', ']']: 4371.183515555639\n",
      "['ism', 'ander', ' Sp']: 4350.333444524857\n",
      "[' convers', ' lot', ' which']: 4335.4337694237465\n",
      "['aven', ' head', ' he']: 4334.004389532526\n",
      "['aw', ' same', '..']: 4316.288826877046\n",
      "[' come', ' officer', ' might']: 4295.254176050489\n",
      "['ual', ' single', ' section']: 4284.647381375948\n",
      "['ances', ' without', ' police']: 4264.891344536513\n",
      "['�', ' death', ' beg']: 4260.204533100455\n",
      "[' method', ' said', ' se']: 4244.031437504656\n",
      "['�', '�', '�']: 4230.916076704809\n",
      "['fully', 'ener', 'ously']: 4215.292267127842\n",
      "['54', ').', ' Z']: 4207.564176107421\n",
      "['ired', ' without', ' police']: 4206.359313400514\n",
      "['u', 'u', ' rele']: 4203.222393907149\n",
      "[' Committee', '.', ' laws']: 4202.632700519494\n",
      "[' crime', 'aining', ' organ']: 4181.106495410542\n",
      "[' military', ' our', ' circ']: 4177.043922951899\n",
      "['cast', ' own', ' TV']: 4164.639990778274\n",
      "['oor', \"'s\", ' steps']: 4129.336886532058\n",
      "[' beg', '\"', ' Rich']: 4126.236147470615\n",
      "[' ice', ' &', ' Jer']: 4093.881230728968\n",
      "[' Don', 'ry', ' Pet']: 4080.0782430924555\n",
      "['ider', 'ener', 'ously']: 4079.14332248734\n",
      "['$', 'I', 'ER']: 4073.464440123553\n",
      "[' year', ' Council', ' ended']: 4063.2226111513446\n",
      "[' particular', ' company', ' closed']: 4049.608938958704\n",
      "['form', 'though', ' Cl']: 4038.742230381946\n",
      "['alth', ' TV', ' execut']: 4028.9501149688863\n",
      "['edom', ' personal', ' care']: 4007.143822627916\n",
      "[' world', ' same', '..']: 4004.9070789364073\n",
      "[' 0', 'une', ' 0']: 4000.100147603169\n",
      "['fl', \"'s\", ' steps']: 3993.848579038655\n",
      "['LE', 'ER', 'IN']: 3991.8813899134725\n",
      "[' points', '15', ' games']: 3985.5796856688617\n",
      "[' regist', ' number', ' 10']: 3961.4431558395213\n",
      "[' keep', ' board', '!']: 3957.047774881415\n",
      "[' vote', ' detail', ' page']: 3956.270418989657\n",
      "[' page', ' number', ' 10']: 3947.72572012932\n",
      "[' University', 'm', 'ias']: 3899.2402525203306\n",
      "[' Found', ' Since', ' 2014']: 3888.861886860147\n",
      "[' International', ' five', ' federal']: 3859.5875305996287\n",
      "[' running', 'ard', ' followed']: 3858.4929142999085\n",
      "[' PC', 'the', ' PC']: 3849.3572966661845\n",
      "[' my', ' story', ' often']: 3848.430629860034\n",
      "['roup', ' Japanese', '\\n']: 3812.4362237846517\n",
      "[' Bit', 'a', ' physical']: 3810.19520661602\n",
      "[' PR', 'I', 'ER']: 3797.604658633004\n",
      "[' provided', 'urs', ' due']: 3793.9448946020775\n",
      "['annel', 'ual', ' sub']: 3785.274915368114\n",
      "[' ID', 'H', 'IP']: 3774.9614831518697\n",
      "['iller', 'aken', ' our']: 3773.408436636798\n",
      "['be', 'in', ' individual']: 3770.9238290235394\n",
      "[' detail', ' number', ' 10']: 3763.114595114938\n",
      "['�', '�', '�']: 3740.7514880919166\n",
      "['do', ' front', '.\"']: 3738.4488061571055\n",
      "['IT', 'aterial', ' O']: 3728.8155014268236\n",
      "[' THE', 'aterial', ' O']: 3716.5851213850756\n",
      "[' record', ' offers', ' world']: 3714.949440580501\n",
      "[' Ben', ' Ben', '.']: 3704.0750306454775\n",
      "['ann', 'ates', ' shared']: 3696.83156561317\n",
      "['rict', 'ption', ' Michael']: 3692.9276113889073\n",
      "[' Im', 'ption', ' Michael']: 3692.450730127683\n",
      "['idden', ' world', '\",']: 3692.242799223054\n",
      "['chn', 'ption', ' Michael']: 3680.9070258659544\n",
      "[' so', 'ce', ' side']: 3657.29669037482\n",
      "[' Gold', 'ent', ' Matt']: 3656.1059419962526\n",
      "[' regist', ' she', ' regist']: 3651.903862390488\n",
      "[' hands', 'ard', ' followed']: 3650.7745406087133\n",
      "['ci', ' but', ' norm']: 3643.460349311042\n",
      "['air', 'ream', ' sc']: 3639.740397807853\n",
      "[' starting', ' signed', ' M']: 3634.8201444151587\n",
      "[' Ne', ' Ne', 'br']: 3628.106179343929\n",
      "[' PC', 'G', 'P']: 3617.2026093048944\n",
      "[' reject', 'um', ' G']: 3611.580749435624\n",
      "[' ID', '46', ' ']: 3607.9935512009524\n",
      "[' him', ' same', '..']: 3606.6395747026004\n",
      "[' China', ' make', ' China']: 3599.732254639232\n",
      "['list', 'nd', ' Air']: 3569.3455262071584\n",
      "[' correct', 'ace', 'craft']: 3560.424332180953\n",
      "['way', ' officer', ' might']: 3546.4452677407653\n",
      "['wards', ' British', ' Ind']: 3541.87014922071\n",
      "[' However', ' stories', ' ever']: 3518.542333210801\n",
      "['�', '�', '\\n']: 3517.711952629162\n",
      "[' candidate', ' campaign', ' co']: 3490.0027637468866\n",
      "[' serv', 'ting', 't']: 3489.490693378696\n",
      "['59', ').', ' Z']: 3488.6695379954704\n",
      "[' lat', ' lat', 'ency']: 3488.408211783048\n",
      "['ES', 'ER', 'IN']: 3487.1206610184568\n",
      "[' somet', 'vel', ' Com']: 3486.381605417817\n",
      "['ina', 'el', ' Hill']: 3477.5488765277255\n",
      "['iness', 'g', ' School']: 3472.216931894937\n",
      "['ading', 'ing', ' Bit']: 3465.019063583733\n",
      "[' best', ' football', '!']: 3461.488827190314\n",
      "['coin', 'a', ' physical']: 3460.1641142277576\n",
      "['ization', ' further', ' di']: 3456.0908054628017\n",
      "[' million', '.', ' vot']: 3454.747390575601\n",
      "[' South', ' species', ' during']: 3447.3198879413662\n",
      "[' It', ' Council', ' ended']: 3447.1380797854486\n",
      "['Here', 'l', ' Sch']: 3440.9437645250478\n",
      "[' follow', 'ard', ' followed']: 3439.5195435802552\n",
      "['asons', 'ury', ' ended']: 3438.4474936353945\n",
      "[' could', ' story', ' often']: 3436.129266955935\n",
      "[' North', 'ham', ' Re']: 3433.84529388676\n",
      "[' UN', 'ry', ' Pet']: 3415.2149769471794\n",
      "['79', '03', '.']: 3411.6936402385086\n",
      "[' These', ' serious', ' environment']: 3409.62487403327\n",
      "[' Mc', 'z', ' ex']: 3391.9673374451104\n",
      "[' ID', '30', '6']: 3384.2731736059995\n",
      "['�', '�', '�']: 3380.6411039839927\n",
      "[' prot', 'ter', ' hold']: 3379.1174427711035\n",
      "[' guys', ' go', ' c']: 3364.210014699223\n",
      "['ik', ' personal', ' fr']: 3361.64348088131\n",
      "[' post', ' use', ' re']: 3351.4754382141173\n",
      "['ET', ' repe', 'll']: 3347.1299408694067\n",
      "[' A', 'u', ' rele']: 3339.4193959689906\n",
      "['ual', ' recently', ' explained']: 3335.566738331008\n",
      "['une', 'une', ' 0']: 3333.7249612279948\n",
      "[' 00', 'LE', 'V']: 3333.0712356284907\n",
      "['omb', ' fighting', ' since']: 3326.6678622639606\n",
      "[' months', 'ber', ' L']: 3325.0408139241445\n",
      "[' occup', 'ham', ' Re']: 3324.4242643492285\n",
      "[' Hall', 'lege', ' L']: 3311.9464139356983\n",
      "['age', 'u', ' rele']: 3310.9253167067986\n",
      "[' providing', ' quality', ' services']: 3309.981461217286\n",
      "[' Comm', ',', 'app']: 3306.1715646712614\n",
      "[' fresh', 'um', ' G']: 3297.835500229314\n",
      "[' half', ' major', ' steps']: 3283.660363412304\n",
      "['ler', ' real', ' subst']: 3280.6865157219245\n",
      "['IT', ' O', 'mitted']: 3274.6999790521936\n",
      "[' property', 'ander', ' Sp']: 3272.356158230938\n",
      "[' THE', ' O', 'mitted']: 3263.9590815067972\n",
      "[' half', ' physical', ' challeng']: 3258.2108287119017\n",
      "[' man', ' same', '..']: 3254.8581121830616\n",
      "[' grand', 'cle', ' Bill']: 3241.732399796315\n",
      "['IT', 'mitted', ']']: 3234.7825689534625\n",
      "[' Lou', 'd', 'head']: 3230.1755513039448\n",
      "['oming', 'd', 'head']: 3230.0778991940692\n",
      "[' THE', 'mitted', ']']: 3224.1725990701093\n",
      "[' ID', ' he', ' regist']: 3220.472450242851\n",
      "['�', '�', '500']: 3220.3719055648066\n",
      "[' /', 'our', 'g']: 3202.1772748843264\n",
      "['oe', ' lot', ' which']: 3199.106939200616\n",
      "['�', '�', 'year']: 3197.886895072564\n",
      "[' organ', ' board', '!']: 3197.533676800573\n",
      "[' Trump', '.', ' vot']: 3197.060405877246\n",
      "[' powerful', ' many', ' Arab']: 3191.738553326978\n",
      "[' Germany', ' be', ' eight']: 3188.991542773059\n",
      "[' set', ' By', ' v']: 3186.4557102214176\n",
      "[' University', 'u', 'itions']: 3180.001679178113\n",
      "['ob', ' –', ' pick']: 3175.686458594615\n",
      "[' 50', 'ute', ' Inf']: 3175.1673247919516\n",
      "['oint', ' further', ' di']: 3164.708619781515\n",
      "[' size', 'ace', ' l']: 3159.225519095682\n",
      "[' into', 'ce', ' side']: 3157.670197331467\n",
      "['K', 'ville', ' Res']: 3155.3986459436464\n",
      "[' levels', 'ove', ' 10']: 3154.9724721886646\n",
      "[' Islam', 'the', ' wanted']: 3152.9557312863885\n",
      "[' nom', ' British', ' Ind']: 3151.0557751001834\n",
      "['ates', 'ream', ' sc']: 3137.738489412945\n",
      "[' Mus', ' fighting', ' since']: 3135.9155817980914\n",
      "[' journal', ' in', ' Journal']: 3124.55598891983\n",
      "[' work', 'ream', ' sc']: 3121.6132862570003\n",
      "[' document', ' fact', 'f']: 3117.6395119556523\n",
      "[' or', 'ract', ' car']: 3115.5950467218418\n",
      "[' contin', 'ative', ' bre']: 3111.478177147615\n",
      "['ination', ' but', ' norm']: 3110.580650218047\n",
      "[' Islam', ' fighting', ' since']: 3109.716119452042\n",
      "[' deb', 'I', ' London']: 3104.447263649407\n",
      "[' Cur', ' Tor', 'r']: 3101.5579336285873\n",
      "[' morning', '.', ' vot']: 3101.0894402185268\n",
      "[' Cong', 'gy', ' (']: 3095.5925139509363\n",
      "[' Min', 'ener', 'ously']: 3094.862984329639\n",
      "['AC', 'ER', 'IN']: 3085.938886691536\n",
      "[' league', 'ensive', ' season']: 3077.045242840395\n",
      "[' …', 'i', ' mon']: 3076.9451003876784\n",
      "['46', ' detail', ' page']: 3076.4178546405556\n",
      "[' British', ' British', ' Ind']: 3073.4308819317203\n",
      "['ony', ' offers', ' world']: 3072.601678420376\n",
      "[' prov', ' real', ' subst']: 3071.2140681813794\n",
      "[' Im', 'aven', '-']: 3068.4774556533844\n",
      "[' weapons', ' House', ' brief']: 3066.1183972182994\n",
      "['gar', 'gar', '\\n']: 3064.454842628328\n",
      "['ils', 'land', ' Department']: 3058.4080433150907\n",
      "['LL', 'CH', 'M']: 3053.7789035379474\n",
      "[' Am', 'he', ' years']: 3051.484694963777\n",
      "[' otherwise', 'hing', ' def']: 3049.6043618595686\n",
      "[' physical', 'F', ' with']: 3040.3991672933835\n",
      "[' man', ' officer', ' might']: 3009.172803347264\n",
      "['ade', ' By', ' v']: 3005.943182120553\n",
      "[' ID', 'ot', 'er']: 3004.6081048578308\n",
      "[' per', ' without', ' police']: 3002.366359206671\n",
      "['iled', 'es', '[']: 2997.3334334924525\n",
      "[' oil', ' many', ' Arab']: 2991.958762637308\n",
      "[' Street', \"'\", ' bill']: 2988.937460881148\n",
      "['PR', 'PR', 'K']: 2988.4948073379383\n",
      "['work', 'any', ' com']: 2984.1169906688497\n",
      "['IT', 'ry', ' Pet']: 2982.407622724475\n",
      "['oon', 'gar', '\\n']: 2974.5133591791473\n",
      "['ec', ' due', ' $']: 2958.9947946699076\n",
      "[' drink', 'll', 'ent']: 2958.4247084908907\n",
      "[' T', 'u', ' rele']: 2954.3778833278047\n",
      "['o', 'u', ' rele']: 2949.956800228286\n",
      "['my', 'ant', ' major']: 2948.1495716789486\n",
      "[' may', ' Am', ' L']: 2937.909295117826\n",
      "[' pen', ' its', ' death']: 2937.401622893273\n",
      "[' Justice', 'ution', 'ing']: 2929.0526073674337\n",
      "['ities', 'ities', ' �']: 2925.495176100882\n",
      "[' share', ' Ben', ' &']: 2921.719346858594\n",
      "['I', 'ville', ' Res']: 2921.296085380703\n",
      "['^', ' six', ' ']: 2919.620804541952\n",
      "[' climate', ' new', ' vill']: 2919.153990590306\n",
      "[' Be', ' make', ' China']: 2915.343947697657\n",
      "[' would', ' same', '..']: 2913.4381451115573\n",
      "[' followed', ' place', ' no']: 2909.347101052988\n",
      "[' char', ' Since', ' 2014']: 2899.8893511262736\n",
      "['ous', ' same', '..']: 2898.0234167938984\n",
      "[' Republican', 'yan', ' of']: 2897.6589073081223\n",
      "[' Muslim', ' Muslim', ' majority']: 2893.0926979264755\n",
      "[' conserv', ' many', ' Arab']: 2891.652642814043\n",
      "[' �', 'ite', ' Space']: 2890.9746685488713\n",
      "[' del', ' By', ' v']: 2883.089819175764\n",
      "['PR', ' D', 'PR']: 2881.909402555911\n",
      "[' vill', ' new', ' vill']: 2873.018821925222\n",
      "['IP', 'ON', ' M']: 2872.1089852957193\n",
      "[' pain', 'ener', 'ously']: 2867.8423077258067\n",
      "[' National', ' support', ' non']: 2866.4663966502\n",
      "[' reflect', 'aith', ' in']: 2864.172530129583\n",
      "['ump', '.', ' vot']: 2850.7755689473393\n",
      "[' League', 'ensive', ' season']: 2850.2817833993386\n",
      "[' influ', ' major', ' relig']: 2847.428233984336\n",
      "[' date', 'any', ' com']: 2843.6879558138444\n",
      "[' Germany', 'and', 'en']: 2840.6947845693558\n",
      "[' intern', ' other', ' intern']: 2838.798713841469\n",
      "[' From', 'ir', ' recogn']: 2825.9035274083835\n",
      "[' method', ' A', ' method']: 2824.692692311545\n",
      "[' had', 'u', ' rele']: 2822.6613452510014\n",
      "[' vote', ' number', ' 10']: 2822.3940740355356\n",
      "['ER', 'ER', 'IN']: 2822.253436603537\n",
      "['Ar', 'ire', ' ent']: 2816.622335823383\n",
      "['AL', 'ry', ' Pet']: 2813.2560299465567\n",
      "['aries', 'i', ' comment']: 2811.4577530847446\n",
      "['No', 'aterial', ' O']: 2810.8817482107465\n",
      "[' sle', ' sle', 'e']: 2810.519888385033\n",
      "[']', 'es', '[']: 2810.359505446605\n",
      "['ings', ' without', ' police']: 2810.3498150548\n",
      "[' no', 'u', ' rele']: 2809.9911684949834\n",
      "['.[', ']', ' Although']: 2802.5494878653044\n",
      "[' right', ' story', ' my']: 2802.233689752955\n",
      "[' film', 'itle', ' card']: 2801.2687032241374\n",
      "['icro', ',', ' stud']: 2788.2139218275424\n",
      "[' significant', '\"', ' Rich']: 2773.993963376637\n",
      "['inton', 'ar', 'bor']: 2772.704953768519\n",
      "[' Windows', ',', ' stud']: 2766.5403116903417\n",
      "[' l', 'u', ' rele']: 2764.846992861213\n",
      "[' �', '�', '6']: 2758.994125554585\n",
      "['poses', 'am', 'inated']: 2755.1877516340246\n",
      "['[', 'es', '[']: 2751.027292211029\n",
      "['ons', ' story', ' often']: 2750.064056832482\n",
      "['RE', 'ER', 'IN']: 2749.8234551462615\n",
      "[' climate', ' Power', ' Pl']: 2748.638327413319\n",
      "[' city', 'ak', ' Ch']: 2748.4399306561118\n",
      "['ident', 'ended', ' of']: 2748.1242872558973\n",
      "[' creat', 'ial', ' pattern']: 2732.9043603002538\n",
      "['27', 'mitted', ']']: 2729.074290900469\n",
      "[' Med', 'are', ' patients']: 2729.040979762821\n",
      "[' –', ' –', ' pick']: 2725.164684702739\n",
      "['�', 'se', 'urs']: 2712.411926074595\n",
      "[';', ' Some', ' six']: 2710.8722174864492\n",
      "[' 5', 'though', ' Cl']: 2710.0601696982367\n",
      "[' pro', ' Col', 'ten']: 2708.1985088480924\n",
      "['rol', 'way', ' In']: 2705.292302871037\n",
      "['chan', 'ENT', ',']: 2704.5648380828898\n",
      "['alk', ' TV', ' so']: 2700.7064773137545\n",
      "['act', 'ber', ' L']: 2697.7857819603364\n",
      "[' Oh', ' or', ' speak']: 2685.128407354828\n",
      "[' Ex', ' Free', ' Will']: 2684.4452522401834\n",
      "[' Japanese', ' sum', 'o']: 2682.907086131119\n",
      "[' com', 'any', ' com']: 2681.050689710107\n",
      "['aign', ' campaign', '\\n']: 2680.9180441479175\n",
      "[' she', ' story', ' often']: 2680.843662979012\n",
      "['arge', 'o', ' pred']: 2679.8199252857085\n",
      "['ams', ' August', ' 27']: 2672.8527867249277\n",
      "[' com', ' Just', ' for']: 2668.214136799183\n",
      "[' North', 'el', ' Hill']: 2667.2735978167198\n",
      "['vant', 'us', ' class']: 2667.1961981787435\n",
      "['ally', ' story', ' often']: 2661.016773231911\n",
      "['�', '�', '�']: 2650.441940866794\n",
      "[' reflect', ' developed', ' more']: 2646.0188515506766\n",
      "['ental', 'u', 'itions']: 2642.822815698805\n",
      "[' return', 'though', ' Cl']: 2635.1988295981005\n",
      "[' Canada', 'any', ' com']: 2629.526281556711\n",
      "['hest', ' second', ' highest']: 2627.514768423844\n",
      "[' so', ' same', '..']: 2622.509171445522\n",
      "['OT', 'is', ' Ph']: 2622.278307673847\n",
      "[' we', 'ream', ' sc']: 2618.6583964255633\n",
      "['aked', 'ike', ' R']: 2615.9324649050072\n",
      "[' Islam', ' wanted', ' list']: 2612.7287611650286\n",
      "[' Gu', ' An', ' Over']: 2612.369693048419\n",
      "[' vote', ' she', ' regist']: 2601.8578115818204\n",
      "[' species', ' same', ' species']: 2599.7498355018524\n",
      "[' share', ' &', ' Jer']: 2599.0818408333157\n",
      "['ied', 'ce', ' side']: 2597.348832110772\n",
      "[' Car', 'el', ' Hill']: 2595.816392907223\n",
      "[' rock', ' near', ' z']: 2594.905222075498\n",
      "['ized', ' personal', ' fr']: 2594.81324200532\n",
      "[' hor', 'P', ' officers']: 2590.3651115521293\n",
      "[' regist', 'V', 'ot']: 2590.1337689539155\n",
      "['oun', ' without', ' police']: 2583.7907035380663\n",
      "[' commit', '40', ' per']: 2581.2846489826825\n",
      "['\"', ' soon', ' cr']: 2573.849646193306\n",
      "['list', 'th', ' Par']: 2571.951541960343\n",
      "['V', ' started', ' 13']: 2569.5441381037094\n",
      "[' points', ' 50', ' points']: 2567.1955204373626\n",
      "[' regist', ' ID', ' number']: 2565.2587749650897\n",
      "['itz', ' The', ' Ass']: 2563.0993814889607\n",
      "[' UN', 'aterial', ' O']: 2561.964994264401\n",
      "[' East', ' many', ' Arab']: 2560.473899996295\n",
      "[' page', 'V', 'ot']: 2559.6551101607383\n",
      "['fect', ' T', 'oh']: 2556.574982538614\n",
      "[' wild', ' face', ' pain']: 2554.969107364862\n",
      "[' end', ' story', ' often']: 2545.346788943863\n",
      "['here', ' W', 'here']: 2543.1046602800166\n",
      "[' fac', 'ber', ' L']: 2542.3892916044133\n",
      "[' --', 'W', ' says']: 2539.8970683727457\n",
      "[' does', 'ively', ' establish']: 2538.501286197905\n",
      "['cont', 'cent', ' or']: 2536.1680922469454\n",
      "[' page', ' ID', ' number']: 2535.0728255537038\n",
      "['ream', ' Ben', ' &']: 2532.1114863138164\n",
      "[' cry', 'al', ' cap']: 2531.191007501478\n",
      "['oad', 'uring', ' 5']: 2529.3178721992326\n",
      "['�', '�', '�']: 2525.2263014192445\n",
      "['ET', 'll', 'ent']: 2512.629958230289\n",
      "[' milit', ' group', ' based']: 2512.0980602681434\n",
      "[' born', ' detail', ' page']: 2512.073564304075\n",
      "['ister', 'uty', ' would']: 2505.0961714300815\n",
      "['ile', ' species', ' during']: 2499.238884362767\n",
      "[' pro', ' Some', ' six']: 2499.219371459928\n",
      "['oy', 'l', 'oy']: 2498.4276989172727\n",
      "['IA', ' became', ' co']: 2496.3197582485072\n",
      "['orts', 'aining', ' organ']: 2493.0603237075884\n",
      "[' encour', ' Since', ' 2014']: 2490.5701865262045\n",
      "['AN', 'ER', 'IN']: 2490.1294690365867\n",
      "['iving', ' L', 'iving']: 2489.7046300807574\n",
      "[' concern', ' much', ' pre']: 2483.9376517429755\n",
      "[' so', ' single', ' section']: 2481.7219705643693\n",
      "[' James', 'fter', ' James']: 2480.092607989624\n",
      "[' virt', 'ent', 'ively']: 2474.508521650577\n",
      "['No', ' O', 'mitted']: 2468.55721299746\n",
      "[' 2009', ' items', ' related']: 2464.002945582549\n",
      "['led', ' personal', ' fr']: 2463.7004737075927\n",
      "['ittle', 'ir', ' Christ']: 2461.375067796745\n",
      "[' people', 'ract', ' car']: 2459.1544211159303\n",
      "['itude', 'itude', ' is']: 2458.5527977854836\n",
      "['action', 'ting', 't']: 2457.7514037639708\n",
      "[' fire', \"'s\", ' steps']: 2457.5889063969557\n",
      "['omet', 'ck', 'ard']: 2456.806442770199\n",
      "[' house', ' species', ' during']: 2453.9913888690326\n",
      "['tt', 'rench', '-']: 2448.621861147982\n",
      "[' Fin', 'se', ' business']: 2445.174617814261\n",
      "['ways', 'ES', 'Q']: 2444.00586000117\n",
      "[' detail', 'V', 'ot']: 2439.9556064373373\n",
      "['No', 'mitted', ']']: 2438.4663920814264\n",
      "['ok', ' due', ' $']: 2437.242351728359\n",
      "[' ha', ' live', ' r']: 2435.7076486043197\n",
      "['They', ' successful', ' partners']: 2433.5842405446692\n",
      "['46', ' she', ' regist']: 2431.722782364022\n",
      "['oor', ' steps', 'ister']: 2429.8304018988692\n",
      "[' In', ' story', ' often']: 2429.50641117128\n",
      "['ils', 'ical', ' plant']: 2423.621071546483\n",
      "[' st', ' Council', ' ended']: 2421.5942036266047\n",
      "[' 7', ' Col', 'ten']: 2419.9039524567766\n",
      "[' peace', 'What', ' really']: 2418.8636939923713\n",
      "['ivil', ' national', ' orig']: 2418.182322832529\n",
      "['ould', ' much', ' pre']: 2417.062921308449\n",
      "[' detail', ' ID', ' number']: 2416.5228857915445\n",
      "[' evidence', 'ively', ' establish']: 2416.1183972723497\n",
      "['ger', 'er', 'ger']: 2412.6592607718726\n",
      "[' Port', ' Port', 'ug']: 2409.074386099124\n",
      "['epend', 'm', ' A']: 2407.9362881374677\n",
      "[' can', ' can', ' I']: 2402.6608374147568\n",
      "['ig', ' offers', ' world']: 2397.249615797495\n",
      "[' relative', ' for', ' reject']: 2396.3880416524266\n",
      "[' ne', 'ener', 'ously']: 2395.0963850611297\n",
      "[' operations', 'ed', ' elements']: 2393.7413817103475\n",
      "[' Russia', 'ich', 'ok']: 2389.471457777683\n",
      "[' German', 'es', '[']: 2387.4438600049352\n",
      "['vest', 'ia', ' fell']: 2386.6423046077407\n",
      "[' sense', 'ial', ' pattern']: 2383.7270358840424\n",
      "[' Ind', 'ander', ' Sp']: 2381.849477698903\n",
      "[' show', ' recently', ' explained']: 2381.313533500804\n",
      "['ited', ' without', ' police']: 2378.2083004997376\n",
      "[' Committee', ' Committee', ' members']: 2372.1495307636806\n",
      "[' #', 'at', ' #']: 2371.6668083759214\n",
      "[' it', 'u', ' rele']: 2366.711421699827\n",
      "['ates', 'ates', ' shared']: 2366.659212867606\n",
      "[' contract', ' her', ' contract']: 2363.3855421202616\n",
      "['EN', 'ER', 'IN']: 2358.4209975937465\n",
      "[' You', 'eed', ' To']: 2357.289799090813\n",
      "['itt', ' games', ' each']: 2355.8070984147557\n",
      "['pping', 'aken', ' our']: 2353.205909515392\n",
      "[' Inf', 'ne', ' Div']: 2352.69199097926\n",
      "['fl', ' steps', 'ister']: 2350.104862981705\n",
      "[' California', ' California', ' Att']: 2349.5422973782333\n",
      "[' plant', ' This', ' practice']: 2343.3400138859565\n",
      "['14', 'ire', ' ent']: 2342.6592848566665\n",
      "[' His', 'led', ' Pr']: 2342.18506016719\n",
      "[' pick', 'ury', ' ended']: 2341.598662913724\n",
      "[' micro', ' micro', 'sc']: 2341.4555273214755\n",
      "[' American', ' heavy', ' resist']: 2341.2534961008782\n",
      "[' improve', ' developed', ' more']: 2339.8546166824704\n",
      "[' regist', 'er', ' ID']: 2338.4637245551485\n",
      "['ification', ' law', ' go']: 2337.0002617346977\n",
      "['�', ' Council', ' ended']: 2336.707531446978\n",
      "['ology', 'm', 'ias']: 2334.9173252982578\n",
      "['ores', 'inal', ':']: 2334.1472455276307\n",
      "[' care', 'ully', ' re']: 2328.2226095196825\n",
      "[' p', ' death', ' beg']: 2324.713961299619\n",
      "['46', ' number', ' 10']: 2323.8098578505696\n",
      "[' friend', ' lot', ' which']: 2322.0147760743475\n",
      "['ani', 'v', 'ani']: 2321.7472314899214\n",
      "['D', ' support', ' non']: 2312.1101741966945\n",
      "[' Committee', ' The', ' Committee']: 2311.402899403871\n",
      "[' page', 'er', ' ID']: 2310.946521075066\n",
      "[' Canada', 'ision', ' deb']: 2306.3871176659864\n",
      "[' He', ' officer', ' might']: 2305.0273934469847\n",
      "[' P', 'ream', ' sc']: 2303.7730728750944\n",
      "[' histor', ' important', ' histor']: 2302.63165354426\n",
      "['gh', 'd', 'head']: 2299.0514119914224\n",
      "[' Earth', 'ell', ' C']: 2296.9358606909486\n",
      "[' Ant', 'se', ' came']: 2296.6981269505595\n",
      "[' inf', 'es', '[']: 2293.680704964375\n",
      "['ED', 'aterial', ' O']: 2290.2751858905626\n",
      "[' ins', 'out', ' Syri']: 2286.059370162644\n",
      "['tern', ' mem', 'b']: 2281.898593183874\n",
      "['T', 'ber', ' L']: 2275.446999277881\n",
      "['ess', ' real', ' subst']: 2275.303610913034\n",
      "[' days', ' –', ' pick']: 2274.228196750994\n",
      "[' Te', 'led', ' Pr']: 2270.924058284326\n",
      "[' location', '–', 'is']: 2270.6142101636374\n",
      "[' #', ' #', '11']: 2268.7494523833047\n",
      "[' body', 'ener', 'ously']: 2266.1597350411707\n",
      "[' Com', 'any', ' com']: 2259.014447227011\n",
      "['ipe', ' Monday', ':']: 2256.975849189782\n",
      "['ream', ' &', ' Jer']: 2252.4973146786688\n",
      "[' mon', ' 20', ' cent']: 2250.307868911788\n",
      "[' UN', ' O', 'mitted']: 2249.9549011850545\n",
      "['itive', 'u', 'itions']: 2249.772557499909\n",
      "[' subst', ' much', ' pre']: 2245.7091114224636\n",
      "['ries', ' &', ' Jer']: 2243.0924326894706\n",
      "['�', '�', '�']: 2234.9304898025957\n",
      "['ut', ' red', ' cost']: 2234.8133704427873\n",
      "['65', ' sum', 'o']: 2230.273790855337\n",
      "[' Ass', ' for', ' jump']: 2226.7947739927886\n",
      "['u', ' same', '..']: 2225.5517337885126\n",
      "['ensive', ' drink', '\\n']: 2225.0188200818557\n",
      "[' UN', 'mitted', ']']: 2222.5287635025884\n",
      "[' Feb', 'ten', 'et']: 2219.1172337476196\n",
      "[' mot', 'ens', 'iven']: 2218.338038560355\n",
      "[' Q', 'ed', ' elements']: 2213.923478969512\n",
      "['ock', ' soon', ' cr']: 2208.389562425044\n",
      "[' div', ' Div', 'isions']: 2206.5642463967947\n",
      "[' detail', 'er', ' ID']: 2202.877605616125\n",
      "[' #', 'er', 'it']: 2194.256270441005\n",
      "[' via', ' normal', ' rout']: 2193.6280934005417\n",
      "['here', 'land', ' -']: 2190.7504771814583\n",
      "[' English', \"'\", ' Un']: 2186.14560536362\n",
      "['istic', 'ys', 'ander']: 2186.135334697121\n",
      "['ator', 'ator', ' in']: 2183.991339526832\n",
      "['omb', 'el', ' showed']: 2182.3813263967854\n",
      "[' full', ' by', ' mom']: 2178.246336488553\n",
      "[' PR', ' PR', 'ES']: 2177.9908031929704\n",
      "[' born', ' she', ' regist']: 2174.7514794689655\n",
      "[' Pl', 'uty', ' Le']: 2169.7472959109755\n",
      "['pper', 'ment', ' paper']: 2165.6832390617396\n",
      "[' Arab', ' many', ' Arab']: 2159.6157400056914\n",
      "[' double', 'ate', ' nature']: 2158.3933351896494\n",
      "['PR', 'up', ' has']: 2157.775490312156\n",
      "[' medical', 'IV', ' status']: 2154.2821983981094\n",
      "['atic', 'ander', ' Sp']: 2152.915869180837\n",
      "['inton', 'to', ' Clinton']: 2149.9420248399665\n",
      "['isions', '18', '71']: 2144.103807972527\n",
      "['ru', ' soon', ' cr']: 2143.4700788052605\n",
      "['yright', ' now', ' expected']: 2141.7475479696404\n",
      "['IS', 'ry', ' Pet']: 2138.3261036879817\n",
      "['ender', 'ign', ' her']: 2137.117594620492\n",
      "['ger', ' Ber', 'ger']: 2130.0497847006204\n",
      "[' when', 'u', ' rele']: 2121.7634541336697\n",
      "[' Game', 'BA', ' Fin']: 2119.0697348900644\n",
      "['ibility', 'imate', ' vict']: 2118.411496441059\n",
      "[' us', 'aken', ' our']: 2116.836201066749\n",
      "['uro', \"'s\", ' EU']: 2113.366880942229\n",
      "['ban', 'ban', 'ians']: 2113.0933085042316\n",
      "[' called', ')', ' focus']: 2111.4458027353708\n",
      "['ating', ' story', ' often']: 2108.5767436606384\n",
      "[' season', ' started', ' 13']: 2107.06346347768\n",
      "['T', 'ite', ' Space']: 2106.1375522805756\n",
      "[' milit', 'u', ' Mus']: 2105.5018514138924\n",
      "['ivil', 'ights', ' Act']: 2105.221866906776\n",
      "['AC', 'ON', ' M']: 2102.802129066815\n",
      "[' Well', 'play', ' was']: 2101.9842361548153\n",
      "['aign', 'ick', ' A']: 2101.6880224110796\n",
      "[' location', 'sec', 'uring']: 2099.9164958216847\n",
      "['acks', ' fighting', ' since']: 2099.067966754281\n",
      "['vent', 'ard', ' followed']: 2095.639655950111\n",
      "[' ser', 'nd', ' Air']: 2093.4985521825074\n",
      "[' decided', ' successful', ' partners']: 2088.5648321208673\n",
      "[' /', 'g', ',']: 2086.6886483654052\n",
      "[' Air', 'ant', ' major']: 2085.4025447426643\n",
      "[' even', ' officer', ' might']: 2084.9277051428294\n",
      "['mon', 'imate', ' vict']: 2083.976640035809\n",
      "[' Dav', ' off', ' J']: 2082.613353737826\n",
      "['ruction', ' will', ' poss']: 2081.457859078204\n",
      "['ony', ' recently', ' explained']: 2081.0833930295767\n",
      "[' order', ' Court', ' from']: 2080.4109200067855\n",
      "[' Press', ' Ed', 'ited']: 2079.374515361319\n",
      "['rs', 's', ' spend']: 2078.5900067377056\n",
      "['03', '79', '.']: 2078.310656200008\n",
      "['iant', ' own', ' TV']: 2074.2635008417983\n",
      "['ine', 'ract', ' car']: 2071.9430023727855\n",
      "[' Fl', '�', 'R']: 2068.7466607901138\n",
      "['rop', ' use', ' re']: 2067.54828676575\n",
      "['ior', 'age', ' difference']: 2065.2846158163447\n",
      "[' Found', 'i', ' Found']: 2060.974287109455\n",
      "['ir', ' Am', ' L']: 2060.955330907572\n",
      "[' intelligence', 'ed', ' elements']: 2060.8623691471435\n",
      "[' reality', ' destroy', ' him']: 2060.16696317131\n",
      "[' nature', ')', ' deal']: 2058.884890566064\n",
      "[' 12', ' started', ' 13']: 2052.668730845708\n",
      "['�', ' story', ' often']: 2046.2489936482268\n",
      "[' Par', 'ute', ' Inf']: 2043.1650124611676\n",
      "['ine', ' Sch', '.']: 2042.8467460235108\n",
      "[' parents', 'itle', ' card']: 2042.169553408405\n",
      "['roy', 'a', '�']: 2041.824218682753\n",
      "['iv', ' personal', ' fr']: 2038.5699567904376\n",
      "[' establish', ' own', ' cur']: 2037.4225233763063\n",
      "[' com', 'itle', ' card']: 2036.7104687874028\n",
      "[' -', ' I', ' find']: 2036.6939980438178\n",
      "['N', ' maybe', ' do']: 2036.1298387909467\n",
      "[' vehicle', ' stop', ' when']: 2035.7871345557478\n",
      "['ology', 'ption', ' Michael']: 2035.3934938022771\n",
      "[' soc', 'ic', ' reform']: 2035.372682377586\n",
      "['ost', ' but', ' norm']: 2033.4766605293983\n",
      "['OR', 'aterial', ' O']: 2031.5925066692646\n",
      "[' Ph', 'A', ' #']: 2031.439567056956\n",
      "[' UK', 'are', ' squ']: 2030.969269909023\n",
      "[' English', ' English', '\\n']: 2030.9664973764282\n",
      "[' France', ' French', ' Ar']: 2030.3620079733505\n",
      "[' policies', ' policy', ' init']: 2025.6549133820333\n",
      "[' recently', 'al', ' behind']: 2022.6724267540515\n",
      "[' Har', 'g', ' School']: 2021.2121355713705\n",
      "[' New', 'ia', ' rad']: 2021.1815848402894\n",
      "[' swe', ' destroy', ' him']: 2020.5800546643256\n",
      "['omet', 'is', ' script']: 2019.9687651259396\n",
      "['ms', '40', ' pl']: 2019.6150277927497\n",
      "['ries', ' Ben', ' &']: 2017.2313020446318\n",
      "['rey', ' By', ' now']: 2014.682150722574\n",
      "['aught', ' but', ' An']: 2011.7365730180607\n",
      "['ED', ' O', 'mitted']: 2011.352961923093\n",
      "[' August', ' August', ' 27']: 2010.8615344440198\n",
      "[' Ke', ' The', ' Ass']: 2009.6371795905068\n",
      "[' R', 'u', ' rele']: 2009.5519085959284\n",
      "['�', ' con', 'no']: 2008.860106804387\n",
      "[' repe', 'o', ' repe']: 2006.5471866030373\n",
      "['ge', ' five', ' federal']: 2005.6033295895204\n",
      "[' T', ' death', ' beg']: 2004.003235224557\n",
      "[' introdu', ' known', 'as']: 2002.8034842629\n",
      "[' Hill', ' Hill', ',']: 2001.6309912744707\n",
      "[' feet', ' or', ' ground']: 2001.186112685329\n",
      "['OU', 'aterial', ' O']: 1998.7500902439417\n",
      "['gar', ' c', 'inn']: 1998.0143876177096\n",
      "['\\r', ',', '\\r']: 1996.7588704518091\n",
      "['est', ' board', '!']: 1993.3490946516015\n",
      "[' York', 'u', 'itions']: 1986.8960794403472\n",
      "['ED', 'mitted', ']']: 1986.835295710013\n",
      "[' currently', ' change', ' much']: 1986.2270108859298\n",
      "[' it', 'ream', ' sc']: 1985.5623288588492\n",
      "[' spell', 'the', ' spell']: 1980.5222918852892\n",
      "[\",'\", 'ver', ' said']: 1979.8637910540808\n",
      "[' fam', 'ble', ' De']: 1976.5485303020391\n",
      "[' moved', ' felt', ' deep']: 1976.0260679395712\n",
      "['ise', ' heavy', ' resist']: 1974.461055444746\n",
      "['ism', 'ism', '...']: 1973.1367164762746\n",
      "['ase', ' board', '!']: 1972.7625872665917\n",
      "['omb', ' blood', ' bo']: 1967.5585032359606\n",
      "['elligence', 'BI', ' has']: 1967.1854062941845\n",
      "['Add', 'ig', ' F']: 1966.7440258652825\n",
      "[' University', 'way', ' In']: 1964.1571860580202\n",
      "['ences', ' much', ' pre']: 1963.8066643997868\n",
      "[' regist', '8', '10']: 1960.5086456007814\n",
      "[' inn', ' law', ' may']: 1960.282796079786\n",
      "['olution', 'olution', '.\"']: 1958.593853065762\n",
      "['ip', 'ting', 't']: 1958.009829237254\n",
      "[' works', 'ract', ' exp']: 1957.270048922384\n",
      "['36', ' detail', ' page']: 1956.5121962121311\n",
      "['ili', ' some', ' items']: 1956.4151228966728\n",
      "['CH', ' detail', ' page']: 1955.7048894711595\n",
      "[' 21', 'is', ' Ph']: 1951.6329457657512\n",
      "['ams', 'al', ' Chinese']: 1951.5777736161233\n",
      "[' gr', ' is', ' scient']: 1951.5628944564007\n",
      "[' script', ' script', ',']: 1950.7867792512654\n",
      "['aling', 'ed', ' elements']: 1948.1569796583292\n",
      "['IN', 'ER', 'IN']: 1944.0994825764085\n",
      "[' black', 'cle', ' Bill']: 1943.1792026570013\n",
      "['ass', 'ream', ' sc']: 1942.2119437931726\n",
      "[' means', ' worked', ' prim']: 1937.768384224793\n",
      "[' hands', 's', ' spend']: 1935.528526510378\n",
      "[' will', 'S', '23']: 1933.46999762905\n",
      "['06', 'ose', 'b']: 1932.9428533242246\n",
      "[' state', ' make', ' China']: 1931.9061275293045\n",
      "[' users', 'it', 'coin']: 1930.5546879871579\n",
      "['The', ' soon', ' cr']: 1929.6072811044783\n",
      "['za', 'an', 'za']: 1929.1480979156074\n",
      "[' N', ' soon', ' cr']: 1928.3555116503815\n",
      "[' Fre', 'i', ' Fre']: 1924.9536258424048\n",
      "[' regul', 'ient', ' safety']: 1924.795721932951\n",
      "['ist', 'ia', ' rad']: 1924.3577022424693\n",
      "['coin', 'coin', '.']: 1923.335613588287\n",
      "['ase', ' species', ' during']: 1922.2349669491362\n",
      "[' O', ' Free', ' Will']: 1919.202497608897\n",
      "['soft', ',', ' stud']: 1919.0082372254676\n",
      "[' screen', ' screen', 'pl']: 1918.2328867861281\n",
      "['ve', ' maybe', ' do']: 1917.8436220516232\n",
      "[' calls', 'inary', ' Americans']: 1917.3159926105566\n",
      "[' Inf', 'ry', ' Reg']: 1917.049341338145\n",
      "['IP', 'H', 'IP']: 1916.5372959822744\n",
      "[' Lou', ' independent', ' fil']: 1915.6178079897095\n",
      "['46', '49', ').']: 1914.7880054743725\n",
      "[' Med', 'uty', ' Le']: 1914.425488850603\n",
      "[' clean', 'the', ' clean']: 1911.7319031655388\n",
      "['val', ' was', ' categ']: 1908.7571458806744\n",
      "[' company', ' &', ' Jer']: 1907.1095596406783\n",
      "[' does', 'er', 'ger']: 1906.828506503628\n",
      "[' budget', 'ual', ' budget']: 1905.965278589403\n",
      "[' company', ' Ben', ' &']: 1905.6435184800625\n",
      "[' Ind', ' British', ' Ind']: 1899.1859577279322\n",
      "['oot', ' State', ' League']: 1897.0512647181693\n",
      "[' connection', 'land', ' Department']: 1896.1610932277956\n",
      "[' V', ' personal', ' fr']: 1894.3197594415456\n",
      "[' set', 'I', ' London']: 1894.2106718186335\n",
      "['gan', 'ing', ' Bit']: 1893.935494875203\n",
      "[' given', 'age', ' 34']: 1893.5655494890764\n",
      "[' within', ' may', ' under']: 1892.6245952917077\n",
      "['T', ' five', ' federal']: 1890.939943337391\n",
      "[' example', ' on', ' ban']: 1882.7591590583518\n",
      "[' de', 'M', 'isc']: 1880.9915099457062\n",
      "['tern', ' its', ' vill']: 1880.5125442546894\n",
      "['time', 'u', ' rele']: 1879.6712479436478\n",
      "[' example', 'ural', ' Ad']: 1877.9406668242086\n",
      "[' fl', 'ce', ' side']: 1875.5642703041951\n",
      "[' 201', ' budget', '\\n']: 1875.3929194595462\n",
      "[' candid', ' eight', ' percent']: 1875.3515189041618\n",
      "[' Russ', ' President', ' P']: 1874.9965181553675\n",
      "['iv', ' species', ' during']: 1871.0936030045161\n",
      "['ron', 'ace', 'craft']: 1864.6782251857742\n",
      "['itution', 'er', ' Star']: 1864.41852712143\n",
      "[' 23', 'ody', ' battle']: 1858.853653500854\n",
      "['ately', 'ove', ' 10']: 1855.3748898200504\n",
      "['79', ' Rel', 'ating']: 1851.913664264732\n",
      "[' pick', 'asons', ' but']: 1851.6642007417577\n",
      "[' Gener', 'ly', ' bro']: 1851.5033126887415\n",
      "['icro', 'ating', ' system']: 1851.0390282184342\n",
      "['ur', 'ning', ' In']: 1850.9694234985968\n",
      "['ich', 'ince', ' p']: 1849.3705959541703\n",
      "[' card', 'En', 'emy']: 1848.9266515416296\n",
      "['ay', ' same', '..']: 1846.598609727735\n",
      "[' vote', 'V', 'ot']: 1845.3825822740152\n",
      "[' reve', 'ed', ' elements']: 1844.5963202466687\n",
      "[' fight', 'orm', 'ier']: 1844.2193806989624\n",
      "[' 2', ' due', ' $']: 1843.4563529316613\n",
      "[' system', 'ander', ' Sp']: 1842.9298577157924\n",
      "[' surface', ' first', ' connect']: 1842.2127853830284\n",
      "['se', 'ning', ' In']: 1840.8566313170493\n",
      "[' ins', ' board', '!']: 1833.568645715533\n",
      "['ore', ' species', ' during']: 1831.2725000723574\n",
      "['p', ' death', ' beg']: 1830.1546911902565\n",
      "['ional', 'ard', ' followed']: 1829.7676522053491\n",
      "['arr', ' only', ' em']: 1828.1357091902623\n",
      "['ov', 'ville', ' Res']: 1827.7011173108756\n",
      "[' vote', ' ID', ' number']: 1827.6599915756628\n",
      "['ph', ' soon', ' cr']: 1826.0913505502522\n",
      "[' download', ' i', 'i']: 1825.1530242491342\n",
      "[' Park', 'se', ' business']: 1824.7626665172509\n",
      "['other', ' offers', ' world']: 1824.423837032535\n",
      "['eth', 'h', ' o']: 1822.0354194942904\n",
      "[' Michael', ' Michael', ' has']: 1821.4357962272006\n",
      "['vironment', 'te', ' management']: 1820.0253881708347\n",
      "[' Ber', ' with', ' Ber']: 1820.0217688457294\n",
      "[' users', ' Bit', 'coin']: 1817.8557950623513\n",
      "['iet', ' is', ' scient']: 1817.2499835916085\n",
      "[' 7', ' its', 'f']: 1816.261572167614\n",
      "[' Fre', ' personal', ' care']: 1814.7686216827633\n",
      "[' first', 'ce', ' side']: 1811.5719407748425\n",
      "['58', 'ON', ' M']: 1810.460721448353\n",
      "['ore', ' offers', ' world']: 1810.1170078749183\n",
      "['oto', '.', '55']: 1808.763266363243\n",
      "[' born', ' number', ' 10']: 1807.1671380710814\n",
      "[' consum', ' she', ' op']: 1804.4852893069487\n",
      "['ise', ' soon', ' cr']: 1804.231374738619\n",
      "[' Germany', 'ed', ' Germany']: 1800.5206427231378\n",
      "['of', 'd', 'head']: 1800.5066351011142\n",
      "['aughter', 'ten', ' or']: 1800.140121663428\n",
      "['ages', 'up', 're']: 1799.316563351432\n",
      "[' >', 'orter', ':']: 1797.4413771277393\n",
      "[' James', 'BA', 'E']: 1795.15821968955\n",
      "['lling', 'any', ' com']: 1789.9051990733194\n",
      "[' Am', 'Some', ' may']: 1788.8069858630515\n",
      "['ted', ' -', ' reve']: 1788.7961500274012\n",
      "['�', 'h', ' rule']: 1788.4837123408004\n",
      "[' say', ' six', ' j']: 1787.8013207067788\n",
      "['�', ' death', ' beg']: 1785.3230345289828\n",
      "['OR', ' O', 'mitted']: 1784.1740725672094\n",
      "['B', ' single', ' section']: 1779.9640899127394\n",
      "['W', 'al', ' Chinese']: 1778.1002069123601\n",
      "['itch', 'itch', ' on']: 1777.9645002514976\n",
      "['RA', 'er', ' reports']: 1776.9336759825937\n",
      "['!', 'ting', 't']: 1775.5609725148156\n",
      "['oto', '...', ' Ph']: 1774.7738359937398\n",
      "[' 25', ' below', ' 20']: 1771.4389581515318\n",
      "['ET', ' detail', ' page']: 1769.8415430236066\n",
      "['rel', ' on', ' ban']: 1766.398449768966\n",
      "[' Aust', 'ban', 'ians']: 1766.1734924029747\n",
      "['AN', 'ility', ' can']: 1765.558170353304\n",
      "[' will', ' same', '..']: 1765.3842773230797\n",
      "[' status', ' night', ' r']: 1765.2342800463846\n",
      "['ription', 'se', ' creat']: 1763.672107737401\n",
      "['OR', 'mitted', ']']: 1762.425634970553\n",
      "['ang', 'ribe', '-']: 1761.2081689484728\n",
      "['um', 'ce', ' side']: 1760.4758725200118\n",
      "['oe', ' &', ' R']: 1758.0313729002557\n",
      "['On', '.', ' vot']: 1757.55432926794\n",
      "['OU', ' O', 'mitted']: 1755.3313850330912\n",
      "[' be', 'u', ' rele']: 1753.7457939759604\n",
      "[' human', 'ically', ' described']: 1753.4119450285887\n",
      "['olf', 'What', ' really']: 1752.1129200186986\n",
      "[' science', 'ux', 'ley']: 1751.7547100133595\n",
      "[' be', ' Council', ' ended']: 1751.6167507429666\n",
      "[' gr', ' heavy', ' resist']: 1750.9788644954679\n",
      "['ict', ' –', ' pick']: 1750.6291771862855\n",
      "[' heard', 'ie', 'i']: 1750.5265745124439\n",
      "['ision', 'icle', ' provides']: 1750.3709768226581\n",
      "['vel', ' stories', ' ever']: 1748.031272969167\n",
      "['ree', 'ream', ' sc']: 1746.745462181586\n",
      "[' she', '40', ' pl']: 1744.4338751688788\n",
      "['ality', ' following', ' O']: 1741.6489047748216\n"
     ]
    }
   ],
   "source": [
    "preview_trigrams_dict(total_skip_trigrams_dict, model)"
   ]
  },
  {
   "cell_type": "code",
   "execution_count": 122,
   "metadata": {},
   "outputs": [
    {
     "data": {
      "text/plain": [
       "<matplotlib.lines.Line2D at 0x7ff5ed0582e0>"
      ]
     },
     "execution_count": 122,
     "metadata": {},
     "output_type": "execute_result"
    },
    {
     "data": {
      "image/png": "[encoded data removed]",
      "text/plain": [
       "<Figure size 720x720 with 1 Axes>"
      ]
     },
     "metadata": {
      "needs_background": "light"
     },
     "output_type": "display_data"
    }
   ],
   "source": [
    "fig, ax = plt.subplots(figsize=(10, 10))\n",
    "\n",
    "sns.lineplot(x=range(len(total_skip_trigrams_dict)), y=list(total_skip_trigrams_dict.values()), ax=ax)\n",
    "ax.set_xscale('log')\n",
    "ax.set_yscale('log')\n",
    "ax.axhline(y=1, color='r', linestyle='--')"
   ]
  },
  {
   "cell_type": "code",
   "execution_count": null,
   "metadata": {},
   "outputs": [],
   "source": []
  }
 ],
 "metadata": {
  "kernelspec": {
   "display_name": ".venv",
   "language": "python",
   "name": "python3"
  },
  "language_info": {
   "codemirror_mode": {
    "name": "ipython",
    "version": 3
   },
   "file_extension": ".py",
   "mimetype": "text/x-python",
   "name": "python",
   "nbconvert_exporter": "python",
   "pygments_lexer": "ipython3",
   "version": "3.9.15"
  }
 },
 "nbformat": 4,
 "nbformat_minor": 2
}
